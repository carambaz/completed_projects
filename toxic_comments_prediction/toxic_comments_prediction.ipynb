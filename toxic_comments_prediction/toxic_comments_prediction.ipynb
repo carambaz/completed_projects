{
 "cells": [
  {
   "cell_type": "markdown",
   "metadata": {},
   "source": [
    "Перед началом работы над проектом импортируем необходимые инструменты:"
   ]
  },
  {
   "cell_type": "code",
   "execution_count": 68,
   "metadata": {},
   "outputs": [],
   "source": [
    "# Установка и обновление необходимых библиотек:\n",
    "!pip install --upgrade scikit-learn -q\n",
    "!pip install nltk -q\n",
    "!pip install imblearn -q\n",
    "!pip install spacy -q"
   ]
  },
  {
   "cell_type": "code",
   "execution_count": 69,
   "metadata": {},
   "outputs": [],
   "source": [
    "# Импорт необходимых библиотек и модулей:\n",
    "import pandas as pd\n",
    "import numpy as np\n",
    "import re\n",
    "import spacy\n",
    "import matplotlib.pyplot as plt\n",
    "from sklearn.model_selection import train_test_split\n",
    "from sklearn.feature_extraction.text import TfidfVectorizer\n",
    "from warnings import simplefilter\n",
    "from tqdm.notebook import tqdm\n",
    "\n",
    "import nltk\n",
    "from nltk.corpus import stopwords\n",
    "\n",
    "# Импорт инструмента подбора гиперпараметров:\n",
    "from sklearn.model_selection import RandomizedSearchCV\n",
    "from sklearn.model_selection import cross_val_score\n",
    "\n",
    "# Импорт моделей МО:\n",
    "from sklearn.linear_model import LogisticRegression\n",
    "from catboost import CatBoostClassifier\n",
    "from sklearn.linear_model import PassiveAggressiveClassifier\n",
    "\n",
    "# Импорт функции метрики:\n",
    "from sklearn.metrics import f1_score\n",
    "\n",
    "# Импорт дамми-модели для проверки адекватности моделей:\n",
    "from sklearn.dummy import DummyClassifier"
   ]
  },
  {
   "cell_type": "code",
   "execution_count": 3,
   "metadata": {},
   "outputs": [
    {
     "name": "stderr",
     "output_type": "stream",
     "text": [
      "[nltk_data] Downloading package stopwords to /home/jovyan/nltk_data...\n",
      "[nltk_data]   Package stopwords is already up-to-date!\n"
     ]
    }
   ],
   "source": [
    "# Дополнительные действия:\n",
    "\n",
    "# Объявление констант:\n",
    "RANDOM_STATE = 42\n",
    "TEST_SIZE = 0.25\n",
    "\n",
    "# Отключение предупреждений:\n",
    "simplefilter(action='ignore')\n",
    "\n",
    "# Загрузка стоп-слов:\n",
    "nltk.download('stopwords')\n",
    "stop_words = list(set(stopwords.words('english')))\n",
    "\n",
    "# Добавление прогресс-баров:\n",
    "tqdm.pandas()"
   ]
  },
  {
   "cell_type": "markdown",
   "metadata": {},
   "source": [
    "## Ознакомление\n",
    "\n",
    "После импортирования необходимых инструментов считаем и сохраним полученный датасет. Далее проверим корректность считывания:"
   ]
  },
  {
   "cell_type": "code",
   "execution_count": 4,
   "metadata": {},
   "outputs": [
    {
     "data": {
      "text/html": [
       "<div>\n",
       "<style scoped>\n",
       "    .dataframe tbody tr th:only-of-type {\n",
       "        vertical-align: middle;\n",
       "    }\n",
       "\n",
       "    .dataframe tbody tr th {\n",
       "        vertical-align: top;\n",
       "    }\n",
       "\n",
       "    .dataframe thead th {\n",
       "        text-align: right;\n",
       "    }\n",
       "</style>\n",
       "<table border=\"1\" class=\"dataframe\">\n",
       "  <thead>\n",
       "    <tr style=\"text-align: right;\">\n",
       "      <th></th>\n",
       "      <th>Unnamed: 0</th>\n",
       "      <th>text</th>\n",
       "      <th>toxic</th>\n",
       "    </tr>\n",
       "  </thead>\n",
       "  <tbody>\n",
       "    <tr>\n",
       "      <th>0</th>\n",
       "      <td>0</td>\n",
       "      <td>Explanation\\nWhy the edits made under my usern...</td>\n",
       "      <td>0</td>\n",
       "    </tr>\n",
       "    <tr>\n",
       "      <th>1</th>\n",
       "      <td>1</td>\n",
       "      <td>D'aww! He matches this background colour I'm s...</td>\n",
       "      <td>0</td>\n",
       "    </tr>\n",
       "  </tbody>\n",
       "</table>\n",
       "</div>"
      ],
      "text/plain": [
       "   Unnamed: 0                                               text  toxic\n",
       "0           0  Explanation\\nWhy the edits made under my usern...      0\n",
       "1           1  D'aww! He matches this background colour I'm s...      0"
      ]
     },
     "execution_count": 4,
     "metadata": {},
     "output_type": "execute_result"
    }
   ],
   "source": [
    "# Прочитаем и сохраним полученный датасет:\n",
    "data = pd.read_csv('/datasets/toxic_comments.csv')\n",
    "\n",
    "# Проверка считывания:\n",
    "data.head(2)"
   ]
  },
  {
   "cell_type": "markdown",
   "metadata": {},
   "source": [
    "Данные считаны не совсем корректно. Исправим это, указав значение параметру `index_col` функции `read_csv`."
   ]
  },
  {
   "cell_type": "code",
   "execution_count": 5,
   "metadata": {},
   "outputs": [
    {
     "data": {
      "text/html": [
       "<div>\n",
       "<style scoped>\n",
       "    .dataframe tbody tr th:only-of-type {\n",
       "        vertical-align: middle;\n",
       "    }\n",
       "\n",
       "    .dataframe tbody tr th {\n",
       "        vertical-align: top;\n",
       "    }\n",
       "\n",
       "    .dataframe thead th {\n",
       "        text-align: right;\n",
       "    }\n",
       "</style>\n",
       "<table border=\"1\" class=\"dataframe\">\n",
       "  <thead>\n",
       "    <tr style=\"text-align: right;\">\n",
       "      <th></th>\n",
       "      <th>text</th>\n",
       "      <th>toxic</th>\n",
       "    </tr>\n",
       "  </thead>\n",
       "  <tbody>\n",
       "    <tr>\n",
       "      <th>0</th>\n",
       "      <td>Explanation\\nWhy the edits made under my usern...</td>\n",
       "      <td>0</td>\n",
       "    </tr>\n",
       "    <tr>\n",
       "      <th>1</th>\n",
       "      <td>D'aww! He matches this background colour I'm s...</td>\n",
       "      <td>0</td>\n",
       "    </tr>\n",
       "  </tbody>\n",
       "</table>\n",
       "</div>"
      ],
      "text/plain": [
       "                                                text  toxic\n",
       "0  Explanation\\nWhy the edits made under my usern...      0\n",
       "1  D'aww! He matches this background colour I'm s...      0"
      ]
     },
     "execution_count": 5,
     "metadata": {},
     "output_type": "execute_result"
    }
   ],
   "source": [
    "# Пересчитывание датасета с добавленным аргументом:\n",
    "data = pd.read_csv('/datasets/toxic_comments.csv', index_col=0)\n",
    "\n",
    "# Повторная проверка:\n",
    "data.head(2)"
   ]
  },
  {
   "cell_type": "markdown",
   "metadata": {},
   "source": [
    "Теперь данные считаны корректно. Текст сырой и требует предварительной обработки перед передачей его алгоритмам МО, чем и займёмся позже.<br>А пока рассмотрим общую информацию о датасете:"
   ]
  },
  {
   "cell_type": "code",
   "execution_count": 6,
   "metadata": {},
   "outputs": [
    {
     "name": "stdout",
     "output_type": "stream",
     "text": [
      "<class 'pandas.core.frame.DataFrame'>\n",
      "Int64Index: 159292 entries, 0 to 159450\n",
      "Data columns (total 2 columns):\n",
      " #   Column  Non-Null Count   Dtype \n",
      "---  ------  --------------   ----- \n",
      " 0   text    159292 non-null  object\n",
      " 1   toxic   159292 non-null  int64 \n",
      "dtypes: int64(1), object(1)\n",
      "memory usage: 3.6+ MB\n"
     ]
    }
   ],
   "source": [
    "# Вывод общей информации:\n",
    "data.info()"
   ]
  },
  {
   "cell_type": "markdown",
   "metadata": {},
   "source": [
    "Пропусков не обнаружено. Названия основных столбцов и их формат данных в порядке. Убедимся в бинарности основного признака:"
   ]
  },
  {
   "cell_type": "code",
   "execution_count": 7,
   "metadata": {},
   "outputs": [
    {
     "name": "stdout",
     "output_type": "stream",
     "text": [
      "Кол-во уникальных значений столбца text: 159292\n",
      "Кол-во уникальных значений столбца toxic: 2\n"
     ]
    }
   ],
   "source": [
    "# Сделаем это циклом:\n",
    "for column in data.columns:\n",
    "    print(f'Кол-во уникальных значений столбца {column}: {data[column].nunique()}')"
   ]
  },
  {
   "cell_type": "markdown",
   "metadata": {},
   "source": [
    "Действиетельно, целевой признак является _бинарным_.<br>\n",
    "Проверим наличие **явных** дубликатов. Объявим для этого функцию: "
   ]
  },
  {
   "cell_type": "code",
   "execution_count": 8,
   "metadata": {},
   "outputs": [],
   "source": [
    "# Функция для проверки наличия явных дубликатов:\n",
    "def check_duplicates(df):\n",
    "    print(f'Кол-во явных дубликатов в датасете: {df.duplicated().sum()}')\n",
    "\n",
    "    if df.duplicated().sum() != 0:\n",
    "        df.drop_duplicates(ignore_index=True, inplace=True)\n",
    "        # Проверка:\n",
    "        print(f'\\nКол-во явных дубликатов после обработки: {df.duplicated().sum()}')\n",
    "        print(f'Кол-во объектов в датасете: {df.shape[0]}')\n",
    "    else:\n",
    "        print('\\nЯвных дубликатов не обнаружено.')"
   ]
  },
  {
   "cell_type": "code",
   "execution_count": 9,
   "metadata": {},
   "outputs": [
    {
     "name": "stdout",
     "output_type": "stream",
     "text": [
      "Кол-во явных дубликатов в датасете: 0\n",
      "\n",
      "Явных дубликатов не обнаружено.\n"
     ]
    }
   ],
   "source": [
    "# Проверка наличия явных дубликатов:\n",
    "check_duplicates(data)"
   ]
  },
  {
   "cell_type": "markdown",
   "metadata": {},
   "source": [
    "Отлично, явных дубликатов не обнаружено.\n",
    "\n",
    "### Вывод\n",
    "На данном этапе мы:\n",
    "- Корректно считали и сохранили данные, текст требует обработки;\n",
    "- Убрали лишний неинформативный признак;\n",
    "- Убедились в соответствии остальных данных в заявленной информации.\n",
    "\n",
    "Можем переходить к следующему этапу."
   ]
  },
  {
   "cell_type": "markdown",
   "metadata": {},
   "source": [
    "## Подготовка данных\n",
    "\n",
    "Для начала посмотрим, как обстоят дела с балансом классов. Напишем для этого функцию для наглядного графика:"
   ]
  },
  {
   "cell_type": "code",
   "execution_count": 10,
   "metadata": {},
   "outputs": [],
   "source": [
    "# Создание функции для графика:\n",
    "def show_balance(df, column='toxic', figsize=(8, 5), norm=True, name='общая выборка'):\n",
    "    df.value_counts(normalize=norm).plot(\n",
    "        kind='bar',\n",
    "        grid=True,\n",
    "        color='darkred',\n",
    "        figsize=figsize\n",
    "    )\n",
    "    plt.title(f'Соотношение целевого признака, {name}', fontsize=13)\n",
    "    plt.xlabel(f'Значение признака {column}', fontsize=12)\n",
    "    plt.ylabel('Доля содержания в данных', fontsize=13)\n",
    "    plt.xticks(rotation=0)\n",
    "\n",
    "    return plt.show()"
   ]
  },
  {
   "cell_type": "code",
   "execution_count": 11,
   "metadata": {
    "scrolled": true
   },
   "outputs": [
    {
     "data": {
      "image/png": "[encoded data removed]",
      "text/plain": [
       "<Figure size 576x360 with 1 Axes>"
      ]
     },
     "metadata": {
      "needs_background": "light"
     },
     "output_type": "display_data"
    }
   ],
   "source": [
    "# Построение графика:\n",
    "show_balance(data['toxic'])"
   ]
  },
  {
   "cell_type": "markdown",
   "metadata": {},
   "source": [
    "Мы имеем дело с _дисбалансом классов_. Важнейшее значение целевого признака, которое предстоит определять (токсичность твита), представлено в датсете всего у **15%** объектов против **85%** \"нетоксичных\" объектов.\n",
    "\n",
    "Таким образом, «нетоксичный» — это _мажорный_ класс, а «токсичный» — _минорный_.\n",
    "\n",
    "Необходимо это учесть при разделении на выборки.<br>\n",
    "Разделим данные на выборки и применим технику _undersampling_ к тренировочным данным, чтобы уравнять возможности модели обучиться определять оба класса."
   ]
  },
  {
   "cell_type": "markdown",
   "metadata": {},
   "source": [
    "### Разделение на выборки\n",
    "\n",
    "Напишем функцию для разделения на выборки:"
   ]
  },
  {
   "cell_type": "code",
   "execution_count": 12,
   "metadata": {},
   "outputs": [],
   "source": [
    "# Функция для разделения на выборки:\n",
    "def get_samples(features, target,\n",
    "                  stratify=None,\n",
    "                  test_size=TEST_SIZE,\n",
    "                  random_state=RANDOM_STATE):\n",
    "            \n",
    "    X_train, X_test, y_train, y_test = train_test_split(\n",
    "        features,\n",
    "        target,\n",
    "        test_size=test_size,\n",
    "        random_state=random_state,\n",
    "        stratify=stratify)\n",
    "    \n",
    "    # Проверка:\n",
    "    print('Размер тренировочной выборки: {:.0%}'.format(X_train.shape[0] / features.shape[0]))\n",
    "    print('Размер тестовой выборки: {:.0%}'.format(X_test.shape[0] / target.shape[0]))\n",
    "        \n",
    "        \n",
    "    return X_train, X_test, y_train, y_test"
   ]
  },
  {
   "cell_type": "code",
   "execution_count": 13,
   "metadata": {},
   "outputs": [
    {
     "name": "stdout",
     "output_type": "stream",
     "text": [
      "Размер тренировочной выборки: 75%\n",
      "Размер тестовой выборки: 25%\n",
      "\n",
      "Объектов в тренировочной: 119469\n",
      "Объектов в тестовой: 39823\n"
     ]
    }
   ],
   "source": [
    "# Получение выборок:\n",
    "X_train, X_test, y_train, y_test = get_samples(\n",
    "    data['text'],\n",
    "    data['toxic'],\n",
    "    stratify=data['toxic']\n",
    ")\n",
    "\n",
    "# Вывод размерностей:\n",
    "print(f'\\nОбъектов в тренировочной: {X_train.shape[0]}')\n",
    "print(f'Объектов в тестовой: {X_test.shape[0]}')"
   ]
  },
  {
   "cell_type": "markdown",
   "metadata": {},
   "source": [
    "Получили тренировочные и тестовые выборки. Дополнительно можно проверить баланс классов в них, чтобы убедиться, что всё поровну:"
   ]
  },
  {
   "cell_type": "code",
   "execution_count": 14,
   "metadata": {},
   "outputs": [
    {
     "data": {
      "image/png": "[encoded data removed]",
      "text/plain": [
       "<Figure size 576x360 with 1 Axes>"
      ]
     },
     "metadata": {
      "needs_background": "light"
     },
     "output_type": "display_data"
    },
    {
     "data": {
      "image/png": "[encoded data removed]",
      "text/plain": [
       "<Figure size 576x360 with 1 Axes>"
      ]
     },
     "metadata": {
      "needs_background": "light"
     },
     "output_type": "display_data"
    }
   ],
   "source": [
    "# Для удобства создадим списки и сделаем с помощью цикла:\n",
    "sample_list = [y_train, y_test]\n",
    "sample_names = ['тренировочная', 'тестовая']\n",
    "\n",
    "for sample, name in zip(sample_list, sample_names):\n",
    "    show_balance(sample, name=name)"
   ]
  },
  {
   "cell_type": "markdown",
   "metadata": {},
   "source": [
    "Таким образом, мы разделили данные на выборки, сохранив пропорции значений целевого признака в каждой из них."
   ]
  },
  {
   "cell_type": "markdown",
   "metadata": {},
   "source": [
    "### Обработка текста\n",
    "\n",
    "Предобработаем текст, чтобы нашим моделям было возможно с ним работать. Лемматизируем все твиты из нашего датасета, чтобы алгоритмы могли далее с ними работать. Для этого пригодится пару функций:"
   ]
  },
  {
   "cell_type": "code",
   "execution_count": 15,
   "metadata": {},
   "outputs": [],
   "source": [
    "# Создание функции для очистки текста от лишних символов:\n",
    "def clear_text(text):\n",
    "    text_with_spaces = re.sub(r'[^a-zA-Z]', ' ', text)\n",
    "    handling_spaces = text_with_spaces.split()\n",
    "    cleared_text = ' '.join(handling_spaces).lower()\n",
    "    \n",
    "    # Удаление стоп-слов:\n",
    "    filtered_words = [word for word in cleared_text.split() if word not in stop_words]\n",
    "    cleared_text = ' '.join(filtered_words)\n",
    "    \n",
    "    return cleared_text"
   ]
  },
  {
   "cell_type": "code",
   "execution_count": 16,
   "metadata": {},
   "outputs": [],
   "source": [
    "# Загрузка языковой модели:\n",
    "nlp = spacy.load('en_core_web_sm')\n",
    "\n",
    "# Создание функции для лемматизации текста:\n",
    "def lemmatize_text(text):\n",
    "    doc = nlp(text)\n",
    "    lemmas_list = [token.lemma_ for token in doc]\n",
    "    lemmatized_text = ' '.join(lemmas_list)\n",
    "    return lemmatized_text"
   ]
  },
  {
   "cell_type": "markdown",
   "metadata": {},
   "source": [
    "Сделаем проверку объявленных функций:"
   ]
  },
  {
   "cell_type": "code",
   "execution_count": 17,
   "metadata": {},
   "outputs": [
    {
     "name": "stdout",
     "output_type": "stream",
     "text": [
      "Исходный текст: I am running in the park\n",
      "Лемматизированный: I be run in the park\n",
      "Очищенный текст: running park\n",
      "Лемм. + очищ.: run park\n"
     ]
    }
   ],
   "source": [
    "# Проверка:\n",
    "sentence = 'I am running in the park'\n",
    "\n",
    "print('Исходный текст:', sentence)\n",
    "print('Лемматизированный:', lemmatize_text(sentence))\n",
    "print('Очищенный текст:', clear_text(sentence))\n",
    "print('Лемм. + очищ.:', lemmatize_text(clear_text(sentence)))"
   ]
  },
  {
   "cell_type": "markdown",
   "metadata": {},
   "source": [
    "Для начала очистим тексты от лишнего:"
   ]
  },
  {
   "cell_type": "code",
   "execution_count": 18,
   "metadata": {},
   "outputs": [
    {
     "data": {
      "application/vnd.jupyter.widget-view+json": {
       "model_id": "a75b2420764f497da153af452a1bc314",
       "version_major": 2,
       "version_minor": 0
      },
      "text/plain": [
       "  0%|          | 0/119469 [00:00<?, ?it/s]"
      ]
     },
     "metadata": {},
     "output_type": "display_data"
    },
    {
     "data": {
      "application/vnd.jupyter.widget-view+json": {
       "model_id": "6f907da2a5924b6da86411358ab55292",
       "version_major": 2,
       "version_minor": 0
      },
      "text/plain": [
       "  0%|          | 0/39823 [00:00<?, ?it/s]"
      ]
     },
     "metadata": {},
     "output_type": "display_data"
    },
    {
     "name": "stdout",
     "output_type": "stream",
     "text": [
      "['hey daniel seems large problem moment got yesterday willage pump question page queries fixed dummy edit clearing cache didnt work time odd errant tmorton talk review']\n",
      "\n",
      "['preceding unsigned comment added appreciate personal attacks never less disagree conclusion related names mention fact unable find sort software otherwise related technology named peru seems fairly obvious java apple link respectively land mass fruit people would immediately relate words names sure jean auguste dominique ingres famous artist right hardly comparable artists like picasso da vinci goya etc achieved general recognition also outside art circles look artists like andy goldsworthy sebasti salgado ansel adams notice goldsworthy adams simply goes disambiguation page salgado article obscure brazilian village ingres artist generally well known person artist would agreed separate interest areas equal claim article namespace considering ingres rdbms actually named ingres ingres artist part artists name think makes sense keep disambiguation link top article pointing jean auguste dominique ingres']\n"
     ]
    }
   ],
   "source": [
    "# Очистка текстов от лишнего:\n",
    "X_train = X_train.progress_apply(clear_text)\n",
    "X_test = X_test.progress_apply(clear_text)\n",
    "\n",
    "# Проверка:\n",
    "print(X_train.sample(1).values.tolist())\n",
    "print()\n",
    "print(X_test.sample(1).values.tolist())"
   ]
  },
  {
   "cell_type": "markdown",
   "metadata": {},
   "source": [
    "Приступим к лемматизации текста:"
   ]
  },
  {
   "cell_type": "code",
   "execution_count": 19,
   "metadata": {},
   "outputs": [
    {
     "data": {
      "application/vnd.jupyter.widget-view+json": {
       "model_id": "59357d46f9734e89bcb401442b42fd51",
       "version_major": 2,
       "version_minor": 0
      },
      "text/plain": [
       "  0%|          | 0/119469 [00:00<?, ?it/s]"
      ]
     },
     "metadata": {},
     "output_type": "display_data"
    },
    {
     "data": {
      "application/vnd.jupyter.widget-view+json": {
       "model_id": "bd9dd270f6ed4ee092863ed3f84838ae",
       "version_major": 2,
       "version_minor": 0
      },
      "text/plain": [
       "  0%|          | 0/39823 [00:00<?, ?it/s]"
      ]
     },
     "metadata": {},
     "output_type": "display_data"
    }
   ],
   "source": [
    "# Лемматизация текстов:\n",
    "X_train = X_train.progress_apply(lemmatize_text)\n",
    "X_test = X_test.progress_apply(lemmatize_text)"
   ]
  },
  {
   "cell_type": "markdown",
   "metadata": {},
   "source": [
    "Проверим какой-нибудь текст:"
   ]
  },
  {
   "cell_type": "code",
   "execution_count": 20,
   "metadata": {},
   "outputs": [
    {
     "name": "stdout",
     "output_type": "stream",
     "text": [
      "['note thank']\n"
     ]
    }
   ],
   "source": [
    "# Проверка:\n",
    "print(X_train.sample(1).values.tolist())"
   ]
  },
  {
   "cell_type": "markdown",
   "metadata": {},
   "source": [
    "Сработало. Первоначальные варианты текстов нам больше не понадобятся."
   ]
  },
  {
   "cell_type": "markdown",
   "metadata": {},
   "source": [
    "Стоит проверить наличие явных дубликатов в тренировочной выборке после лемматизации, т.к. мы значительно упростили тексты."
   ]
  },
  {
   "cell_type": "code",
   "execution_count": 22,
   "metadata": {},
   "outputs": [
    {
     "name": "stdout",
     "output_type": "stream",
     "text": [
      "Кол-во явных дубликатов в датасете: 1255\n",
      "\n",
      "Кол-во явных дубликатов после обработки: 0\n",
      "Кол-во объектов в датасете: 118214\n"
     ]
    }
   ],
   "source": [
    "# Временно соберём выборку обратно:\n",
    "train_data = pd.concat([X_train, y_train], axis=1)\n",
    "\n",
    "# Проверка наличия явных дубликатов:\n",
    "check_duplicates(train_data)\n",
    "\n",
    "# Разберём обратно:\n",
    "X_train = pd.DataFrame(train_data['text'])\n",
    "y_train = train_data['toxic']\n",
    "\n",
    "# Удалим за ненадобностью:\n",
    "del train_data"
   ]
  },
  {
   "cell_type": "markdown",
   "metadata": {},
   "source": [
    "Теперь данные для обучения стали ещё лучше."
   ]
  },
  {
   "cell_type": "markdown",
   "metadata": {},
   "source": [
    "### Расчёт TF-IDF\n",
    "\n",
    "Однако, подготовка данных на этом не оканчивается. Необходимо перевести тексты из датасета в векторный вид для того, чтобы алгоритмы могли с ними работать. Сделаем это с помощью величины _TF-IDF_. \n",
    "\n",
    "Напишем функцию, с помощью которой рассчитаем для слов в в наших выборках эти значения."
   ]
  },
  {
   "cell_type": "code",
   "execution_count": 23,
   "metadata": {},
   "outputs": [],
   "source": [
    "# Создание экземляра класса с передачей ему загруженных ранее стоп-слов:\n",
    "vect = TfidfVectorizer(stop_words=stop_words)\n",
    "\n",
    "# Функция для получения TF_IDF матриц:\n",
    "def get_tf_idf(texts, vectorizer, train=True):\n",
    "    corpus = texts.values\n",
    "    \n",
    "    if train == True:\n",
    "        tf_idf = vectorizer.fit_transform(corpus)\n",
    "               \n",
    "    else:\n",
    "        tf_idf = vectorizer.transform(corpus)\n",
    "        \n",
    "    return tf_idf"
   ]
  },
  {
   "cell_type": "markdown",
   "metadata": {},
   "source": [
    "Получим матрицы с расчитанными значениями для слов из выборок:"
   ]
  },
  {
   "cell_type": "code",
   "execution_count": 24,
   "metadata": {},
   "outputs": [
    {
     "name": "stdout",
     "output_type": "stream",
     "text": [
      "Размерность тренировочной sparse-матрицы (118214, 129321)\n",
      "Размерность тестовой sparse-матрицы (39823, 129321)\n"
     ]
    }
   ],
   "source": [
    "# Получение тренировочной разряженной матрицы: \n",
    "tf_idf_train = get_tf_idf(\n",
    "    X_train['text'],\n",
    "    vect\n",
    ")\n",
    "\n",
    "# Расчёт тестовой матрицы:\n",
    "tf_idf_test = get_tf_idf(\n",
    "    X_test,\n",
    "    vect,\n",
    "    train=False\n",
    ")\n",
    "\n",
    "# Вывод размерностей:\n",
    "print(f'Размерность тренировочной sparse-матрицы {tf_idf_train.shape}')\n",
    "print(f'Размерность тестовой sparse-матрицы {tf_idf_test.shape}')"
   ]
  },
  {
   "cell_type": "markdown",
   "metadata": {},
   "source": [
    "### Вывод\n",
    "\n",
    "На данном этапе мы:\n",
    "\n",
    "- Получили выборки для обучения моделей и их проверки;\n",
    "- Очистили и лемматизировали твиты;\n",
    "- Убрали появившиеся дубликаты;\n",
    "- Рассчитали показатели TF-IDF в их словах и получили результаты в виде матриц;\n",
    "\n",
    "\n",
    "Можем переходить к следующему этапу."
   ]
  },
  {
   "cell_type": "markdown",
   "metadata": {},
   "source": [
    "## Обучение моделей\n",
    "\n",
    "Опробуем несколько моделей МО: простую **LogisticRegression**, **PassiveAggressiveClassifier** и **CatboostClassifier**.\n",
    "\n",
    "Для оценки качества моделей будем применять метрику **`F1`**. Согласно требованию заказчика, значение метрики F1 должно быть меньше `0.75`.\n",
    "\n",
    "Для решения задачи будем использовать _RandomizedSearchCV_, с его помощью будем подбирать наиболее оптимальные гиперпараметры для моделей, чтобы получать наиболее точные предсказания."
   ]
  },
  {
   "cell_type": "markdown",
   "metadata": {},
   "source": [
    "### LogisticRegression\n",
    "\n",
    "Начнём с модели лог. регрессии. Стоит передать при инициализации модели аргумент `class_weight`=**`'balanced'`**, чтобы модель автоматически рассчитала веса на основе частоты классов в наших данных. Затем подберём наиболее удачный набор параметров с помощью инструмента RandomizedSearchCV:"
   ]
  },
  {
   "cell_type": "code",
   "execution_count": 25,
   "metadata": {},
   "outputs": [],
   "source": [
    "# Инициализация модели:\n",
    "log_model = LogisticRegression(\n",
    "    class_weight='balanced',\n",
    "    random_state=RANDOM_STATE,\n",
    "    n_jobs=-1\n",
    ")\n",
    "\n",
    "# Определим диапазоны параметров модели для поиска:\n",
    "log_params = {\n",
    "    'C': [1, 2, 3],\n",
    "}"
   ]
  },
  {
   "cell_type": "markdown",
   "metadata": {},
   "source": [
    "Передадим модель и значения коэффициента регуляризации _RandomizedSearchCV_."
   ]
  },
  {
   "cell_type": "code",
   "execution_count": 26,
   "metadata": {
    "scrolled": false
   },
   "outputs": [
    {
     "name": "stdout",
     "output_type": "stream",
     "text": [
      "Fitting 5 folds for each of 3 candidates, totalling 15 fits\n",
      "[CV] END ................................................C=1; total time=  10.8s\n",
      "[CV] END ................................................C=1; total time=  17.3s\n",
      "[CV] END ................................................C=1; total time=  12.6s\n",
      "[CV] END ................................................C=1; total time=  20.5s\n",
      "[CV] END ................................................C=1; total time=  10.0s\n",
      "[CV] END ................................................C=2; total time=  16.7s\n",
      "[CV] END ................................................C=2; total time=  24.8s\n",
      "[CV] END ................................................C=2; total time=  17.7s\n",
      "[CV] END ................................................C=2; total time=  20.6s\n",
      "[CV] END ................................................C=2; total time=  14.8s\n",
      "[CV] END ................................................C=3; total time=  16.2s\n",
      "[CV] END ................................................C=3; total time=  16.0s\n",
      "[CV] END ................................................C=3; total time=  19.2s\n",
      "[CV] END ................................................C=3; total time=  20.5s\n",
      "[CV] END ................................................C=3; total time=  28.9s\n",
      "Лучшие гиперпараметры модели:\n",
      "\n",
      " {'C': 3}\n",
      "\n",
      "\n",
      "Метрика F1 лучшей модели на кросс-валидации: 0.759\n"
     ]
    }
   ],
   "source": [
    "# Инициализация инструмента подбора:\n",
    "rs_log = RandomizedSearchCV(\n",
    "    log_model,\n",
    "    log_params,\n",
    "    scoring='f1',\n",
    "    n_jobs=-1,\n",
    "    cv=5,\n",
    "    n_iter=3,\n",
    "    random_state=RANDOM_STATE,\n",
    "    verbose=2\n",
    ")\n",
    "\n",
    "# Запуск инструмента подбора:\n",
    "rs_log.fit(tf_idf_train, y_train)\n",
    "log_f1 = rs_log.best_score_\n",
    "\n",
    "# Вывод результатов:\n",
    "print('Лучшие гиперпараметры модели:\\n\\n', rs_log.best_params_)\n",
    "print('\\n\\nМетрика F1 лучшей модели на кросс-валидации:',\n",
    "      log_f1.round(3))"
   ]
  },
  {
   "cell_type": "markdown",
   "metadata": {},
   "source": [
    "Таким образом, лучшей оказалась модель с коэффициентом регуляризации `3`."
   ]
  },
  {
   "cell_type": "markdown",
   "metadata": {},
   "source": [
    "Для большей уверенности проверим её на адекватность. Сделаем это с помощью функции:"
   ]
  },
  {
   "cell_type": "code",
   "execution_count": 27,
   "metadata": {},
   "outputs": [],
   "source": [
    "# Функция для проверки модели:\n",
    "def check_model(metric, features_train=tf_idf_train,\n",
    "                target_train=y_train, first_time=False, f1_dummy=None):\n",
    "    \n",
    "    if first_time == True:\n",
    "        \n",
    "        # Инициализация дамми-модели:\n",
    "        dummy_clf = DummyClassifier(strategy='constant', constant=1)\n",
    "        \n",
    "        # Проведение кросс-валидации дамми-модели:\n",
    "        dummy_cv = cross_val_score(\n",
    "            dummy_clf,\n",
    "            features_train,\n",
    "            target_train,\n",
    "            scoring='f1',\n",
    "            n_jobs=-1\n",
    "        ).mean()\n",
    "        \n",
    "        # Получение метрики:\n",
    "        print('Метрика F1 дамми-модели на кросс-валидации:',\n",
    "          round(dummy_cv, 3), '=>')\n",
    "    \n",
    "        # Презентация результатов:\n",
    "        if dummy_cv < metric:\n",
    "            print('=> Модель прошла проверку на адекватность.')\n",
    "        else:\n",
    "            print('=> Модель НЕ прошла проверку на адекватность.')\n",
    "        \n",
    "        return dummy_cv\n",
    "            \n",
    "    else:\n",
    "        f1_dummy = f1_dummy\n",
    "        if f1_dummy < metric:\n",
    "            print('Модель прошла проверку на адекватность.')\n",
    "        else:\n",
    "            print('Модель НЕ прошла проверку на адекватность.')"
   ]
  },
  {
   "cell_type": "markdown",
   "metadata": {},
   "source": [
    "Применим функцию и сохраним результат:"
   ]
  },
  {
   "cell_type": "code",
   "execution_count": 28,
   "metadata": {},
   "outputs": [
    {
     "name": "stdout",
     "output_type": "stream",
     "text": [
      "Метрика F1 дамми-модели на кросс-валидации: 0.185 =>\n",
      "=> Модель прошла проверку на адекватность.\n"
     ]
    }
   ],
   "source": [
    "# Проверка на адекватность модели:\n",
    "f1_dummy = check_model(log_f1, first_time=True)"
   ]
  },
  {
   "cell_type": "markdown",
   "metadata": {},
   "source": [
    "Таким образом, для следующих моделей мы сможем просто сравнивать их метрики с сохранённой метрикой дамми-модели."
   ]
  },
  {
   "cell_type": "markdown",
   "metadata": {},
   "source": [
    "### CatboostClassifier\n",
    "\n",
    "Рассмотрим модель, основанную на бустинге. Проведём для неё поиск гиперпараметров:"
   ]
  },
  {
   "cell_type": "code",
   "execution_count": 96,
   "metadata": {},
   "outputs": [],
   "source": [
    "# Инициализация модели:\n",
    "catboost_model = CatBoostClassifier(\n",
    "    iterations=10,\n",
    "    auto_class_weights='Balanced',\n",
    "    random_state=RANDOM_STATE,\n",
    "    silent=True\n",
    ")\n",
    "\n",
    "# Задаём области поиска гиперпараметров:\n",
    "cat_params = {\n",
    "    'learning_rate': [1, 0.8]\n",
    "}"
   ]
  },
  {
   "cell_type": "code",
   "execution_count": 97,
   "metadata": {
    "scrolled": false
   },
   "outputs": [
    {
     "name": "stdout",
     "output_type": "stream",
     "text": [
      "Fitting 3 folds for each of 2 candidates, totalling 6 fits\n"
     ]
    },
    {
     "name": "stderr",
     "output_type": "stream",
     "text": [
      "Custom logger is already specified. Specify more than one logger at same time is not thread safe."
     ]
    },
    {
     "name": "stdout",
     "output_type": "stream",
     "text": [
      "[CV] END ....................................learning_rate=1; total time=  39.7s\n",
      "[CV] END ....................................learning_rate=1; total time=  39.5s\n",
      "[CV] END ....................................learning_rate=1; total time=  38.4s\n",
      "[CV] END ..................................learning_rate=0.8; total time=  39.1s\n",
      "[CV] END ..................................learning_rate=0.8; total time=  39.0s\n",
      "[CV] END ..................................learning_rate=0.8; total time=  38.7s\n",
      "Лучшие гиперпараметры модели:\n",
      "\n",
      " {'learning_rate': 0.8}\n",
      "\n",
      "\n",
      "Метрика F1 лучшей модели на кросс-валидации: 0.662\n"
     ]
    }
   ],
   "source": [
    "# Инициализация инструмента подбора:\n",
    "rs_cat = RandomizedSearchCV(\n",
    "    catboost_model,\n",
    "    cat_params,\n",
    "    scoring='f1',\n",
    "    n_jobs=-1,\n",
    "    cv=3,\n",
    "    n_iter=3,\n",
    "    random_state=RANDOM_STATE,\n",
    "    verbose=2\n",
    ")\n",
    "\n",
    "# Запуск инструмента подбора:\n",
    "rs_cat.fit(tf_idf_train, y_train)\n",
    "cat_f1 = rs_cat.best_score_\n",
    "\n",
    "# Вывод результатов:\n",
    "print('Лучшие гиперпараметры модели:\\n\\n', rs_cat.best_params_)\n",
    "print('\\n\\nМетрика F1 лучшей модели на кросс-валидации:',\n",
    "      cat_f1.round(3))"
   ]
  },
  {
   "cell_type": "markdown",
   "metadata": {},
   "source": [
    "К сожалению, результат кросс-валидации удручает и не справляется с задачей. Думаю, можно было добавить ещё параметров для поиска, но это заняло бы много времени. Остановимся на этом результате."
   ]
  },
  {
   "cell_type": "code",
   "execution_count": 36,
   "metadata": {},
   "outputs": [
    {
     "name": "stdout",
     "output_type": "stream",
     "text": [
      "Модель прошла проверку на адекватность.\n"
     ]
    }
   ],
   "source": [
    "# Проверка на адекватность:\n",
    "check_model(cat_f1, f1_dummy=f1_dummy)"
   ]
  },
  {
   "cell_type": "markdown",
   "metadata": {},
   "source": [
    "### PassiveAggressiveClassifier\n",
    "\n",
    "Рассмотрим эту модель МО и также укажем ей `class_weight`=**`'balanced'`**."
   ]
  },
  {
   "cell_type": "code",
   "execution_count": 37,
   "metadata": {},
   "outputs": [],
   "source": [
    "# Инициализация модели:\n",
    "pa_model = PassiveAggressiveClassifier(\n",
    "    class_weight='balanced',\n",
    "    early_stopping=True,\n",
    "    n_jobs=1,\n",
    "    random_state=RANDOM_STATE\n",
    ")\n",
    "\n",
    "# Задаём области поиска гиперпараметров:\n",
    "pa_params = {\n",
    "    'C': [1, 0.9, 0.8],\n",
    "}"
   ]
  },
  {
   "cell_type": "code",
   "execution_count": 38,
   "metadata": {},
   "outputs": [
    {
     "name": "stdout",
     "output_type": "stream",
     "text": [
      "Fitting 5 folds for each of 3 candidates, totalling 15 fits\n",
      "[CV] END ................................................C=1; total time=   0.6s\n",
      "[CV] END ................................................C=1; total time=   0.4s\n",
      "[CV] END ................................................C=1; total time=   0.6s\n",
      "[CV] END ................................................C=1; total time=   0.6s\n",
      "[CV] END ................................................C=1; total time=   0.5s\n",
      "[CV] END ..............................................C=0.9; total time=   0.5s\n",
      "[CV] END ..............................................C=0.9; total time=   0.5s\n",
      "[CV] END ..............................................C=0.9; total time=   0.7s\n",
      "[CV] END ..............................................C=0.9; total time=   0.6s\n",
      "[CV] END ..............................................C=0.9; total time=   0.6s\n",
      "[CV] END ..............................................C=0.8; total time=   0.5s\n",
      "[CV] END ..............................................C=0.8; total time=   0.5s\n",
      "[CV] END ..............................................C=0.8; total time=   0.6s\n",
      "[CV] END ..............................................C=0.8; total time=   0.6s\n",
      "[CV] END ..............................................C=0.8; total time=   0.5s\n",
      "Лучшие гиперпараметры модели:\n",
      "\n",
      " {'C': 0.9}\n",
      "\n",
      "\n",
      "Метрика F1 лучшей модели на кросс-валидации: 0.736\n"
     ]
    }
   ],
   "source": [
    "# Инициализация инструмента подбора:\n",
    "rs_pa = RandomizedSearchCV(\n",
    "    pa_model,\n",
    "    pa_params,\n",
    "    scoring='f1',\n",
    "    n_jobs=-1,\n",
    "    cv=5,\n",
    "    n_iter=3,\n",
    "    random_state=RANDOM_STATE,\n",
    "    verbose=2\n",
    ")\n",
    "\n",
    "# Запуск инструмента подбора:\n",
    "rs_pa.fit(tf_idf_train, y_train)\n",
    "pa_f1 = rs_pa.best_score_\n",
    "\n",
    "# Вывод результатов:\n",
    "print('Лучшие гиперпараметры модели:\\n\\n', rs_pa.best_params_)\n",
    "print('\\n\\nМетрика F1 лучшей модели на кросс-валидации:',\n",
    "      pa_f1.round(3))"
   ]
  },
  {
   "cell_type": "markdown",
   "metadata": {},
   "source": [
    "Неплохой результат! Но с задачей она справляется недостаточно хорошо и тоже не дотягивает до лог. рега."
   ]
  },
  {
   "cell_type": "code",
   "execution_count": 40,
   "metadata": {},
   "outputs": [
    {
     "name": "stdout",
     "output_type": "stream",
     "text": [
      "Модель прошла проверку на адекватность.\n"
     ]
    }
   ],
   "source": [
    "# Проверка на адекватность:\n",
    "check_model(pa_f1, f1_dummy=f1_dummy)"
   ]
  },
  {
   "cell_type": "markdown",
   "metadata": {},
   "source": [
    "### Результаты обучения\n",
    "\n",
    "Рассмотрим общий результат по валидационным выборкам по всем моделям, что мы обучили. Так мы сможем нагляднее избрать лучшую для вывода в прод."
   ]
  },
  {
   "cell_type": "code",
   "execution_count": 41,
   "metadata": {},
   "outputs": [
    {
     "data": {
      "text/html": [
       "<div>\n",
       "<style scoped>\n",
       "    .dataframe tbody tr th:only-of-type {\n",
       "        vertical-align: middle;\n",
       "    }\n",
       "\n",
       "    .dataframe tbody tr th {\n",
       "        vertical-align: top;\n",
       "    }\n",
       "\n",
       "    .dataframe thead th {\n",
       "        text-align: right;\n",
       "    }\n",
       "</style>\n",
       "<table border=\"1\" class=\"dataframe\">\n",
       "  <thead>\n",
       "    <tr style=\"text-align: right;\">\n",
       "      <th></th>\n",
       "      <th>Модель</th>\n",
       "      <th>f1_valid</th>\n",
       "    </tr>\n",
       "  </thead>\n",
       "  <tbody>\n",
       "    <tr>\n",
       "      <th>0</th>\n",
       "      <td>LogisticRegression</td>\n",
       "      <td>0.759</td>\n",
       "    </tr>\n",
       "    <tr>\n",
       "      <th>2</th>\n",
       "      <td>PassiveAggressive</td>\n",
       "      <td>0.736</td>\n",
       "    </tr>\n",
       "    <tr>\n",
       "      <th>1</th>\n",
       "      <td>CatBoost</td>\n",
       "      <td>0.662</td>\n",
       "    </tr>\n",
       "  </tbody>\n",
       "</table>\n",
       "</div>"
      ],
      "text/plain": [
       "               Модель  f1_valid\n",
       "0  LogisticRegression     0.759\n",
       "2   PassiveAggressive     0.736\n",
       "1            CatBoost     0.662"
      ]
     },
     "execution_count": 41,
     "metadata": {},
     "output_type": "execute_result"
    }
   ],
   "source": [
    "# Построение результата в виде таблицы:\n",
    "results_data = {\n",
    "    'Модель': ['LogisticRegression', 'CatBoost', 'PassiveAggressive'],\n",
    "    'f1_valid': [log_f1, cat_f1, pa_f1]\n",
    "}\n",
    "\n",
    "results = pd.DataFrame(results_data)\n",
    "results.sort_values('f1_valid', ascending=False).round(3)"
   ]
  },
  {
   "cell_type": "markdown",
   "metadata": {},
   "source": [
    "Таким образом, все модели справились с поставленной задачей. Лучше всех на валидационных данных справилась модель **логистической регрессии**. Опробуем её на тестовых данных.\n",
    "\n",
    "### Вывод\n",
    "\n",
    "На данном этапе мы:\n",
    "- Обучили _3 модели МО_: **LogisticRegression**, **CatBoostClassifier** и **PassiveAggressiveClassifier**.\n",
    "- Справилась с задачей при кросс-валидации только **LogisticRegression**.\n",
    "- Наилучшим образом себя показала модель **LogisticRegresson** _с коэфф-том регуляризации 3_, её мы и будем тестировать на следующем этапе. \n",
    "<br>\n",
    "\n",
    "\n",
    "Переходим к следующему этапу."
   ]
  },
  {
   "cell_type": "markdown",
   "metadata": {},
   "source": [
    "## «Вывод в прод»\n",
    "\n",
    "Самое время проверить полученную лучшую модель на тестовых данных, которые не участвовали до этого нигде в процессе."
   ]
  },
  {
   "cell_type": "code",
   "execution_count": 43,
   "metadata": {},
   "outputs": [
    {
     "name": "stdout",
     "output_type": "stream",
     "text": [
      "Метрика F1 лучшей модели на тестовой выборке: 0.765\n"
     ]
    }
   ],
   "source": [
    "# Получение предсказаний на тестовой выборке:\n",
    "predictions = rs_log.best_estimator_.predict(tf_idf_test)\n",
    "\n",
    "    # Расчёт метрики:\n",
    "f1_result = f1_score(y_test, predictions)\n",
    "\n",
    "    # Вывод результата:\n",
    "print('Метрика F1 лучшей модели на тестовой выборке:',\n",
    "    round(f1_result, 3))"
   ]
  },
  {
   "cell_type": "markdown",
   "metadata": {},
   "source": [
    "Отлично, модель успешно справляется с тестовыми данными, метрика даже повысилась."
   ]
  },
  {
   "cell_type": "markdown",
   "metadata": {},
   "source": [
    "### Важные признаки\n",
    "\n",
    "Теперь, когда модель логистической регрессии справилась с тестовыми данными, интересно узнать, на какие слова она опирается сильнее всего, когда делает свои прогнозы. Построим наглядный график, где покажем значимость топ-5 слов."
   ]
  },
  {
   "cell_type": "code",
   "execution_count": 67,
   "metadata": {},
   "outputs": [
    {
     "data": {
      "image/png": "[encoded data removed]",
      "text/plain": [
       "<Figure size 1080x504 with 1 Axes>"
      ]
     },
     "metadata": {
      "needs_background": "light"
     },
     "output_type": "display_data"
    }
   ],
   "source": [
    "# Получим значения коэффициентов:\n",
    "coefficients = rs_log.best_estimator_.coef_[0]\n",
    "\n",
    "# Получим имена признаков (слова):\n",
    "feature_names = vect.get_feature_names_out()\n",
    "\n",
    "# Оформляем результаты для топ-5 слов:\n",
    "imp_data = {'word': feature_names, 'importance': coefficients}\n",
    "importances = pd.DataFrame(imp_data)\n",
    "importances_top5 = importances.sort_values(\n",
    "    by='importance', ascending=False).head()\n",
    "\n",
    "# Построение графика:\n",
    "plt.figure(figsize=(15, 7))\n",
    "plt.barh(importances_top5['word'], importances_top5['importance'],\n",
    "         color='m', align='edge')\n",
    "plt.grid(True)\n",
    "plt.title('Значимость слов для модели при определении токсичности', fontsize=16)\n",
    "plt.ylabel('Слово', fontsize=14)\n",
    "plt.xlabel('Значимость слова', fontsize=13)\n",
    "plt.gca().invert_yaxis()\n",
    "\n",
    "plt.show()"
   ]
  },
  {
   "cell_type": "markdown",
   "metadata": {},
   "source": [
    "### Вывод\n",
    "\n",
    "На этом этапе мы проверили лучшую модель на тестовых данных. Получили от неё предсказания и рассчитали значение метрики **F1**, она выросла на тесте и её значение составило **`0.765`**.<br> Затем мы отобрали коэффициенты модели и оформили в виде графика.<br>\n",
    "\n",
    "Таким образом, мы обнаруживаем, что именно эти обсценные слова на оси Y на графике оказывают наибольшее влияние на определение токсичности текста."
   ]
  },
  {
   "cell_type": "markdown",
   "metadata": {},
   "source": [
    "\n",
    "## Общий вывод\n",
    "\n",
    "Перед нами стояла NLP-задача **построения модели МО для определения токсичности текста**, то есть задача _бинарной классификации_.\n",
    "\n",
    "\n",
    "Для решения этой задачи были проделаны следующие этапы:\n",
    "\n",
    "1. **Исходные данные представляли собой датасет с исходными текстами и метками к ним**. С ними было проведено ознакомление и проверка соответствия их описанию.\n",
    "    \n",
    "    - Убрали лишний признак;\n",
    "    - Выявили сильный дисбаланс классов;\n",
    "    - Проверили данные на явные дубликаты;\n",
    "\n",
    "\n",
    "2. **В процессе предобработки данных на этапе лемматизации текста были обнаружены новые явные дубликаты**. От них мы избавились, тем самым улучшив данные для обучения.\n",
    "    - В итоге мы получили рахряженные матрицы с рассчитанными значениями TF-ITF для каждого из всех слов в текстах, не являющихся стоп-словом (стоп-слова мы исключили).\n",
    "\n",
    "\n",
    "5. Далее **мы обучили и протестировали три модели машинного обучения**, одна из которых основана на бустинге. Все модели, прошли проверку на адекватность и далеко не все показали хорошие результаты. Результаты нам пригодились, чтобы выбрать лучшую модель.\n",
    "\n",
    "\n",
    "6. **Лучшей моделью** для решения нашей задачи оказалась **_LogisticRegression_** со значением метрики F1 в **0.759** _на кросс-валидации_ и **0.765** на проде (тестовых данных). Впоследствии мы выяснили, какие обсценные слова больше всего оказывают влияние на предсказания:<br>\n",
    "    - **`fuck`** — слово с наивысшим коэффициентом, влияющим на определение лучшей моделью токсичности. За ним с сильным отставанием идут слова `shit`, `fucking`, `idiot` и `stupid`."
   ]
  }
 ],
 "metadata": {
  "ExecuteTimeLog": [
   {
    "duration": 3,
    "start_time": "2025-06-10T10:36:03.936Z"
   },
   {
    "duration": 433,
    "start_time": "2025-06-10T10:36:06.503Z"
   },
   {
    "duration": 1060,
    "start_time": "2025-06-10T10:38:39.291Z"
   },
   {
    "duration": 1031,
    "start_time": "2025-06-10T10:38:46.498Z"
   },
   {
    "duration": 246,
    "start_time": "2025-06-10T10:39:16.806Z"
   },
   {
    "duration": 920,
    "start_time": "2025-06-10T10:41:58.965Z"
   },
   {
    "duration": 34,
    "start_time": "2025-06-10T10:42:16.025Z"
   },
   {
    "duration": 1235,
    "start_time": "2025-06-10T10:42:46.343Z"
   },
   {
    "duration": 1355,
    "start_time": "2025-06-10T10:42:52.710Z"
   },
   {
    "duration": 6,
    "start_time": "2025-06-10T10:42:59.871Z"
   },
   {
    "duration": 13,
    "start_time": "2025-06-10T10:44:01.395Z"
   },
   {
    "duration": 35,
    "start_time": "2025-06-10T10:44:11.120Z"
   },
   {
    "duration": 251,
    "start_time": "2025-06-10T10:44:59.952Z"
   },
   {
    "duration": 7,
    "start_time": "2025-06-10T10:51:43.908Z"
   },
   {
    "duration": 5,
    "start_time": "2025-06-10T10:51:48.368Z"
   },
   {
    "duration": 236,
    "start_time": "2025-06-10T10:52:23.793Z"
   },
   {
    "duration": 12,
    "start_time": "2025-06-10T10:55:38.949Z"
   },
   {
    "duration": 256,
    "start_time": "2025-06-10T10:56:04.652Z"
   },
   {
    "duration": 5,
    "start_time": "2025-06-10T10:57:10.482Z"
   },
   {
    "duration": 4,
    "start_time": "2025-06-10T10:57:16.067Z"
   },
   {
    "duration": 235,
    "start_time": "2025-06-10T10:57:58.098Z"
   },
   {
    "duration": 71,
    "start_time": "2025-06-10T10:59:23.280Z"
   },
   {
    "duration": 4,
    "start_time": "2025-06-10T11:01:09.271Z"
   },
   {
    "duration": 232,
    "start_time": "2025-06-10T11:01:44.709Z"
   },
   {
    "duration": 12,
    "start_time": "2025-06-10T11:02:12.968Z"
   },
   {
    "duration": 21,
    "start_time": "2025-06-10T11:02:40.523Z"
   },
   {
    "duration": 235,
    "start_time": "2025-06-10T11:03:14.113Z"
   },
   {
    "duration": 211,
    "start_time": "2025-06-10T11:09:22.293Z"
   },
   {
    "duration": 10,
    "start_time": "2025-06-10T11:25:50.808Z"
   },
   {
    "duration": 16,
    "start_time": "2025-06-10T11:26:12.694Z"
   },
   {
    "duration": 3283,
    "start_time": "2025-06-10T11:43:12.364Z"
   },
   {
    "duration": 5,
    "start_time": "2025-06-10T11:43:19.098Z"
   },
   {
    "duration": 2,
    "start_time": "2025-06-10T11:50:25.790Z"
   },
   {
    "duration": 3037,
    "start_time": "2025-06-14T10:35:51.944Z"
   },
   {
    "duration": 388,
    "start_time": "2025-06-14T10:35:54.984Z"
   },
   {
    "duration": 2,
    "start_time": "2025-06-14T10:35:55.374Z"
   },
   {
    "duration": 992,
    "start_time": "2025-06-14T10:35:55.378Z"
   },
   {
    "duration": 31,
    "start_time": "2025-06-14T10:35:56.372Z"
   },
   {
    "duration": 325,
    "start_time": "2025-06-14T10:35:56.405Z"
   },
   {
    "duration": 223,
    "start_time": "2025-06-14T10:35:56.731Z"
   },
   {
    "duration": 2,
    "start_time": "2025-06-14T10:42:48.886Z"
   },
   {
    "duration": 10,
    "start_time": "2025-06-14T10:42:57.409Z"
   },
   {
    "duration": 4,
    "start_time": "2025-06-14T10:43:05.349Z"
   },
   {
    "duration": 701,
    "start_time": "2025-06-14T10:43:20.316Z"
   },
   {
    "duration": 4,
    "start_time": "2025-06-14T10:43:36.776Z"
   },
   {
    "duration": 4,
    "start_time": "2025-06-14T10:43:56.283Z"
   },
   {
    "duration": 4,
    "start_time": "2025-06-14T10:44:08.284Z"
   },
   {
    "duration": 2426,
    "start_time": "2025-06-14T10:46:31.297Z"
   },
   {
    "duration": 4,
    "start_time": "2025-06-14T10:46:37.509Z"
   },
   {
    "duration": 864,
    "start_time": "2025-06-14T10:46:53.041Z"
   },
   {
    "duration": 5,
    "start_time": "2025-06-14T10:46:58.921Z"
   },
   {
    "duration": 59,
    "start_time": "2025-06-14T10:47:22.741Z"
   },
   {
    "duration": 4,
    "start_time": "2025-06-14T10:47:30.990Z"
   },
   {
    "duration": 4,
    "start_time": "2025-06-14T10:47:44.294Z"
   },
   {
    "duration": 3,
    "start_time": "2025-06-14T10:47:48.815Z"
   },
   {
    "duration": 4,
    "start_time": "2025-06-14T10:47:50.628Z"
   },
   {
    "duration": 5,
    "start_time": "2025-06-14T10:48:19.445Z"
   },
   {
    "duration": 4,
    "start_time": "2025-06-14T10:54:52.691Z"
   },
   {
    "duration": 89,
    "start_time": "2025-06-14T10:55:05.091Z"
   },
   {
    "duration": 7,
    "start_time": "2025-06-14T10:55:09.767Z"
   },
   {
    "duration": 4,
    "start_time": "2025-06-14T10:55:19.465Z"
   },
   {
    "duration": 4,
    "start_time": "2025-06-14T10:55:35.499Z"
   },
   {
    "duration": 6,
    "start_time": "2025-06-14T10:55:44.152Z"
   },
   {
    "duration": 5,
    "start_time": "2025-06-14T10:58:45.098Z"
   },
   {
    "duration": 4,
    "start_time": "2025-06-14T10:58:48.992Z"
   },
   {
    "duration": 4,
    "start_time": "2025-06-14T10:59:04.640Z"
   },
   {
    "duration": 4,
    "start_time": "2025-06-14T11:04:34.157Z"
   },
   {
    "duration": 4,
    "start_time": "2025-06-14T11:04:37.240Z"
   },
   {
    "duration": 5,
    "start_time": "2025-06-14T11:04:40.195Z"
   },
   {
    "duration": 4,
    "start_time": "2025-06-14T11:05:27.586Z"
   },
   {
    "duration": 5,
    "start_time": "2025-06-14T11:05:36.179Z"
   },
   {
    "duration": 5,
    "start_time": "2025-06-14T11:06:11.127Z"
   },
   {
    "duration": 3,
    "start_time": "2025-06-14T11:07:39.460Z"
   },
   {
    "duration": 5,
    "start_time": "2025-06-14T11:08:05.029Z"
   },
   {
    "duration": 4,
    "start_time": "2025-06-14T11:08:17.201Z"
   },
   {
    "duration": 5,
    "start_time": "2025-06-14T11:08:27.690Z"
   },
   {
    "duration": 8,
    "start_time": "2025-06-14T11:10:06.285Z"
   },
   {
    "duration": 4,
    "start_time": "2025-06-14T11:11:15.487Z"
   },
   {
    "duration": 4,
    "start_time": "2025-06-14T11:14:43.430Z"
   },
   {
    "duration": 7,
    "start_time": "2025-06-14T11:14:57.918Z"
   },
   {
    "duration": 7,
    "start_time": "2025-06-14T11:15:03.745Z"
   },
   {
    "duration": 4,
    "start_time": "2025-06-14T11:15:07.379Z"
   },
   {
    "duration": 4,
    "start_time": "2025-06-14T11:17:08.251Z"
   },
   {
    "duration": 3,
    "start_time": "2025-06-14T11:18:03.004Z"
   },
   {
    "duration": 5,
    "start_time": "2025-06-14T11:18:21.116Z"
   },
   {
    "duration": 74412,
    "start_time": "2025-06-14T11:23:06.712Z"
   },
   {
    "duration": 13,
    "start_time": "2025-06-14T11:25:05.490Z"
   },
   {
    "duration": 7805,
    "start_time": "2025-06-14T11:27:38.356Z"
   },
   {
    "duration": 1091,
    "start_time": "2025-06-14T11:28:02.588Z"
   },
   {
    "duration": 10,
    "start_time": "2025-06-14T11:28:41.396Z"
   },
   {
    "duration": 3,
    "start_time": "2025-06-14T11:28:55.690Z"
   },
   {
    "duration": 319,
    "start_time": "2025-06-14T11:29:56.205Z"
   },
   {
    "duration": 3,
    "start_time": "2025-06-14T11:30:22.209Z"
   },
   {
    "duration": 6,
    "start_time": "2025-06-14T11:30:24.028Z"
   },
   {
    "duration": 5,
    "start_time": "2025-06-14T11:31:04.122Z"
   },
   {
    "duration": 7,
    "start_time": "2025-06-14T11:31:17.164Z"
   },
   {
    "duration": 12,
    "start_time": "2025-06-14T11:38:44.456Z"
   },
   {
    "duration": 9432,
    "start_time": "2025-06-14T11:39:07.591Z"
   },
   {
    "duration": 8,
    "start_time": "2025-06-14T11:39:19.506Z"
   },
   {
    "duration": 3,
    "start_time": "2025-06-14T11:39:38.015Z"
   },
   {
    "duration": 32718,
    "start_time": "2025-06-14T11:40:55.425Z"
   },
   {
    "duration": 282,
    "start_time": "2025-06-14T11:41:35.067Z"
   },
   {
    "duration": 291,
    "start_time": "2025-06-14T11:41:43.617Z"
   },
   {
    "duration": 14,
    "start_time": "2025-06-14T11:41:52.607Z"
   },
   {
    "duration": 81,
    "start_time": "2025-06-14T11:42:00.327Z"
   },
   {
    "duration": 314,
    "start_time": "2025-06-14T11:42:23.491Z"
   },
   {
    "duration": 282,
    "start_time": "2025-06-14T11:44:27.576Z"
   },
   {
    "duration": 8623,
    "start_time": "2025-06-14T11:44:35.110Z"
   },
   {
    "duration": 1493,
    "start_time": "2025-06-14T11:44:43.736Z"
   },
   {
    "duration": 132,
    "start_time": "2025-06-14T11:44:45.232Z"
   },
   {
    "duration": 1038,
    "start_time": "2025-06-14T11:44:45.366Z"
   },
   {
    "duration": 45,
    "start_time": "2025-06-14T11:44:46.406Z"
   },
   {
    "duration": 301,
    "start_time": "2025-06-14T11:44:46.453Z"
   },
   {
    "duration": 230,
    "start_time": "2025-06-14T11:44:46.755Z"
   },
   {
    "duration": 2236,
    "start_time": "2025-06-14T11:44:46.987Z"
   },
   {
    "duration": 14,
    "start_time": "2025-06-14T11:44:49.225Z"
   },
   {
    "duration": 5,
    "start_time": "2025-06-14T11:44:49.242Z"
   },
   {
    "duration": 77821,
    "start_time": "2025-06-14T11:44:49.250Z"
   },
   {
    "duration": 67,
    "start_time": "2025-06-14T11:46:07.073Z"
   },
   {
    "duration": 14,
    "start_time": "2025-06-14T11:57:19.796Z"
   },
   {
    "duration": 121,
    "start_time": "2025-06-14T13:03:18.122Z"
   },
   {
    "duration": 11785,
    "start_time": "2025-06-14T13:03:44.074Z"
   },
   {
    "duration": 11,
    "start_time": "2025-06-14T13:03:59.733Z"
   },
   {
    "duration": 21,
    "start_time": "2025-06-14T13:04:04.096Z"
   },
   {
    "duration": 4,
    "start_time": "2025-06-14T13:04:57.204Z"
   },
   {
    "duration": 75,
    "start_time": "2025-06-14T13:05:13.052Z"
   },
   {
    "duration": 10,
    "start_time": "2025-06-14T13:05:30.416Z"
   },
   {
    "duration": 120289,
    "start_time": "2025-06-14T13:06:44.657Z"
   },
   {
    "duration": 5,
    "start_time": "2025-06-14T13:09:20.634Z"
   },
   {
    "duration": 5,
    "start_time": "2025-06-14T13:09:30.162Z"
   },
   {
    "duration": 4,
    "start_time": "2025-06-14T13:09:34.398Z"
   },
   {
    "duration": 5,
    "start_time": "2025-06-14T13:12:48.721Z"
   },
   {
    "duration": 765,
    "start_time": "2025-06-14T13:12:57.830Z"
   },
   {
    "duration": 10,
    "start_time": "2025-06-14T13:13:21.199Z"
   },
   {
    "duration": 15,
    "start_time": "2025-06-14T13:14:04.076Z"
   },
   {
    "duration": 5,
    "start_time": "2025-06-14T13:14:24.829Z"
   },
   {
    "duration": 4,
    "start_time": "2025-06-14T13:14:27.760Z"
   },
   {
    "duration": 4,
    "start_time": "2025-06-14T13:15:27.638Z"
   },
   {
    "duration": 15,
    "start_time": "2025-06-14T13:16:50.880Z"
   },
   {
    "duration": 4,
    "start_time": "2025-06-14T13:17:13.247Z"
   },
   {
    "duration": 4,
    "start_time": "2025-06-14T13:17:21.854Z"
   },
   {
    "duration": 16,
    "start_time": "2025-06-14T13:17:44.264Z"
   },
   {
    "duration": 8,
    "start_time": "2025-06-14T13:18:40.644Z"
   },
   {
    "duration": 35,
    "start_time": "2025-06-14T13:19:00.503Z"
   },
   {
    "duration": 87,
    "start_time": "2025-06-14T13:19:12.041Z"
   },
   {
    "duration": 50,
    "start_time": "2025-06-14T13:19:40.844Z"
   },
   {
    "duration": 11044,
    "start_time": "2025-06-14T13:19:58.373Z"
   },
   {
    "duration": 1981,
    "start_time": "2025-06-14T13:20:09.420Z"
   },
   {
    "duration": 216,
    "start_time": "2025-06-14T13:20:11.403Z"
   },
   {
    "duration": 1040,
    "start_time": "2025-06-14T13:20:11.621Z"
   },
   {
    "duration": 34,
    "start_time": "2025-06-14T13:20:12.663Z"
   },
   {
    "duration": 302,
    "start_time": "2025-06-14T13:20:12.699Z"
   },
   {
    "duration": 227,
    "start_time": "2025-06-14T13:20:13.003Z"
   },
   {
    "duration": 2276,
    "start_time": "2025-06-14T13:20:13.238Z"
   },
   {
    "duration": 31,
    "start_time": "2025-06-14T13:20:15.516Z"
   },
   {
    "duration": 17,
    "start_time": "2025-06-14T13:20:15.549Z"
   },
   {
    "duration": 40,
    "start_time": "2025-06-14T13:20:15.568Z"
   },
   {
    "duration": 136,
    "start_time": "2025-06-14T13:20:15.609Z"
   },
   {
    "duration": 0,
    "start_time": "2025-06-14T13:20:15.746Z"
   },
   {
    "duration": 0,
    "start_time": "2025-06-14T13:20:15.748Z"
   },
   {
    "duration": 0,
    "start_time": "2025-06-14T13:20:15.749Z"
   },
   {
    "duration": 11005,
    "start_time": "2025-06-14T13:23:55.771Z"
   },
   {
    "duration": 1300,
    "start_time": "2025-06-14T13:24:06.778Z"
   },
   {
    "duration": 122,
    "start_time": "2025-06-14T13:24:08.079Z"
   },
   {
    "duration": 1002,
    "start_time": "2025-06-14T13:24:08.203Z"
   },
   {
    "duration": 40,
    "start_time": "2025-06-14T13:24:09.207Z"
   },
   {
    "duration": 278,
    "start_time": "2025-06-14T13:24:09.248Z"
   },
   {
    "duration": 230,
    "start_time": "2025-06-14T13:24:09.528Z"
   },
   {
    "duration": 2178,
    "start_time": "2025-06-14T13:24:09.760Z"
   },
   {
    "duration": 15,
    "start_time": "2025-06-14T13:24:11.940Z"
   },
   {
    "duration": 4,
    "start_time": "2025-06-14T13:24:11.957Z"
   },
   {
    "duration": 7,
    "start_time": "2025-06-14T13:24:11.962Z"
   },
   {
    "duration": 127,
    "start_time": "2025-06-14T13:24:11.970Z"
   },
   {
    "duration": 0,
    "start_time": "2025-06-14T13:24:12.098Z"
   },
   {
    "duration": 0,
    "start_time": "2025-06-14T13:24:12.100Z"
   },
   {
    "duration": 0,
    "start_time": "2025-06-14T13:24:12.101Z"
   },
   {
    "duration": 72389,
    "start_time": "2025-06-14T13:24:46.903Z"
   },
   {
    "duration": 15,
    "start_time": "2025-06-14T13:26:12.965Z"
   },
   {
    "duration": 57,
    "start_time": "2025-06-14T13:27:48.579Z"
   },
   {
    "duration": 4,
    "start_time": "2025-06-14T13:27:59.913Z"
   },
   {
    "duration": 5,
    "start_time": "2025-06-14T13:28:01.793Z"
   },
   {
    "duration": 5,
    "start_time": "2025-06-14T13:28:15.384Z"
   },
   {
    "duration": 13,
    "start_time": "2025-06-14T13:28:22.317Z"
   },
   {
    "duration": 4,
    "start_time": "2025-06-14T13:28:24.486Z"
   },
   {
    "duration": 71811,
    "start_time": "2025-06-14T13:30:07.588Z"
   },
   {
    "duration": 5,
    "start_time": "2025-06-14T13:31:26.781Z"
   },
   {
    "duration": 4,
    "start_time": "2025-06-14T13:31:38.482Z"
   },
   {
    "duration": 2,
    "start_time": "2025-06-14T13:31:50.684Z"
   },
   {
    "duration": 5,
    "start_time": "2025-06-14T13:32:19.857Z"
   },
   {
    "duration": 84729,
    "start_time": "2025-06-14T13:33:00.682Z"
   },
   {
    "duration": 28,
    "start_time": "2025-06-14T13:34:41.945Z"
   },
   {
    "duration": 44,
    "start_time": "2025-06-14T13:35:09.144Z"
   },
   {
    "duration": 15,
    "start_time": "2025-06-14T13:35:11.563Z"
   },
   {
    "duration": 3,
    "start_time": "2025-06-14T13:35:34.468Z"
   },
   {
    "duration": 8,
    "start_time": "2025-06-14T13:38:08.840Z"
   },
   {
    "duration": 26,
    "start_time": "2025-06-14T13:40:21.843Z"
   },
   {
    "duration": 12,
    "start_time": "2025-06-14T13:42:54.898Z"
   },
   {
    "duration": 5,
    "start_time": "2025-06-14T13:43:03.370Z"
   },
   {
    "duration": 4,
    "start_time": "2025-06-14T13:43:14.074Z"
   },
   {
    "duration": 9,
    "start_time": "2025-06-14T13:43:36.647Z"
   },
   {
    "duration": 34,
    "start_time": "2025-06-14T13:43:48.495Z"
   },
   {
    "duration": 197,
    "start_time": "2025-06-14T13:45:46.217Z"
   },
   {
    "duration": 4,
    "start_time": "2025-06-14T13:51:34.384Z"
   },
   {
    "duration": 800,
    "start_time": "2025-06-14T13:52:44.345Z"
   },
   {
    "duration": 4,
    "start_time": "2025-06-14T13:57:34.972Z"
   },
   {
    "duration": 429,
    "start_time": "2025-06-14T13:57:54.039Z"
   },
   {
    "duration": 8093,
    "start_time": "2025-06-14T13:58:44.007Z"
   },
   {
    "duration": 1383,
    "start_time": "2025-06-14T13:58:52.103Z"
   },
   {
    "duration": 190,
    "start_time": "2025-06-14T13:58:53.488Z"
   },
   {
    "duration": 1066,
    "start_time": "2025-06-14T13:58:53.680Z"
   },
   {
    "duration": 37,
    "start_time": "2025-06-14T13:58:54.749Z"
   },
   {
    "duration": 298,
    "start_time": "2025-06-14T13:58:54.788Z"
   },
   {
    "duration": 4,
    "start_time": "2025-06-14T13:58:55.088Z"
   },
   {
    "duration": 492,
    "start_time": "2025-06-14T13:58:55.094Z"
   },
   {
    "duration": 2232,
    "start_time": "2025-06-14T13:58:55.587Z"
   },
   {
    "duration": 3,
    "start_time": "2025-06-14T13:58:57.822Z"
   },
   {
    "duration": 39,
    "start_time": "2025-06-14T13:58:57.838Z"
   },
   {
    "duration": 7,
    "start_time": "2025-06-14T13:58:57.879Z"
   },
   {
    "duration": 80792,
    "start_time": "2025-06-14T13:58:57.887Z"
   },
   {
    "duration": 76,
    "start_time": "2025-06-14T14:00:18.681Z"
   },
   {
    "duration": 843,
    "start_time": "2025-06-14T14:00:18.759Z"
   },
   {
    "duration": 12975,
    "start_time": "2025-06-23T15:20:06.851Z"
   },
   {
    "duration": 1422,
    "start_time": "2025-06-23T15:20:19.828Z"
   },
   {
    "duration": 269,
    "start_time": "2025-06-23T15:20:21.252Z"
   },
   {
    "duration": 1093,
    "start_time": "2025-06-23T15:20:21.523Z"
   },
   {
    "duration": 47,
    "start_time": "2025-06-23T15:20:22.618Z"
   },
   {
    "duration": 304,
    "start_time": "2025-06-23T15:20:22.667Z"
   },
   {
    "duration": 4,
    "start_time": "2025-06-23T15:20:22.974Z"
   },
   {
    "duration": 441,
    "start_time": "2025-06-23T15:20:22.980Z"
   },
   {
    "duration": 2778,
    "start_time": "2025-06-23T15:20:23.424Z"
   },
   {
    "duration": 16,
    "start_time": "2025-06-23T15:20:26.204Z"
   },
   {
    "duration": 9,
    "start_time": "2025-06-23T15:20:26.221Z"
   },
   {
    "duration": 27,
    "start_time": "2025-06-23T15:20:26.231Z"
   },
   {
    "duration": 81720,
    "start_time": "2025-06-23T15:20:26.262Z"
   },
   {
    "duration": 73,
    "start_time": "2025-06-23T15:21:47.985Z"
   },
   {
    "duration": 848,
    "start_time": "2025-06-23T15:21:48.061Z"
   },
   {
    "duration": 10,
    "start_time": "2025-06-23T15:22:00.598Z"
   },
   {
    "duration": 10,
    "start_time": "2025-06-23T15:23:12.861Z"
   },
   {
    "duration": 16,
    "start_time": "2025-06-23T15:23:25.803Z"
   },
   {
    "duration": 10,
    "start_time": "2025-06-23T15:28:20.502Z"
   },
   {
    "duration": 152,
    "start_time": "2025-06-23T15:28:55.730Z"
   },
   {
    "duration": 14,
    "start_time": "2025-06-23T15:29:08.205Z"
   },
   {
    "duration": 14,
    "start_time": "2025-06-23T15:29:13.646Z"
   },
   {
    "duration": 9259,
    "start_time": "2025-06-23T15:29:41.507Z"
   },
   {
    "duration": 1388,
    "start_time": "2025-06-23T15:29:50.769Z"
   },
   {
    "duration": 150,
    "start_time": "2025-06-23T15:29:52.160Z"
   },
   {
    "duration": 1584,
    "start_time": "2025-06-23T15:29:52.312Z"
   },
   {
    "duration": 35,
    "start_time": "2025-06-23T15:29:53.898Z"
   },
   {
    "duration": 317,
    "start_time": "2025-06-23T15:29:53.935Z"
   },
   {
    "duration": 5,
    "start_time": "2025-06-23T15:29:54.254Z"
   },
   {
    "duration": 458,
    "start_time": "2025-06-23T15:29:54.260Z"
   },
   {
    "duration": 2474,
    "start_time": "2025-06-23T15:29:54.720Z"
   },
   {
    "duration": 3,
    "start_time": "2025-06-23T15:29:57.197Z"
   },
   {
    "duration": 5,
    "start_time": "2025-06-23T15:29:57.202Z"
   },
   {
    "duration": 42,
    "start_time": "2025-06-23T15:29:57.209Z"
   },
   {
    "duration": 83212,
    "start_time": "2025-06-23T15:29:57.260Z"
   },
   {
    "duration": 91,
    "start_time": "2025-06-23T15:31:20.475Z"
   },
   {
    "duration": 835,
    "start_time": "2025-06-23T15:31:20.568Z"
   },
   {
    "duration": 10,
    "start_time": "2025-06-23T15:31:21.404Z"
   },
   {
    "duration": 7,
    "start_time": "2025-06-23T15:33:17.016Z"
   },
   {
    "duration": 3,
    "start_time": "2025-06-23T15:41:53.481Z"
   },
   {
    "duration": 84,
    "start_time": "2025-06-23T15:42:08.128Z"
   },
   {
    "duration": 33,
    "start_time": "2025-06-23T15:42:15.183Z"
   },
   {
    "duration": 51,
    "start_time": "2025-06-24T12:53:01.340Z"
   },
   {
    "duration": 11950,
    "start_time": "2025-06-24T12:53:36.928Z"
   },
   {
    "duration": 1567,
    "start_time": "2025-06-24T12:53:48.884Z"
   },
   {
    "duration": 278,
    "start_time": "2025-06-24T12:53:50.452Z"
   },
   {
    "duration": 975,
    "start_time": "2025-06-24T12:53:50.733Z"
   },
   {
    "duration": 32,
    "start_time": "2025-06-24T12:53:51.709Z"
   },
   {
    "duration": 296,
    "start_time": "2025-06-24T12:53:51.743Z"
   },
   {
    "duration": 5,
    "start_time": "2025-06-24T12:53:52.042Z"
   },
   {
    "duration": 437,
    "start_time": "2025-06-24T12:53:52.049Z"
   },
   {
    "duration": 2180,
    "start_time": "2025-06-24T12:53:52.488Z"
   },
   {
    "duration": 29,
    "start_time": "2025-06-24T12:53:54.675Z"
   },
   {
    "duration": 11,
    "start_time": "2025-06-24T12:53:54.706Z"
   },
   {
    "duration": 76596,
    "start_time": "2025-06-24T12:53:54.718Z"
   },
   {
    "duration": 88,
    "start_time": "2025-06-24T12:55:11.316Z"
   },
   {
    "duration": 858,
    "start_time": "2025-06-24T12:55:11.405Z"
   },
   {
    "duration": 7890,
    "start_time": "2025-06-24T12:55:12.265Z"
   },
   {
    "duration": 4,
    "start_time": "2025-06-24T12:55:20.157Z"
   },
   {
    "duration": 4,
    "start_time": "2025-06-24T13:16:14.949Z"
   },
   {
    "duration": 57,
    "start_time": "2025-06-24T13:16:45.789Z"
   },
   {
    "duration": 7982,
    "start_time": "2025-06-24T13:16:54.680Z"
   },
   {
    "duration": 1810,
    "start_time": "2025-06-24T13:17:02.665Z"
   },
   {
    "duration": 209,
    "start_time": "2025-06-24T13:17:04.477Z"
   },
   {
    "duration": 930,
    "start_time": "2025-06-24T13:17:04.688Z"
   },
   {
    "duration": 32,
    "start_time": "2025-06-24T13:17:05.620Z"
   },
   {
    "duration": 312,
    "start_time": "2025-06-24T13:17:05.654Z"
   },
   {
    "duration": 9,
    "start_time": "2025-06-24T13:17:05.968Z"
   },
   {
    "duration": 404,
    "start_time": "2025-06-24T13:17:05.979Z"
   },
   {
    "duration": 2128,
    "start_time": "2025-06-24T13:17:06.385Z"
   },
   {
    "duration": 4,
    "start_time": "2025-06-24T13:17:08.515Z"
   },
   {
    "duration": 13,
    "start_time": "2025-06-24T13:17:08.521Z"
   },
   {
    "duration": 74930,
    "start_time": "2025-06-24T13:17:08.535Z"
   },
   {
    "duration": 72,
    "start_time": "2025-06-24T13:18:23.467Z"
   },
   {
    "duration": 823,
    "start_time": "2025-06-24T13:18:23.541Z"
   },
   {
    "duration": 8030,
    "start_time": "2025-06-24T13:18:24.366Z"
   },
   {
    "duration": 4,
    "start_time": "2025-06-24T13:18:32.398Z"
   },
   {
    "duration": 8327,
    "start_time": "2025-06-24T13:19:15.710Z"
   },
   {
    "duration": 1865,
    "start_time": "2025-06-24T13:19:24.039Z"
   },
   {
    "duration": 128,
    "start_time": "2025-06-24T13:19:25.906Z"
   },
   {
    "duration": 1016,
    "start_time": "2025-06-24T13:19:26.036Z"
   },
   {
    "duration": 47,
    "start_time": "2025-06-24T13:19:27.053Z"
   },
   {
    "duration": 322,
    "start_time": "2025-06-24T13:19:27.103Z"
   },
   {
    "duration": 4,
    "start_time": "2025-06-24T13:19:27.427Z"
   },
   {
    "duration": 411,
    "start_time": "2025-06-24T13:19:27.432Z"
   },
   {
    "duration": 2217,
    "start_time": "2025-06-24T13:19:27.844Z"
   },
   {
    "duration": 14,
    "start_time": "2025-06-24T13:19:30.064Z"
   },
   {
    "duration": 32,
    "start_time": "2025-06-24T13:19:30.080Z"
   },
   {
    "duration": 76203,
    "start_time": "2025-06-24T13:19:30.114Z"
   },
   {
    "duration": 80,
    "start_time": "2025-06-24T13:20:46.319Z"
   },
   {
    "duration": 827,
    "start_time": "2025-06-24T13:20:46.400Z"
   },
   {
    "duration": 7448,
    "start_time": "2025-06-24T13:20:47.228Z"
   },
   {
    "duration": 6,
    "start_time": "2025-06-24T13:20:54.679Z"
   },
   {
    "duration": 8,
    "start_time": "2025-06-24T13:21:06.556Z"
   },
   {
    "duration": 4,
    "start_time": "2025-06-24T13:21:20.778Z"
   },
   {
    "duration": 24297,
    "start_time": "2025-06-24T13:27:15.223Z"
   },
   {
    "duration": 3,
    "start_time": "2025-06-24T13:28:17.004Z"
   },
   {
    "duration": 33692,
    "start_time": "2025-06-24T13:30:34.515Z"
   },
   {
    "duration": 4,
    "start_time": "2025-06-24T13:31:14.950Z"
   },
   {
    "duration": 138,
    "start_time": "2025-06-24T13:32:23.764Z"
   },
   {
    "duration": 9470,
    "start_time": "2025-06-24T13:32:30.950Z"
   },
   {
    "duration": 4,
    "start_time": "2025-06-24T13:46:23.438Z"
   },
   {
    "duration": 25469,
    "start_time": "2025-06-24T13:46:30.708Z"
   },
   {
    "duration": 3,
    "start_time": "2025-06-24T13:49:02.259Z"
   },
   {
    "duration": 8349,
    "start_time": "2025-06-24T13:50:07.995Z"
   },
   {
    "duration": 8314,
    "start_time": "2025-06-24T13:50:32.962Z"
   },
   {
    "duration": 4,
    "start_time": "2025-06-24T13:51:00.538Z"
   },
   {
    "duration": 294,
    "start_time": "2025-06-24T13:51:24.243Z"
   },
   {
    "duration": 3,
    "start_time": "2025-06-24T13:51:45.951Z"
   },
   {
    "duration": 52,
    "start_time": "2025-06-25T15:54:29.156Z"
   },
   {
    "duration": 15562,
    "start_time": "2025-06-25T15:54:42.456Z"
   },
   {
    "duration": 1281,
    "start_time": "2025-06-25T15:54:58.021Z"
   },
   {
    "duration": 231,
    "start_time": "2025-06-25T15:54:59.304Z"
   },
   {
    "duration": 1084,
    "start_time": "2025-06-25T15:54:59.536Z"
   },
   {
    "duration": 55,
    "start_time": "2025-06-25T15:55:00.624Z"
   },
   {
    "duration": 358,
    "start_time": "2025-06-25T15:55:00.681Z"
   },
   {
    "duration": 9,
    "start_time": "2025-06-25T15:55:01.041Z"
   },
   {
    "duration": 462,
    "start_time": "2025-06-25T15:55:01.056Z"
   },
   {
    "duration": 2323,
    "start_time": "2025-06-25T15:55:01.520Z"
   },
   {
    "duration": 44,
    "start_time": "2025-06-25T15:55:03.850Z"
   },
   {
    "duration": 19,
    "start_time": "2025-06-25T15:55:03.896Z"
   },
   {
    "duration": 87413,
    "start_time": "2025-06-25T15:55:03.916Z"
   },
   {
    "duration": 85,
    "start_time": "2025-06-25T15:56:31.332Z"
   },
   {
    "duration": 846,
    "start_time": "2025-06-25T15:56:31.420Z"
   },
   {
    "duration": 10,
    "start_time": "2025-06-25T15:56:32.268Z"
   },
   {
    "duration": 9,
    "start_time": "2025-06-25T15:56:32.280Z"
   },
   {
    "duration": 28,
    "start_time": "2025-06-25T15:56:32.291Z"
   },
   {
    "duration": 29,
    "start_time": "2025-06-25T15:56:32.321Z"
   },
   {
    "duration": 20,
    "start_time": "2025-06-25T15:56:56.532Z"
   },
   {
    "duration": 13,
    "start_time": "2025-06-25T15:57:04.438Z"
   },
   {
    "duration": 9,
    "start_time": "2025-06-25T15:57:10.128Z"
   },
   {
    "duration": 7,
    "start_time": "2025-06-25T15:57:11.860Z"
   },
   {
    "duration": 7,
    "start_time": "2025-06-25T15:57:13.970Z"
   },
   {
    "duration": 129,
    "start_time": "2025-06-25T15:57:32.958Z"
   },
   {
    "duration": 798,
    "start_time": "2025-06-25T15:57:42.081Z"
   },
   {
    "duration": 5,
    "start_time": "2025-06-25T15:58:31.891Z"
   },
   {
    "duration": 7,
    "start_time": "2025-06-25T15:58:39.949Z"
   },
   {
    "duration": 7,
    "start_time": "2025-06-25T15:58:45.159Z"
   },
   {
    "duration": 3,
    "start_time": "2025-06-25T15:59:56.788Z"
   },
   {
    "duration": 7,
    "start_time": "2025-06-25T16:00:21.916Z"
   },
   {
    "duration": 100,
    "start_time": "2025-06-25T16:00:30.797Z"
   },
   {
    "duration": 98,
    "start_time": "2025-06-25T16:00:52.405Z"
   },
   {
    "duration": 105,
    "start_time": "2025-06-25T16:01:00.680Z"
   },
   {
    "duration": 145,
    "start_time": "2025-06-25T16:01:04.719Z"
   },
   {
    "duration": 104,
    "start_time": "2025-06-25T16:01:09.805Z"
   },
   {
    "duration": 205,
    "start_time": "2025-06-25T16:01:25.360Z"
   },
   {
    "duration": 96,
    "start_time": "2025-06-25T16:01:30.591Z"
   },
   {
    "duration": 100,
    "start_time": "2025-06-25T16:01:34.288Z"
   },
   {
    "duration": 100,
    "start_time": "2025-06-25T16:01:45.661Z"
   },
   {
    "duration": 102,
    "start_time": "2025-06-25T16:02:18.106Z"
   },
   {
    "duration": 173,
    "start_time": "2025-06-25T16:04:58.434Z"
   },
   {
    "duration": 177,
    "start_time": "2025-06-25T16:05:09.319Z"
   },
   {
    "duration": 131,
    "start_time": "2025-06-25T16:05:21.487Z"
   },
   {
    "duration": 117,
    "start_time": "2025-06-25T16:05:26.968Z"
   },
   {
    "duration": 143,
    "start_time": "2025-06-25T16:05:30.714Z"
   },
   {
    "duration": 130,
    "start_time": "2025-06-25T16:05:46.885Z"
   },
   {
    "duration": 132,
    "start_time": "2025-06-25T16:05:49.659Z"
   },
   {
    "duration": 128,
    "start_time": "2025-06-25T16:06:04.456Z"
   },
   {
    "duration": 128,
    "start_time": "2025-06-25T16:06:11.952Z"
   },
   {
    "duration": 134,
    "start_time": "2025-06-25T16:07:29.376Z"
   },
   {
    "duration": 129,
    "start_time": "2025-06-25T16:07:34.466Z"
   },
   {
    "duration": 261,
    "start_time": "2025-06-25T16:07:39.876Z"
   },
   {
    "duration": 133,
    "start_time": "2025-06-25T16:07:44.233Z"
   },
   {
    "duration": 135,
    "start_time": "2025-06-25T16:07:48.381Z"
   },
   {
    "duration": 132,
    "start_time": "2025-06-25T16:08:32.655Z"
   },
   {
    "duration": 127,
    "start_time": "2025-06-25T16:09:26.395Z"
   },
   {
    "duration": 133,
    "start_time": "2025-06-25T16:09:30.052Z"
   },
   {
    "duration": 127,
    "start_time": "2025-06-25T16:09:34.402Z"
   },
   {
    "duration": 131,
    "start_time": "2025-06-25T16:09:38.293Z"
   },
   {
    "duration": 137,
    "start_time": "2025-06-25T16:09:48.539Z"
   },
   {
    "duration": 4,
    "start_time": "2025-06-25T16:42:33.424Z"
   },
   {
    "duration": 5,
    "start_time": "2025-06-25T16:44:46.840Z"
   },
   {
    "duration": 43,
    "start_time": "2025-06-25T16:45:53.548Z"
   },
   {
    "duration": 3,
    "start_time": "2025-06-25T16:46:31.252Z"
   },
   {
    "duration": 6,
    "start_time": "2025-06-25T16:46:43.194Z"
   },
   {
    "duration": 91,
    "start_time": "2025-06-25T16:46:44.985Z"
   },
   {
    "duration": 5,
    "start_time": "2025-06-25T16:48:09.040Z"
   },
   {
    "duration": 102,
    "start_time": "2025-06-25T16:48:11.296Z"
   },
   {
    "duration": 5,
    "start_time": "2025-06-25T16:49:20.437Z"
   },
   {
    "duration": 8,
    "start_time": "2025-06-25T16:49:26.862Z"
   },
   {
    "duration": 14,
    "start_time": "2025-06-26T14:06:16.584Z"
   },
   {
    "duration": 9,
    "start_time": "2025-06-26T14:06:27.098Z"
   },
   {
    "duration": 13613,
    "start_time": "2025-06-26T14:06:36.051Z"
   },
   {
    "duration": 1639,
    "start_time": "2025-06-26T14:06:49.666Z"
   },
   {
    "duration": 227,
    "start_time": "2025-06-26T14:06:51.310Z"
   },
   {
    "duration": 1003,
    "start_time": "2025-06-26T14:06:51.540Z"
   },
   {
    "duration": 36,
    "start_time": "2025-06-26T14:06:52.545Z"
   },
   {
    "duration": 281,
    "start_time": "2025-06-26T14:06:52.583Z"
   },
   {
    "duration": 4,
    "start_time": "2025-06-26T14:06:52.866Z"
   },
   {
    "duration": 438,
    "start_time": "2025-06-26T14:06:52.871Z"
   },
   {
    "duration": 2377,
    "start_time": "2025-06-26T14:06:53.311Z"
   },
   {
    "duration": 208,
    "start_time": "2025-06-26T14:06:55.690Z"
   },
   {
    "duration": 5,
    "start_time": "2025-06-26T14:06:55.900Z"
   },
   {
    "duration": 70723,
    "start_time": "2025-06-26T14:06:55.906Z"
   },
   {
    "duration": 86,
    "start_time": "2025-06-26T14:08:06.631Z"
   },
   {
    "duration": 792,
    "start_time": "2025-06-26T14:08:06.718Z"
   },
   {
    "duration": 4,
    "start_time": "2025-06-26T14:08:07.512Z"
   },
   {
    "duration": 16,
    "start_time": "2025-06-26T14:08:07.517Z"
   },
   {
    "duration": 181,
    "start_time": "2025-06-26T14:08:07.538Z"
   },
   {
    "duration": 5,
    "start_time": "2025-06-26T14:08:07.721Z"
   },
   {
    "duration": 112,
    "start_time": "2025-06-26T14:08:07.728Z"
   },
   {
    "duration": 5,
    "start_time": "2025-06-26T14:08:07.842Z"
   },
   {
    "duration": 18,
    "start_time": "2025-06-26T14:08:07.848Z"
   },
   {
    "duration": 8,
    "start_time": "2025-06-26T14:08:07.868Z"
   },
   {
    "duration": 2,
    "start_time": "2025-06-26T14:25:42.297Z"
   },
   {
    "duration": 3,
    "start_time": "2025-06-26T14:26:13.583Z"
   },
   {
    "duration": 9,
    "start_time": "2025-06-26T14:26:47.247Z"
   },
   {
    "duration": 881,
    "start_time": "2025-06-26T14:27:18.402Z"
   },
   {
    "duration": 5,
    "start_time": "2025-06-26T14:27:22.927Z"
   },
   {
    "duration": 4,
    "start_time": "2025-06-26T14:28:28.466Z"
   },
   {
    "duration": 13,
    "start_time": "2025-06-26T14:28:35.035Z"
   },
   {
    "duration": 10,
    "start_time": "2025-06-26T14:28:38.885Z"
   },
   {
    "duration": 4,
    "start_time": "2025-06-26T14:28:45.764Z"
   },
   {
    "duration": 4,
    "start_time": "2025-06-26T14:29:04.280Z"
   },
   {
    "duration": 380,
    "start_time": "2025-06-26T14:29:53.031Z"
   },
   {
    "duration": 370,
    "start_time": "2025-06-26T14:30:37.520Z"
   },
   {
    "duration": 337,
    "start_time": "2025-06-26T14:30:47.187Z"
   },
   {
    "duration": 450,
    "start_time": "2025-06-26T14:30:51.784Z"
   },
   {
    "duration": 11,
    "start_time": "2025-06-26T14:32:12.063Z"
   },
   {
    "duration": 11,
    "start_time": "2025-06-26T14:33:48.952Z"
   },
   {
    "duration": 76,
    "start_time": "2025-06-26T14:33:52.976Z"
   },
   {
    "duration": 7,
    "start_time": "2025-06-26T14:34:21.948Z"
   },
   {
    "duration": 12,
    "start_time": "2025-06-26T14:34:29.604Z"
   },
   {
    "duration": 61,
    "start_time": "2025-06-26T14:34:40.043Z"
   },
   {
    "duration": 12,
    "start_time": "2025-06-26T14:34:44.705Z"
   },
   {
    "duration": 57,
    "start_time": "2025-06-26T14:34:48.079Z"
   },
   {
    "duration": 3,
    "start_time": "2025-06-26T14:34:53.306Z"
   },
   {
    "duration": 5,
    "start_time": "2025-06-26T14:38:27.721Z"
   },
   {
    "duration": 12,
    "start_time": "2025-06-26T14:38:41.155Z"
   },
   {
    "duration": 12,
    "start_time": "2025-06-26T14:40:34.406Z"
   },
   {
    "duration": 13,
    "start_time": "2025-06-26T14:40:56.286Z"
   },
   {
    "duration": 16,
    "start_time": "2025-06-26T14:42:35.235Z"
   },
   {
    "duration": 4,
    "start_time": "2025-06-26T14:43:04.472Z"
   },
   {
    "duration": 402,
    "start_time": "2025-06-26T14:43:24.352Z"
   },
   {
    "duration": 362,
    "start_time": "2025-06-26T14:43:48.202Z"
   },
   {
    "duration": 137,
    "start_time": "2025-06-26T14:45:24.756Z"
   },
   {
    "duration": 130,
    "start_time": "2025-06-26T14:45:54.172Z"
   },
   {
    "duration": 144,
    "start_time": "2025-06-26T14:46:01.051Z"
   },
   {
    "duration": 129,
    "start_time": "2025-06-26T14:46:19.451Z"
   },
   {
    "duration": 123,
    "start_time": "2025-06-26T14:46:25.769Z"
   },
   {
    "duration": 4,
    "start_time": "2025-06-26T14:46:52.957Z"
   },
   {
    "duration": 5,
    "start_time": "2025-06-26T14:47:46.239Z"
   },
   {
    "duration": 8713,
    "start_time": "2025-06-26T14:49:51.055Z"
   },
   {
    "duration": 3042,
    "start_time": "2025-06-26T14:49:59.771Z"
   },
   {
    "duration": 143,
    "start_time": "2025-06-26T14:50:02.815Z"
   },
   {
    "duration": 1043,
    "start_time": "2025-06-26T14:50:02.959Z"
   },
   {
    "duration": 44,
    "start_time": "2025-06-26T14:50:04.004Z"
   },
   {
    "duration": 357,
    "start_time": "2025-06-26T14:50:04.053Z"
   },
   {
    "duration": 4,
    "start_time": "2025-06-26T14:50:04.411Z"
   },
   {
    "duration": 438,
    "start_time": "2025-06-26T14:50:04.416Z"
   },
   {
    "duration": 2157,
    "start_time": "2025-06-26T14:50:04.856Z"
   },
   {
    "duration": 15,
    "start_time": "2025-06-26T14:50:07.015Z"
   },
   {
    "duration": 19,
    "start_time": "2025-06-26T14:50:07.032Z"
   },
   {
    "duration": 75468,
    "start_time": "2025-06-26T14:50:07.053Z"
   },
   {
    "duration": 84,
    "start_time": "2025-06-26T14:51:22.523Z"
   },
   {
    "duration": 804,
    "start_time": "2025-06-26T14:51:22.610Z"
   },
   {
    "duration": 4,
    "start_time": "2025-06-26T14:51:23.415Z"
   },
   {
    "duration": 159,
    "start_time": "2025-06-26T14:51:23.420Z"
   },
   {
    "duration": 6,
    "start_time": "2025-06-26T14:51:23.581Z"
   },
   {
    "duration": 120,
    "start_time": "2025-06-26T14:51:23.588Z"
   },
   {
    "duration": 374,
    "start_time": "2025-06-26T14:51:23.710Z"
   },
   {
    "duration": 129,
    "start_time": "2025-06-26T14:51:24.086Z"
   },
   {
    "duration": 0,
    "start_time": "2025-06-26T14:51:24.217Z"
   },
   {
    "duration": 0,
    "start_time": "2025-06-26T14:51:24.218Z"
   },
   {
    "duration": 0,
    "start_time": "2025-06-26T14:51:24.219Z"
   },
   {
    "duration": 160,
    "start_time": "2025-06-26T15:22:38.499Z"
   },
   {
    "duration": 13,
    "start_time": "2025-06-26T15:22:44.552Z"
   },
   {
    "duration": 3,
    "start_time": "2025-06-26T15:22:50.520Z"
   },
   {
    "duration": 4,
    "start_time": "2025-06-26T15:22:52.381Z"
   },
   {
    "duration": 20,
    "start_time": "2025-06-26T15:23:02.632Z"
   },
   {
    "duration": 24,
    "start_time": "2025-06-26T15:23:15.876Z"
   },
   {
    "duration": 24,
    "start_time": "2025-06-26T15:23:22.455Z"
   },
   {
    "duration": 48,
    "start_time": "2025-06-26T15:24:10.267Z"
   },
   {
    "duration": 6,
    "start_time": "2025-06-26T15:24:52.596Z"
   },
   {
    "duration": 6,
    "start_time": "2025-06-26T15:24:59.966Z"
   },
   {
    "duration": 4,
    "start_time": "2025-06-26T15:25:23.152Z"
   },
   {
    "duration": 5,
    "start_time": "2025-06-26T15:25:33.507Z"
   },
   {
    "duration": 4824,
    "start_time": "2025-06-26T15:25:40.952Z"
   },
   {
    "duration": 5,
    "start_time": "2025-06-26T15:26:45.199Z"
   },
   {
    "duration": 3,
    "start_time": "2025-06-26T15:26:51.864Z"
   },
   {
    "duration": 7472,
    "start_time": "2025-06-26T15:31:20.135Z"
   },
   {
    "duration": 4,
    "start_time": "2025-06-26T15:31:38.351Z"
   },
   {
    "duration": 10,
    "start_time": "2025-06-26T15:31:43.597Z"
   },
   {
    "duration": 5,
    "start_time": "2025-06-26T15:31:46.221Z"
   },
   {
    "duration": 12,
    "start_time": "2025-06-26T15:38:40.653Z"
   },
   {
    "duration": 4,
    "start_time": "2025-06-26T15:39:05.636Z"
   },
   {
    "duration": 7,
    "start_time": "2025-06-26T15:39:07.644Z"
   },
   {
    "duration": 9,
    "start_time": "2025-06-26T15:41:36.100Z"
   },
   {
    "duration": 8716,
    "start_time": "2025-06-26T15:41:50.017Z"
   },
   {
    "duration": 2998,
    "start_time": "2025-06-26T15:41:58.735Z"
   },
   {
    "duration": 220,
    "start_time": "2025-06-26T15:42:01.734Z"
   },
   {
    "duration": 1045,
    "start_time": "2025-06-26T15:42:01.957Z"
   },
   {
    "duration": 52,
    "start_time": "2025-06-26T15:42:03.005Z"
   },
   {
    "duration": 294,
    "start_time": "2025-06-26T15:42:03.059Z"
   },
   {
    "duration": 4,
    "start_time": "2025-06-26T15:42:03.355Z"
   },
   {
    "duration": 474,
    "start_time": "2025-06-26T15:42:03.360Z"
   },
   {
    "duration": 2285,
    "start_time": "2025-06-26T15:42:03.836Z"
   },
   {
    "duration": 3,
    "start_time": "2025-06-26T15:42:06.123Z"
   },
   {
    "duration": 103,
    "start_time": "2025-06-26T15:42:06.139Z"
   },
   {
    "duration": 79282,
    "start_time": "2025-06-26T15:42:06.246Z"
   },
   {
    "duration": 90,
    "start_time": "2025-06-26T15:43:25.529Z"
   },
   {
    "duration": 830,
    "start_time": "2025-06-26T15:43:25.621Z"
   },
   {
    "duration": 5,
    "start_time": "2025-06-26T15:43:26.453Z"
   },
   {
    "duration": 164,
    "start_time": "2025-06-26T15:43:26.460Z"
   },
   {
    "duration": 6,
    "start_time": "2025-06-26T15:43:26.626Z"
   },
   {
    "duration": 138,
    "start_time": "2025-06-26T15:43:26.634Z"
   },
   {
    "duration": 477,
    "start_time": "2025-06-26T15:43:26.774Z"
   },
   {
    "duration": 5,
    "start_time": "2025-06-26T15:43:27.253Z"
   },
   {
    "duration": 6,
    "start_time": "2025-06-26T15:43:27.260Z"
   },
   {
    "duration": 4,
    "start_time": "2025-06-26T15:43:27.268Z"
   },
   {
    "duration": 4,
    "start_time": "2025-06-26T15:43:27.273Z"
   },
   {
    "duration": 6,
    "start_time": "2025-06-26T15:43:27.278Z"
   },
   {
    "duration": 7,
    "start_time": "2025-06-26T15:43:27.285Z"
   },
   {
    "duration": 10,
    "start_time": "2025-06-26T15:43:27.294Z"
   },
   {
    "duration": 4,
    "start_time": "2025-06-26T15:44:01.978Z"
   },
   {
    "duration": 8996,
    "start_time": "2025-06-26T15:47:23.008Z"
   },
   {
    "duration": 2908,
    "start_time": "2025-06-26T15:47:32.007Z"
   },
   {
    "duration": 145,
    "start_time": "2025-06-26T15:47:34.916Z"
   },
   {
    "duration": 1060,
    "start_time": "2025-06-26T15:47:35.064Z"
   },
   {
    "duration": 47,
    "start_time": "2025-06-26T15:47:36.126Z"
   },
   {
    "duration": 363,
    "start_time": "2025-06-26T15:47:36.175Z"
   },
   {
    "duration": 7,
    "start_time": "2025-06-26T15:47:36.540Z"
   },
   {
    "duration": 447,
    "start_time": "2025-06-26T15:47:36.549Z"
   },
   {
    "duration": 2358,
    "start_time": "2025-06-26T15:47:36.998Z"
   },
   {
    "duration": 5,
    "start_time": "2025-06-26T15:47:39.358Z"
   },
   {
    "duration": 12,
    "start_time": "2025-06-26T15:47:39.365Z"
   },
   {
    "duration": 83026,
    "start_time": "2025-06-26T15:47:39.378Z"
   },
   {
    "duration": 90,
    "start_time": "2025-06-26T15:49:02.406Z"
   },
   {
    "duration": 894,
    "start_time": "2025-06-26T15:49:02.497Z"
   },
   {
    "duration": 4,
    "start_time": "2025-06-26T15:49:03.393Z"
   },
   {
    "duration": 193,
    "start_time": "2025-06-26T15:49:03.399Z"
   },
   {
    "duration": 6,
    "start_time": "2025-06-26T15:49:03.594Z"
   },
   {
    "duration": 134,
    "start_time": "2025-06-26T15:49:03.602Z"
   },
   {
    "duration": 414,
    "start_time": "2025-06-26T15:49:03.739Z"
   },
   {
    "duration": 4,
    "start_time": "2025-06-26T15:49:04.164Z"
   },
   {
    "duration": 96,
    "start_time": "2025-06-26T15:49:04.171Z"
   },
   {
    "duration": 8646,
    "start_time": "2025-06-26T15:52:30.147Z"
   },
   {
    "duration": 2480,
    "start_time": "2025-06-26T15:52:38.795Z"
   },
   {
    "duration": 225,
    "start_time": "2025-06-26T15:52:41.276Z"
   },
   {
    "duration": 1023,
    "start_time": "2025-06-26T15:52:41.503Z"
   },
   {
    "duration": 41,
    "start_time": "2025-06-26T15:52:42.528Z"
   },
   {
    "duration": 292,
    "start_time": "2025-06-26T15:52:42.571Z"
   },
   {
    "duration": 4,
    "start_time": "2025-06-26T15:52:42.865Z"
   },
   {
    "duration": 427,
    "start_time": "2025-06-26T15:52:42.870Z"
   },
   {
    "duration": 2275,
    "start_time": "2025-06-26T15:52:43.299Z"
   },
   {
    "duration": 7,
    "start_time": "2025-06-26T15:52:45.576Z"
   },
   {
    "duration": 7,
    "start_time": "2025-06-26T15:52:45.585Z"
   },
   {
    "duration": 74877,
    "start_time": "2025-06-26T15:52:45.594Z"
   },
   {
    "duration": 79,
    "start_time": "2025-06-26T15:54:00.473Z"
   },
   {
    "duration": 822,
    "start_time": "2025-06-26T15:54:00.554Z"
   },
   {
    "duration": 4,
    "start_time": "2025-06-26T15:54:01.378Z"
   },
   {
    "duration": 152,
    "start_time": "2025-06-26T15:54:01.384Z"
   },
   {
    "duration": 9,
    "start_time": "2025-06-26T15:54:01.543Z"
   },
   {
    "duration": 149,
    "start_time": "2025-06-26T15:54:01.554Z"
   },
   {
    "duration": 367,
    "start_time": "2025-06-26T15:54:01.705Z"
   },
   {
    "duration": 4,
    "start_time": "2025-06-26T15:54:02.074Z"
   },
   {
    "duration": 40,
    "start_time": "2025-06-26T15:54:02.079Z"
   },
   {
    "duration": 55,
    "start_time": "2025-06-26T16:31:52.501Z"
   },
   {
    "duration": 8884,
    "start_time": "2025-06-26T16:32:07.177Z"
   },
   {
    "duration": 2388,
    "start_time": "2025-06-26T16:32:16.064Z"
   },
   {
    "duration": 131,
    "start_time": "2025-06-26T16:32:18.454Z"
   },
   {
    "duration": 1009,
    "start_time": "2025-06-26T16:32:18.587Z"
   },
   {
    "duration": 47,
    "start_time": "2025-06-26T16:32:19.598Z"
   },
   {
    "duration": 274,
    "start_time": "2025-06-26T16:32:19.649Z"
   },
   {
    "duration": 4,
    "start_time": "2025-06-26T16:32:19.926Z"
   },
   {
    "duration": 457,
    "start_time": "2025-06-26T16:32:19.941Z"
   },
   {
    "duration": 2182,
    "start_time": "2025-06-26T16:32:20.399Z"
   },
   {
    "duration": 25,
    "start_time": "2025-06-26T16:32:22.583Z"
   },
   {
    "duration": 21,
    "start_time": "2025-06-26T16:32:22.610Z"
   },
   {
    "duration": 82091,
    "start_time": "2025-06-26T16:32:22.633Z"
   },
   {
    "duration": 83,
    "start_time": "2025-06-26T16:33:44.725Z"
   },
   {
    "duration": 843,
    "start_time": "2025-06-26T16:33:44.812Z"
   },
   {
    "duration": 5,
    "start_time": "2025-06-26T16:33:45.657Z"
   },
   {
    "duration": 188,
    "start_time": "2025-06-26T16:33:45.664Z"
   },
   {
    "duration": 7,
    "start_time": "2025-06-26T16:33:45.854Z"
   },
   {
    "duration": 156,
    "start_time": "2025-06-26T16:33:45.863Z"
   },
   {
    "duration": 479,
    "start_time": "2025-06-26T16:33:46.021Z"
   },
   {
    "duration": 4,
    "start_time": "2025-06-26T16:33:46.502Z"
   },
   {
    "duration": 10,
    "start_time": "2025-06-26T16:33:46.507Z"
   },
   {
    "duration": 10,
    "start_time": "2025-06-26T16:34:03.292Z"
   },
   {
    "duration": 21,
    "start_time": "2025-06-26T16:34:20.205Z"
   },
   {
    "duration": 55,
    "start_time": "2025-06-26T16:34:43.892Z"
   },
   {
    "duration": 19330,
    "start_time": "2025-06-29T14:55:30.500Z"
   },
   {
    "duration": 1951,
    "start_time": "2025-06-29T14:56:44.591Z"
   },
   {
    "duration": 3,
    "start_time": "2025-06-29T14:59:56.014Z"
   },
   {
    "duration": 11139,
    "start_time": "2025-06-29T15:00:09.460Z"
   },
   {
    "duration": 1535,
    "start_time": "2025-06-29T15:00:20.602Z"
   },
   {
    "duration": 506,
    "start_time": "2025-06-29T15:00:22.139Z"
   },
   {
    "duration": 938,
    "start_time": "2025-06-29T15:00:22.647Z"
   },
   {
    "duration": 35,
    "start_time": "2025-06-29T15:00:23.587Z"
   },
   {
    "duration": 285,
    "start_time": "2025-06-29T15:00:23.623Z"
   },
   {
    "duration": 4,
    "start_time": "2025-06-29T15:00:23.910Z"
   },
   {
    "duration": 481,
    "start_time": "2025-06-29T15:00:23.916Z"
   },
   {
    "duration": 2314,
    "start_time": "2025-06-29T15:00:24.399Z"
   },
   {
    "duration": 33,
    "start_time": "2025-06-29T15:00:26.715Z"
   },
   {
    "duration": 5,
    "start_time": "2025-06-29T15:00:26.750Z"
   },
   {
    "duration": 74458,
    "start_time": "2025-06-29T15:00:26.757Z"
   },
   {
    "duration": 90,
    "start_time": "2025-06-29T15:01:41.217Z"
   },
   {
    "duration": 822,
    "start_time": "2025-06-29T15:01:41.310Z"
   },
   {
    "duration": 5,
    "start_time": "2025-06-29T15:01:42.133Z"
   },
   {
    "duration": 170,
    "start_time": "2025-06-29T15:01:42.140Z"
   },
   {
    "duration": 3,
    "start_time": "2025-06-29T15:03:04.074Z"
   },
   {
    "duration": 6,
    "start_time": "2025-06-29T15:04:38.431Z"
   },
   {
    "duration": 193,
    "start_time": "2025-06-29T15:04:46.985Z"
   },
   {
    "duration": 67,
    "start_time": "2025-06-29T15:06:26.535Z"
   },
   {
    "duration": 6,
    "start_time": "2025-06-29T15:07:01.163Z"
   },
   {
    "duration": 61,
    "start_time": "2025-06-29T15:07:03.382Z"
   },
   {
    "duration": 465,
    "start_time": "2025-06-29T15:07:18.665Z"
   },
   {
    "duration": 4,
    "start_time": "2025-06-29T15:08:01.526Z"
   },
   {
    "duration": 3,
    "start_time": "2025-06-29T15:09:24.642Z"
   },
   {
    "duration": 9,
    "start_time": "2025-06-29T15:09:56.158Z"
   },
   {
    "duration": 13,
    "start_time": "2025-06-29T15:10:00.985Z"
   },
   {
    "duration": 4,
    "start_time": "2025-06-29T15:10:28.387Z"
   },
   {
    "duration": 48,
    "start_time": "2025-06-29T15:18:39.795Z"
   },
   {
    "duration": 13,
    "start_time": "2025-06-30T14:35:35.728Z"
   },
   {
    "duration": 17786,
    "start_time": "2025-06-30T14:42:03.794Z"
   },
   {
    "duration": 1548,
    "start_time": "2025-06-30T14:42:21.582Z"
   },
   {
    "duration": 435,
    "start_time": "2025-06-30T14:42:23.132Z"
   },
   {
    "duration": 817,
    "start_time": "2025-06-30T14:42:23.568Z"
   },
   {
    "duration": 29,
    "start_time": "2025-06-30T14:42:24.387Z"
   },
   {
    "duration": 252,
    "start_time": "2025-06-30T14:42:24.418Z"
   },
   {
    "duration": 4,
    "start_time": "2025-06-30T14:42:24.671Z"
   },
   {
    "duration": 371,
    "start_time": "2025-06-30T14:42:24.676Z"
   },
   {
    "duration": 2883,
    "start_time": "2025-06-30T14:42:25.048Z"
   },
   {
    "duration": 32,
    "start_time": "2025-06-30T14:42:27.933Z"
   },
   {
    "duration": 29,
    "start_time": "2025-06-30T14:42:27.966Z"
   },
   {
    "duration": 63628,
    "start_time": "2025-06-30T14:42:27.996Z"
   },
   {
    "duration": 81,
    "start_time": "2025-06-30T14:43:31.625Z"
   },
   {
    "duration": 716,
    "start_time": "2025-06-30T14:43:31.708Z"
   },
   {
    "duration": 4,
    "start_time": "2025-06-30T14:43:32.425Z"
   },
   {
    "duration": 145,
    "start_time": "2025-06-30T14:43:32.430Z"
   },
   {
    "duration": 2,
    "start_time": "2025-06-30T14:43:32.577Z"
   },
   {
    "duration": 98,
    "start_time": "2025-06-30T14:43:32.581Z"
   },
   {
    "duration": 72,
    "start_time": "2025-06-30T14:43:32.680Z"
   },
   {
    "duration": 333,
    "start_time": "2025-06-30T14:43:32.753Z"
   },
   {
    "duration": 4,
    "start_time": "2025-06-30T14:43:33.088Z"
   },
   {
    "duration": 11,
    "start_time": "2025-06-30T14:43:33.093Z"
   },
   {
    "duration": 190,
    "start_time": "2025-06-30T14:43:33.106Z"
   },
   {
    "duration": 0,
    "start_time": "2025-06-30T14:43:33.298Z"
   },
   {
    "duration": 10434,
    "start_time": "2025-06-30T14:44:53.845Z"
   },
   {
    "duration": 3270,
    "start_time": "2025-06-30T14:45:04.281Z"
   },
   {
    "duration": 395,
    "start_time": "2025-06-30T14:45:07.552Z"
   },
   {
    "duration": 826,
    "start_time": "2025-06-30T14:45:07.950Z"
   },
   {
    "duration": 29,
    "start_time": "2025-06-30T14:45:08.778Z"
   },
   {
    "duration": 289,
    "start_time": "2025-06-30T14:45:08.809Z"
   },
   {
    "duration": 4,
    "start_time": "2025-06-30T14:45:09.100Z"
   },
   {
    "duration": 451,
    "start_time": "2025-06-30T14:45:09.105Z"
   },
   {
    "duration": 2050,
    "start_time": "2025-06-30T14:45:09.557Z"
   },
   {
    "duration": 9,
    "start_time": "2025-06-30T14:45:11.610Z"
   },
   {
    "duration": 5,
    "start_time": "2025-06-30T14:45:11.621Z"
   },
   {
    "duration": 64288,
    "start_time": "2025-06-30T14:45:11.627Z"
   },
   {
    "duration": 77,
    "start_time": "2025-06-30T14:46:15.917Z"
   },
   {
    "duration": 724,
    "start_time": "2025-06-30T14:46:15.995Z"
   },
   {
    "duration": 4,
    "start_time": "2025-06-30T14:46:16.721Z"
   },
   {
    "duration": 136,
    "start_time": "2025-06-30T14:46:16.726Z"
   },
   {
    "duration": 3,
    "start_time": "2025-06-30T14:46:16.863Z"
   },
   {
    "duration": 6,
    "start_time": "2025-06-30T14:46:16.867Z"
   },
   {
    "duration": 54,
    "start_time": "2025-06-30T14:46:16.874Z"
   },
   {
    "duration": 438,
    "start_time": "2025-06-30T14:46:16.930Z"
   },
   {
    "duration": 3,
    "start_time": "2025-06-30T14:46:17.370Z"
   },
   {
    "duration": 4,
    "start_time": "2025-06-30T14:46:54.658Z"
   },
   {
    "duration": 10,
    "start_time": "2025-06-30T14:47:06.721Z"
   },
   {
    "duration": 9,
    "start_time": "2025-06-30T14:48:12.213Z"
   },
   {
    "duration": 5,
    "start_time": "2025-06-30T14:48:21.803Z"
   },
   {
    "duration": 10588,
    "start_time": "2025-06-30T14:50:17.747Z"
   },
   {
    "duration": 3118,
    "start_time": "2025-06-30T14:50:28.338Z"
   },
   {
    "duration": 1629,
    "start_time": "2025-06-30T14:50:31.458Z"
   },
   {
    "duration": 843,
    "start_time": "2025-06-30T14:50:33.089Z"
   },
   {
    "duration": 36,
    "start_time": "2025-06-30T14:50:33.933Z"
   },
   {
    "duration": 278,
    "start_time": "2025-06-30T14:50:33.971Z"
   },
   {
    "duration": 13,
    "start_time": "2025-06-30T14:50:34.251Z"
   },
   {
    "duration": 425,
    "start_time": "2025-06-30T14:50:34.265Z"
   },
   {
    "duration": 2132,
    "start_time": "2025-06-30T14:50:34.692Z"
   },
   {
    "duration": 77,
    "start_time": "2025-06-30T14:50:36.826Z"
   },
   {
    "duration": 19,
    "start_time": "2025-06-30T14:50:36.905Z"
   },
   {
    "duration": 64219,
    "start_time": "2025-06-30T14:50:36.925Z"
   },
   {
    "duration": 82,
    "start_time": "2025-06-30T14:51:41.146Z"
   },
   {
    "duration": 705,
    "start_time": "2025-06-30T14:51:41.229Z"
   },
   {
    "duration": 4,
    "start_time": "2025-06-30T14:51:41.936Z"
   },
   {
    "duration": 154,
    "start_time": "2025-06-30T14:51:41.941Z"
   },
   {
    "duration": 2,
    "start_time": "2025-06-30T14:51:42.097Z"
   },
   {
    "duration": 11,
    "start_time": "2025-06-30T14:51:42.101Z"
   },
   {
    "duration": 62,
    "start_time": "2025-06-30T14:51:42.113Z"
   },
   {
    "duration": 407,
    "start_time": "2025-06-30T14:51:42.177Z"
   },
   {
    "duration": 4,
    "start_time": "2025-06-30T14:51:42.585Z"
   },
   {
    "duration": 12,
    "start_time": "2025-06-30T14:51:42.590Z"
   },
   {
    "duration": 4,
    "start_time": "2025-06-30T14:51:42.603Z"
   },
   {
    "duration": 10993,
    "start_time": "2025-06-30T14:53:44.806Z"
   },
   {
    "duration": 2649,
    "start_time": "2025-06-30T14:53:55.802Z"
   },
   {
    "duration": 644,
    "start_time": "2025-06-30T14:53:58.453Z"
   },
   {
    "duration": 878,
    "start_time": "2025-06-30T14:53:59.099Z"
   },
   {
    "duration": 34,
    "start_time": "2025-06-30T14:53:59.979Z"
   },
   {
    "duration": 308,
    "start_time": "2025-06-30T14:54:00.015Z"
   },
   {
    "duration": 3,
    "start_time": "2025-06-30T14:54:00.325Z"
   },
   {
    "duration": 403,
    "start_time": "2025-06-30T14:54:00.330Z"
   },
   {
    "duration": 2065,
    "start_time": "2025-06-30T14:54:00.735Z"
   },
   {
    "duration": 10,
    "start_time": "2025-06-30T14:54:02.803Z"
   },
   {
    "duration": 54,
    "start_time": "2025-06-30T14:54:02.815Z"
   },
   {
    "duration": 65896,
    "start_time": "2025-06-30T14:54:02.871Z"
   },
   {
    "duration": 76,
    "start_time": "2025-06-30T14:55:08.769Z"
   },
   {
    "duration": 762,
    "start_time": "2025-06-30T14:55:08.847Z"
   },
   {
    "duration": 4,
    "start_time": "2025-06-30T14:55:09.610Z"
   },
   {
    "duration": 141,
    "start_time": "2025-06-30T14:55:09.615Z"
   },
   {
    "duration": 4,
    "start_time": "2025-06-30T14:55:09.758Z"
   },
   {
    "duration": 47,
    "start_time": "2025-06-30T14:55:09.764Z"
   },
   {
    "duration": 65,
    "start_time": "2025-06-30T14:55:09.814Z"
   },
   {
    "duration": 465,
    "start_time": "2025-06-30T14:55:09.881Z"
   },
   {
    "duration": 4,
    "start_time": "2025-06-30T14:55:10.348Z"
   },
   {
    "duration": 12,
    "start_time": "2025-06-30T14:55:10.353Z"
   },
   {
    "duration": 939,
    "start_time": "2025-06-30T14:55:10.367Z"
   },
   {
    "duration": 0,
    "start_time": "2025-06-30T14:55:11.308Z"
   },
   {
    "duration": 4,
    "start_time": "2025-06-30T14:56:01.900Z"
   },
   {
    "duration": 8,
    "start_time": "2025-06-30T14:56:07.460Z"
   },
   {
    "duration": 4,
    "start_time": "2025-06-30T14:56:28.540Z"
   },
   {
    "duration": 11,
    "start_time": "2025-06-30T14:56:46.411Z"
   },
   {
    "duration": 4,
    "start_time": "2025-06-30T14:56:49.030Z"
   },
   {
    "duration": 23,
    "start_time": "2025-06-30T14:56:50.923Z"
   },
   {
    "duration": 4,
    "start_time": "2025-06-30T14:58:06.893Z"
   },
   {
    "duration": 19,
    "start_time": "2025-06-30T14:58:08.438Z"
   },
   {
    "duration": 10,
    "start_time": "2025-06-30T14:59:58.852Z"
   },
   {
    "duration": 10,
    "start_time": "2025-06-30T15:00:14.860Z"
   },
   {
    "duration": 11,
    "start_time": "2025-06-30T15:00:33.278Z"
   },
   {
    "duration": 11530,
    "start_time": "2025-06-30T15:03:39.114Z"
   },
   {
    "duration": 2861,
    "start_time": "2025-06-30T15:03:50.646Z"
   },
   {
    "duration": 238,
    "start_time": "2025-06-30T15:03:53.509Z"
   },
   {
    "duration": 905,
    "start_time": "2025-06-30T15:03:53.749Z"
   },
   {
    "duration": 38,
    "start_time": "2025-06-30T15:03:54.655Z"
   },
   {
    "duration": 273,
    "start_time": "2025-06-30T15:03:54.694Z"
   },
   {
    "duration": 4,
    "start_time": "2025-06-30T15:03:54.969Z"
   },
   {
    "duration": 411,
    "start_time": "2025-06-30T15:03:54.975Z"
   },
   {
    "duration": 2125,
    "start_time": "2025-06-30T15:03:55.388Z"
   },
   {
    "duration": 53,
    "start_time": "2025-06-30T15:03:57.515Z"
   },
   {
    "duration": 16,
    "start_time": "2025-06-30T15:03:57.569Z"
   },
   {
    "duration": 66462,
    "start_time": "2025-06-30T15:03:57.587Z"
   },
   {
    "duration": 82,
    "start_time": "2025-06-30T15:05:04.052Z"
   },
   {
    "duration": 745,
    "start_time": "2025-06-30T15:05:04.136Z"
   },
   {
    "duration": 4,
    "start_time": "2025-06-30T15:05:04.882Z"
   },
   {
    "duration": 208,
    "start_time": "2025-06-30T15:05:04.888Z"
   },
   {
    "duration": 3,
    "start_time": "2025-06-30T15:05:05.098Z"
   },
   {
    "duration": 102,
    "start_time": "2025-06-30T15:05:05.103Z"
   },
   {
    "duration": 150,
    "start_time": "2025-06-30T15:05:05.207Z"
   },
   {
    "duration": 357,
    "start_time": "2025-06-30T15:05:05.359Z"
   },
   {
    "duration": 5,
    "start_time": "2025-06-30T15:05:05.718Z"
   },
   {
    "duration": 12,
    "start_time": "2025-06-30T15:05:05.724Z"
   },
   {
    "duration": 135,
    "start_time": "2025-06-30T15:05:05.737Z"
   },
   {
    "duration": 0,
    "start_time": "2025-06-30T15:05:05.874Z"
   },
   {
    "duration": 0,
    "start_time": "2025-06-30T15:05:05.875Z"
   },
   {
    "duration": 3,
    "start_time": "2025-06-30T15:05:34.997Z"
   },
   {
    "duration": 758,
    "start_time": "2025-06-30T15:05:38.878Z"
   },
   {
    "duration": 3,
    "start_time": "2025-06-30T15:05:52.083Z"
   },
   {
    "duration": 19423,
    "start_time": "2025-06-30T15:07:54.128Z"
   },
   {
    "duration": 17,
    "start_time": "2025-06-30T15:08:27.488Z"
   },
   {
    "duration": 7051,
    "start_time": "2025-06-30T15:08:45.062Z"
   },
   {
    "duration": 18,
    "start_time": "2025-06-30T15:08:59.921Z"
   },
   {
    "duration": 9,
    "start_time": "2025-06-30T15:09:09.529Z"
   },
   {
    "duration": 12570,
    "start_time": "2025-06-30T15:12:15.438Z"
   },
   {
    "duration": 834,
    "start_time": "2025-06-30T15:12:28.011Z"
   },
   {
    "duration": 0,
    "start_time": "2025-06-30T15:12:28.850Z"
   },
   {
    "duration": 0,
    "start_time": "2025-06-30T15:12:28.852Z"
   },
   {
    "duration": 0,
    "start_time": "2025-06-30T15:12:28.853Z"
   },
   {
    "duration": 0,
    "start_time": "2025-06-30T15:12:28.854Z"
   },
   {
    "duration": 0,
    "start_time": "2025-06-30T15:12:28.855Z"
   },
   {
    "duration": 0,
    "start_time": "2025-06-30T15:12:28.856Z"
   },
   {
    "duration": 0,
    "start_time": "2025-06-30T15:12:28.857Z"
   },
   {
    "duration": 0,
    "start_time": "2025-06-30T15:12:28.858Z"
   },
   {
    "duration": 0,
    "start_time": "2025-06-30T15:12:28.859Z"
   },
   {
    "duration": 0,
    "start_time": "2025-06-30T15:12:28.860Z"
   },
   {
    "duration": 0,
    "start_time": "2025-06-30T15:12:28.862Z"
   },
   {
    "duration": 0,
    "start_time": "2025-06-30T15:12:28.863Z"
   },
   {
    "duration": 0,
    "start_time": "2025-06-30T15:12:28.864Z"
   },
   {
    "duration": 0,
    "start_time": "2025-06-30T15:12:28.865Z"
   },
   {
    "duration": 0,
    "start_time": "2025-06-30T15:12:28.865Z"
   },
   {
    "duration": 0,
    "start_time": "2025-06-30T15:12:28.866Z"
   },
   {
    "duration": 0,
    "start_time": "2025-06-30T15:12:28.867Z"
   },
   {
    "duration": 0,
    "start_time": "2025-06-30T15:12:28.868Z"
   },
   {
    "duration": 0,
    "start_time": "2025-06-30T15:12:28.869Z"
   },
   {
    "duration": 0,
    "start_time": "2025-06-30T15:12:28.870Z"
   },
   {
    "duration": 0,
    "start_time": "2025-06-30T15:12:28.871Z"
   },
   {
    "duration": 378,
    "start_time": "2025-06-30T15:15:28.123Z"
   },
   {
    "duration": 393,
    "start_time": "2025-06-30T15:15:32.962Z"
   },
   {
    "duration": 16050,
    "start_time": "2025-06-30T15:16:18.330Z"
   },
   {
    "duration": 409,
    "start_time": "2025-06-30T15:16:44.212Z"
   },
   {
    "duration": 23690,
    "start_time": "2025-06-30T15:18:17.141Z"
   },
   {
    "duration": 19703,
    "start_time": "2025-06-30T15:19:20.085Z"
   },
   {
    "duration": 13798,
    "start_time": "2025-06-30T15:19:58.948Z"
   },
   {
    "duration": 506,
    "start_time": "2025-06-30T15:20:20.245Z"
   },
   {
    "duration": 13469,
    "start_time": "2025-06-30T15:20:27.897Z"
   },
   {
    "duration": 5317,
    "start_time": "2025-06-30T15:20:41.368Z"
   },
   {
    "duration": 240,
    "start_time": "2025-06-30T15:20:46.687Z"
   },
   {
    "duration": 853,
    "start_time": "2025-06-30T15:20:46.928Z"
   },
   {
    "duration": 30,
    "start_time": "2025-06-30T15:20:47.783Z"
   },
   {
    "duration": 270,
    "start_time": "2025-06-30T15:20:47.815Z"
   },
   {
    "duration": 3,
    "start_time": "2025-06-30T15:20:48.087Z"
   },
   {
    "duration": 390,
    "start_time": "2025-06-30T15:20:48.092Z"
   },
   {
    "duration": 2082,
    "start_time": "2025-06-30T15:20:48.483Z"
   },
   {
    "duration": 5,
    "start_time": "2025-06-30T15:20:50.566Z"
   },
   {
    "duration": 3,
    "start_time": "2025-06-30T15:20:50.573Z"
   },
   {
    "duration": 12795,
    "start_time": "2025-06-30T15:20:50.578Z"
   },
   {
    "duration": 0,
    "start_time": "2025-06-30T15:21:03.375Z"
   },
   {
    "duration": 0,
    "start_time": "2025-06-30T15:21:03.377Z"
   },
   {
    "duration": 0,
    "start_time": "2025-06-30T15:21:03.378Z"
   },
   {
    "duration": 0,
    "start_time": "2025-06-30T15:21:03.379Z"
   },
   {
    "duration": 0,
    "start_time": "2025-06-30T15:21:03.380Z"
   },
   {
    "duration": 0,
    "start_time": "2025-06-30T15:21:03.381Z"
   },
   {
    "duration": 0,
    "start_time": "2025-06-30T15:21:03.383Z"
   },
   {
    "duration": 0,
    "start_time": "2025-06-30T15:21:03.384Z"
   },
   {
    "duration": 0,
    "start_time": "2025-06-30T15:21:03.385Z"
   },
   {
    "duration": 0,
    "start_time": "2025-06-30T15:21:03.386Z"
   },
   {
    "duration": 0,
    "start_time": "2025-06-30T15:21:03.387Z"
   },
   {
    "duration": 10983,
    "start_time": "2025-06-30T15:21:11.532Z"
   },
   {
    "duration": 1568,
    "start_time": "2025-06-30T15:21:22.517Z"
   },
   {
    "duration": 229,
    "start_time": "2025-06-30T15:21:24.087Z"
   },
   {
    "duration": 824,
    "start_time": "2025-06-30T15:21:24.318Z"
   },
   {
    "duration": 34,
    "start_time": "2025-06-30T15:21:25.144Z"
   },
   {
    "duration": 243,
    "start_time": "2025-06-30T15:21:25.179Z"
   },
   {
    "duration": 4,
    "start_time": "2025-06-30T15:21:25.425Z"
   },
   {
    "duration": 402,
    "start_time": "2025-06-30T15:21:25.431Z"
   },
   {
    "duration": 2097,
    "start_time": "2025-06-30T15:21:25.834Z"
   },
   {
    "duration": 5,
    "start_time": "2025-06-30T15:21:27.933Z"
   },
   {
    "duration": 5,
    "start_time": "2025-06-30T15:21:27.940Z"
   },
   {
    "duration": 69947,
    "start_time": "2025-06-30T15:21:27.947Z"
   },
   {
    "duration": 91,
    "start_time": "2025-06-30T15:22:37.896Z"
   },
   {
    "duration": 715,
    "start_time": "2025-06-30T15:22:37.990Z"
   },
   {
    "duration": 3,
    "start_time": "2025-06-30T15:22:38.707Z"
   },
   {
    "duration": 146,
    "start_time": "2025-06-30T15:22:38.712Z"
   },
   {
    "duration": 2,
    "start_time": "2025-06-30T15:22:38.860Z"
   },
   {
    "duration": 8,
    "start_time": "2025-06-30T15:22:38.863Z"
   },
   {
    "duration": 87,
    "start_time": "2025-06-30T15:22:38.872Z"
   },
   {
    "duration": 382,
    "start_time": "2025-06-30T15:22:38.960Z"
   },
   {
    "duration": 4,
    "start_time": "2025-06-30T15:22:39.343Z"
   },
   {
    "duration": 18,
    "start_time": "2025-06-30T15:22:39.348Z"
   },
   {
    "duration": 800,
    "start_time": "2025-06-30T15:22:39.368Z"
   },
   {
    "duration": 4,
    "start_time": "2025-06-30T15:25:58.426Z"
   },
   {
    "duration": 3,
    "start_time": "2025-06-30T15:29:02.592Z"
   },
   {
    "duration": 794,
    "start_time": "2025-06-30T15:29:10.788Z"
   },
   {
    "duration": 9,
    "start_time": "2025-06-30T15:31:45.334Z"
   },
   {
    "duration": 4,
    "start_time": "2025-06-30T15:31:50.700Z"
   },
   {
    "duration": 13,
    "start_time": "2025-06-30T15:33:57.912Z"
   },
   {
    "duration": 4,
    "start_time": "2025-06-30T15:34:01.912Z"
   },
   {
    "duration": 1384,
    "start_time": "2025-06-30T15:35:07.712Z"
   },
   {
    "duration": 4,
    "start_time": "2025-06-30T15:36:43.142Z"
   },
   {
    "duration": 4,
    "start_time": "2025-06-30T15:43:52.073Z"
   },
   {
    "duration": 62,
    "start_time": "2025-06-30T15:49:29.530Z"
   },
   {
    "duration": 12170,
    "start_time": "2025-06-30T15:49:37.747Z"
   },
   {
    "duration": 6020,
    "start_time": "2025-06-30T15:49:49.920Z"
   },
   {
    "duration": 259,
    "start_time": "2025-06-30T15:49:55.941Z"
   },
   {
    "duration": 941,
    "start_time": "2025-06-30T15:49:56.201Z"
   },
   {
    "duration": 43,
    "start_time": "2025-06-30T15:49:57.144Z"
   },
   {
    "duration": 306,
    "start_time": "2025-06-30T15:49:57.189Z"
   },
   {
    "duration": 4,
    "start_time": "2025-06-30T15:49:57.497Z"
   },
   {
    "duration": 430,
    "start_time": "2025-06-30T15:49:57.503Z"
   },
   {
    "duration": 2632,
    "start_time": "2025-06-30T15:49:57.935Z"
   },
   {
    "duration": 5,
    "start_time": "2025-06-30T15:50:00.573Z"
   },
   {
    "duration": 28,
    "start_time": "2025-06-30T15:50:00.579Z"
   },
   {
    "duration": 78858,
    "start_time": "2025-06-30T15:50:00.609Z"
   },
   {
    "duration": 77,
    "start_time": "2025-06-30T15:51:19.468Z"
   },
   {
    "duration": 850,
    "start_time": "2025-06-30T15:51:19.547Z"
   },
   {
    "duration": 4,
    "start_time": "2025-06-30T15:51:20.398Z"
   },
   {
    "duration": 180,
    "start_time": "2025-06-30T15:51:20.404Z"
   },
   {
    "duration": 2,
    "start_time": "2025-06-30T15:51:20.586Z"
   },
   {
    "duration": 15,
    "start_time": "2025-06-30T15:51:20.591Z"
   },
   {
    "duration": 76,
    "start_time": "2025-06-30T15:51:20.608Z"
   },
   {
    "duration": 410,
    "start_time": "2025-06-30T15:51:20.688Z"
   },
   {
    "duration": 3,
    "start_time": "2025-06-30T15:51:21.100Z"
   },
   {
    "duration": 14,
    "start_time": "2025-06-30T15:51:21.105Z"
   },
   {
    "duration": 1426,
    "start_time": "2025-06-30T15:51:21.121Z"
   },
   {
    "duration": 4,
    "start_time": "2025-06-30T15:51:22.548Z"
   },
   {
    "duration": 18,
    "start_time": "2025-06-30T15:51:22.566Z"
   },
   {
    "duration": 8,
    "start_time": "2025-06-30T16:13:50.660Z"
   },
   {
    "duration": 4,
    "start_time": "2025-06-30T16:42:34.754Z"
   },
   {
    "duration": 153,
    "start_time": "2025-06-30T16:50:49.382Z"
   },
   {
    "duration": 9,
    "start_time": "2025-06-30T16:50:56.328Z"
   },
   {
    "duration": 4,
    "start_time": "2025-06-30T16:51:04.725Z"
   },
   {
    "duration": 3,
    "start_time": "2025-06-30T16:51:23.943Z"
   },
   {
    "duration": 3,
    "start_time": "2025-06-30T16:51:27.033Z"
   },
   {
    "duration": 26,
    "start_time": "2025-06-30T16:53:24.072Z"
   },
   {
    "duration": 20,
    "start_time": "2025-06-30T16:53:27.672Z"
   },
   {
    "duration": 131,
    "start_time": "2025-06-30T16:54:04.188Z"
   },
   {
    "duration": 11,
    "start_time": "2025-06-30T16:55:24.382Z"
   },
   {
    "duration": 2564,
    "start_time": "2025-06-30T16:55:26.391Z"
   },
   {
    "duration": 3,
    "start_time": "2025-06-30T17:05:36.499Z"
   },
   {
    "duration": 6,
    "start_time": "2025-06-30T17:05:42.207Z"
   },
   {
    "duration": 6,
    "start_time": "2025-06-30T17:09:35.286Z"
   },
   {
    "duration": 21,
    "start_time": "2025-06-30T17:11:50.367Z"
   },
   {
    "duration": 8,
    "start_time": "2025-06-30T17:12:14.599Z"
   },
   {
    "duration": 5,
    "start_time": "2025-06-30T17:17:25.948Z"
   },
   {
    "duration": 14,
    "start_time": "2025-06-30T17:18:22.703Z"
   },
   {
    "duration": 4,
    "start_time": "2025-06-30T17:19:02.796Z"
   },
   {
    "duration": 3,
    "start_time": "2025-06-30T17:19:11.591Z"
   },
   {
    "duration": 13,
    "start_time": "2025-06-30T17:19:13.207Z"
   },
   {
    "duration": 4,
    "start_time": "2025-06-30T17:19:23.098Z"
   },
   {
    "duration": 8,
    "start_time": "2025-06-30T17:19:28.323Z"
   },
   {
    "duration": 4,
    "start_time": "2025-06-30T17:19:49.162Z"
   },
   {
    "duration": 7,
    "start_time": "2025-06-30T17:19:50.937Z"
   },
   {
    "duration": 4,
    "start_time": "2025-06-30T17:22:05.816Z"
   },
   {
    "duration": 8,
    "start_time": "2025-06-30T17:22:07.543Z"
   },
   {
    "duration": 6,
    "start_time": "2025-06-30T17:24:00.775Z"
   },
   {
    "duration": 4,
    "start_time": "2025-06-30T17:24:48.094Z"
   },
   {
    "duration": 9,
    "start_time": "2025-06-30T17:24:49.840Z"
   },
   {
    "duration": 5,
    "start_time": "2025-06-30T17:25:41.100Z"
   },
   {
    "duration": 8,
    "start_time": "2025-06-30T17:25:42.894Z"
   },
   {
    "duration": 5,
    "start_time": "2025-06-30T17:26:18.034Z"
   },
   {
    "duration": 4,
    "start_time": "2025-06-30T17:27:02.311Z"
   },
   {
    "duration": 5,
    "start_time": "2025-06-30T17:33:22.443Z"
   },
   {
    "duration": 9,
    "start_time": "2025-06-30T17:34:22.463Z"
   },
   {
    "duration": 8,
    "start_time": "2025-06-30T17:34:51.268Z"
   },
   {
    "duration": 8,
    "start_time": "2025-06-30T17:34:53.294Z"
   },
   {
    "duration": 4,
    "start_time": "2025-06-30T17:34:58.778Z"
   },
   {
    "duration": 19,
    "start_time": "2025-06-30T18:13:20.482Z"
   },
   {
    "duration": 12,
    "start_time": "2025-06-30T18:13:28.596Z"
   },
   {
    "duration": 8,
    "start_time": "2025-06-30T18:13:59.947Z"
   },
   {
    "duration": 5,
    "start_time": "2025-06-30T18:15:43.591Z"
   },
   {
    "duration": 5,
    "start_time": "2025-06-30T18:15:49.393Z"
   },
   {
    "duration": 4,
    "start_time": "2025-06-30T18:19:31.019Z"
   },
   {
    "duration": 51506,
    "start_time": "2025-06-30T18:19:39.913Z"
   },
   {
    "duration": 3,
    "start_time": "2025-06-30T18:21:05.232Z"
   },
   {
    "duration": 86177,
    "start_time": "2025-06-30T18:21:18.469Z"
   },
   {
    "duration": 32489,
    "start_time": "2025-06-30T18:22:58.963Z"
   },
   {
    "duration": 3,
    "start_time": "2025-06-30T18:23:51.591Z"
   },
   {
    "duration": 27526,
    "start_time": "2025-06-30T18:23:54.073Z"
   },
   {
    "duration": 45320,
    "start_time": "2025-06-30T18:24:38.085Z"
   },
   {
    "duration": 66690,
    "start_time": "2025-06-30T18:32:17.497Z"
   },
   {
    "duration": 40053,
    "start_time": "2025-06-30T18:45:05.889Z"
   },
   {
    "duration": 50375,
    "start_time": "2025-06-30T18:46:21.460Z"
   },
   {
    "duration": 3,
    "start_time": "2025-06-30T18:50:11.026Z"
   },
   {
    "duration": 48129,
    "start_time": "2025-06-30T18:50:12.686Z"
   },
   {
    "duration": 3,
    "start_time": "2025-06-30T18:51:18.217Z"
   },
   {
    "duration": 65171,
    "start_time": "2025-06-30T18:51:21.787Z"
   },
   {
    "duration": 18439,
    "start_time": "2025-07-01T11:17:50.257Z"
   },
   {
    "duration": 1621,
    "start_time": "2025-07-01T11:18:08.698Z"
   },
   {
    "duration": 157,
    "start_time": "2025-07-01T11:18:10.320Z"
   },
   {
    "duration": 0,
    "start_time": "2025-07-01T11:18:10.479Z"
   },
   {
    "duration": 0,
    "start_time": "2025-07-01T11:18:10.482Z"
   },
   {
    "duration": 0,
    "start_time": "2025-07-01T11:18:10.483Z"
   },
   {
    "duration": 0,
    "start_time": "2025-07-01T11:18:10.485Z"
   },
   {
    "duration": 0,
    "start_time": "2025-07-01T11:18:10.578Z"
   },
   {
    "duration": 0,
    "start_time": "2025-07-01T11:18:10.579Z"
   },
   {
    "duration": 0,
    "start_time": "2025-07-01T11:18:10.581Z"
   },
   {
    "duration": 0,
    "start_time": "2025-07-01T11:18:10.583Z"
   },
   {
    "duration": 0,
    "start_time": "2025-07-01T11:18:10.584Z"
   },
   {
    "duration": 0,
    "start_time": "2025-07-01T11:18:10.586Z"
   },
   {
    "duration": 0,
    "start_time": "2025-07-01T11:18:10.587Z"
   },
   {
    "duration": 0,
    "start_time": "2025-07-01T11:18:10.589Z"
   },
   {
    "duration": 0,
    "start_time": "2025-07-01T11:18:10.591Z"
   },
   {
    "duration": 0,
    "start_time": "2025-07-01T11:18:10.592Z"
   },
   {
    "duration": 0,
    "start_time": "2025-07-01T11:18:10.594Z"
   },
   {
    "duration": 0,
    "start_time": "2025-07-01T11:18:10.595Z"
   },
   {
    "duration": 0,
    "start_time": "2025-07-01T11:18:10.597Z"
   },
   {
    "duration": 0,
    "start_time": "2025-07-01T11:18:10.598Z"
   },
   {
    "duration": 0,
    "start_time": "2025-07-01T11:18:10.600Z"
   },
   {
    "duration": 0,
    "start_time": "2025-07-01T11:18:10.601Z"
   },
   {
    "duration": 0,
    "start_time": "2025-07-01T11:18:10.602Z"
   },
   {
    "duration": 0,
    "start_time": "2025-07-01T11:18:10.603Z"
   },
   {
    "duration": 0,
    "start_time": "2025-07-01T11:18:10.605Z"
   },
   {
    "duration": 0,
    "start_time": "2025-07-01T11:18:10.606Z"
   },
   {
    "duration": 0,
    "start_time": "2025-07-01T11:18:10.607Z"
   },
   {
    "duration": 0,
    "start_time": "2025-07-01T11:18:10.608Z"
   },
   {
    "duration": 0,
    "start_time": "2025-07-01T11:18:10.609Z"
   },
   {
    "duration": 11479,
    "start_time": "2025-07-01T11:43:00.166Z"
   },
   {
    "duration": 1502,
    "start_time": "2025-07-01T11:43:11.647Z"
   },
   {
    "duration": 464,
    "start_time": "2025-07-01T11:43:13.150Z"
   },
   {
    "duration": 1088,
    "start_time": "2025-07-01T11:43:13.615Z"
   },
   {
    "duration": 34,
    "start_time": "2025-07-01T11:43:14.705Z"
   },
   {
    "duration": 266,
    "start_time": "2025-07-01T11:43:14.740Z"
   },
   {
    "duration": 3,
    "start_time": "2025-07-01T11:43:15.008Z"
   },
   {
    "duration": 473,
    "start_time": "2025-07-01T11:43:15.013Z"
   },
   {
    "duration": 2520,
    "start_time": "2025-07-01T11:43:15.488Z"
   },
   {
    "duration": 4,
    "start_time": "2025-07-01T11:43:18.010Z"
   },
   {
    "duration": 3,
    "start_time": "2025-07-01T11:43:18.016Z"
   },
   {
    "duration": 68941,
    "start_time": "2025-07-01T11:43:18.021Z"
   },
   {
    "duration": 76,
    "start_time": "2025-07-01T11:44:26.963Z"
   },
   {
    "duration": 785,
    "start_time": "2025-07-01T11:44:27.042Z"
   },
   {
    "duration": 4,
    "start_time": "2025-07-01T11:44:27.829Z"
   },
   {
    "duration": 169,
    "start_time": "2025-07-01T11:44:27.835Z"
   },
   {
    "duration": 3,
    "start_time": "2025-07-01T11:44:28.005Z"
   },
   {
    "duration": 15,
    "start_time": "2025-07-01T11:44:28.009Z"
   },
   {
    "duration": 69,
    "start_time": "2025-07-01T11:44:28.025Z"
   },
   {
    "duration": 468,
    "start_time": "2025-07-01T11:44:28.096Z"
   },
   {
    "duration": 4,
    "start_time": "2025-07-01T11:44:28.566Z"
   },
   {
    "duration": 1245,
    "start_time": "2025-07-01T11:44:28.571Z"
   },
   {
    "duration": 3,
    "start_time": "2025-07-01T11:44:29.818Z"
   },
   {
    "duration": 2483,
    "start_time": "2025-07-01T11:44:29.822Z"
   },
   {
    "duration": 9,
    "start_time": "2025-07-01T11:44:32.307Z"
   },
   {
    "duration": 5,
    "start_time": "2025-07-01T11:44:32.318Z"
   },
   {
    "duration": 10,
    "start_time": "2025-07-01T11:44:32.325Z"
   },
   {
    "duration": 6,
    "start_time": "2025-07-01T11:44:32.337Z"
   },
   {
    "duration": 61959,
    "start_time": "2025-07-01T11:44:32.362Z"
   },
   {
    "duration": 3,
    "start_time": "2025-07-01T11:45:34.323Z"
   },
   {
    "duration": 9,
    "start_time": "2025-07-01T11:48:24.468Z"
   },
   {
    "duration": 9,
    "start_time": "2025-07-01T11:48:47.125Z"
   },
   {
    "duration": 10,
    "start_time": "2025-07-01T11:49:42.237Z"
   },
   {
    "duration": 138,
    "start_time": "2025-07-01T12:12:09.629Z"
   },
   {
    "duration": 12,
    "start_time": "2025-07-01T12:12:13.709Z"
   },
   {
    "duration": 66,
    "start_time": "2025-07-01T12:12:24.199Z"
   },
   {
    "duration": 3,
    "start_time": "2025-07-01T12:12:28.481Z"
   },
   {
    "duration": 14587,
    "start_time": "2025-07-01T12:13:04.451Z"
   },
   {
    "duration": 3200,
    "start_time": "2025-07-01T12:13:19.040Z"
   },
   {
    "duration": 228,
    "start_time": "2025-07-01T12:13:22.241Z"
   },
   {
    "duration": 1097,
    "start_time": "2025-07-01T12:13:22.470Z"
   },
   {
    "duration": 34,
    "start_time": "2025-07-01T12:13:23.569Z"
   },
   {
    "duration": 290,
    "start_time": "2025-07-01T12:13:23.606Z"
   },
   {
    "duration": 4,
    "start_time": "2025-07-01T12:13:23.898Z"
   },
   {
    "duration": 446,
    "start_time": "2025-07-01T12:13:23.903Z"
   },
   {
    "duration": 2327,
    "start_time": "2025-07-01T12:13:24.351Z"
   },
   {
    "duration": 5,
    "start_time": "2025-07-01T12:13:26.680Z"
   },
   {
    "duration": 4,
    "start_time": "2025-07-01T12:13:26.687Z"
   },
   {
    "duration": 75336,
    "start_time": "2025-07-01T12:13:26.692Z"
   },
   {
    "duration": 91,
    "start_time": "2025-07-01T12:14:42.031Z"
   },
   {
    "duration": 847,
    "start_time": "2025-07-01T12:14:42.124Z"
   },
   {
    "duration": 5,
    "start_time": "2025-07-01T12:14:42.973Z"
   },
   {
    "duration": 165,
    "start_time": "2025-07-01T12:14:42.979Z"
   },
   {
    "duration": 2,
    "start_time": "2025-07-01T12:14:43.146Z"
   },
   {
    "duration": 16,
    "start_time": "2025-07-01T12:14:43.150Z"
   },
   {
    "duration": 66,
    "start_time": "2025-07-01T12:14:43.168Z"
   },
   {
    "duration": 409,
    "start_time": "2025-07-01T12:14:43.235Z"
   },
   {
    "duration": 4,
    "start_time": "2025-07-01T12:14:43.646Z"
   },
   {
    "duration": 1323,
    "start_time": "2025-07-01T12:14:43.651Z"
   },
   {
    "duration": 4,
    "start_time": "2025-07-01T12:14:44.975Z"
   },
   {
    "duration": 2728,
    "start_time": "2025-07-01T12:14:44.980Z"
   },
   {
    "duration": 10,
    "start_time": "2025-07-01T12:14:47.710Z"
   },
   {
    "duration": 6,
    "start_time": "2025-07-01T12:14:47.721Z"
   },
   {
    "duration": 33,
    "start_time": "2025-07-01T12:14:47.729Z"
   },
   {
    "duration": 4,
    "start_time": "2025-07-01T12:14:47.764Z"
   },
   {
    "duration": 67879,
    "start_time": "2025-07-01T12:14:47.770Z"
   },
   {
    "duration": 20,
    "start_time": "2025-07-01T12:15:55.650Z"
   },
   {
    "duration": 9,
    "start_time": "2025-07-01T12:15:55.672Z"
   },
   {
    "duration": 13969,
    "start_time": "2025-07-01T12:16:43.914Z"
   },
   {
    "duration": 3208,
    "start_time": "2025-07-01T12:16:57.886Z"
   },
   {
    "duration": 202,
    "start_time": "2025-07-01T12:17:01.096Z"
   },
   {
    "duration": 1096,
    "start_time": "2025-07-01T12:17:01.300Z"
   },
   {
    "duration": 34,
    "start_time": "2025-07-01T12:17:02.398Z"
   },
   {
    "duration": 282,
    "start_time": "2025-07-01T12:17:02.434Z"
   },
   {
    "duration": 4,
    "start_time": "2025-07-01T12:17:02.718Z"
   },
   {
    "duration": 427,
    "start_time": "2025-07-01T12:17:02.724Z"
   },
   {
    "duration": 2364,
    "start_time": "2025-07-01T12:17:03.152Z"
   },
   {
    "duration": 16,
    "start_time": "2025-07-01T12:17:05.519Z"
   },
   {
    "duration": 41,
    "start_time": "2025-07-01T12:17:05.538Z"
   },
   {
    "duration": 75490,
    "start_time": "2025-07-01T12:17:05.582Z"
   },
   {
    "duration": 94,
    "start_time": "2025-07-01T12:18:21.073Z"
   },
   {
    "duration": 783,
    "start_time": "2025-07-01T12:18:21.168Z"
   },
   {
    "duration": 10,
    "start_time": "2025-07-01T12:18:21.953Z"
   },
   {
    "duration": 156,
    "start_time": "2025-07-01T12:18:21.964Z"
   },
   {
    "duration": 3,
    "start_time": "2025-07-01T12:18:22.121Z"
   },
   {
    "duration": 10,
    "start_time": "2025-07-01T12:18:22.126Z"
   },
   {
    "duration": 95,
    "start_time": "2025-07-01T12:18:22.137Z"
   },
   {
    "duration": 365,
    "start_time": "2025-07-01T12:18:22.233Z"
   },
   {
    "duration": 3,
    "start_time": "2025-07-01T12:18:22.600Z"
   },
   {
    "duration": 1260,
    "start_time": "2025-07-01T12:18:22.604Z"
   },
   {
    "duration": 4,
    "start_time": "2025-07-01T12:18:23.866Z"
   },
   {
    "duration": 2464,
    "start_time": "2025-07-01T12:18:23.871Z"
   },
   {
    "duration": 8,
    "start_time": "2025-07-01T12:18:26.337Z"
   },
   {
    "duration": 65,
    "start_time": "2025-07-01T12:18:26.347Z"
   },
   {
    "duration": 13,
    "start_time": "2025-07-01T12:18:26.414Z"
   },
   {
    "duration": 6,
    "start_time": "2025-07-01T12:18:26.431Z"
   },
   {
    "duration": 65154,
    "start_time": "2025-07-01T12:18:26.438Z"
   },
   {
    "duration": 11,
    "start_time": "2025-07-01T12:19:31.594Z"
   },
   {
    "duration": 16,
    "start_time": "2025-07-01T12:19:31.607Z"
   },
   {
    "duration": 46,
    "start_time": "2025-07-01T12:36:21.637Z"
   },
   {
    "duration": 13210,
    "start_time": "2025-07-01T12:36:26.659Z"
   },
   {
    "duration": 2798,
    "start_time": "2025-07-01T12:36:39.872Z"
   },
   {
    "duration": 240,
    "start_time": "2025-07-01T12:36:42.672Z"
   },
   {
    "duration": 996,
    "start_time": "2025-07-01T12:36:42.914Z"
   },
   {
    "duration": 31,
    "start_time": "2025-07-01T12:36:43.911Z"
   },
   {
    "duration": 244,
    "start_time": "2025-07-01T12:36:43.944Z"
   },
   {
    "duration": 4,
    "start_time": "2025-07-01T12:36:44.190Z"
   },
   {
    "duration": 412,
    "start_time": "2025-07-01T12:36:44.196Z"
   },
   {
    "duration": 2143,
    "start_time": "2025-07-01T12:36:44.610Z"
   },
   {
    "duration": 3,
    "start_time": "2025-07-01T12:36:46.763Z"
   },
   {
    "duration": 5,
    "start_time": "2025-07-01T12:36:46.767Z"
   },
   {
    "duration": 66076,
    "start_time": "2025-07-01T12:36:46.773Z"
   },
   {
    "duration": 82,
    "start_time": "2025-07-01T12:37:52.850Z"
   },
   {
    "duration": 742,
    "start_time": "2025-07-01T12:37:52.933Z"
   },
   {
    "duration": 4,
    "start_time": "2025-07-01T12:37:53.677Z"
   },
   {
    "duration": 139,
    "start_time": "2025-07-01T12:37:53.682Z"
   },
   {
    "duration": 2,
    "start_time": "2025-07-01T12:37:53.823Z"
   },
   {
    "duration": 24,
    "start_time": "2025-07-01T12:37:53.826Z"
   },
   {
    "duration": 95,
    "start_time": "2025-07-01T12:37:53.851Z"
   },
   {
    "duration": 360,
    "start_time": "2025-07-01T12:37:53.947Z"
   },
   {
    "duration": 3,
    "start_time": "2025-07-01T12:37:54.309Z"
   },
   {
    "duration": 1192,
    "start_time": "2025-07-01T12:37:54.313Z"
   },
   {
    "duration": 3,
    "start_time": "2025-07-01T12:37:55.507Z"
   },
   {
    "duration": 2196,
    "start_time": "2025-07-01T12:37:55.511Z"
   },
   {
    "duration": 8,
    "start_time": "2025-07-01T12:37:57.709Z"
   },
   {
    "duration": 7,
    "start_time": "2025-07-01T12:37:57.719Z"
   },
   {
    "duration": 10,
    "start_time": "2025-07-01T12:37:57.728Z"
   },
   {
    "duration": 3,
    "start_time": "2025-07-01T12:37:57.741Z"
   },
   {
    "duration": 62740,
    "start_time": "2025-07-01T12:37:57.745Z"
   },
   {
    "duration": 11,
    "start_time": "2025-07-01T12:39:00.487Z"
   },
   {
    "duration": 28,
    "start_time": "2025-07-01T12:39:00.500Z"
   },
   {
    "duration": 1037,
    "start_time": "2025-07-01T12:39:00.530Z"
   },
   {
    "duration": 13,
    "start_time": "2025-07-01T12:39:28.359Z"
   },
   {
    "duration": 4,
    "start_time": "2025-07-01T12:40:09.488Z"
   },
   {
    "duration": 12954,
    "start_time": "2025-07-01T12:42:50.056Z"
   },
   {
    "duration": 3040,
    "start_time": "2025-07-01T12:43:03.013Z"
   },
   {
    "duration": 167,
    "start_time": "2025-07-01T12:43:06.054Z"
   },
   {
    "duration": 1000,
    "start_time": "2025-07-01T12:43:06.223Z"
   },
   {
    "duration": 31,
    "start_time": "2025-07-01T12:43:07.226Z"
   },
   {
    "duration": 246,
    "start_time": "2025-07-01T12:43:07.259Z"
   },
   {
    "duration": 3,
    "start_time": "2025-07-01T12:43:07.507Z"
   },
   {
    "duration": 456,
    "start_time": "2025-07-01T12:43:07.512Z"
   },
   {
    "duration": 2168,
    "start_time": "2025-07-01T12:43:07.970Z"
   },
   {
    "duration": 104,
    "start_time": "2025-07-01T12:43:10.140Z"
   },
   {
    "duration": 7,
    "start_time": "2025-07-01T12:43:10.246Z"
   },
   {
    "duration": 64321,
    "start_time": "2025-07-01T12:43:10.254Z"
   },
   {
    "duration": 88,
    "start_time": "2025-07-01T12:44:14.577Z"
   },
   {
    "duration": 723,
    "start_time": "2025-07-01T12:44:14.668Z"
   },
   {
    "duration": 4,
    "start_time": "2025-07-01T12:44:15.392Z"
   },
   {
    "duration": 156,
    "start_time": "2025-07-01T12:44:15.397Z"
   },
   {
    "duration": 3,
    "start_time": "2025-07-01T12:44:15.554Z"
   },
   {
    "duration": 19,
    "start_time": "2025-07-01T12:44:15.558Z"
   },
   {
    "duration": 81,
    "start_time": "2025-07-01T12:44:15.579Z"
   },
   {
    "duration": 345,
    "start_time": "2025-07-01T12:44:15.662Z"
   },
   {
    "duration": 3,
    "start_time": "2025-07-01T12:44:16.009Z"
   },
   {
    "duration": 1161,
    "start_time": "2025-07-01T12:44:16.014Z"
   },
   {
    "duration": 3,
    "start_time": "2025-07-01T12:44:17.177Z"
   },
   {
    "duration": 2156,
    "start_time": "2025-07-01T12:44:17.181Z"
   },
   {
    "duration": 8,
    "start_time": "2025-07-01T12:44:19.339Z"
   },
   {
    "duration": 17,
    "start_time": "2025-07-01T12:44:19.348Z"
   },
   {
    "duration": 14,
    "start_time": "2025-07-01T12:44:19.366Z"
   },
   {
    "duration": 3,
    "start_time": "2025-07-01T12:44:19.381Z"
   },
   {
    "duration": 62619,
    "start_time": "2025-07-01T12:44:19.386Z"
   },
   {
    "duration": 9,
    "start_time": "2025-07-01T12:45:22.007Z"
   },
   {
    "duration": 19,
    "start_time": "2025-07-01T12:45:22.017Z"
   },
   {
    "duration": 13089,
    "start_time": "2025-07-01T12:46:17.553Z"
   },
   {
    "duration": 3228,
    "start_time": "2025-07-01T12:46:30.645Z"
   },
   {
    "duration": 228,
    "start_time": "2025-07-01T12:46:33.874Z"
   },
   {
    "duration": 955,
    "start_time": "2025-07-01T12:46:34.104Z"
   },
   {
    "duration": 32,
    "start_time": "2025-07-01T12:46:35.061Z"
   },
   {
    "duration": 249,
    "start_time": "2025-07-01T12:46:35.094Z"
   },
   {
    "duration": 4,
    "start_time": "2025-07-01T12:46:35.344Z"
   },
   {
    "duration": 391,
    "start_time": "2025-07-01T12:46:35.362Z"
   },
   {
    "duration": 2101,
    "start_time": "2025-07-01T12:46:35.755Z"
   },
   {
    "duration": 3,
    "start_time": "2025-07-01T12:46:37.863Z"
   },
   {
    "duration": 6,
    "start_time": "2025-07-01T12:46:37.869Z"
   },
   {
    "duration": 73377,
    "start_time": "2025-07-01T12:46:37.877Z"
   },
   {
    "duration": 80,
    "start_time": "2025-07-01T12:47:51.256Z"
   },
   {
    "duration": 749,
    "start_time": "2025-07-01T12:47:51.338Z"
   },
   {
    "duration": 5,
    "start_time": "2025-07-01T12:47:52.088Z"
   },
   {
    "duration": 152,
    "start_time": "2025-07-01T12:47:52.094Z"
   },
   {
    "duration": 2,
    "start_time": "2025-07-01T12:47:52.247Z"
   },
   {
    "duration": 20,
    "start_time": "2025-07-01T12:47:52.251Z"
   },
   {
    "duration": 71,
    "start_time": "2025-07-01T12:47:52.273Z"
   },
   {
    "duration": 393,
    "start_time": "2025-07-01T12:47:52.345Z"
   },
   {
    "duration": 3,
    "start_time": "2025-07-01T12:47:52.739Z"
   },
   {
    "duration": 1155,
    "start_time": "2025-07-01T12:47:52.744Z"
   },
   {
    "duration": 3,
    "start_time": "2025-07-01T12:47:53.900Z"
   },
   {
    "duration": 2530,
    "start_time": "2025-07-01T12:47:53.905Z"
   },
   {
    "duration": 8,
    "start_time": "2025-07-01T12:47:56.437Z"
   },
   {
    "duration": 19,
    "start_time": "2025-07-01T12:47:56.446Z"
   },
   {
    "duration": 34,
    "start_time": "2025-07-01T12:47:56.467Z"
   },
   {
    "duration": 4,
    "start_time": "2025-07-01T12:47:56.502Z"
   },
   {
    "duration": 64556,
    "start_time": "2025-07-01T12:47:56.508Z"
   },
   {
    "duration": 13,
    "start_time": "2025-07-01T12:49:01.066Z"
   },
   {
    "duration": 15,
    "start_time": "2025-07-01T12:49:01.083Z"
   },
   {
    "duration": 14424,
    "start_time": "2025-07-01T12:50:00.543Z"
   },
   {
    "duration": 3039,
    "start_time": "2025-07-01T12:50:14.970Z"
   },
   {
    "duration": 170,
    "start_time": "2025-07-01T12:50:18.011Z"
   },
   {
    "duration": 1096,
    "start_time": "2025-07-01T12:50:18.184Z"
   },
   {
    "duration": 32,
    "start_time": "2025-07-01T12:50:19.283Z"
   },
   {
    "duration": 275,
    "start_time": "2025-07-01T12:50:19.316Z"
   },
   {
    "duration": 3,
    "start_time": "2025-07-01T12:50:19.593Z"
   },
   {
    "duration": 407,
    "start_time": "2025-07-01T12:50:19.597Z"
   },
   {
    "duration": 2322,
    "start_time": "2025-07-01T12:50:20.006Z"
   },
   {
    "duration": 22,
    "start_time": "2025-07-01T12:50:22.330Z"
   },
   {
    "duration": 8,
    "start_time": "2025-07-01T12:50:22.354Z"
   },
   {
    "duration": 73266,
    "start_time": "2025-07-01T12:50:22.364Z"
   },
   {
    "duration": 86,
    "start_time": "2025-07-01T12:51:35.632Z"
   },
   {
    "duration": 743,
    "start_time": "2025-07-01T12:51:35.721Z"
   },
   {
    "duration": 4,
    "start_time": "2025-07-01T12:51:36.466Z"
   },
   {
    "duration": 158,
    "start_time": "2025-07-01T12:51:36.472Z"
   },
   {
    "duration": 2,
    "start_time": "2025-07-01T12:51:36.632Z"
   },
   {
    "duration": 7,
    "start_time": "2025-07-01T12:51:36.635Z"
   },
   {
    "duration": 75,
    "start_time": "2025-07-01T12:51:36.643Z"
   },
   {
    "duration": 388,
    "start_time": "2025-07-01T12:51:36.719Z"
   },
   {
    "duration": 3,
    "start_time": "2025-07-01T12:51:37.109Z"
   },
   {
    "duration": 1349,
    "start_time": "2025-07-01T12:51:37.113Z"
   },
   {
    "duration": 4,
    "start_time": "2025-07-01T12:51:38.464Z"
   },
   {
    "duration": 2495,
    "start_time": "2025-07-01T12:51:38.470Z"
   },
   {
    "duration": 15,
    "start_time": "2025-07-01T12:51:40.968Z"
   },
   {
    "duration": 28,
    "start_time": "2025-07-01T12:51:40.984Z"
   },
   {
    "duration": 9,
    "start_time": "2025-07-01T12:51:41.014Z"
   },
   {
    "duration": 3,
    "start_time": "2025-07-01T12:51:41.024Z"
   },
   {
    "duration": 64534,
    "start_time": "2025-07-01T12:51:41.028Z"
   },
   {
    "duration": 11,
    "start_time": "2025-07-01T12:52:45.565Z"
   },
   {
    "duration": 39,
    "start_time": "2025-07-01T12:52:45.578Z"
   },
   {
    "duration": 13473,
    "start_time": "2025-07-01T12:54:45.457Z"
   },
   {
    "duration": 4647,
    "start_time": "2025-07-01T12:54:58.933Z"
   },
   {
    "duration": 159,
    "start_time": "2025-07-01T12:55:03.582Z"
   },
   {
    "duration": 988,
    "start_time": "2025-07-01T12:55:03.743Z"
   },
   {
    "duration": 31,
    "start_time": "2025-07-01T12:55:04.733Z"
   },
   {
    "duration": 256,
    "start_time": "2025-07-01T12:55:04.765Z"
   },
   {
    "duration": 4,
    "start_time": "2025-07-01T12:55:05.022Z"
   },
   {
    "duration": 474,
    "start_time": "2025-07-01T12:55:05.027Z"
   },
   {
    "duration": 2084,
    "start_time": "2025-07-01T12:55:05.503Z"
   },
   {
    "duration": 76,
    "start_time": "2025-07-01T12:55:07.589Z"
   },
   {
    "duration": 33,
    "start_time": "2025-07-01T12:55:07.667Z"
   },
   {
    "duration": 72656,
    "start_time": "2025-07-01T12:55:07.701Z"
   },
   {
    "duration": 77,
    "start_time": "2025-07-01T12:56:20.361Z"
   },
   {
    "duration": 762,
    "start_time": "2025-07-01T12:56:20.441Z"
   },
   {
    "duration": 5,
    "start_time": "2025-07-01T12:56:21.205Z"
   },
   {
    "duration": 162,
    "start_time": "2025-07-01T12:56:21.211Z"
   },
   {
    "duration": 3,
    "start_time": "2025-07-01T12:56:21.375Z"
   },
   {
    "duration": 19,
    "start_time": "2025-07-01T12:56:21.380Z"
   },
   {
    "duration": 102,
    "start_time": "2025-07-01T12:56:21.400Z"
   },
   {
    "duration": 417,
    "start_time": "2025-07-01T12:56:21.504Z"
   },
   {
    "duration": 3,
    "start_time": "2025-07-01T12:56:21.923Z"
   },
   {
    "duration": 1417,
    "start_time": "2025-07-01T12:56:21.927Z"
   },
   {
    "duration": 3,
    "start_time": "2025-07-01T12:56:23.345Z"
   },
   {
    "duration": 2506,
    "start_time": "2025-07-01T12:56:23.362Z"
   },
   {
    "duration": 11,
    "start_time": "2025-07-01T12:56:25.870Z"
   },
   {
    "duration": 6,
    "start_time": "2025-07-01T12:56:25.883Z"
   },
   {
    "duration": 17,
    "start_time": "2025-07-01T12:56:25.891Z"
   },
   {
    "duration": 4,
    "start_time": "2025-07-01T12:56:25.910Z"
   },
   {
    "duration": 60826,
    "start_time": "2025-07-01T12:56:25.915Z"
   },
   {
    "duration": 9,
    "start_time": "2025-07-01T12:57:26.743Z"
   },
   {
    "duration": 5,
    "start_time": "2025-07-01T12:57:26.761Z"
   },
   {
    "duration": 13,
    "start_time": "2025-07-01T13:00:54.370Z"
   },
   {
    "duration": 3,
    "start_time": "2025-07-01T13:01:02.012Z"
   },
   {
    "duration": 38776,
    "start_time": "2025-07-01T13:04:46.059Z"
   },
   {
    "duration": 81,
    "start_time": "2025-07-01T13:06:29.126Z"
   },
   {
    "duration": 86,
    "start_time": "2025-07-01T13:06:32.956Z"
   },
   {
    "duration": 85,
    "start_time": "2025-07-01T13:06:40.588Z"
   },
   {
    "duration": 88,
    "start_time": "2025-07-01T13:11:52.138Z"
   },
   {
    "duration": 70,
    "start_time": "2025-07-01T13:11:56.291Z"
   },
   {
    "duration": 14043,
    "start_time": "2025-07-01T13:12:33.782Z"
   },
   {
    "duration": 3678,
    "start_time": "2025-07-01T13:12:47.829Z"
   },
   {
    "duration": 169,
    "start_time": "2025-07-01T13:12:51.509Z"
   },
   {
    "duration": 998,
    "start_time": "2025-07-01T13:12:51.681Z"
   },
   {
    "duration": 30,
    "start_time": "2025-07-01T13:12:52.682Z"
   },
   {
    "duration": 252,
    "start_time": "2025-07-01T13:12:52.714Z"
   },
   {
    "duration": 4,
    "start_time": "2025-07-01T13:12:52.968Z"
   },
   {
    "duration": 395,
    "start_time": "2025-07-01T13:12:52.975Z"
   },
   {
    "duration": 2157,
    "start_time": "2025-07-01T13:12:53.372Z"
   },
   {
    "duration": 11,
    "start_time": "2025-07-01T13:12:55.531Z"
   },
   {
    "duration": 5,
    "start_time": "2025-07-01T13:12:55.543Z"
   },
   {
    "duration": 66503,
    "start_time": "2025-07-01T13:12:55.550Z"
   },
   {
    "duration": 85,
    "start_time": "2025-07-01T13:14:02.056Z"
   },
   {
    "duration": 758,
    "start_time": "2025-07-01T13:14:02.145Z"
   },
   {
    "duration": 4,
    "start_time": "2025-07-01T13:14:02.905Z"
   },
   {
    "duration": 289,
    "start_time": "2025-07-01T13:14:02.911Z"
   },
   {
    "duration": 3,
    "start_time": "2025-07-01T13:14:03.202Z"
   },
   {
    "duration": 24,
    "start_time": "2025-07-01T13:14:03.207Z"
   },
   {
    "duration": 64,
    "start_time": "2025-07-01T13:14:03.233Z"
   },
   {
    "duration": 370,
    "start_time": "2025-07-01T13:14:03.299Z"
   },
   {
    "duration": 3,
    "start_time": "2025-07-01T13:14:03.671Z"
   },
   {
    "duration": 1250,
    "start_time": "2025-07-01T13:14:03.676Z"
   },
   {
    "duration": 3,
    "start_time": "2025-07-01T13:14:04.928Z"
   },
   {
    "duration": 2317,
    "start_time": "2025-07-01T13:14:04.933Z"
   },
   {
    "duration": 13,
    "start_time": "2025-07-01T13:14:07.252Z"
   },
   {
    "duration": 4,
    "start_time": "2025-07-01T13:14:07.267Z"
   },
   {
    "duration": 14,
    "start_time": "2025-07-01T13:14:07.273Z"
   },
   {
    "duration": 4,
    "start_time": "2025-07-01T13:14:07.289Z"
   },
   {
    "duration": 62029,
    "start_time": "2025-07-01T13:14:07.294Z"
   },
   {
    "duration": 9,
    "start_time": "2025-07-01T13:15:09.325Z"
   },
   {
    "duration": 5,
    "start_time": "2025-07-01T13:15:09.336Z"
   },
   {
    "duration": 50,
    "start_time": "2025-07-01T13:15:16.918Z"
   },
   {
    "duration": 13961,
    "start_time": "2025-07-01T13:16:18.089Z"
   },
   {
    "duration": 3522,
    "start_time": "2025-07-01T13:16:32.053Z"
   },
   {
    "duration": 181,
    "start_time": "2025-07-01T13:16:35.578Z"
   },
   {
    "duration": 1039,
    "start_time": "2025-07-01T13:16:35.761Z"
   },
   {
    "duration": 31,
    "start_time": "2025-07-01T13:16:36.804Z"
   },
   {
    "duration": 250,
    "start_time": "2025-07-01T13:16:36.837Z"
   },
   {
    "duration": 4,
    "start_time": "2025-07-01T13:16:37.089Z"
   },
   {
    "duration": 428,
    "start_time": "2025-07-01T13:16:37.095Z"
   },
   {
    "duration": 2114,
    "start_time": "2025-07-01T13:16:37.525Z"
   },
   {
    "duration": 19,
    "start_time": "2025-07-01T13:16:39.641Z"
   },
   {
    "duration": 112,
    "start_time": "2025-07-01T13:16:39.662Z"
   },
   {
    "duration": 68155,
    "start_time": "2025-07-01T13:16:39.776Z"
   },
   {
    "duration": 87,
    "start_time": "2025-07-01T13:17:47.934Z"
   },
   {
    "duration": 805,
    "start_time": "2025-07-01T13:17:48.025Z"
   },
   {
    "duration": 6,
    "start_time": "2025-07-01T13:17:48.832Z"
   },
   {
    "duration": 156,
    "start_time": "2025-07-01T13:17:48.840Z"
   },
   {
    "duration": 3,
    "start_time": "2025-07-01T13:17:48.999Z"
   },
   {
    "duration": 14,
    "start_time": "2025-07-01T13:17:49.005Z"
   },
   {
    "duration": 71,
    "start_time": "2025-07-01T13:17:49.022Z"
   },
   {
    "duration": 386,
    "start_time": "2025-07-01T13:17:49.096Z"
   },
   {
    "duration": 3,
    "start_time": "2025-07-01T13:17:49.485Z"
   },
   {
    "duration": 1285,
    "start_time": "2025-07-01T13:17:49.490Z"
   },
   {
    "duration": 4,
    "start_time": "2025-07-01T13:17:50.777Z"
   },
   {
    "duration": 2317,
    "start_time": "2025-07-01T13:17:50.783Z"
   },
   {
    "duration": 8,
    "start_time": "2025-07-01T13:17:53.102Z"
   },
   {
    "duration": 35,
    "start_time": "2025-07-01T13:17:53.112Z"
   },
   {
    "duration": 14,
    "start_time": "2025-07-01T13:17:53.149Z"
   },
   {
    "duration": 11,
    "start_time": "2025-07-01T13:17:53.165Z"
   },
   {
    "duration": 62240,
    "start_time": "2025-07-01T13:17:53.178Z"
   },
   {
    "duration": 10,
    "start_time": "2025-07-01T13:18:55.419Z"
   },
   {
    "duration": 191,
    "start_time": "2025-07-01T13:18:55.431Z"
   },
   {
    "duration": 0,
    "start_time": "2025-07-01T13:18:55.624Z"
   },
   {
    "duration": 0,
    "start_time": "2025-07-01T13:18:55.626Z"
   },
   {
    "duration": 5,
    "start_time": "2025-07-01T13:21:43.100Z"
   },
   {
    "duration": 19,
    "start_time": "2025-07-01T13:32:10.234Z"
   },
   {
    "duration": 40,
    "start_time": "2025-07-01T13:32:13.960Z"
   },
   {
    "duration": 16,
    "start_time": "2025-07-01T13:32:17.565Z"
   },
   {
    "duration": 15,
    "start_time": "2025-07-01T13:32:20.626Z"
   },
   {
    "duration": 15,
    "start_time": "2025-07-01T13:32:24.457Z"
   },
   {
    "duration": 15,
    "start_time": "2025-07-01T13:32:29.978Z"
   },
   {
    "duration": 15,
    "start_time": "2025-07-01T13:32:32.919Z"
   },
   {
    "duration": 34,
    "start_time": "2025-07-01T13:32:54.972Z"
   },
   {
    "duration": 14,
    "start_time": "2025-07-01T13:33:05.807Z"
   },
   {
    "duration": 14129,
    "start_time": "2025-07-01T13:33:49.911Z"
   },
   {
    "duration": 3398,
    "start_time": "2025-07-01T13:34:04.044Z"
   },
   {
    "duration": 262,
    "start_time": "2025-07-01T13:34:07.444Z"
   },
   {
    "duration": 1062,
    "start_time": "2025-07-01T13:34:07.709Z"
   },
   {
    "duration": 29,
    "start_time": "2025-07-01T13:34:08.772Z"
   },
   {
    "duration": 244,
    "start_time": "2025-07-01T13:34:08.803Z"
   },
   {
    "duration": 13,
    "start_time": "2025-07-01T13:34:09.049Z"
   },
   {
    "duration": 387,
    "start_time": "2025-07-01T13:34:09.064Z"
   },
   {
    "duration": 2150,
    "start_time": "2025-07-01T13:34:09.453Z"
   },
   {
    "duration": 3,
    "start_time": "2025-07-01T13:34:11.607Z"
   },
   {
    "duration": 12,
    "start_time": "2025-07-01T13:34:11.612Z"
   },
   {
    "duration": 67114,
    "start_time": "2025-07-01T13:34:11.626Z"
   },
   {
    "duration": 75,
    "start_time": "2025-07-01T13:35:18.742Z"
   },
   {
    "duration": 734,
    "start_time": "2025-07-01T13:35:18.819Z"
   },
   {
    "duration": 9,
    "start_time": "2025-07-01T13:35:19.555Z"
   },
   {
    "duration": 142,
    "start_time": "2025-07-01T13:35:19.566Z"
   },
   {
    "duration": 3,
    "start_time": "2025-07-01T13:35:19.711Z"
   },
   {
    "duration": 46,
    "start_time": "2025-07-01T13:35:19.716Z"
   },
   {
    "duration": 63,
    "start_time": "2025-07-01T13:35:19.764Z"
   },
   {
    "duration": 391,
    "start_time": "2025-07-01T13:35:19.829Z"
   },
   {
    "duration": 4,
    "start_time": "2025-07-01T13:35:20.222Z"
   },
   {
    "duration": 1201,
    "start_time": "2025-07-01T13:35:20.227Z"
   },
   {
    "duration": 4,
    "start_time": "2025-07-01T13:35:21.430Z"
   },
   {
    "duration": 2188,
    "start_time": "2025-07-01T13:35:21.435Z"
   },
   {
    "duration": 9,
    "start_time": "2025-07-01T13:35:23.625Z"
   },
   {
    "duration": 10,
    "start_time": "2025-07-01T13:35:23.636Z"
   },
   {
    "duration": 26,
    "start_time": "2025-07-01T13:35:23.648Z"
   },
   {
    "duration": 3,
    "start_time": "2025-07-01T13:35:23.680Z"
   },
   {
    "duration": 61969,
    "start_time": "2025-07-01T13:35:23.685Z"
   },
   {
    "duration": 9,
    "start_time": "2025-07-01T13:36:25.662Z"
   },
   {
    "duration": 88,
    "start_time": "2025-07-01T13:36:25.673Z"
   },
   {
    "duration": 0,
    "start_time": "2025-07-01T13:36:25.763Z"
   },
   {
    "duration": 0,
    "start_time": "2025-07-01T13:36:25.765Z"
   },
   {
    "duration": 4,
    "start_time": "2025-07-01T13:36:33.271Z"
   },
   {
    "duration": 227,
    "start_time": "2025-07-01T13:36:36.935Z"
   },
   {
    "duration": 140,
    "start_time": "2025-07-01T13:40:12.107Z"
   },
   {
    "duration": 6,
    "start_time": "2025-07-01T13:40:23.619Z"
   },
   {
    "duration": 4,
    "start_time": "2025-07-01T13:40:30.059Z"
   },
   {
    "duration": 3,
    "start_time": "2025-07-01T13:43:35.153Z"
   },
   {
    "duration": 12991,
    "start_time": "2025-07-01T13:44:41.943Z"
   },
   {
    "duration": 3033,
    "start_time": "2025-07-01T13:44:54.936Z"
   },
   {
    "duration": 261,
    "start_time": "2025-07-01T13:44:57.971Z"
   },
   {
    "duration": 974,
    "start_time": "2025-07-01T13:44:58.234Z"
   },
   {
    "duration": 29,
    "start_time": "2025-07-01T13:44:59.211Z"
   },
   {
    "duration": 242,
    "start_time": "2025-07-01T13:44:59.242Z"
   },
   {
    "duration": 3,
    "start_time": "2025-07-01T13:44:59.486Z"
   },
   {
    "duration": 383,
    "start_time": "2025-07-01T13:44:59.491Z"
   },
   {
    "duration": 2131,
    "start_time": "2025-07-01T13:44:59.876Z"
   },
   {
    "duration": 5,
    "start_time": "2025-07-01T13:45:02.009Z"
   },
   {
    "duration": 3,
    "start_time": "2025-07-01T13:45:02.016Z"
   },
   {
    "duration": 66354,
    "start_time": "2025-07-01T13:45:02.021Z"
   },
   {
    "duration": 73,
    "start_time": "2025-07-01T13:46:08.377Z"
   },
   {
    "duration": 882,
    "start_time": "2025-07-01T13:46:08.453Z"
   },
   {
    "duration": 5,
    "start_time": "2025-07-01T13:46:09.337Z"
   },
   {
    "duration": 137,
    "start_time": "2025-07-01T13:46:09.344Z"
   },
   {
    "duration": 3,
    "start_time": "2025-07-01T13:46:09.483Z"
   },
   {
    "duration": 6,
    "start_time": "2025-07-01T13:46:09.488Z"
   },
   {
    "duration": 74,
    "start_time": "2025-07-01T13:46:09.496Z"
   },
   {
    "duration": 353,
    "start_time": "2025-07-01T13:46:09.572Z"
   },
   {
    "duration": 3,
    "start_time": "2025-07-01T13:46:09.927Z"
   },
   {
    "duration": 1179,
    "start_time": "2025-07-01T13:46:09.932Z"
   },
   {
    "duration": 5,
    "start_time": "2025-07-01T13:46:11.113Z"
   },
   {
    "duration": 2158,
    "start_time": "2025-07-01T13:46:11.119Z"
   },
   {
    "duration": 9,
    "start_time": "2025-07-01T13:46:13.279Z"
   },
   {
    "duration": 5,
    "start_time": "2025-07-01T13:46:13.290Z"
   },
   {
    "duration": 11,
    "start_time": "2025-07-01T13:46:13.296Z"
   },
   {
    "duration": 5,
    "start_time": "2025-07-01T13:46:13.309Z"
   },
   {
    "duration": 62075,
    "start_time": "2025-07-01T13:46:13.316Z"
   },
   {
    "duration": 9,
    "start_time": "2025-07-01T13:47:15.393Z"
   },
   {
    "duration": 24,
    "start_time": "2025-07-01T13:47:15.404Z"
   },
   {
    "duration": 51,
    "start_time": "2025-07-01T13:47:15.430Z"
   },
   {
    "duration": 13,
    "start_time": "2025-07-01T13:47:15.483Z"
   },
   {
    "duration": 11,
    "start_time": "2025-07-01T13:47:15.498Z"
   },
   {
    "duration": 10,
    "start_time": "2025-07-01T13:47:15.511Z"
   },
   {
    "duration": 257,
    "start_time": "2025-07-01T13:47:25.255Z"
   },
   {
    "duration": 195,
    "start_time": "2025-07-01T13:47:28.473Z"
   },
   {
    "duration": 74,
    "start_time": "2025-07-01T13:47:34.204Z"
   },
   {
    "duration": 180,
    "start_time": "2025-07-01T13:47:37.065Z"
   },
   {
    "duration": 221,
    "start_time": "2025-07-01T13:47:40.569Z"
   },
   {
    "duration": 17,
    "start_time": "2025-07-01T13:48:04.254Z"
   },
   {
    "duration": 2,
    "start_time": "2025-07-01T13:48:17.920Z"
   },
   {
    "duration": 174,
    "start_time": "2025-07-01T13:48:21.476Z"
   },
   {
    "duration": 139,
    "start_time": "2025-07-01T13:49:07.368Z"
   },
   {
    "duration": 3,
    "start_time": "2025-07-01T13:49:22.195Z"
   },
   {
    "duration": 212,
    "start_time": "2025-07-01T13:49:26.942Z"
   },
   {
    "duration": 19,
    "start_time": "2025-07-01T13:50:34.836Z"
   },
   {
    "duration": 3,
    "start_time": "2025-07-01T13:50:41.299Z"
   },
   {
    "duration": 8,
    "start_time": "2025-07-01T13:50:41.304Z"
   },
   {
    "duration": 67,
    "start_time": "2025-07-01T13:55:02.581Z"
   },
   {
    "duration": 53,
    "start_time": "2025-07-01T13:55:19.475Z"
   },
   {
    "duration": 14,
    "start_time": "2025-07-01T13:55:22.433Z"
   },
   {
    "duration": 45,
    "start_time": "2025-07-01T13:55:38.030Z"
   },
   {
    "duration": 13487,
    "start_time": "2025-07-01T13:55:56.008Z"
   },
   {
    "duration": 2752,
    "start_time": "2025-07-01T13:56:09.498Z"
   },
   {
    "duration": 304,
    "start_time": "2025-07-01T13:56:12.252Z"
   },
   {
    "duration": 1019,
    "start_time": "2025-07-01T13:56:12.558Z"
   },
   {
    "duration": 32,
    "start_time": "2025-07-01T13:56:13.579Z"
   },
   {
    "duration": 260,
    "start_time": "2025-07-01T13:56:13.613Z"
   },
   {
    "duration": 5,
    "start_time": "2025-07-01T13:56:13.874Z"
   },
   {
    "duration": 426,
    "start_time": "2025-07-01T13:56:13.880Z"
   },
   {
    "duration": 2128,
    "start_time": "2025-07-01T13:56:14.308Z"
   },
   {
    "duration": 13,
    "start_time": "2025-07-01T13:56:16.440Z"
   },
   {
    "duration": 7,
    "start_time": "2025-07-01T13:56:16.455Z"
   },
   {
    "duration": 67121,
    "start_time": "2025-07-01T13:56:16.463Z"
   },
   {
    "duration": 81,
    "start_time": "2025-07-01T13:57:23.586Z"
   },
   {
    "duration": 761,
    "start_time": "2025-07-01T13:57:23.669Z"
   },
   {
    "duration": 5,
    "start_time": "2025-07-01T13:57:24.432Z"
   },
   {
    "duration": 141,
    "start_time": "2025-07-01T13:57:24.439Z"
   },
   {
    "duration": 3,
    "start_time": "2025-07-01T13:57:24.582Z"
   },
   {
    "duration": 26,
    "start_time": "2025-07-01T13:57:24.587Z"
   },
   {
    "duration": 73,
    "start_time": "2025-07-01T13:57:24.615Z"
   },
   {
    "duration": 348,
    "start_time": "2025-07-01T13:57:24.690Z"
   },
   {
    "duration": 3,
    "start_time": "2025-07-01T13:57:25.040Z"
   },
   {
    "duration": 1157,
    "start_time": "2025-07-01T13:57:25.045Z"
   },
   {
    "duration": 3,
    "start_time": "2025-07-01T13:57:26.204Z"
   },
   {
    "duration": 2220,
    "start_time": "2025-07-01T13:57:26.209Z"
   },
   {
    "duration": 8,
    "start_time": "2025-07-01T13:57:28.431Z"
   },
   {
    "duration": 18,
    "start_time": "2025-07-01T13:57:28.441Z"
   },
   {
    "duration": 23,
    "start_time": "2025-07-01T13:57:28.463Z"
   },
   {
    "duration": 66,
    "start_time": "2025-07-01T13:57:28.490Z"
   },
   {
    "duration": 61319,
    "start_time": "2025-07-01T13:57:28.558Z"
   },
   {
    "duration": 10,
    "start_time": "2025-07-01T13:58:29.879Z"
   },
   {
    "duration": 5,
    "start_time": "2025-07-01T13:58:29.891Z"
   },
   {
    "duration": 27,
    "start_time": "2025-07-01T13:58:29.898Z"
   },
   {
    "duration": 205,
    "start_time": "2025-07-01T13:58:55.075Z"
   },
   {
    "duration": 50,
    "start_time": "2025-07-01T13:59:00.369Z"
   },
   {
    "duration": 201,
    "start_time": "2025-07-01T13:59:02.103Z"
   },
   {
    "duration": 30,
    "start_time": "2025-07-01T13:59:05.194Z"
   },
   {
    "duration": 196,
    "start_time": "2025-07-01T13:59:06.958Z"
   },
   {
    "duration": 4,
    "start_time": "2025-07-01T13:59:09.341Z"
   },
   {
    "duration": 220,
    "start_time": "2025-07-01T13:59:10.967Z"
   },
   {
    "duration": 4,
    "start_time": "2025-07-01T13:59:23.890Z"
   },
   {
    "duration": 4,
    "start_time": "2025-07-01T13:59:25.676Z"
   },
   {
    "duration": 13233,
    "start_time": "2025-07-01T14:01:34.934Z"
   },
   {
    "duration": 3058,
    "start_time": "2025-07-01T14:01:48.170Z"
   },
   {
    "duration": 235,
    "start_time": "2025-07-01T14:01:51.229Z"
   },
   {
    "duration": 992,
    "start_time": "2025-07-01T14:01:51.466Z"
   },
   {
    "duration": 33,
    "start_time": "2025-07-01T14:01:52.461Z"
   },
   {
    "duration": 306,
    "start_time": "2025-07-01T14:01:52.495Z"
   },
   {
    "duration": 4,
    "start_time": "2025-07-01T14:01:52.803Z"
   },
   {
    "duration": 409,
    "start_time": "2025-07-01T14:01:52.809Z"
   },
   {
    "duration": 2153,
    "start_time": "2025-07-01T14:01:53.219Z"
   },
   {
    "duration": 25,
    "start_time": "2025-07-01T14:01:55.374Z"
   },
   {
    "duration": 7,
    "start_time": "2025-07-01T14:01:55.401Z"
   },
   {
    "duration": 65864,
    "start_time": "2025-07-01T14:01:55.410Z"
   },
   {
    "duration": 89,
    "start_time": "2025-07-01T14:03:01.276Z"
   },
   {
    "duration": 778,
    "start_time": "2025-07-01T14:03:01.369Z"
   },
   {
    "duration": 5,
    "start_time": "2025-07-01T14:03:02.149Z"
   },
   {
    "duration": 210,
    "start_time": "2025-07-01T14:03:02.161Z"
   },
   {
    "duration": 3,
    "start_time": "2025-07-01T14:03:02.373Z"
   },
   {
    "duration": 34,
    "start_time": "2025-07-01T14:03:02.378Z"
   },
   {
    "duration": 71,
    "start_time": "2025-07-01T14:03:02.415Z"
   },
   {
    "duration": 364,
    "start_time": "2025-07-01T14:03:02.488Z"
   },
   {
    "duration": 3,
    "start_time": "2025-07-01T14:03:02.854Z"
   },
   {
    "duration": 1223,
    "start_time": "2025-07-01T14:03:02.858Z"
   },
   {
    "duration": 3,
    "start_time": "2025-07-01T14:03:04.083Z"
   },
   {
    "duration": 1468,
    "start_time": "2025-07-01T14:03:04.088Z"
   },
   {
    "duration": 8,
    "start_time": "2025-07-01T14:03:05.562Z"
   },
   {
    "duration": 47,
    "start_time": "2025-07-01T14:03:05.572Z"
   },
   {
    "duration": 9,
    "start_time": "2025-07-01T14:03:05.621Z"
   },
   {
    "duration": 26,
    "start_time": "2025-07-01T14:03:05.632Z"
   },
   {
    "duration": 175978,
    "start_time": "2025-07-01T14:03:05.660Z"
   },
   {
    "duration": 23,
    "start_time": "2025-07-01T14:06:01.640Z"
   },
   {
    "duration": 6,
    "start_time": "2025-07-01T14:06:01.665Z"
   },
   {
    "duration": 31,
    "start_time": "2025-07-01T14:06:01.674Z"
   },
   {
    "duration": 231,
    "start_time": "2025-07-01T14:06:01.707Z"
   },
   {
    "duration": 3,
    "start_time": "2025-07-01T14:06:01.940Z"
   },
   {
    "duration": 19,
    "start_time": "2025-07-01T14:06:01.945Z"
   },
   {
    "duration": 10785,
    "start_time": "2025-07-01T14:09:22.858Z"
   },
   {
    "duration": 3304,
    "start_time": "2025-07-01T14:09:33.646Z"
   },
   {
    "duration": 233,
    "start_time": "2025-07-01T14:09:36.952Z"
   },
   {
    "duration": 1022,
    "start_time": "2025-07-01T14:09:37.187Z"
   },
   {
    "duration": 32,
    "start_time": "2025-07-01T14:09:38.212Z"
   },
   {
    "duration": 250,
    "start_time": "2025-07-01T14:09:38.246Z"
   },
   {
    "duration": 4,
    "start_time": "2025-07-01T14:09:38.498Z"
   },
   {
    "duration": 396,
    "start_time": "2025-07-01T14:09:38.504Z"
   },
   {
    "duration": 2208,
    "start_time": "2025-07-01T14:09:38.902Z"
   },
   {
    "duration": 6,
    "start_time": "2025-07-01T14:09:41.112Z"
   },
   {
    "duration": 19,
    "start_time": "2025-07-01T14:09:41.120Z"
   },
   {
    "duration": 66326,
    "start_time": "2025-07-01T14:09:41.140Z"
   },
   {
    "duration": 76,
    "start_time": "2025-07-01T14:10:47.468Z"
   },
   {
    "duration": 784,
    "start_time": "2025-07-01T14:10:47.547Z"
   },
   {
    "duration": 5,
    "start_time": "2025-07-01T14:10:48.333Z"
   },
   {
    "duration": 143,
    "start_time": "2025-07-01T14:10:48.340Z"
   },
   {
    "duration": 3,
    "start_time": "2025-07-01T14:10:48.485Z"
   },
   {
    "duration": 12,
    "start_time": "2025-07-01T14:10:48.490Z"
   },
   {
    "duration": 70,
    "start_time": "2025-07-01T14:10:48.504Z"
   },
   {
    "duration": 349,
    "start_time": "2025-07-01T14:10:48.576Z"
   },
   {
    "duration": 3,
    "start_time": "2025-07-01T14:10:48.927Z"
   },
   {
    "duration": 1205,
    "start_time": "2025-07-01T14:10:48.932Z"
   },
   {
    "duration": 4,
    "start_time": "2025-07-01T14:10:50.139Z"
   },
   {
    "duration": 1395,
    "start_time": "2025-07-01T14:10:50.144Z"
   },
   {
    "duration": 9,
    "start_time": "2025-07-01T14:10:51.541Z"
   },
   {
    "duration": 4,
    "start_time": "2025-07-01T14:10:51.563Z"
   },
   {
    "duration": 13,
    "start_time": "2025-07-01T14:10:51.569Z"
   },
   {
    "duration": 3,
    "start_time": "2025-07-01T14:10:51.584Z"
   },
   {
    "duration": 129130,
    "start_time": "2025-07-01T14:10:51.588Z"
   },
   {
    "duration": 15,
    "start_time": "2025-07-01T14:13:00.720Z"
   },
   {
    "duration": 24,
    "start_time": "2025-07-01T14:13:00.737Z"
   },
   {
    "duration": 13,
    "start_time": "2025-07-01T14:13:00.763Z"
   },
   {
    "duration": 358,
    "start_time": "2025-07-01T14:13:00.778Z"
   },
   {
    "duration": 42,
    "start_time": "2025-07-01T14:15:39.388Z"
   },
   {
    "duration": 6,
    "start_time": "2025-07-01T14:15:47.039Z"
   },
   {
    "duration": 6,
    "start_time": "2025-07-01T14:15:55.412Z"
   },
   {
    "duration": 10948,
    "start_time": "2025-07-01T14:19:46.095Z"
   },
   {
    "duration": 2853,
    "start_time": "2025-07-01T14:19:57.046Z"
   },
   {
    "duration": 177,
    "start_time": "2025-07-01T14:19:59.901Z"
   },
   {
    "duration": 1064,
    "start_time": "2025-07-01T14:20:00.081Z"
   },
   {
    "duration": 33,
    "start_time": "2025-07-01T14:20:01.147Z"
   },
   {
    "duration": 281,
    "start_time": "2025-07-01T14:20:01.182Z"
   },
   {
    "duration": 4,
    "start_time": "2025-07-01T14:20:01.465Z"
   },
   {
    "duration": 440,
    "start_time": "2025-07-01T14:20:01.471Z"
   },
   {
    "duration": 2308,
    "start_time": "2025-07-01T14:20:01.913Z"
   },
   {
    "duration": 4,
    "start_time": "2025-07-01T14:20:04.224Z"
   },
   {
    "duration": 5,
    "start_time": "2025-07-01T14:20:04.230Z"
   },
   {
    "duration": 69342,
    "start_time": "2025-07-01T14:20:04.236Z"
   },
   {
    "duration": 87,
    "start_time": "2025-07-01T14:21:13.580Z"
   },
   {
    "duration": 772,
    "start_time": "2025-07-01T14:21:13.669Z"
   },
   {
    "duration": 4,
    "start_time": "2025-07-01T14:21:14.443Z"
   },
   {
    "duration": 149,
    "start_time": "2025-07-01T14:21:14.449Z"
   },
   {
    "duration": 3,
    "start_time": "2025-07-01T14:21:14.600Z"
   },
   {
    "duration": 8,
    "start_time": "2025-07-01T14:21:14.605Z"
   },
   {
    "duration": 74,
    "start_time": "2025-07-01T14:21:14.615Z"
   },
   {
    "duration": 359,
    "start_time": "2025-07-01T14:21:14.691Z"
   },
   {
    "duration": 10,
    "start_time": "2025-07-01T14:21:15.052Z"
   },
   {
    "duration": 1259,
    "start_time": "2025-07-01T14:21:15.064Z"
   },
   {
    "duration": 4,
    "start_time": "2025-07-01T14:21:16.325Z"
   },
   {
    "duration": 1457,
    "start_time": "2025-07-01T14:21:16.331Z"
   },
   {
    "duration": 10,
    "start_time": "2025-07-01T14:21:17.791Z"
   },
   {
    "duration": 19,
    "start_time": "2025-07-01T14:21:17.803Z"
   },
   {
    "duration": 50,
    "start_time": "2025-07-01T14:21:17.824Z"
   },
   {
    "duration": 12,
    "start_time": "2025-07-01T14:21:17.879Z"
   },
   {
    "duration": 133629,
    "start_time": "2025-07-01T14:21:17.894Z"
   },
   {
    "duration": 13,
    "start_time": "2025-07-01T14:23:31.526Z"
   },
   {
    "duration": 5,
    "start_time": "2025-07-01T14:23:31.541Z"
   },
   {
    "duration": 11157,
    "start_time": "2025-07-01T14:26:18.234Z"
   },
   {
    "duration": 3569,
    "start_time": "2025-07-01T14:26:29.394Z"
   },
   {
    "duration": 170,
    "start_time": "2025-07-01T14:26:32.966Z"
   },
   {
    "duration": 1031,
    "start_time": "2025-07-01T14:26:33.138Z"
   },
   {
    "duration": 35,
    "start_time": "2025-07-01T14:26:34.172Z"
   },
   {
    "duration": 288,
    "start_time": "2025-07-01T14:26:34.209Z"
   },
   {
    "duration": 4,
    "start_time": "2025-07-01T14:26:34.499Z"
   },
   {
    "duration": 392,
    "start_time": "2025-07-01T14:26:34.505Z"
   },
   {
    "duration": 2536,
    "start_time": "2025-07-01T14:26:34.899Z"
   },
   {
    "duration": 14,
    "start_time": "2025-07-01T14:26:37.438Z"
   },
   {
    "duration": 10,
    "start_time": "2025-07-01T14:26:37.454Z"
   },
   {
    "duration": 72972,
    "start_time": "2025-07-01T14:26:37.467Z"
   },
   {
    "duration": 86,
    "start_time": "2025-07-01T14:27:50.441Z"
   },
   {
    "duration": 759,
    "start_time": "2025-07-01T14:27:50.529Z"
   },
   {
    "duration": 4,
    "start_time": "2025-07-01T14:27:51.290Z"
   },
   {
    "duration": 150,
    "start_time": "2025-07-01T14:27:51.296Z"
   },
   {
    "duration": 3,
    "start_time": "2025-07-01T14:27:51.448Z"
   },
   {
    "duration": 27,
    "start_time": "2025-07-01T14:27:51.452Z"
   },
   {
    "duration": 59,
    "start_time": "2025-07-01T14:27:51.481Z"
   },
   {
    "duration": 344,
    "start_time": "2025-07-01T14:27:51.542Z"
   },
   {
    "duration": 4,
    "start_time": "2025-07-01T14:27:51.888Z"
   },
   {
    "duration": 1200,
    "start_time": "2025-07-01T14:27:51.893Z"
   },
   {
    "duration": 4,
    "start_time": "2025-07-01T14:27:53.095Z"
   },
   {
    "duration": 1367,
    "start_time": "2025-07-01T14:27:53.101Z"
   },
   {
    "duration": 8,
    "start_time": "2025-07-01T14:27:54.470Z"
   },
   {
    "duration": 10,
    "start_time": "2025-07-01T14:27:54.480Z"
   },
   {
    "duration": 10,
    "start_time": "2025-07-01T14:27:54.492Z"
   },
   {
    "duration": 3,
    "start_time": "2025-07-01T14:27:54.506Z"
   },
   {
    "duration": 133512,
    "start_time": "2025-07-01T14:27:54.511Z"
   },
   {
    "duration": 15,
    "start_time": "2025-07-01T14:30:08.025Z"
   },
   {
    "duration": 22,
    "start_time": "2025-07-01T14:30:08.042Z"
   },
   {
    "duration": 23,
    "start_time": "2025-07-01T14:30:08.066Z"
   },
   {
    "duration": 335,
    "start_time": "2025-07-01T14:30:08.091Z"
   },
   {
    "duration": 12117,
    "start_time": "2025-07-01T14:41:44.715Z"
   },
   {
    "duration": 2961,
    "start_time": "2025-07-01T14:41:56.835Z"
   },
   {
    "duration": 191,
    "start_time": "2025-07-01T14:41:59.798Z"
   },
   {
    "duration": 1143,
    "start_time": "2025-07-01T14:41:59.992Z"
   },
   {
    "duration": 39,
    "start_time": "2025-07-01T14:42:01.137Z"
   },
   {
    "duration": 267,
    "start_time": "2025-07-01T14:42:01.178Z"
   },
   {
    "duration": 4,
    "start_time": "2025-07-01T14:42:01.447Z"
   },
   {
    "duration": 444,
    "start_time": "2025-07-01T14:42:01.453Z"
   },
   {
    "duration": 2650,
    "start_time": "2025-07-01T14:42:01.899Z"
   },
   {
    "duration": 7,
    "start_time": "2025-07-01T14:42:04.567Z"
   },
   {
    "duration": 17,
    "start_time": "2025-07-01T14:42:04.577Z"
   },
   {
    "duration": 75033,
    "start_time": "2025-07-01T14:42:04.595Z"
   },
   {
    "duration": 85,
    "start_time": "2025-07-01T14:43:19.630Z"
   },
   {
    "duration": 826,
    "start_time": "2025-07-01T14:43:19.717Z"
   },
   {
    "duration": 4,
    "start_time": "2025-07-01T14:43:20.545Z"
   },
   {
    "duration": 166,
    "start_time": "2025-07-01T14:43:20.551Z"
   },
   {
    "duration": 3,
    "start_time": "2025-07-01T14:43:20.719Z"
   },
   {
    "duration": 89,
    "start_time": "2025-07-01T14:43:20.723Z"
   },
   {
    "duration": 112,
    "start_time": "2025-07-01T14:43:20.815Z"
   },
   {
    "duration": 381,
    "start_time": "2025-07-01T14:43:20.929Z"
   },
   {
    "duration": 3,
    "start_time": "2025-07-01T14:43:21.312Z"
   },
   {
    "duration": 1386,
    "start_time": "2025-07-01T14:43:21.317Z"
   },
   {
    "duration": 3,
    "start_time": "2025-07-01T14:43:22.705Z"
   },
   {
    "duration": 1619,
    "start_time": "2025-07-01T14:43:22.710Z"
   },
   {
    "duration": 10,
    "start_time": "2025-07-01T14:43:24.332Z"
   },
   {
    "duration": 21,
    "start_time": "2025-07-01T14:43:24.344Z"
   },
   {
    "duration": 14,
    "start_time": "2025-07-01T14:43:24.370Z"
   },
   {
    "duration": 3,
    "start_time": "2025-07-01T14:43:24.388Z"
   },
   {
    "duration": 147353,
    "start_time": "2025-07-01T14:43:24.393Z"
   },
   {
    "duration": 29,
    "start_time": "2025-07-01T14:45:51.748Z"
   },
   {
    "duration": 5,
    "start_time": "2025-07-01T14:45:51.779Z"
   },
   {
    "duration": 5,
    "start_time": "2025-07-01T14:45:51.786Z"
   },
   {
    "duration": 304,
    "start_time": "2025-07-01T14:45:51.793Z"
   },
   {
    "duration": 10637,
    "start_time": "2025-07-01T17:40:45.069Z"
   },
   {
    "duration": 2825,
    "start_time": "2025-07-01T17:40:55.709Z"
   },
   {
    "duration": 185,
    "start_time": "2025-07-01T17:40:58.537Z"
   },
   {
    "duration": 811,
    "start_time": "2025-07-01T17:40:58.724Z"
   },
   {
    "duration": 35,
    "start_time": "2025-07-01T17:40:59.537Z"
   },
   {
    "duration": 248,
    "start_time": "2025-07-01T17:40:59.574Z"
   },
   {
    "duration": 3,
    "start_time": "2025-07-01T17:40:59.824Z"
   },
   {
    "duration": 436,
    "start_time": "2025-07-01T17:40:59.829Z"
   },
   {
    "duration": 2911,
    "start_time": "2025-07-01T17:41:00.267Z"
   },
   {
    "duration": 27,
    "start_time": "2025-07-01T17:41:03.180Z"
   },
   {
    "duration": 3,
    "start_time": "2025-07-01T17:41:03.209Z"
   },
   {
    "duration": 71611,
    "start_time": "2025-07-01T17:41:03.214Z"
   },
   {
    "duration": 83,
    "start_time": "2025-07-01T17:42:14.828Z"
   },
   {
    "duration": 766,
    "start_time": "2025-07-01T17:42:14.913Z"
   },
   {
    "duration": 5,
    "start_time": "2025-07-01T17:42:15.681Z"
   },
   {
    "duration": 141,
    "start_time": "2025-07-01T17:42:15.687Z"
   },
   {
    "duration": 3,
    "start_time": "2025-07-01T17:42:15.830Z"
   },
   {
    "duration": 9,
    "start_time": "2025-07-01T17:42:15.834Z"
   },
   {
    "duration": 73,
    "start_time": "2025-07-01T17:42:15.845Z"
   },
   {
    "duration": 379,
    "start_time": "2025-07-01T17:42:15.920Z"
   },
   {
    "duration": 3,
    "start_time": "2025-07-01T17:42:16.301Z"
   },
   {
    "duration": 1306,
    "start_time": "2025-07-01T17:42:16.306Z"
   },
   {
    "duration": 3,
    "start_time": "2025-07-01T17:42:17.614Z"
   },
   {
    "duration": 1376,
    "start_time": "2025-07-01T17:42:17.619Z"
   },
   {
    "duration": 9,
    "start_time": "2025-07-01T17:42:18.997Z"
   },
   {
    "duration": 4,
    "start_time": "2025-07-01T17:42:19.008Z"
   },
   {
    "duration": 10,
    "start_time": "2025-07-01T17:42:19.014Z"
   },
   {
    "duration": 3,
    "start_time": "2025-07-01T17:42:19.026Z"
   },
   {
    "duration": 148492,
    "start_time": "2025-07-01T17:42:19.030Z"
   },
   {
    "duration": 13,
    "start_time": "2025-07-01T17:44:47.525Z"
   },
   {
    "duration": 5,
    "start_time": "2025-07-01T17:44:47.541Z"
   },
   {
    "duration": 5,
    "start_time": "2025-07-01T17:44:47.565Z"
   },
   {
    "duration": 46,
    "start_time": "2025-07-01T17:54:09.676Z"
   },
   {
    "duration": 10817,
    "start_time": "2025-07-01T17:54:28.294Z"
   },
   {
    "duration": 2509,
    "start_time": "2025-07-01T17:54:39.114Z"
   },
   {
    "duration": 168,
    "start_time": "2025-07-01T17:54:41.625Z"
   },
   {
    "duration": 806,
    "start_time": "2025-07-01T17:54:41.795Z"
   },
   {
    "duration": 28,
    "start_time": "2025-07-01T17:54:42.604Z"
   },
   {
    "duration": 246,
    "start_time": "2025-07-01T17:54:42.634Z"
   },
   {
    "duration": 4,
    "start_time": "2025-07-01T17:54:42.882Z"
   },
   {
    "duration": 379,
    "start_time": "2025-07-01T17:54:42.888Z"
   },
   {
    "duration": 45,
    "start_time": "2025-07-01T17:54:43.269Z"
   },
   {
    "duration": 4,
    "start_time": "2025-07-01T17:54:43.316Z"
   },
   {
    "duration": 10,
    "start_time": "2025-07-01T18:01:44.641Z"
   },
   {
    "duration": 9,
    "start_time": "2025-07-01T18:01:52.316Z"
   },
   {
    "duration": 8,
    "start_time": "2025-07-01T18:02:23.065Z"
   },
   {
    "duration": 9,
    "start_time": "2025-07-01T18:02:30.729Z"
   },
   {
    "duration": 14746,
    "start_time": "2025-07-01T18:03:11.071Z"
   },
   {
    "duration": 144,
    "start_time": "2025-07-01T18:06:01.885Z"
   },
   {
    "duration": 5,
    "start_time": "2025-07-01T18:06:06.412Z"
   },
   {
    "duration": 30,
    "start_time": "2025-07-01T18:06:08.794Z"
   },
   {
    "duration": 9,
    "start_time": "2025-07-01T18:06:13.934Z"
   },
   {
    "duration": 4015,
    "start_time": "2025-07-01T18:07:25.472Z"
   },
   {
    "duration": 319,
    "start_time": "2025-07-01T18:09:20.738Z"
   },
   {
    "duration": 1751,
    "start_time": "2025-07-01T18:09:40.832Z"
   },
   {
    "duration": 1803,
    "start_time": "2025-07-01T18:10:21.456Z"
   },
   {
    "duration": 1678,
    "start_time": "2025-07-01T18:10:58.809Z"
   },
   {
    "duration": 5,
    "start_time": "2025-07-01T18:20:40.951Z"
   },
   {
    "duration": 99,
    "start_time": "2025-07-01T18:45:54.343Z"
   },
   {
    "duration": 105,
    "start_time": "2025-07-01T18:46:23.008Z"
   },
   {
    "duration": 74,
    "start_time": "2025-07-01T18:46:42.313Z"
   },
   {
    "duration": 15840,
    "start_time": "2025-07-06T19:05:53.156Z"
   },
   {
    "duration": 1559,
    "start_time": "2025-07-06T19:06:15.881Z"
   },
   {
    "duration": 339,
    "start_time": "2025-07-06T19:06:31.540Z"
   },
   {
    "duration": 1007,
    "start_time": "2025-07-06T19:06:39.703Z"
   },
   {
    "duration": 36,
    "start_time": "2025-07-06T19:06:43.895Z"
   },
   {
    "duration": 272,
    "start_time": "2025-07-06T19:06:52.169Z"
   },
   {
    "duration": 4,
    "start_time": "2025-07-06T19:07:03.242Z"
   },
   {
    "duration": 427,
    "start_time": "2025-07-06T19:07:08.595Z"
   },
   {
    "duration": 4,
    "start_time": "2025-07-06T19:24:54.503Z"
   },
   {
    "duration": 5,
    "start_time": "2025-07-06T19:26:06.366Z"
   },
   {
    "duration": 135,
    "start_time": "2025-07-06T19:26:09.273Z"
   },
   {
    "duration": 56,
    "start_time": "2025-07-06T19:35:26.235Z"
   },
   {
    "duration": 8,
    "start_time": "2025-07-06T19:36:02.237Z"
   },
   {
    "duration": 142,
    "start_time": "2025-07-06T19:36:27.350Z"
   },
   {
    "duration": 34055,
    "start_time": "2025-07-06T19:37:47.983Z"
   },
   {
    "duration": 13,
    "start_time": "2025-07-06T19:38:24.862Z"
   },
   {
    "duration": 12,
    "start_time": "2025-07-06T19:38:44.111Z"
   },
   {
    "duration": 1454,
    "start_time": "2025-07-06T19:38:51.054Z"
   },
   {
    "duration": 1321,
    "start_time": "2025-07-06T19:39:21.563Z"
   },
   {
    "duration": 5,
    "start_time": "2025-07-06T19:39:57.245Z"
   },
   {
    "duration": 6,
    "start_time": "2025-07-06T19:40:01.820Z"
   },
   {
    "duration": 129,
    "start_time": "2025-07-06T19:40:42.373Z"
   },
   {
    "duration": 131,
    "start_time": "2025-07-06T19:41:10.561Z"
   },
   {
    "duration": 5,
    "start_time": "2025-07-06T19:43:28.304Z"
   },
   {
    "duration": 13,
    "start_time": "2025-07-06T19:43:33.308Z"
   },
   {
    "duration": 9,
    "start_time": "2025-07-06T19:45:30.170Z"
   },
   {
    "duration": 8,
    "start_time": "2025-07-06T19:45:39.526Z"
   },
   {
    "duration": 8,
    "start_time": "2025-07-06T19:45:43.353Z"
   },
   {
    "duration": 8,
    "start_time": "2025-07-06T19:45:52.347Z"
   },
   {
    "duration": 13,
    "start_time": "2025-07-06T19:47:20.732Z"
   },
   {
    "duration": 14,
    "start_time": "2025-07-06T19:47:39.712Z"
   },
   {
    "duration": 4,
    "start_time": "2025-07-06T19:50:05.151Z"
   },
   {
    "duration": 3,
    "start_time": "2025-07-06T19:50:06.949Z"
   },
   {
    "duration": 2684,
    "start_time": "2025-07-06T19:59:21.010Z"
   },
   {
    "duration": 18,
    "start_time": "2025-07-06T20:02:37.795Z"
   },
   {
    "duration": 376,
    "start_time": "2025-07-06T20:02:50.880Z"
   },
   {
    "duration": 35,
    "start_time": "2025-07-06T20:03:48.251Z"
   },
   {
    "duration": 13,
    "start_time": "2025-07-06T20:04:10.452Z"
   },
   {
    "duration": 12,
    "start_time": "2025-07-06T20:04:19.399Z"
   },
   {
    "duration": 6,
    "start_time": "2025-07-06T20:05:19.369Z"
   },
   {
    "duration": 123,
    "start_time": "2025-07-06T20:05:34.948Z"
   },
   {
    "duration": 11,
    "start_time": "2025-07-06T20:07:05.644Z"
   },
   {
    "duration": 2590,
    "start_time": "2025-07-06T20:07:16.967Z"
   },
   {
    "duration": 580,
    "start_time": "2025-07-06T20:07:52.868Z"
   },
   {
    "duration": 2732,
    "start_time": "2025-07-06T20:09:34.234Z"
   },
   {
    "duration": 10,
    "start_time": "2025-07-06T20:09:41.598Z"
   },
   {
    "duration": 1509,
    "start_time": "2025-07-06T20:09:49.542Z"
   },
   {
    "duration": 9,
    "start_time": "2025-07-06T20:09:56.295Z"
   },
   {
    "duration": 1464,
    "start_time": "2025-07-06T20:10:04.749Z"
   },
   {
    "duration": 9,
    "start_time": "2025-07-06T20:10:10.587Z"
   },
   {
    "duration": 5,
    "start_time": "2025-07-06T20:10:33.329Z"
   },
   {
    "duration": 37,
    "start_time": "2025-07-06T20:11:12.247Z"
   },
   {
    "duration": 22,
    "start_time": "2025-07-06T20:17:23.592Z"
   },
   {
    "duration": 3,
    "start_time": "2025-07-06T20:18:05.501Z"
   },
   {
    "duration": 4,
    "start_time": "2025-07-06T20:18:15.145Z"
   },
   {
    "duration": 566,
    "start_time": "2025-07-06T20:18:22.732Z"
   },
   {
    "duration": 7,
    "start_time": "2025-07-06T20:20:04.046Z"
   },
   {
    "duration": 3,
    "start_time": "2025-07-06T20:20:42.944Z"
   },
   {
    "duration": 193,
    "start_time": "2025-07-06T20:21:17.509Z"
   },
   {
    "duration": 11,
    "start_time": "2025-07-06T20:21:52.323Z"
   },
   {
    "duration": 22,
    "start_time": "2025-07-06T20:22:54.261Z"
   },
   {
    "duration": 10,
    "start_time": "2025-07-06T20:22:58.741Z"
   },
   {
    "duration": 8,
    "start_time": "2025-07-06T20:23:17.792Z"
   },
   {
    "duration": 912,
    "start_time": "2025-07-06T20:23:53.767Z"
   },
   {
    "duration": 21,
    "start_time": "2025-07-06T20:25:57.714Z"
   },
   {
    "duration": 17,
    "start_time": "2025-07-06T20:26:08.256Z"
   },
   {
    "duration": 32,
    "start_time": "2025-07-06T20:26:21.906Z"
   },
   {
    "duration": 33,
    "start_time": "2025-07-06T20:28:47.513Z"
   },
   {
    "duration": 34,
    "start_time": "2025-07-06T20:29:07.584Z"
   },
   {
    "duration": 17,
    "start_time": "2025-07-06T20:29:31.474Z"
   },
   {
    "duration": 21,
    "start_time": "2025-07-06T20:31:44.974Z"
   },
   {
    "duration": 21,
    "start_time": "2025-07-06T20:32:09.293Z"
   },
   {
    "duration": 29,
    "start_time": "2025-07-06T20:32:15.766Z"
   },
   {
    "duration": 34,
    "start_time": "2025-07-06T20:35:17.040Z"
   },
   {
    "duration": 21,
    "start_time": "2025-07-06T20:36:09.176Z"
   },
   {
    "duration": 21,
    "start_time": "2025-07-06T20:36:16.960Z"
   },
   {
    "duration": 17,
    "start_time": "2025-07-06T20:39:53.058Z"
   },
   {
    "duration": 17,
    "start_time": "2025-07-06T20:40:22.850Z"
   },
   {
    "duration": 16,
    "start_time": "2025-07-06T20:42:43.474Z"
   },
   {
    "duration": 17,
    "start_time": "2025-07-06T20:42:47.396Z"
   },
   {
    "duration": 3,
    "start_time": "2025-07-06T20:43:01.199Z"
   },
   {
    "duration": 506,
    "start_time": "2025-07-06T20:45:50.926Z"
   },
   {
    "duration": 461248,
    "start_time": "2025-07-06T20:46:22.705Z"
   },
   {
    "duration": 8,
    "start_time": "2025-07-06T20:55:14.963Z"
   },
   {
    "duration": 7,
    "start_time": "2025-07-06T20:55:41.053Z"
   },
   {
    "duration": 12,
    "start_time": "2025-07-06T20:56:09.065Z"
   },
   {
    "duration": 7,
    "start_time": "2025-07-06T20:56:18.677Z"
   },
   {
    "duration": 711,
    "start_time": "2025-07-06T20:57:02.759Z"
   },
   {
    "duration": 84,
    "start_time": "2025-07-06T20:57:21.731Z"
   },
   {
    "duration": 698,
    "start_time": "2025-07-06T20:57:34.388Z"
   },
   {
    "duration": 6,
    "start_time": "2025-07-06T20:58:28.557Z"
   },
   {
    "duration": 5,
    "start_time": "2025-07-06T20:58:33.966Z"
   },
   {
    "duration": 6,
    "start_time": "2025-07-06T20:58:50.892Z"
   },
   {
    "duration": 6,
    "start_time": "2025-07-06T20:58:58.750Z"
   },
   {
    "duration": 6,
    "start_time": "2025-07-06T20:59:11.431Z"
   },
   {
    "duration": 5,
    "start_time": "2025-07-06T20:59:19.544Z"
   },
   {
    "duration": 5,
    "start_time": "2025-07-06T20:59:25.147Z"
   },
   {
    "duration": 5,
    "start_time": "2025-07-06T20:59:48.354Z"
   },
   {
    "duration": 5,
    "start_time": "2025-07-06T20:59:52.165Z"
   },
   {
    "duration": 3,
    "start_time": "2025-07-06T21:01:41.988Z"
   },
   {
    "duration": 4,
    "start_time": "2025-07-06T21:01:53.403Z"
   },
   {
    "duration": 3,
    "start_time": "2025-07-06T21:01:56.824Z"
   },
   {
    "duration": 84,
    "start_time": "2025-07-06T21:02:01.396Z"
   },
   {
    "duration": 150,
    "start_time": "2025-07-06T21:02:03.890Z"
   },
   {
    "duration": 97,
    "start_time": "2025-07-06T21:02:10.772Z"
   },
   {
    "duration": 123,
    "start_time": "2025-07-06T21:03:00.444Z"
   },
   {
    "duration": 83,
    "start_time": "2025-07-06T21:03:08.666Z"
   },
   {
    "duration": 94,
    "start_time": "2025-07-06T21:03:21.352Z"
   },
   {
    "duration": 91,
    "start_time": "2025-07-06T21:03:31.576Z"
   },
   {
    "duration": 25,
    "start_time": "2025-07-06T21:05:20.538Z"
   },
   {
    "duration": 12,
    "start_time": "2025-07-06T21:05:48.290Z"
   },
   {
    "duration": 9,
    "start_time": "2025-07-06T21:06:09.423Z"
   },
   {
    "duration": 39,
    "start_time": "2025-07-06T21:06:34.602Z"
   },
   {
    "duration": 26,
    "start_time": "2025-07-06T21:07:00.496Z"
   },
   {
    "duration": 9,
    "start_time": "2025-07-06T21:07:18.082Z"
   },
   {
    "duration": 9,
    "start_time": "2025-07-06T21:07:28.692Z"
   },
   {
    "duration": 8,
    "start_time": "2025-07-06T21:07:57.517Z"
   },
   {
    "duration": 9,
    "start_time": "2025-07-06T21:08:13.763Z"
   },
   {
    "duration": 26,
    "start_time": "2025-07-06T21:10:08.442Z"
   },
   {
    "duration": 78,
    "start_time": "2025-07-06T21:13:09.352Z"
   },
   {
    "duration": 4,
    "start_time": "2025-07-06T21:20:27.555Z"
   },
   {
    "duration": 21,
    "start_time": "2025-07-06T21:20:39.349Z"
   },
   {
    "duration": 2294,
    "start_time": "2025-07-06T21:21:08.390Z"
   },
   {
    "duration": 10697,
    "start_time": "2025-07-06T21:22:07.580Z"
   },
   {
    "duration": 3828,
    "start_time": "2025-07-06T21:22:18.280Z"
   },
   {
    "duration": 3,
    "start_time": "2025-07-06T21:22:22.110Z"
   },
   {
    "duration": 54,
    "start_time": "2025-07-06T21:22:22.115Z"
   },
   {
    "duration": 937,
    "start_time": "2025-07-06T21:22:22.172Z"
   },
   {
    "duration": 180,
    "start_time": "2025-07-06T21:22:23.111Z"
   },
   {
    "duration": 925,
    "start_time": "2025-07-06T21:22:23.293Z"
   },
   {
    "duration": 48,
    "start_time": "2025-07-06T21:22:24.219Z"
   },
   {
    "duration": 271,
    "start_time": "2025-07-06T21:22:24.269Z"
   },
   {
    "duration": 4,
    "start_time": "2025-07-06T21:22:24.542Z"
   },
   {
    "duration": 430,
    "start_time": "2025-07-06T21:22:24.547Z"
   },
   {
    "duration": 5,
    "start_time": "2025-07-06T21:22:24.979Z"
   },
   {
    "duration": 155,
    "start_time": "2025-07-06T21:22:24.986Z"
   },
   {
    "duration": 61,
    "start_time": "2025-07-06T21:22:25.144Z"
   },
   {
    "duration": 140,
    "start_time": "2025-07-06T21:22:25.207Z"
   },
   {
    "duration": 14,
    "start_time": "2025-07-06T21:22:25.349Z"
   },
   {
    "duration": 17,
    "start_time": "2025-07-06T21:22:25.365Z"
   },
   {
    "duration": 406,
    "start_time": "2025-07-06T21:22:25.384Z"
   },
   {
    "duration": 6,
    "start_time": "2025-07-06T21:22:25.791Z"
   },
   {
    "duration": 3,
    "start_time": "2025-07-06T21:22:25.799Z"
   },
   {
    "duration": 522,
    "start_time": "2025-07-06T21:22:25.805Z"
   },
   {
    "duration": 1096,
    "start_time": "2025-07-06T21:22:26.328Z"
   },
   {
    "duration": 462855,
    "start_time": "2025-07-06T21:22:27.426Z"
   },
   {
    "duration": 7,
    "start_time": "2025-07-06T21:30:10.283Z"
   },
   {
    "duration": 366,
    "start_time": "2025-07-06T21:30:10.292Z"
   },
   {
    "duration": 0,
    "start_time": "2025-07-06T21:30:10.660Z"
   },
   {
    "duration": 0,
    "start_time": "2025-07-06T21:30:10.661Z"
   },
   {
    "duration": 0,
    "start_time": "2025-07-06T21:30:10.662Z"
   },
   {
    "duration": 0,
    "start_time": "2025-07-06T21:30:10.663Z"
   },
   {
    "duration": 0,
    "start_time": "2025-07-06T21:30:10.664Z"
   },
   {
    "duration": 0,
    "start_time": "2025-07-06T21:30:10.665Z"
   },
   {
    "duration": 0,
    "start_time": "2025-07-06T21:30:10.667Z"
   },
   {
    "duration": 0,
    "start_time": "2025-07-06T21:30:10.668Z"
   },
   {
    "duration": 0,
    "start_time": "2025-07-06T21:30:10.669Z"
   },
   {
    "duration": 0,
    "start_time": "2025-07-06T21:30:10.671Z"
   },
   {
    "duration": 0,
    "start_time": "2025-07-06T21:30:10.672Z"
   },
   {
    "duration": 0,
    "start_time": "2025-07-06T21:30:10.673Z"
   },
   {
    "duration": 0,
    "start_time": "2025-07-06T21:30:10.674Z"
   },
   {
    "duration": 0,
    "start_time": "2025-07-06T21:30:10.675Z"
   },
   {
    "duration": 0,
    "start_time": "2025-07-06T21:30:10.676Z"
   },
   {
    "duration": 0,
    "start_time": "2025-07-06T21:30:10.678Z"
   },
   {
    "duration": 26,
    "start_time": "2025-07-06T21:36:13.492Z"
   },
   {
    "duration": 11,
    "start_time": "2025-07-06T21:36:27.869Z"
   },
   {
    "duration": 18,
    "start_time": "2025-07-06T21:36:39.961Z"
   },
   {
    "duration": 6,
    "start_time": "2025-07-06T21:36:47.803Z"
   },
   {
    "duration": 16,
    "start_time": "2025-07-06T21:37:44.828Z"
   },
   {
    "duration": 29,
    "start_time": "2025-07-06T21:37:56.159Z"
   },
   {
    "duration": 0,
    "start_time": "2025-07-06T21:37:56.191Z"
   },
   {
    "duration": 0,
    "start_time": "2025-07-06T21:37:56.192Z"
   },
   {
    "duration": 0,
    "start_time": "2025-07-06T21:37:56.193Z"
   },
   {
    "duration": 0,
    "start_time": "2025-07-06T21:37:56.195Z"
   },
   {
    "duration": 0,
    "start_time": "2025-07-06T21:37:56.196Z"
   },
   {
    "duration": 0,
    "start_time": "2025-07-06T21:37:56.197Z"
   },
   {
    "duration": 0,
    "start_time": "2025-07-06T21:37:56.198Z"
   },
   {
    "duration": 0,
    "start_time": "2025-07-06T21:37:56.199Z"
   },
   {
    "duration": 0,
    "start_time": "2025-07-06T21:37:56.201Z"
   },
   {
    "duration": 0,
    "start_time": "2025-07-06T21:37:56.201Z"
   },
   {
    "duration": 0,
    "start_time": "2025-07-06T21:37:56.202Z"
   },
   {
    "duration": 0,
    "start_time": "2025-07-06T21:37:56.204Z"
   },
   {
    "duration": 0,
    "start_time": "2025-07-06T21:37:56.205Z"
   },
   {
    "duration": 0,
    "start_time": "2025-07-06T21:37:56.206Z"
   },
   {
    "duration": 0,
    "start_time": "2025-07-06T21:37:56.207Z"
   },
   {
    "duration": 0,
    "start_time": "2025-07-06T21:37:56.208Z"
   },
   {
    "duration": 9,
    "start_time": "2025-07-06T21:39:34.789Z"
   },
   {
    "duration": 78,
    "start_time": "2025-07-06T21:39:56.449Z"
   },
   {
    "duration": 4,
    "start_time": "2025-07-06T21:39:56.529Z"
   },
   {
    "duration": 2272,
    "start_time": "2025-07-06T21:39:56.535Z"
   },
   {
    "duration": 3,
    "start_time": "2025-07-06T21:39:58.809Z"
   },
   {
    "duration": 31,
    "start_time": "2025-07-06T21:39:58.814Z"
   },
   {
    "duration": 0,
    "start_time": "2025-07-06T21:39:58.846Z"
   },
   {
    "duration": 0,
    "start_time": "2025-07-06T21:39:58.848Z"
   },
   {
    "duration": 0,
    "start_time": "2025-07-06T21:39:58.862Z"
   },
   {
    "duration": 0,
    "start_time": "2025-07-06T21:39:58.863Z"
   },
   {
    "duration": 0,
    "start_time": "2025-07-06T21:39:58.864Z"
   },
   {
    "duration": 0,
    "start_time": "2025-07-06T21:39:58.866Z"
   },
   {
    "duration": 0,
    "start_time": "2025-07-06T21:39:58.867Z"
   },
   {
    "duration": 0,
    "start_time": "2025-07-06T21:39:58.868Z"
   },
   {
    "duration": 0,
    "start_time": "2025-07-06T21:39:58.869Z"
   },
   {
    "duration": 0,
    "start_time": "2025-07-06T21:39:58.870Z"
   },
   {
    "duration": 0,
    "start_time": "2025-07-06T21:39:58.871Z"
   },
   {
    "duration": 22,
    "start_time": "2025-07-06T21:44:51.019Z"
   },
   {
    "duration": 10616,
    "start_time": "2025-07-06T21:46:16.355Z"
   },
   {
    "duration": 3493,
    "start_time": "2025-07-06T21:46:26.974Z"
   },
   {
    "duration": 3,
    "start_time": "2025-07-06T21:46:30.468Z"
   },
   {
    "duration": 18,
    "start_time": "2025-07-06T21:46:30.473Z"
   },
   {
    "duration": 896,
    "start_time": "2025-07-06T21:46:30.493Z"
   },
   {
    "duration": 198,
    "start_time": "2025-07-06T21:46:31.391Z"
   },
   {
    "duration": 895,
    "start_time": "2025-07-06T21:46:31.591Z"
   },
   {
    "duration": 33,
    "start_time": "2025-07-06T21:46:32.488Z"
   },
   {
    "duration": 279,
    "start_time": "2025-07-06T21:46:32.523Z"
   },
   {
    "duration": 4,
    "start_time": "2025-07-06T21:46:32.804Z"
   },
   {
    "duration": 462,
    "start_time": "2025-07-06T21:46:32.810Z"
   },
   {
    "duration": 5,
    "start_time": "2025-07-06T21:46:33.274Z"
   },
   {
    "duration": 153,
    "start_time": "2025-07-06T21:46:33.281Z"
   },
   {
    "duration": 63,
    "start_time": "2025-07-06T21:46:33.438Z"
   },
   {
    "duration": 145,
    "start_time": "2025-07-06T21:46:33.503Z"
   },
   {
    "duration": 14,
    "start_time": "2025-07-06T21:46:33.650Z"
   },
   {
    "duration": 21,
    "start_time": "2025-07-06T21:46:33.666Z"
   },
   {
    "duration": 379,
    "start_time": "2025-07-06T21:46:33.689Z"
   },
   {
    "duration": 6,
    "start_time": "2025-07-06T21:46:34.070Z"
   },
   {
    "duration": 8,
    "start_time": "2025-07-06T21:46:34.077Z"
   },
   {
    "duration": 550,
    "start_time": "2025-07-06T21:46:34.087Z"
   },
   {
    "duration": 1082,
    "start_time": "2025-07-06T21:46:34.639Z"
   },
   {
    "duration": 459094,
    "start_time": "2025-07-06T21:46:35.723Z"
   },
   {
    "duration": 6,
    "start_time": "2025-07-06T21:54:14.820Z"
   },
   {
    "duration": 33,
    "start_time": "2025-07-06T21:54:14.828Z"
   },
   {
    "duration": 15,
    "start_time": "2025-07-06T21:54:14.863Z"
   },
   {
    "duration": 1885,
    "start_time": "2025-07-06T21:54:14.880Z"
   },
   {
    "duration": 0,
    "start_time": "2025-07-06T21:54:16.768Z"
   },
   {
    "duration": 0,
    "start_time": "2025-07-06T21:54:16.769Z"
   },
   {
    "duration": 0,
    "start_time": "2025-07-06T21:54:16.771Z"
   },
   {
    "duration": 0,
    "start_time": "2025-07-06T21:54:16.772Z"
   },
   {
    "duration": 0,
    "start_time": "2025-07-06T21:54:16.774Z"
   },
   {
    "duration": 0,
    "start_time": "2025-07-06T21:54:16.775Z"
   },
   {
    "duration": 0,
    "start_time": "2025-07-06T21:54:16.777Z"
   },
   {
    "duration": 0,
    "start_time": "2025-07-06T21:54:16.779Z"
   },
   {
    "duration": 0,
    "start_time": "2025-07-06T21:54:16.780Z"
   },
   {
    "duration": 0,
    "start_time": "2025-07-06T21:54:16.782Z"
   },
   {
    "duration": 0,
    "start_time": "2025-07-06T21:54:16.783Z"
   },
   {
    "duration": 0,
    "start_time": "2025-07-06T21:54:16.785Z"
   },
   {
    "duration": 0,
    "start_time": "2025-07-06T21:54:16.786Z"
   },
   {
    "duration": 0,
    "start_time": "2025-07-06T21:54:16.788Z"
   },
   {
    "duration": 0,
    "start_time": "2025-07-06T21:54:16.789Z"
   },
   {
    "duration": 12,
    "start_time": "2025-07-06T21:54:31.398Z"
   },
   {
    "duration": 83,
    "start_time": "2025-07-06T21:54:41.812Z"
   },
   {
    "duration": 6,
    "start_time": "2025-07-06T21:54:48.800Z"
   },
   {
    "duration": 6,
    "start_time": "2025-07-06T21:54:59.902Z"
   },
   {
    "duration": 6,
    "start_time": "2025-07-06T21:55:04.584Z"
   },
   {
    "duration": 4,
    "start_time": "2025-07-06T21:55:18.909Z"
   },
   {
    "duration": 29,
    "start_time": "2025-07-06T21:55:18.915Z"
   },
   {
    "duration": 0,
    "start_time": "2025-07-06T21:55:18.946Z"
   },
   {
    "duration": 0,
    "start_time": "2025-07-06T21:55:18.947Z"
   },
   {
    "duration": 0,
    "start_time": "2025-07-06T21:55:18.948Z"
   },
   {
    "duration": 0,
    "start_time": "2025-07-06T21:55:18.949Z"
   },
   {
    "duration": 0,
    "start_time": "2025-07-06T21:55:18.950Z"
   },
   {
    "duration": 0,
    "start_time": "2025-07-06T21:55:18.951Z"
   },
   {
    "duration": 0,
    "start_time": "2025-07-06T21:55:18.952Z"
   },
   {
    "duration": 0,
    "start_time": "2025-07-06T21:55:18.953Z"
   },
   {
    "duration": 0,
    "start_time": "2025-07-06T21:55:18.954Z"
   },
   {
    "duration": 0,
    "start_time": "2025-07-06T21:55:18.955Z"
   },
   {
    "duration": 0,
    "start_time": "2025-07-06T21:55:18.956Z"
   },
   {
    "duration": 0,
    "start_time": "2025-07-06T21:55:18.958Z"
   },
   {
    "duration": 0,
    "start_time": "2025-07-06T21:55:18.961Z"
   },
   {
    "duration": 4,
    "start_time": "2025-07-06T21:56:45.766Z"
   },
   {
    "duration": 9,
    "start_time": "2025-07-06T21:56:53.660Z"
   },
   {
    "duration": 5,
    "start_time": "2025-07-06T21:56:58.488Z"
   },
   {
    "duration": 4,
    "start_time": "2025-07-06T21:57:15.122Z"
   },
   {
    "duration": 2325,
    "start_time": "2025-07-06T21:57:15.128Z"
   },
   {
    "duration": 7,
    "start_time": "2025-07-06T21:57:17.454Z"
   },
   {
    "duration": 1517,
    "start_time": "2025-07-06T21:57:17.463Z"
   },
   {
    "duration": 10,
    "start_time": "2025-07-06T21:57:18.983Z"
   },
   {
    "duration": 5,
    "start_time": "2025-07-06T21:57:18.995Z"
   },
   {
    "duration": 13,
    "start_time": "2025-07-06T21:57:19.002Z"
   },
   {
    "duration": 3,
    "start_time": "2025-07-06T21:57:19.017Z"
   },
   {
    "duration": 115157,
    "start_time": "2025-07-06T21:57:19.022Z"
   },
   {
    "duration": 14,
    "start_time": "2025-07-06T21:59:14.181Z"
   },
   {
    "duration": 5,
    "start_time": "2025-07-06T21:59:14.196Z"
   },
   {
    "duration": 11,
    "start_time": "2025-07-06T21:59:14.204Z"
   },
   {
    "duration": 9258,
    "start_time": "2025-07-06T21:59:14.217Z"
   },
   {
    "duration": 3,
    "start_time": "2025-07-06T21:59:23.478Z"
   },
   {
    "duration": 18,
    "start_time": "2025-07-06T21:59:23.483Z"
   },
   {
    "duration": 4,
    "start_time": "2025-07-06T21:59:55.129Z"
   },
   {
    "duration": 11153,
    "start_time": "2025-07-06T22:00:33.424Z"
   },
   {
    "duration": 4,
    "start_time": "2025-07-06T22:00:47.317Z"
   },
   {
    "duration": 22,
    "start_time": "2025-07-06T22:04:44.759Z"
   },
   {
    "duration": 3,
    "start_time": "2025-07-06T22:04:47.141Z"
   },
   {
    "duration": 33528,
    "start_time": "2025-07-06T22:04:49.482Z"
   },
   {
    "duration": 44424,
    "start_time": "2025-07-06T22:08:23.608Z"
   },
   {
    "duration": 33146,
    "start_time": "2025-07-06T22:09:16.540Z"
   },
   {
    "duration": 20,
    "start_time": "2025-07-06T22:12:53.956Z"
   },
   {
    "duration": 23,
    "start_time": "2025-07-06T22:13:09.656Z"
   },
   {
    "duration": 4,
    "start_time": "2025-07-06T22:13:23.694Z"
   },
   {
    "duration": 23,
    "start_time": "2025-07-06T22:14:56.134Z"
   },
   {
    "duration": 22,
    "start_time": "2025-07-06T22:15:21.995Z"
   },
   {
    "duration": 21,
    "start_time": "2025-07-06T22:16:22.591Z"
   },
   {
    "duration": 67750,
    "start_time": "2025-07-06T22:17:39.121Z"
   },
   {
    "duration": 24848,
    "start_time": "2025-07-06T22:18:59.569Z"
   },
   {
    "duration": 85028,
    "start_time": "2025-07-06T22:19:56.531Z"
   },
   {
    "duration": 3,
    "start_time": "2025-07-06T22:21:37.990Z"
   },
   {
    "duration": 153475,
    "start_time": "2025-07-06T22:21:40.511Z"
   },
   {
    "duration": 180441,
    "start_time": "2025-07-06T22:24:21.689Z"
   },
   {
    "duration": 3,
    "start_time": "2025-07-06T22:27:37.692Z"
   },
   {
    "duration": 344171,
    "start_time": "2025-07-06T22:27:40.423Z"
   },
   {
    "duration": 85,
    "start_time": "2025-07-06T22:43:46.144Z"
   },
   {
    "duration": 4,
    "start_time": "2025-07-06T22:44:02.730Z"
   },
   {
    "duration": 12,
    "start_time": "2025-07-06T22:45:20.080Z"
   },
   {
    "duration": 10,
    "start_time": "2025-07-06T22:46:34.371Z"
   },
   {
    "duration": 13,
    "start_time": "2025-07-06T22:46:38.195Z"
   },
   {
    "duration": 3,
    "start_time": "2025-07-06T22:47:14.920Z"
   },
   {
    "duration": 9,
    "start_time": "2025-07-06T22:47:17.570Z"
   },
   {
    "duration": 4,
    "start_time": "2025-07-06T22:49:23.972Z"
   },
   {
    "duration": 5,
    "start_time": "2025-07-06T22:53:25.459Z"
   },
   {
    "duration": 34,
    "start_time": "2025-07-06T22:55:08.740Z"
   },
   {
    "duration": 4,
    "start_time": "2025-07-06T22:55:46.891Z"
   },
   {
    "duration": 6,
    "start_time": "2025-07-06T22:56:01.620Z"
   },
   {
    "duration": 8,
    "start_time": "2025-07-06T22:56:07.610Z"
   },
   {
    "duration": 13,
    "start_time": "2025-07-06T22:58:02.252Z"
   },
   {
    "duration": 13,
    "start_time": "2025-07-06T22:58:57.934Z"
   },
   {
    "duration": 4791,
    "start_time": "2025-07-06T23:08:43.320Z"
   },
   {
    "duration": 65,
    "start_time": "2025-07-06T23:11:13.667Z"
   },
   {
    "duration": 61,
    "start_time": "2025-07-07T12:05:58.219Z"
   },
   {
    "duration": 16797,
    "start_time": "2025-07-07T12:06:05.054Z"
   },
   {
    "duration": 5074,
    "start_time": "2025-07-07T12:06:21.854Z"
   },
   {
    "duration": 311,
    "start_time": "2025-07-07T12:06:26.930Z"
   },
   {
    "duration": 987,
    "start_time": "2025-07-07T12:06:27.243Z"
   },
   {
    "duration": 40,
    "start_time": "2025-07-07T12:06:28.232Z"
   },
   {
    "duration": 277,
    "start_time": "2025-07-07T12:06:28.275Z"
   },
   {
    "duration": 10,
    "start_time": "2025-07-07T12:06:28.562Z"
   },
   {
    "duration": 429,
    "start_time": "2025-07-07T12:06:28.575Z"
   },
   {
    "duration": 5,
    "start_time": "2025-07-07T12:06:29.006Z"
   },
   {
    "duration": 177,
    "start_time": "2025-07-07T12:06:29.013Z"
   },
   {
    "duration": 54,
    "start_time": "2025-07-07T12:06:29.192Z"
   },
   {
    "duration": 146,
    "start_time": "2025-07-07T12:06:29.261Z"
   },
   {
    "duration": 5,
    "start_time": "2025-07-07T12:06:29.409Z"
   },
   {
    "duration": 13,
    "start_time": "2025-07-07T12:06:29.417Z"
   },
   {
    "duration": 437,
    "start_time": "2025-07-07T12:06:29.432Z"
   },
   {
    "duration": 7,
    "start_time": "2025-07-07T12:06:29.871Z"
   },
   {
    "duration": 76,
    "start_time": "2025-07-07T12:06:29.880Z"
   },
   {
    "duration": 585,
    "start_time": "2025-07-07T12:06:29.957Z"
   },
   {
    "duration": 1245,
    "start_time": "2025-07-07T12:06:30.544Z"
   },
   {
    "duration": 520975,
    "start_time": "2025-07-07T12:06:31.791Z"
   },
   {
    "duration": 8,
    "start_time": "2025-07-07T12:15:12.769Z"
   },
   {
    "duration": 67,
    "start_time": "2025-07-07T12:15:12.779Z"
   },
   {
    "duration": 103,
    "start_time": "2025-07-07T12:15:12.848Z"
   },
   {
    "duration": 6,
    "start_time": "2025-07-07T12:15:12.960Z"
   },
   {
    "duration": 2523,
    "start_time": "2025-07-07T12:15:12.969Z"
   },
   {
    "duration": 3,
    "start_time": "2025-07-07T12:15:15.494Z"
   },
   {
    "duration": 1733,
    "start_time": "2025-07-07T12:15:15.499Z"
   },
   {
    "duration": 4,
    "start_time": "2025-07-07T12:15:17.234Z"
   },
   {
    "duration": 94,
    "start_time": "2025-07-07T12:15:17.240Z"
   },
   {
    "duration": 7,
    "start_time": "2025-07-07T12:15:17.336Z"
   },
   {
    "duration": 28,
    "start_time": "2025-07-07T12:15:17.345Z"
   },
   {
    "duration": 5,
    "start_time": "2025-07-07T12:15:17.376Z"
   },
   {
    "duration": 138154,
    "start_time": "2025-07-07T12:15:17.382Z"
   },
   {
    "duration": 23,
    "start_time": "2025-07-07T12:17:35.538Z"
   },
   {
    "duration": 36131,
    "start_time": "2025-07-07T12:17:35.563Z"
   },
   {
    "duration": 5709,
    "start_time": "2025-07-07T12:18:11.695Z"
   },
   {
    "duration": 5,
    "start_time": "2025-07-07T12:18:17.407Z"
   },
   {
    "duration": 49578,
    "start_time": "2025-07-07T12:18:17.414Z"
   },
   {
    "duration": 0,
    "start_time": "2025-07-07T12:19:06.994Z"
   },
   {
    "duration": 0,
    "start_time": "2025-07-07T12:19:06.995Z"
   },
   {
    "duration": 4,
    "start_time": "2025-07-07T12:19:13.699Z"
   },
   {
    "duration": 317119,
    "start_time": "2025-07-07T12:19:16.112Z"
   },
   {
    "duration": 90,
    "start_time": "2025-07-07T12:25:44.549Z"
   },
   {
    "duration": 10,
    "start_time": "2025-07-07T12:25:49.408Z"
   },
   {
    "duration": 21,
    "start_time": "2025-07-07T12:26:14.274Z"
   },
   {
    "duration": 23,
    "start_time": "2025-07-07T12:27:04.558Z"
   },
   {
    "duration": 12,
    "start_time": "2025-07-07T12:27:08.241Z"
   },
   {
    "duration": 12,
    "start_time": "2025-07-07T12:27:15.191Z"
   },
   {
    "duration": 28,
    "start_time": "2025-07-07T12:28:30.629Z"
   },
   {
    "duration": 20,
    "start_time": "2025-07-07T12:28:37.553Z"
   },
   {
    "duration": 32,
    "start_time": "2025-07-07T12:28:44.404Z"
   },
   {
    "duration": 14,
    "start_time": "2025-07-07T12:28:47.100Z"
   },
   {
    "duration": 7,
    "start_time": "2025-07-07T12:29:54.219Z"
   },
   {
    "duration": 6,
    "start_time": "2025-07-07T12:31:25.516Z"
   },
   {
    "duration": 18,
    "start_time": "2025-07-07T12:31:39.163Z"
   },
   {
    "duration": 31,
    "start_time": "2025-07-07T12:34:01.105Z"
   },
   {
    "duration": 21,
    "start_time": "2025-07-07T12:35:44.536Z"
   },
   {
    "duration": 1627,
    "start_time": "2025-07-07T12:35:49.265Z"
   },
   {
    "duration": 11,
    "start_time": "2025-07-07T12:36:21.804Z"
   },
   {
    "duration": 30,
    "start_time": "2025-07-07T12:36:57.041Z"
   },
   {
    "duration": 23,
    "start_time": "2025-07-07T12:39:39.585Z"
   },
   {
    "duration": 32,
    "start_time": "2025-07-07T12:39:56.657Z"
   },
   {
    "duration": 8,
    "start_time": "2025-07-07T12:40:20.175Z"
   },
   {
    "duration": 226,
    "start_time": "2025-07-07T12:40:32.362Z"
   },
   {
    "duration": 30,
    "start_time": "2025-07-07T12:40:35.889Z"
   },
   {
    "duration": 28,
    "start_time": "2025-07-07T12:42:19.287Z"
   },
   {
    "duration": 10,
    "start_time": "2025-07-07T12:42:25.421Z"
   },
   {
    "duration": 12,
    "start_time": "2025-07-07T12:42:37.836Z"
   },
   {
    "duration": 11,
    "start_time": "2025-07-07T12:42:44.109Z"
   },
   {
    "duration": 35,
    "start_time": "2025-07-07T12:44:01.464Z"
   },
   {
    "duration": 9,
    "start_time": "2025-07-07T12:45:35.476Z"
   },
   {
    "duration": 14,
    "start_time": "2025-07-07T13:01:08.955Z"
   },
   {
    "duration": 6,
    "start_time": "2025-07-07T13:18:14.910Z"
   },
   {
    "duration": 4,
    "start_time": "2025-07-07T13:18:18.749Z"
   },
   {
    "duration": 33,
    "start_time": "2025-07-07T13:18:31.256Z"
   },
   {
    "duration": 4,
    "start_time": "2025-07-07T13:18:33.956Z"
   },
   {
    "duration": 77,
    "start_time": "2025-07-07T13:19:22.296Z"
   },
   {
    "duration": 40,
    "start_time": "2025-07-07T13:19:38.915Z"
   },
   {
    "duration": 50,
    "start_time": "2025-07-07T13:29:06.210Z"
   },
   {
    "duration": 42,
    "start_time": "2025-07-07T13:29:16.691Z"
   },
   {
    "duration": 39,
    "start_time": "2025-07-07T13:29:26.109Z"
   },
   {
    "duration": 43,
    "start_time": "2025-07-07T13:30:25.493Z"
   },
   {
    "duration": 17,
    "start_time": "2025-07-07T13:30:32.477Z"
   },
   {
    "duration": 168,
    "start_time": "2025-07-07T13:30:44.242Z"
   },
   {
    "duration": 143,
    "start_time": "2025-07-07T13:30:54.121Z"
   },
   {
    "duration": 51,
    "start_time": "2025-07-07T13:33:34.939Z"
   },
   {
    "duration": 52,
    "start_time": "2025-07-07T13:33:44.984Z"
   },
   {
    "duration": 47,
    "start_time": "2025-07-07T13:34:24.874Z"
   },
   {
    "duration": 7,
    "start_time": "2025-07-07T13:34:34.678Z"
   },
   {
    "duration": 49,
    "start_time": "2025-07-07T13:35:11.016Z"
   },
   {
    "duration": 147,
    "start_time": "2025-07-07T13:35:18.114Z"
   },
   {
    "duration": 155,
    "start_time": "2025-07-07T13:36:19.080Z"
   },
   {
    "duration": 153,
    "start_time": "2025-07-07T13:36:48.221Z"
   },
   {
    "duration": 369,
    "start_time": "2025-07-07T13:37:13.833Z"
   },
   {
    "duration": 170,
    "start_time": "2025-07-07T13:37:25.788Z"
   },
   {
    "duration": 164,
    "start_time": "2025-07-07T13:37:33.205Z"
   },
   {
    "duration": 164,
    "start_time": "2025-07-07T13:37:56.968Z"
   },
   {
    "duration": 177,
    "start_time": "2025-07-07T13:38:07.131Z"
   },
   {
    "duration": 162,
    "start_time": "2025-07-07T13:38:11.208Z"
   },
   {
    "duration": 167,
    "start_time": "2025-07-07T13:38:19.143Z"
   },
   {
    "duration": 176,
    "start_time": "2025-07-07T13:38:24.634Z"
   },
   {
    "duration": 167,
    "start_time": "2025-07-07T13:39:09.810Z"
   },
   {
    "duration": 172,
    "start_time": "2025-07-07T13:39:14.606Z"
   },
   {
    "duration": 188,
    "start_time": "2025-07-07T13:39:48.315Z"
   },
   {
    "duration": 175,
    "start_time": "2025-07-07T13:39:51.924Z"
   },
   {
    "duration": 159,
    "start_time": "2025-07-07T13:39:56.204Z"
   },
   {
    "duration": 156,
    "start_time": "2025-07-07T13:39:58.637Z"
   },
   {
    "duration": 209,
    "start_time": "2025-07-07T13:40:01.439Z"
   },
   {
    "duration": 185,
    "start_time": "2025-07-07T13:43:11.145Z"
   },
   {
    "duration": 192,
    "start_time": "2025-07-07T13:43:40.354Z"
   },
   {
    "duration": 187,
    "start_time": "2025-07-07T13:43:53.302Z"
   },
   {
    "duration": 193,
    "start_time": "2025-07-07T13:44:05.813Z"
   },
   {
    "duration": 190,
    "start_time": "2025-07-07T13:44:10.402Z"
   },
   {
    "duration": 197,
    "start_time": "2025-07-07T13:44:13.639Z"
   },
   {
    "duration": 165,
    "start_time": "2025-07-07T13:44:17.360Z"
   },
   {
    "duration": 182,
    "start_time": "2025-07-07T13:44:19.626Z"
   },
   {
    "duration": 163,
    "start_time": "2025-07-07T13:44:23.392Z"
   },
   {
    "duration": 197,
    "start_time": "2025-07-07T13:44:26.457Z"
   },
   {
    "duration": 190,
    "start_time": "2025-07-07T13:44:32.121Z"
   },
   {
    "duration": 158,
    "start_time": "2025-07-07T13:44:39.641Z"
   },
   {
    "duration": 157,
    "start_time": "2025-07-07T13:44:52.824Z"
   },
   {
    "duration": 207,
    "start_time": "2025-07-07T13:44:56.655Z"
   },
   {
    "duration": 187,
    "start_time": "2025-07-07T13:45:00.401Z"
   },
   {
    "duration": 193,
    "start_time": "2025-07-07T13:45:15.098Z"
   },
   {
    "duration": 205,
    "start_time": "2025-07-07T13:45:21.137Z"
   },
   {
    "duration": 8,
    "start_time": "2025-07-07T13:47:42.248Z"
   },
   {
    "duration": 22,
    "start_time": "2025-07-07T13:47:55.304Z"
   },
   {
    "duration": 482,
    "start_time": "2025-07-07T13:50:09.396Z"
   },
   {
    "duration": 14,
    "start_time": "2025-07-07T13:50:35.600Z"
   },
   {
    "duration": 152,
    "start_time": "2025-07-07T13:51:03.197Z"
   },
   {
    "duration": 204,
    "start_time": "2025-07-07T13:51:07.484Z"
   },
   {
    "duration": 190,
    "start_time": "2025-07-07T13:51:11.092Z"
   },
   {
    "duration": 188,
    "start_time": "2025-07-07T13:51:30.077Z"
   },
   {
    "duration": 212,
    "start_time": "2025-07-07T13:51:34.397Z"
   },
   {
    "duration": 218,
    "start_time": "2025-07-07T13:51:37.658Z"
   },
   {
    "duration": 170,
    "start_time": "2025-07-07T13:56:40.341Z"
   },
   {
    "duration": 192,
    "start_time": "2025-07-07T13:56:50.039Z"
   },
   {
    "duration": 202,
    "start_time": "2025-07-07T13:57:02.416Z"
   },
   {
    "duration": 219,
    "start_time": "2025-07-07T13:57:08.868Z"
   },
   {
    "duration": 238,
    "start_time": "2025-07-07T13:59:17.861Z"
   },
   {
    "duration": 204,
    "start_time": "2025-07-07T14:00:17.772Z"
   },
   {
    "duration": 10486,
    "start_time": "2025-07-07T15:15:57.705Z"
   },
   {
    "duration": 4512,
    "start_time": "2025-07-07T15:16:08.194Z"
   },
   {
    "duration": 207,
    "start_time": "2025-07-07T15:16:12.708Z"
   },
   {
    "duration": 1060,
    "start_time": "2025-07-07T15:16:12.917Z"
   },
   {
    "duration": 32,
    "start_time": "2025-07-07T15:16:13.979Z"
   },
   {
    "duration": 266,
    "start_time": "2025-07-07T15:16:14.012Z"
   },
   {
    "duration": 4,
    "start_time": "2025-07-07T15:16:14.280Z"
   },
   {
    "duration": 398,
    "start_time": "2025-07-07T15:16:14.285Z"
   },
   {
    "duration": 4,
    "start_time": "2025-07-07T15:16:14.687Z"
   },
   {
    "duration": 139,
    "start_time": "2025-07-07T15:16:14.692Z"
   },
   {
    "duration": 63,
    "start_time": "2025-07-07T15:16:14.832Z"
   },
   {
    "duration": 130,
    "start_time": "2025-07-07T15:16:14.897Z"
   },
   {
    "duration": 5,
    "start_time": "2025-07-07T15:16:15.028Z"
   },
   {
    "duration": 103,
    "start_time": "2025-07-07T15:16:15.035Z"
   },
   {
    "duration": 393,
    "start_time": "2025-07-07T15:16:15.139Z"
   },
   {
    "duration": 5,
    "start_time": "2025-07-07T15:16:15.534Z"
   },
   {
    "duration": 78,
    "start_time": "2025-07-07T15:16:15.540Z"
   },
   {
    "duration": 571,
    "start_time": "2025-07-07T15:16:15.620Z"
   },
   {
    "duration": 1083,
    "start_time": "2025-07-07T15:16:16.193Z"
   },
   {
    "duration": 440171,
    "start_time": "2025-07-07T15:16:17.279Z"
   },
   {
    "duration": 8,
    "start_time": "2025-07-07T15:23:37.460Z"
   },
   {
    "duration": 15,
    "start_time": "2025-07-07T15:23:37.470Z"
   },
   {
    "duration": 85,
    "start_time": "2025-07-07T15:23:37.487Z"
   },
   {
    "duration": 3,
    "start_time": "2025-07-07T15:23:37.574Z"
   },
   {
    "duration": 2340,
    "start_time": "2025-07-07T15:23:37.578Z"
   },
   {
    "duration": 3,
    "start_time": "2025-07-07T15:23:39.920Z"
   },
   {
    "duration": 1547,
    "start_time": "2025-07-07T15:23:39.925Z"
   },
   {
    "duration": 4,
    "start_time": "2025-07-07T15:23:41.474Z"
   },
   {
    "duration": 11,
    "start_time": "2025-07-07T15:23:41.480Z"
   },
   {
    "duration": 4,
    "start_time": "2025-07-07T15:23:41.493Z"
   },
   {
    "duration": 11,
    "start_time": "2025-07-07T15:23:41.498Z"
   },
   {
    "duration": 21,
    "start_time": "2025-07-07T15:23:41.511Z"
   },
   {
    "duration": 112277,
    "start_time": "2025-07-07T15:23:41.534Z"
   },
   {
    "duration": 11,
    "start_time": "2025-07-07T15:25:33.813Z"
   },
   {
    "duration": 32263,
    "start_time": "2025-07-07T15:25:33.825Z"
   },
   {
    "duration": 5011,
    "start_time": "2025-07-07T15:26:06.089Z"
   },
   {
    "duration": 3,
    "start_time": "2025-07-07T15:26:11.102Z"
   },
   {
    "duration": 262425,
    "start_time": "2025-07-07T15:26:11.106Z"
   },
   {
    "duration": 62,
    "start_time": "2025-07-07T15:30:33.532Z"
   },
   {
    "duration": 92,
    "start_time": "2025-07-07T15:30:33.596Z"
   },
   {
    "duration": 8,
    "start_time": "2025-07-07T15:30:33.692Z"
   },
   {
    "duration": 188,
    "start_time": "2025-07-07T15:30:33.701Z"
   },
   {
    "duration": 15694,
    "start_time": "2025-07-08T12:06:34.526Z"
   },
   {
    "duration": 4483,
    "start_time": "2025-07-08T12:06:50.223Z"
   },
   {
    "duration": 325,
    "start_time": "2025-07-08T12:06:54.710Z"
   },
   {
    "duration": 877,
    "start_time": "2025-07-08T12:06:55.036Z"
   },
   {
    "duration": 875,
    "start_time": "2025-07-08T12:07:11.362Z"
   },
   {
    "duration": 917,
    "start_time": "2025-07-08T12:07:36.971Z"
   },
   {
    "duration": 914,
    "start_time": "2025-07-08T12:10:45.667Z"
   },
   {
    "duration": 32,
    "start_time": "2025-07-08T12:11:02.824Z"
   },
   {
    "duration": 331,
    "start_time": "2025-07-08T12:11:55.400Z"
   },
   {
    "duration": 227,
    "start_time": "2025-07-08T12:12:09.991Z"
   },
   {
    "duration": 339,
    "start_time": "2025-07-08T12:12:59.713Z"
   },
   {
    "duration": 4,
    "start_time": "2025-07-08T12:13:03.661Z"
   },
   {
    "duration": 385,
    "start_time": "2025-07-08T12:13:05.633Z"
   },
   {
    "duration": 4,
    "start_time": "2025-07-08T12:13:23.998Z"
   },
   {
    "duration": 129,
    "start_time": "2025-07-08T12:13:26.315Z"
   },
   {
    "duration": 6,
    "start_time": "2025-07-08T12:50:21.082Z"
   },
   {
    "duration": 130,
    "start_time": "2025-07-08T12:55:19.435Z"
   },
   {
    "duration": 97,
    "start_time": "2025-07-08T12:55:31.047Z"
   },
   {
    "duration": 152,
    "start_time": "2025-07-08T12:55:39.203Z"
   },
   {
    "duration": 81,
    "start_time": "2025-07-08T12:56:24.941Z"
   },
   {
    "duration": 81,
    "start_time": "2025-07-08T12:56:29.724Z"
   },
   {
    "duration": 4,
    "start_time": "2025-07-08T12:56:51.852Z"
   },
   {
    "duration": 5,
    "start_time": "2025-07-08T12:57:07.385Z"
   },
   {
    "duration": 4,
    "start_time": "2025-07-08T12:57:17.427Z"
   },
   {
    "duration": 5,
    "start_time": "2025-07-08T12:57:42.117Z"
   },
   {
    "duration": 21,
    "start_time": "2025-07-08T12:59:52.512Z"
   },
   {
    "duration": 5,
    "start_time": "2025-07-08T12:59:58.409Z"
   },
   {
    "duration": 4,
    "start_time": "2025-07-08T13:00:04.574Z"
   },
   {
    "duration": 28,
    "start_time": "2025-07-08T13:01:36.526Z"
   },
   {
    "duration": 4,
    "start_time": "2025-07-08T13:02:13.866Z"
   },
   {
    "duration": 62,
    "start_time": "2025-07-08T13:02:26.030Z"
   },
   {
    "duration": 242,
    "start_time": "2025-07-08T13:04:29.118Z"
   },
   {
    "duration": 29,
    "start_time": "2025-07-08T13:06:59.016Z"
   },
   {
    "duration": 6,
    "start_time": "2025-07-08T13:07:32.647Z"
   },
   {
    "duration": 5,
    "start_time": "2025-07-08T13:07:57.635Z"
   },
   {
    "duration": 9,
    "start_time": "2025-07-08T13:08:09.259Z"
   },
   {
    "duration": 54,
    "start_time": "2025-07-08T13:08:22.365Z"
   },
   {
    "duration": 126,
    "start_time": "2025-07-08T13:09:07.262Z"
   },
   {
    "duration": 17,
    "start_time": "2025-07-08T13:16:42.784Z"
   },
   {
    "duration": 3,
    "start_time": "2025-07-08T13:16:45.672Z"
   },
   {
    "duration": 512,
    "start_time": "2025-07-08T13:16:47.386Z"
   },
   {
    "duration": 11,
    "start_time": "2025-07-08T13:16:48.895Z"
   },
   {
    "duration": 11,
    "start_time": "2025-07-08T13:18:45.713Z"
   },
   {
    "duration": 4,
    "start_time": "2025-07-08T13:35:32.418Z"
   },
   {
    "duration": 11,
    "start_time": "2025-07-08T13:36:05.593Z"
   },
   {
    "duration": 90,
    "start_time": "2025-07-08T13:37:11.744Z"
   },
   {
    "duration": 20,
    "start_time": "2025-07-08T13:37:43.035Z"
   },
   {
    "duration": 3,
    "start_time": "2025-07-08T13:42:33.077Z"
   },
   {
    "duration": 9,
    "start_time": "2025-07-08T13:42:42.968Z"
   },
   {
    "duration": 3,
    "start_time": "2025-07-08T13:42:47.879Z"
   },
   {
    "duration": 8,
    "start_time": "2025-07-08T13:42:49.278Z"
   },
   {
    "duration": 23,
    "start_time": "2025-07-08T13:43:17.190Z"
   },
   {
    "duration": 5111,
    "start_time": "2025-07-08T13:44:13.397Z"
   },
   {
    "duration": 6,
    "start_time": "2025-07-08T13:44:47.946Z"
   },
   {
    "duration": 8,
    "start_time": "2025-07-08T13:45:11.601Z"
   },
   {
    "duration": 9422,
    "start_time": "2025-07-08T13:45:32.662Z"
   },
   {
    "duration": 5,
    "start_time": "2025-07-08T13:46:27.905Z"
   },
   {
    "duration": 7272,
    "start_time": "2025-07-08T13:47:04.370Z"
   },
   {
    "duration": 7163,
    "start_time": "2025-07-08T13:47:16.509Z"
   },
   {
    "duration": 5,
    "start_time": "2025-07-08T13:47:53.569Z"
   },
   {
    "duration": 5,
    "start_time": "2025-07-08T13:48:05.303Z"
   },
   {
    "duration": 21,
    "start_time": "2025-07-08T13:48:12.686Z"
   },
   {
    "duration": 4,
    "start_time": "2025-07-08T13:48:16.455Z"
   },
   {
    "duration": 5,
    "start_time": "2025-07-08T13:48:18.552Z"
   },
   {
    "duration": 7017,
    "start_time": "2025-07-08T13:49:12.742Z"
   },
   {
    "duration": 7530,
    "start_time": "2025-07-08T13:49:49.938Z"
   },
   {
    "duration": 4,
    "start_time": "2025-07-08T13:50:18.222Z"
   },
   {
    "duration": 7190,
    "start_time": "2025-07-08T13:50:43.010Z"
   },
   {
    "duration": 7476,
    "start_time": "2025-07-08T13:50:53.749Z"
   },
   {
    "duration": 674301,
    "start_time": "2025-07-08T13:51:39.547Z"
   },
   {
    "duration": 1558,
    "start_time": "2025-07-08T14:54:30.973Z"
   },
   {
    "duration": 89,
    "start_time": "2025-07-08T14:54:45.518Z"
   },
   {
    "duration": 44,
    "start_time": "2025-07-08T14:55:10.718Z"
   },
   {
    "duration": 4,
    "start_time": "2025-07-08T14:55:40.979Z"
   },
   {
    "duration": 9,
    "start_time": "2025-07-08T14:57:49.964Z"
   },
   {
    "duration": 6,
    "start_time": "2025-07-08T14:58:08.820Z"
   },
   {
    "duration": 22,
    "start_time": "2025-07-08T14:58:28.750Z"
   },
   {
    "duration": 4,
    "start_time": "2025-07-08T14:58:37.674Z"
   },
   {
    "duration": 4,
    "start_time": "2025-07-08T14:58:46.682Z"
   },
   {
    "duration": 2039,
    "start_time": "2025-07-08T14:59:09.279Z"
   },
   {
    "duration": 4,
    "start_time": "2025-07-08T14:59:50.316Z"
   },
   {
    "duration": 1812,
    "start_time": "2025-07-08T15:00:09.947Z"
   },
   {
    "duration": 5,
    "start_time": "2025-07-08T15:04:34.235Z"
   },
   {
    "duration": 22,
    "start_time": "2025-07-08T15:06:11.787Z"
   },
   {
    "duration": 5,
    "start_time": "2025-07-08T15:06:53.222Z"
   },
   {
    "duration": 1858,
    "start_time": "2025-07-08T15:11:29.782Z"
   },
   {
    "duration": 30,
    "start_time": "2025-07-08T15:21:24.035Z"
   },
   {
    "duration": 10,
    "start_time": "2025-07-08T15:23:13.722Z"
   },
   {
    "duration": 5,
    "start_time": "2025-07-08T15:32:29.432Z"
   },
   {
    "duration": 26,
    "start_time": "2025-07-08T15:32:40.611Z"
   },
   {
    "duration": 73,
    "start_time": "2025-07-08T15:33:13.873Z"
   },
   {
    "duration": 4,
    "start_time": "2025-07-08T15:34:06.728Z"
   },
   {
    "duration": 47,
    "start_time": "2025-07-08T15:34:08.881Z"
   },
   {
    "duration": 4,
    "start_time": "2025-07-08T15:36:22.570Z"
   },
   {
    "duration": 164950,
    "start_time": "2025-07-08T15:36:26.024Z"
   },
   {
    "duration": 4,
    "start_time": "2025-07-08T15:39:28.741Z"
   },
   {
    "duration": 55436,
    "start_time": "2025-07-08T15:39:40.094Z"
   },
   {
    "duration": 54241,
    "start_time": "2025-07-08T15:40:44.887Z"
   },
   {
    "duration": 12,
    "start_time": "2025-07-08T15:41:45.109Z"
   },
   {
    "duration": 19,
    "start_time": "2025-07-08T15:43:33.160Z"
   },
   {
    "duration": 7,
    "start_time": "2025-07-08T15:43:36.208Z"
   },
   {
    "duration": 338037,
    "start_time": "2025-07-08T15:43:38.480Z"
   },
   {
    "duration": 4,
    "start_time": "2025-07-08T15:49:35.047Z"
   },
   {
    "duration": 23,
    "start_time": "2025-07-08T15:49:52.292Z"
   },
   {
    "duration": 21,
    "start_time": "2025-07-08T15:50:21.846Z"
   },
   {
    "duration": 4,
    "start_time": "2025-07-08T16:03:42.015Z"
   },
   {
    "duration": 7,
    "start_time": "2025-07-08T16:06:18.039Z"
   },
   {
    "duration": 87,
    "start_time": "2025-07-08T16:26:51.012Z"
   },
   {
    "duration": 3,
    "start_time": "2025-07-08T16:26:57.193Z"
   },
   {
    "duration": 5,
    "start_time": "2025-07-08T16:27:21.016Z"
   },
   {
    "duration": 36,
    "start_time": "2025-07-08T16:27:57.404Z"
   },
   {
    "duration": 3,
    "start_time": "2025-07-08T16:29:22.543Z"
   },
   {
    "duration": 215101,
    "start_time": "2025-07-08T16:29:24.047Z"
   },
   {
    "duration": 3,
    "start_time": "2025-07-08T16:34:59.278Z"
   },
   {
    "duration": 210816,
    "start_time": "2025-07-08T16:35:01.199Z"
   },
   {
    "duration": 3,
    "start_time": "2025-07-08T16:39:01.838Z"
   },
   {
    "duration": 139641,
    "start_time": "2025-07-08T16:40:19.365Z"
   },
   {
    "duration": 0,
    "start_time": "2025-07-08T16:42:39.010Z"
   },
   {
    "duration": 20,
    "start_time": "2025-07-08T16:42:44.649Z"
   },
   {
    "duration": 21,
    "start_time": "2025-07-08T16:51:56.342Z"
   },
   {
    "duration": 5,
    "start_time": "2025-07-08T16:52:12.879Z"
   },
   {
    "duration": 5,
    "start_time": "2025-07-08T16:52:12.966Z"
   },
   {
    "duration": 430342,
    "start_time": "2025-07-08T16:52:30.998Z"
   },
   {
    "duration": 0,
    "start_time": "2025-07-08T16:59:41.342Z"
   },
   {
    "duration": 4,
    "start_time": "2025-07-08T17:01:48.863Z"
   },
   {
    "duration": 14444,
    "start_time": "2025-07-08T17:01:53.556Z"
   },
   {
    "duration": 17,
    "start_time": "2025-07-08T17:02:45.519Z"
   },
   {
    "duration": 3,
    "start_time": "2025-07-08T17:03:19.948Z"
   },
   {
    "duration": 3,
    "start_time": "2025-07-08T17:03:38.985Z"
   },
   {
    "duration": 66530,
    "start_time": "2025-07-08T17:03:41.062Z"
   },
   {
    "duration": 16,
    "start_time": "2025-07-08T17:05:23.799Z"
   },
   {
    "duration": 4,
    "start_time": "2025-07-08T17:05:41.706Z"
   },
   {
    "duration": 81919,
    "start_time": "2025-07-08T17:05:44.200Z"
   },
   {
    "duration": 20,
    "start_time": "2025-07-08T17:07:19.198Z"
   },
   {
    "duration": 4,
    "start_time": "2025-07-08T17:07:35.317Z"
   },
   {
    "duration": 24666,
    "start_time": "2025-07-08T17:07:37.698Z"
   },
   {
    "duration": 17,
    "start_time": "2025-07-08T17:08:22.076Z"
   },
   {
    "duration": 3,
    "start_time": "2025-07-08T17:09:42.622Z"
   },
   {
    "duration": 77157,
    "start_time": "2025-07-08T17:09:45.015Z"
   },
   {
    "duration": 15,
    "start_time": "2025-07-08T17:11:12.601Z"
   },
   {
    "duration": 3,
    "start_time": "2025-07-08T17:11:28.394Z"
   },
   {
    "duration": 35506,
    "start_time": "2025-07-08T17:11:30.653Z"
   },
   {
    "duration": 15,
    "start_time": "2025-07-08T17:12:13.883Z"
   },
   {
    "duration": 3,
    "start_time": "2025-07-08T17:12:28.991Z"
   },
   {
    "duration": 79987,
    "start_time": "2025-07-08T17:12:30.989Z"
   },
   {
    "duration": 18,
    "start_time": "2025-07-08T17:14:05.567Z"
   },
   {
    "duration": 12318,
    "start_time": "2025-07-08T17:20:43.640Z"
   },
   {
    "duration": 12644,
    "start_time": "2025-07-08T17:21:11.532Z"
   },
   {
    "duration": 13604,
    "start_time": "2025-07-08T17:21:43.514Z"
   },
   {
    "duration": 34,
    "start_time": "2025-07-08T17:22:40.568Z"
   },
   {
    "duration": 3,
    "start_time": "2025-07-08T17:25:31.117Z"
   },
   {
    "duration": 3,
    "start_time": "2025-07-08T17:26:43.588Z"
   },
   {
    "duration": 35,
    "start_time": "2025-07-08T17:26:45.585Z"
   },
   {
    "duration": 55786,
    "start_time": "2025-07-08T17:26:51.450Z"
   },
   {
    "duration": 147,
    "start_time": "2025-07-08T17:28:57.476Z"
   },
   {
    "duration": 3,
    "start_time": "2025-07-08T17:30:27.901Z"
   },
   {
    "duration": 171820,
    "start_time": "2025-07-08T17:30:30.004Z"
   },
   {
    "duration": 227,
    "start_time": "2025-07-08T17:33:37.679Z"
   },
   {
    "duration": 4,
    "start_time": "2025-07-08T17:34:21.267Z"
   },
   {
    "duration": 5853,
    "start_time": "2025-07-08T17:34:26.963Z"
   },
   {
    "duration": 4,
    "start_time": "2025-07-08T17:36:51.626Z"
   },
   {
    "duration": 5860,
    "start_time": "2025-07-08T17:36:53.360Z"
   },
   {
    "duration": 3,
    "start_time": "2025-07-08T17:37:56.984Z"
   },
   {
    "duration": 341033,
    "start_time": "2025-07-08T17:37:58.998Z"
   },
   {
    "duration": 494,
    "start_time": "2025-07-08T17:43:50.348Z"
   },
   {
    "duration": 4,
    "start_time": "2025-07-08T17:44:48.210Z"
   },
   {
    "duration": 255080,
    "start_time": "2025-07-08T17:44:50.348Z"
   },
   {
    "duration": 492,
    "start_time": "2025-07-08T17:49:21.633Z"
   },
   {
    "duration": 4,
    "start_time": "2025-07-08T17:50:52.422Z"
   },
   {
    "duration": 346826,
    "start_time": "2025-07-08T17:50:54.408Z"
   },
   {
    "duration": 357,
    "start_time": "2025-07-08T17:56:58.976Z"
   },
   {
    "duration": 3,
    "start_time": "2025-07-08T17:57:40.728Z"
   },
   {
    "duration": 4238,
    "start_time": "2025-07-08T17:57:42.663Z"
   },
   {
    "duration": 111,
    "start_time": "2025-07-08T18:01:18.860Z"
   },
   {
    "duration": 5,
    "start_time": "2025-07-08T18:01:23.200Z"
   },
   {
    "duration": 53144,
    "start_time": "2025-07-08T18:01:25.283Z"
   },
   {
    "duration": 139,
    "start_time": "2025-07-08T18:02:43.560Z"
   },
   {
    "duration": 4,
    "start_time": "2025-07-08T18:02:49.893Z"
   },
   {
    "duration": 52639,
    "start_time": "2025-07-08T18:02:51.617Z"
   },
   {
    "duration": 142,
    "start_time": "2025-07-08T18:03:50.602Z"
   },
   {
    "duration": 3,
    "start_time": "2025-07-08T18:04:26.258Z"
   },
   {
    "duration": 21887,
    "start_time": "2025-07-08T18:04:28.019Z"
   },
   {
    "duration": 133,
    "start_time": "2025-07-08T18:04:59.052Z"
   },
   {
    "duration": 81,
    "start_time": "2025-07-08T18:07:07.458Z"
   },
   {
    "duration": 86,
    "start_time": "2025-07-08T18:07:14.427Z"
   },
   {
    "duration": 3,
    "start_time": "2025-07-08T18:07:31.412Z"
   },
   {
    "duration": 119,
    "start_time": "2025-07-08T18:07:33.333Z"
   },
   {
    "duration": 3,
    "start_time": "2025-07-08T18:08:38.192Z"
   },
   {
    "duration": 47723,
    "start_time": "2025-07-08T18:08:40.464Z"
   },
   {
    "duration": 180,
    "start_time": "2025-07-08T18:10:06.187Z"
   },
   {
    "duration": 3,
    "start_time": "2025-07-08T18:10:29.543Z"
   },
   {
    "duration": 82755,
    "start_time": "2025-07-08T18:10:31.488Z"
   },
   {
    "duration": 199,
    "start_time": "2025-07-08T18:12:03.065Z"
   },
   {
    "duration": 286664,
    "start_time": "2025-07-08T18:12:22.873Z"
   },
   {
    "duration": 232,
    "start_time": "2025-07-08T18:18:38.879Z"
   },
   {
    "duration": 118,
    "start_time": "2025-07-08T18:20:57.637Z"
   },
   {
    "duration": 3,
    "start_time": "2025-07-08T18:21:01.567Z"
   },
   {
    "duration": 368240,
    "start_time": "2025-07-08T18:21:05.380Z"
   },
   {
    "duration": 22,
    "start_time": "2025-07-08T18:27:35.862Z"
   },
   {
    "duration": 5,
    "start_time": "2025-07-08T18:29:03.878Z"
   },
   {
    "duration": 5,
    "start_time": "2025-07-08T18:32:15.093Z"
   },
   {
    "duration": 20,
    "start_time": "2025-07-08T18:37:12.757Z"
   },
   {
    "duration": 4,
    "start_time": "2025-07-08T18:37:34.998Z"
   },
   {
    "duration": 4,
    "start_time": "2025-07-08T18:37:42.789Z"
   },
   {
    "duration": 21,
    "start_time": "2025-07-08T18:39:03.808Z"
   },
   {
    "duration": 998,
    "start_time": "2025-07-08T18:39:10.659Z"
   },
   {
    "duration": 4,
    "start_time": "2025-07-08T18:39:17.352Z"
   },
   {
    "duration": 24,
    "start_time": "2025-07-08T18:39:43.592Z"
   },
   {
    "duration": 2,
    "start_time": "2025-07-08T18:43:49.414Z"
   },
   {
    "duration": 5,
    "start_time": "2025-07-08T18:45:19.222Z"
   },
   {
    "duration": 5,
    "start_time": "2025-07-08T18:48:20.690Z"
   },
   {
    "duration": 33,
    "start_time": "2025-07-08T18:48:53.676Z"
   },
   {
    "duration": 3230,
    "start_time": "2025-07-08T18:49:16.394Z"
   },
   {
    "duration": 19,
    "start_time": "2025-07-08T18:49:43.491Z"
   },
   {
    "duration": 17,
    "start_time": "2025-07-08T18:49:53.568Z"
   },
   {
    "duration": 5,
    "start_time": "2025-07-08T18:51:11.735Z"
   },
   {
    "duration": 1258,
    "start_time": "2025-07-08T18:51:13.579Z"
   },
   {
    "duration": 19,
    "start_time": "2025-07-08T18:51:20.342Z"
   },
   {
    "duration": 5,
    "start_time": "2025-07-08T18:51:34.706Z"
   },
   {
    "duration": 1210,
    "start_time": "2025-07-08T18:51:37.926Z"
   },
   {
    "duration": 17,
    "start_time": "2025-07-08T18:51:45.706Z"
   },
   {
    "duration": 5,
    "start_time": "2025-07-08T18:51:55.416Z"
   },
   {
    "duration": 1227,
    "start_time": "2025-07-08T18:51:58.899Z"
   },
   {
    "duration": 17,
    "start_time": "2025-07-08T18:52:03.087Z"
   },
   {
    "duration": 18058,
    "start_time": "2025-07-09T15:55:46.367Z"
   },
   {
    "duration": 4623,
    "start_time": "2025-07-09T15:56:04.428Z"
   },
   {
    "duration": 366,
    "start_time": "2025-07-09T15:56:09.054Z"
   },
   {
    "duration": 877,
    "start_time": "2025-07-09T15:56:09.422Z"
   },
   {
    "duration": 919,
    "start_time": "2025-07-09T15:56:10.301Z"
   },
   {
    "duration": 32,
    "start_time": "2025-07-09T15:56:11.222Z"
   },
   {
    "duration": 239,
    "start_time": "2025-07-09T15:56:11.255Z"
   },
   {
    "duration": 4,
    "start_time": "2025-07-09T15:56:11.495Z"
   },
   {
    "duration": 389,
    "start_time": "2025-07-09T15:56:11.501Z"
   },
   {
    "duration": 5,
    "start_time": "2025-07-09T15:56:11.891Z"
   },
   {
    "duration": 150,
    "start_time": "2025-07-09T15:56:11.897Z"
   },
   {
    "duration": 5,
    "start_time": "2025-07-09T15:56:12.049Z"
   },
   {
    "duration": 24,
    "start_time": "2025-07-09T15:56:12.055Z"
   },
   {
    "duration": 66,
    "start_time": "2025-07-09T15:56:12.082Z"
   },
   {
    "duration": 269,
    "start_time": "2025-07-09T15:56:12.149Z"
   },
   {
    "duration": 65,
    "start_time": "2025-07-09T15:56:12.420Z"
   },
   {
    "duration": 130,
    "start_time": "2025-07-09T15:56:12.486Z"
   },
   {
    "duration": 4,
    "start_time": "2025-07-09T15:56:12.618Z"
   },
   {
    "duration": 533,
    "start_time": "2025-07-09T15:56:12.623Z"
   },
   {
    "duration": 24,
    "start_time": "2025-07-09T15:56:13.158Z"
   },
   {
    "duration": 10613,
    "start_time": "2025-07-09T15:56:13.183Z"
   },
   {
    "duration": 681726,
    "start_time": "2025-07-09T15:56:23.798Z"
   },
   {
    "duration": 4,
    "start_time": "2025-07-09T16:07:45.526Z"
   },
   {
    "duration": 62,
    "start_time": "2025-07-09T16:07:45.531Z"
   },
   {
    "duration": 97,
    "start_time": "2025-07-09T16:07:45.595Z"
   },
   {
    "duration": 3,
    "start_time": "2025-07-09T16:07:45.694Z"
   },
   {
    "duration": 1967,
    "start_time": "2025-07-09T16:07:45.698Z"
   },
   {
    "duration": 11,
    "start_time": "2025-07-09T16:07:47.671Z"
   },
   {
    "duration": 341576,
    "start_time": "2025-07-09T16:07:47.688Z"
   },
   {
    "duration": 0,
    "start_time": "2025-07-09T16:13:29.266Z"
   },
   {
    "duration": 1,
    "start_time": "2025-07-09T16:13:29.272Z"
   },
   {
    "duration": 0,
    "start_time": "2025-07-09T16:13:29.273Z"
   },
   {
    "duration": 0,
    "start_time": "2025-07-09T16:13:29.274Z"
   },
   {
    "duration": 0,
    "start_time": "2025-07-09T16:13:29.276Z"
   },
   {
    "duration": 0,
    "start_time": "2025-07-09T16:13:29.277Z"
   },
   {
    "duration": 0,
    "start_time": "2025-07-09T16:13:29.279Z"
   },
   {
    "duration": 0,
    "start_time": "2025-07-09T16:13:29.280Z"
   },
   {
    "duration": 0,
    "start_time": "2025-07-09T16:13:29.281Z"
   },
   {
    "duration": 0,
    "start_time": "2025-07-09T16:13:29.282Z"
   },
   {
    "duration": 0,
    "start_time": "2025-07-09T16:13:29.283Z"
   },
   {
    "duration": 0,
    "start_time": "2025-07-09T16:13:29.285Z"
   },
   {
    "duration": 0,
    "start_time": "2025-07-09T16:13:29.286Z"
   },
   {
    "duration": 0,
    "start_time": "2025-07-09T16:13:29.287Z"
   },
   {
    "duration": 0,
    "start_time": "2025-07-09T16:13:29.289Z"
   },
   {
    "duration": 0,
    "start_time": "2025-07-09T16:13:29.290Z"
   },
   {
    "duration": 0,
    "start_time": "2025-07-09T16:13:29.291Z"
   },
   {
    "duration": 0,
    "start_time": "2025-07-09T16:13:29.292Z"
   },
   {
    "duration": 0,
    "start_time": "2025-07-09T16:13:29.293Z"
   },
   {
    "duration": 3,
    "start_time": "2025-07-09T16:13:39.004Z"
   },
   {
    "duration": 116331,
    "start_time": "2025-07-09T16:13:45.545Z"
   },
   {
    "duration": 17,
    "start_time": "2025-07-09T16:17:18.128Z"
   },
   {
    "duration": 3,
    "start_time": "2025-07-09T16:18:00.861Z"
   },
   {
    "duration": 5031,
    "start_time": "2025-07-09T16:18:07.108Z"
   },
   {
    "duration": 16,
    "start_time": "2025-07-09T16:18:25.122Z"
   },
   {
    "duration": 18,
    "start_time": "2025-07-09T16:18:44.440Z"
   },
   {
    "duration": 12950,
    "start_time": "2025-07-09T16:24:17.238Z"
   },
   {
    "duration": 4405,
    "start_time": "2025-07-09T16:24:30.191Z"
   },
   {
    "duration": 167,
    "start_time": "2025-07-09T16:24:34.597Z"
   },
   {
    "duration": 875,
    "start_time": "2025-07-09T16:24:34.766Z"
   },
   {
    "duration": 912,
    "start_time": "2025-07-09T16:24:35.643Z"
   },
   {
    "duration": 31,
    "start_time": "2025-07-09T16:24:36.556Z"
   },
   {
    "duration": 244,
    "start_time": "2025-07-09T16:24:36.589Z"
   },
   {
    "duration": 3,
    "start_time": "2025-07-09T16:24:36.835Z"
   },
   {
    "duration": 398,
    "start_time": "2025-07-09T16:24:36.840Z"
   },
   {
    "duration": 4,
    "start_time": "2025-07-09T16:24:37.240Z"
   },
   {
    "duration": 229,
    "start_time": "2025-07-09T16:24:37.246Z"
   },
   {
    "duration": 4,
    "start_time": "2025-07-09T16:24:37.477Z"
   },
   {
    "duration": 78,
    "start_time": "2025-07-09T16:24:37.483Z"
   },
   {
    "duration": 231,
    "start_time": "2025-07-09T16:24:37.563Z"
   },
   {
    "duration": 4,
    "start_time": "2025-07-09T16:24:37.796Z"
   },
   {
    "duration": 7,
    "start_time": "2025-07-09T16:24:37.802Z"
   },
   {
    "duration": 15,
    "start_time": "2025-07-09T16:24:37.811Z"
   },
   {
    "duration": 506,
    "start_time": "2025-07-09T16:24:37.828Z"
   },
   {
    "duration": 19,
    "start_time": "2025-07-09T16:24:38.336Z"
   },
   {
    "duration": 1508,
    "start_time": "2025-07-09T16:24:38.357Z"
   },
   {
    "duration": 0,
    "start_time": "2025-07-09T16:24:39.868Z"
   },
   {
    "duration": 0,
    "start_time": "2025-07-09T16:24:39.869Z"
   },
   {
    "duration": 0,
    "start_time": "2025-07-09T16:24:39.871Z"
   },
   {
    "duration": 0,
    "start_time": "2025-07-09T16:24:39.872Z"
   },
   {
    "duration": 0,
    "start_time": "2025-07-09T16:24:39.874Z"
   },
   {
    "duration": 0,
    "start_time": "2025-07-09T16:24:39.875Z"
   },
   {
    "duration": 6,
    "start_time": "2025-07-09T16:32:23.880Z"
   },
   {
    "duration": 29691,
    "start_time": "2025-07-09T16:32:43.714Z"
   },
   {
    "duration": 17461,
    "start_time": "2025-07-09T16:33:49.763Z"
   },
   {
    "duration": 1719791,
    "start_time": "2025-07-09T16:34:07.227Z"
   },
   {
    "duration": 6,
    "start_time": "2025-07-09T17:02:47.020Z"
   },
   {
    "duration": 6,
    "start_time": "2025-07-09T17:02:47.028Z"
   },
   {
    "duration": 716,
    "start_time": "2025-07-09T17:02:47.036Z"
   },
   {
    "duration": 4,
    "start_time": "2025-07-09T17:02:47.753Z"
   },
   {
    "duration": 54,
    "start_time": "2025-07-09T17:02:47.759Z"
   },
   {
    "duration": 0,
    "start_time": "2025-07-09T17:02:47.815Z"
   },
   {
    "duration": 0,
    "start_time": "2025-07-09T17:02:47.817Z"
   },
   {
    "duration": 0,
    "start_time": "2025-07-09T17:02:47.818Z"
   },
   {
    "duration": 0,
    "start_time": "2025-07-09T17:02:47.819Z"
   },
   {
    "duration": 0,
    "start_time": "2025-07-09T17:02:47.820Z"
   },
   {
    "duration": 0,
    "start_time": "2025-07-09T17:02:47.821Z"
   },
   {
    "duration": 0,
    "start_time": "2025-07-09T17:02:47.823Z"
   },
   {
    "duration": 0,
    "start_time": "2025-07-09T17:02:47.824Z"
   },
   {
    "duration": 0,
    "start_time": "2025-07-09T17:02:47.825Z"
   },
   {
    "duration": 0,
    "start_time": "2025-07-09T17:02:47.826Z"
   },
   {
    "duration": 0,
    "start_time": "2025-07-09T17:02:47.827Z"
   },
   {
    "duration": 0,
    "start_time": "2025-07-09T17:02:47.827Z"
   },
   {
    "duration": 0,
    "start_time": "2025-07-09T17:02:47.828Z"
   },
   {
    "duration": 0,
    "start_time": "2025-07-09T17:02:47.829Z"
   },
   {
    "duration": 0,
    "start_time": "2025-07-09T17:02:47.830Z"
   },
   {
    "duration": 0,
    "start_time": "2025-07-09T17:02:47.832Z"
   },
   {
    "duration": 0,
    "start_time": "2025-07-09T17:02:47.833Z"
   },
   {
    "duration": 0,
    "start_time": "2025-07-09T17:02:47.834Z"
   },
   {
    "duration": 0,
    "start_time": "2025-07-09T17:02:47.835Z"
   },
   {
    "duration": 0,
    "start_time": "2025-07-09T17:02:47.871Z"
   },
   {
    "duration": 0,
    "start_time": "2025-07-09T17:02:47.872Z"
   },
   {
    "duration": 0,
    "start_time": "2025-07-09T17:02:47.873Z"
   },
   {
    "duration": 42,
    "start_time": "2025-07-09T17:52:13.123Z"
   },
   {
    "duration": 5,
    "start_time": "2025-07-09T17:52:48.560Z"
   },
   {
    "duration": 4,
    "start_time": "2025-07-09T17:52:53.019Z"
   },
   {
    "duration": 4,
    "start_time": "2025-07-09T17:52:56.424Z"
   },
   {
    "duration": 4815,
    "start_time": "2025-07-09T18:06:43.736Z"
   },
   {
    "duration": 3,
    "start_time": "2025-07-09T18:17:39.549Z"
   },
   {
    "duration": 296558,
    "start_time": "2025-07-09T18:17:42.519Z"
   },
   {
    "duration": 18,
    "start_time": "2025-07-09T18:23:05.979Z"
   },
   {
    "duration": 372,
    "start_time": "2025-07-09T18:23:55.837Z"
   },
   {
    "duration": 5,
    "start_time": "2025-07-09T18:31:03.915Z"
   },
   {
    "duration": 3,
    "start_time": "2025-07-09T18:37:04.520Z"
   },
   {
    "duration": 307595,
    "start_time": "2025-07-09T18:37:07.083Z"
   },
   {
    "duration": 18,
    "start_time": "2025-07-09T18:42:40.551Z"
   },
   {
    "duration": 22,
    "start_time": "2025-07-09T18:42:45.936Z"
   },
   {
    "duration": 17,
    "start_time": "2025-07-09T18:42:47.875Z"
   },
   {
    "duration": 5,
    "start_time": "2025-07-09T18:43:16.926Z"
   },
   {
    "duration": 116,
    "start_time": "2025-07-09T18:43:19.123Z"
   },
   {
    "duration": 3,
    "start_time": "2025-07-09T18:43:39.178Z"
   },
   {
    "duration": 603915,
    "start_time": "2025-07-09T18:43:55.208Z"
   },
   {
    "duration": 20865,
    "start_time": "2025-07-09T18:54:44.602Z"
   },
   {
    "duration": 10971,
    "start_time": "2025-07-09T18:57:20.071Z"
   },
   {
    "duration": 6008,
    "start_time": "2025-07-09T18:57:31.045Z"
   },
   {
    "duration": 192,
    "start_time": "2025-07-09T18:57:37.055Z"
   },
   {
    "duration": 913,
    "start_time": "2025-07-09T18:57:37.249Z"
   },
   {
    "duration": 943,
    "start_time": "2025-07-09T18:57:38.172Z"
   },
   {
    "duration": 33,
    "start_time": "2025-07-09T18:57:39.116Z"
   },
   {
    "duration": 260,
    "start_time": "2025-07-09T18:57:39.151Z"
   },
   {
    "duration": 3,
    "start_time": "2025-07-09T18:57:39.413Z"
   },
   {
    "duration": 411,
    "start_time": "2025-07-09T18:57:39.418Z"
   },
   {
    "duration": 4,
    "start_time": "2025-07-09T18:57:39.831Z"
   },
   {
    "duration": 156,
    "start_time": "2025-07-09T18:57:39.836Z"
   },
   {
    "duration": 5,
    "start_time": "2025-07-09T18:57:39.993Z"
   },
   {
    "duration": 95,
    "start_time": "2025-07-09T18:57:39.999Z"
   },
   {
    "duration": 248,
    "start_time": "2025-07-09T18:57:40.097Z"
   },
   {
    "duration": 5,
    "start_time": "2025-07-09T18:57:40.346Z"
   },
   {
    "duration": 577,
    "start_time": "2025-07-09T18:57:40.352Z"
   },
   {
    "duration": 22,
    "start_time": "2025-07-09T18:57:40.931Z"
   },
   {
    "duration": 27519,
    "start_time": "2025-07-09T18:57:40.955Z"
   },
   {
    "duration": 1692180,
    "start_time": "2025-07-09T18:58:08.476Z"
   },
   {
    "duration": 18,
    "start_time": "2025-07-09T19:26:20.658Z"
   },
   {
    "duration": 75,
    "start_time": "2025-07-09T19:26:20.679Z"
   },
   {
    "duration": 715,
    "start_time": "2025-07-09T19:26:20.756Z"
   },
   {
    "duration": 7,
    "start_time": "2025-07-09T19:26:21.473Z"
   },
   {
    "duration": 5244,
    "start_time": "2025-07-09T19:26:21.484Z"
   },
   {
    "duration": 4,
    "start_time": "2025-07-09T19:26:26.729Z"
   },
   {
    "duration": 290760,
    "start_time": "2025-07-09T19:26:26.734Z"
   },
   {
    "duration": 89,
    "start_time": "2025-07-09T19:31:17.497Z"
   },
   {
    "duration": 142,
    "start_time": "2025-07-09T19:31:17.588Z"
   },
   {
    "duration": 3,
    "start_time": "2025-07-09T19:31:17.732Z"
   },
   {
    "duration": 9856,
    "start_time": "2025-07-09T19:31:17.736Z"
   },
   {
    "duration": 1,
    "start_time": "2025-07-09T19:31:27.593Z"
   },
   {
    "duration": 0,
    "start_time": "2025-07-09T19:31:27.595Z"
   },
   {
    "duration": 0,
    "start_time": "2025-07-09T19:31:27.596Z"
   },
   {
    "duration": 0,
    "start_time": "2025-07-09T19:31:27.597Z"
   },
   {
    "duration": 0,
    "start_time": "2025-07-09T19:31:27.598Z"
   },
   {
    "duration": 0,
    "start_time": "2025-07-09T19:31:27.599Z"
   },
   {
    "duration": 0,
    "start_time": "2025-07-09T19:31:27.600Z"
   },
   {
    "duration": 3,
    "start_time": "2025-07-09T19:31:45.760Z"
   },
   {
    "duration": 1003836,
    "start_time": "2025-07-09T19:31:47.916Z"
   },
   {
    "duration": 19038,
    "start_time": "2025-07-09T19:48:38.688Z"
   },
   {
    "duration": 3,
    "start_time": "2025-07-09T19:48:59.494Z"
   },
   {
    "duration": 293049,
    "start_time": "2025-07-09T19:49:01.487Z"
   },
   {
    "duration": 4,
    "start_time": "2025-07-09T19:54:30.894Z"
   },
   {
    "duration": 3,
    "start_time": "2025-07-09T19:54:55.718Z"
   },
   {
    "duration": 9052,
    "start_time": "2025-07-09T19:55:03.761Z"
   },
   {
    "duration": 11,
    "start_time": "2025-07-09T19:56:08.533Z"
   },
   {
    "duration": 4,
    "start_time": "2025-07-09T19:57:13.687Z"
   },
   {
    "duration": 10,
    "start_time": "2025-07-09T19:57:17.614Z"
   },
   {
    "duration": 17,
    "start_time": "2025-07-09T19:57:25.866Z"
   },
   {
    "duration": 18,
    "start_time": "2025-07-09T19:57:33.160Z"
   },
   {
    "duration": 371,
    "start_time": "2025-07-09T19:59:34.089Z"
   },
   {
    "duration": 4,
    "start_time": "2025-07-09T20:15:00.628Z"
   },
   {
    "duration": 17887,
    "start_time": "2025-07-09T20:15:03.610Z"
   },
   {
    "duration": 3,
    "start_time": "2025-07-09T20:15:28.296Z"
   },
   {
    "duration": 17799,
    "start_time": "2025-07-09T20:15:29.954Z"
   },
   {
    "duration": 3,
    "start_time": "2025-07-09T20:15:53.216Z"
   },
   {
    "duration": 19009,
    "start_time": "2025-07-09T20:15:59.399Z"
   },
   {
    "duration": 3,
    "start_time": "2025-07-09T20:16:41.388Z"
   },
   {
    "duration": 18963,
    "start_time": "2025-07-09T20:16:44.983Z"
   },
   {
    "duration": 3,
    "start_time": "2025-07-09T20:17:11.451Z"
   },
   {
    "duration": 138666,
    "start_time": "2025-07-09T20:17:13.519Z"
   },
   {
    "duration": 3,
    "start_time": "2025-07-09T20:19:44.618Z"
   },
   {
    "duration": 34751,
    "start_time": "2025-07-09T20:19:46.983Z"
   },
   {
    "duration": 5,
    "start_time": "2025-07-09T20:20:23.813Z"
   },
   {
    "duration": 108,
    "start_time": "2025-07-09T20:20:25.580Z"
   },
   {
    "duration": 3,
    "start_time": "2025-07-09T20:20:50.752Z"
   },
   {
    "duration": 196421,
    "start_time": "2025-07-09T20:20:53.657Z"
   },
   {
    "duration": 4,
    "start_time": "2025-07-09T20:24:16.360Z"
   },
   {
    "duration": 18735,
    "start_time": "2025-07-09T20:24:18.418Z"
   },
   {
    "duration": 3,
    "start_time": "2025-07-09T20:24:55.621Z"
   },
   {
    "duration": 21322,
    "start_time": "2025-07-09T20:24:56.939Z"
   },
   {
    "duration": 430,
    "start_time": "2025-07-09T20:27:25.004Z"
   },
   {
    "duration": 330,
    "start_time": "2025-07-09T20:27:48.010Z"
   },
   {
    "duration": 347,
    "start_time": "2025-07-09T20:27:58.037Z"
   },
   {
    "duration": 15986,
    "start_time": "2025-07-09T20:30:06.380Z"
   },
   {
    "duration": 15,
    "start_time": "2025-07-09T20:32:14.220Z"
   },
   {
    "duration": 39,
    "start_time": "2025-07-09T20:33:14.076Z"
   },
   {
    "duration": 14,
    "start_time": "2025-07-09T20:33:42.289Z"
   },
   {
    "duration": 6,
    "start_time": "2025-07-09T20:33:50.185Z"
   },
   {
    "duration": 4,
    "start_time": "2025-07-09T20:33:54.145Z"
   },
   {
    "duration": 26,
    "start_time": "2025-07-09T20:34:01.802Z"
   },
   {
    "duration": 27,
    "start_time": "2025-07-09T20:34:21.683Z"
   },
   {
    "duration": 23,
    "start_time": "2025-07-09T20:35:03.375Z"
   },
   {
    "duration": 251,
    "start_time": "2025-07-09T20:35:58.719Z"
   },
   {
    "duration": 2133,
    "start_time": "2025-07-09T20:36:05.247Z"
   },
   {
    "duration": 3,
    "start_time": "2025-07-09T20:36:28.437Z"
   },
   {
    "duration": 4,
    "start_time": "2025-07-09T20:37:20.459Z"
   },
   {
    "duration": 33,
    "start_time": "2025-07-09T20:37:36.821Z"
   },
   {
    "duration": 458,
    "start_time": "2025-07-09T20:37:51.330Z"
   },
   {
    "duration": 332,
    "start_time": "2025-07-09T20:38:07.352Z"
   },
   {
    "duration": 71,
    "start_time": "2025-07-09T20:38:12.769Z"
   },
   {
    "duration": 3,
    "start_time": "2025-07-09T20:39:50.766Z"
   },
   {
    "duration": 5,
    "start_time": "2025-07-09T20:40:01.737Z"
   },
   {
    "duration": 4,
    "start_time": "2025-07-09T20:40:08.906Z"
   },
   {
    "duration": 4,
    "start_time": "2025-07-09T20:40:11.616Z"
   },
   {
    "duration": 10,
    "start_time": "2025-07-09T20:40:23.713Z"
   },
   {
    "duration": 51,
    "start_time": "2025-07-09T20:40:33.565Z"
   },
   {
    "duration": 525,
    "start_time": "2025-07-09T20:40:39.612Z"
   },
   {
    "duration": 382,
    "start_time": "2025-07-09T20:40:47.209Z"
   },
   {
    "duration": 2,
    "start_time": "2025-07-09T20:41:30.368Z"
   },
   {
    "duration": 45,
    "start_time": "2025-07-09T20:42:57.571Z"
   },
   {
    "duration": 23,
    "start_time": "2025-07-09T20:43:18.658Z"
   },
   {
    "duration": 3,
    "start_time": "2025-07-09T20:47:55.789Z"
   },
   {
    "duration": 286476,
    "start_time": "2025-07-09T20:47:57.460Z"
   }
  ],
  "kernelspec": {
   "display_name": "Python 3 (ipykernel)",
   "language": "python",
   "name": "python3"
  },
  "language_info": {
   "codemirror_mode": {
    "name": "ipython",
    "version": 3
   },
   "file_extension": ".py",
   "mimetype": "text/x-python",
   "name": "python",
   "nbconvert_exporter": "python",
   "pygments_lexer": "ipython3",
   "version": "3.9.5"
  },
  "toc": {
   "base_numbering": 1,
   "nav_menu": {},
   "number_sections": true,
   "sideBar": true,
   "skip_h1_title": true,
   "title_cell": "Содержание",
   "title_sidebar": "Contents",
   "toc_cell": true,
   "toc_position": {
    "height": "calc(100% - 180px)",
    "left": "10px",
    "top": "150px",
    "width": "302.391px"
   },
   "toc_section_display": true,
   "toc_window_display": true
  }
 },
 "nbformat": 4,
 "nbformat_minor": 2
}
