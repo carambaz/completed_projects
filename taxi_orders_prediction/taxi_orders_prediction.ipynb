{
 "cells": [
  {
   "cell_type": "markdown",
   "metadata": {},
   "source": [
    "Перед началом работы над проектом импортируем необходимые инструменты:"
   ]
  },
  {
   "cell_type": "code",
   "execution_count": 1,
   "metadata": {},
   "outputs": [],
   "source": [
    "# Установка и обновление необходимых библиотек:\n",
    "!pip install --upgrade scikit-learn -q\n",
    "!pip install lightgbm -q\n",
    "!pip install catboost -q"
   ]
  },
  {
   "cell_type": "code",
   "execution_count": 2,
   "metadata": {},
   "outputs": [],
   "source": [
    "# Импорт необходимых библиотек и модулей:\n",
    "import pandas as pd\n",
    "import numpy as np\n",
    "import matplotlib.pyplot as plt\n",
    "import seaborn as sns\n",
    "import sklearn\n",
    "import lightgbm as lgb\n",
    "import time\n",
    "\n",
    "from statsmodels.tsa.seasonal import seasonal_decompose\n",
    "from statsmodels.tsa.stattools import adfuller\n",
    "from statsmodels.tsa.stattools import kpss\n",
    "\n",
    "from sklearn.model_selection import (\n",
    "    train_test_split,\n",
    "    TimeSeriesSplit,\n",
    "    RandomizedSearchCV,\n",
    "    cross_validate\n",
    ")\n",
    "\n",
    "# Импорт моделей:\n",
    "from sklearn.linear_model import LinearRegression\n",
    "from lightgbm import LGBMRegressor\n",
    "from catboost import CatBoostRegressor\n",
    "\n",
    "# Импорт функции метрики:\n",
    "from sklearn.metrics import root_mean_squared_error as rmse\n",
    "\n",
    "from warnings import simplefilter"
   ]
  },
  {
   "cell_type": "code",
   "execution_count": 3,
   "metadata": {},
   "outputs": [],
   "source": [
    "# Доп. настройка сетки для графиков:\n",
    "sns.set_style(\"darkgrid\", {'grid.color': 'gray'})\n",
    "\n",
    "# Отключение предупреждений:\n",
    "simplefilter(action='ignore', category=Warning)"
   ]
  },
  {
   "cell_type": "markdown",
   "metadata": {},
   "source": [
    "## Ознакомление с данными\n",
    "\n",
    "После импортирования необходимых инструментов считаем и сохраним полученный датасет. Далее проверим корректность считывания:"
   ]
  },
  {
   "cell_type": "code",
   "execution_count": 4,
   "metadata": {},
   "outputs": [
    {
     "data": {
      "text/html": [
       "<div>\n",
       "<style scoped>\n",
       "    .dataframe tbody tr th:only-of-type {\n",
       "        vertical-align: middle;\n",
       "    }\n",
       "\n",
       "    .dataframe tbody tr th {\n",
       "        vertical-align: top;\n",
       "    }\n",
       "\n",
       "    .dataframe thead th {\n",
       "        text-align: right;\n",
       "    }\n",
       "</style>\n",
       "<table border=\"1\" class=\"dataframe\">\n",
       "  <thead>\n",
       "    <tr style=\"text-align: right;\">\n",
       "      <th></th>\n",
       "      <th>datetime</th>\n",
       "      <th>num_orders</th>\n",
       "    </tr>\n",
       "  </thead>\n",
       "  <tbody>\n",
       "    <tr>\n",
       "      <th>0</th>\n",
       "      <td>2018-03-01 00:00:00</td>\n",
       "      <td>9</td>\n",
       "    </tr>\n",
       "    <tr>\n",
       "      <th>1</th>\n",
       "      <td>2018-03-01 00:10:00</td>\n",
       "      <td>14</td>\n",
       "    </tr>\n",
       "    <tr>\n",
       "      <th>2</th>\n",
       "      <td>2018-03-01 00:20:00</td>\n",
       "      <td>28</td>\n",
       "    </tr>\n",
       "  </tbody>\n",
       "</table>\n",
       "</div>"
      ],
      "text/plain": [
       "              datetime  num_orders\n",
       "0  2018-03-01 00:00:00           9\n",
       "1  2018-03-01 00:10:00          14\n",
       "2  2018-03-01 00:20:00          28"
      ]
     },
     "execution_count": 4,
     "metadata": {},
     "output_type": "execute_result"
    }
   ],
   "source": [
    "# Прочитаем и сохраним полученный датасет:\n",
    "data = pd.read_csv('/datasets/taxi.csv')\n",
    "\n",
    "# Проверка считывания:\n",
    "data.head(3)"
   ]
  },
  {
   "cell_type": "markdown",
   "metadata": {},
   "source": [
    "Содержание столбцов соответствует их описанию. Названия столбцов корректы.\n",
    "\n",
    "Выведем общую информацию о датасете, чтобы оценить степень заполненость данных и типы данных:"
   ]
  },
  {
   "cell_type": "code",
   "execution_count": 5,
   "metadata": {},
   "outputs": [
    {
     "name": "stdout",
     "output_type": "stream",
     "text": [
      "Общая информация о датасете:\n",
      "\n",
      "<class 'pandas.core.frame.DataFrame'>\n",
      "RangeIndex: 26496 entries, 0 to 26495\n",
      "Data columns (total 2 columns):\n",
      " #   Column      Non-Null Count  Dtype \n",
      "---  ------      --------------  ----- \n",
      " 0   datetime    26496 non-null  object\n",
      " 1   num_orders  26496 non-null  int64 \n",
      "dtypes: int64(1), object(1)\n",
      "memory usage: 414.1+ KB\n"
     ]
    }
   ],
   "source": [
    "# Вывод общей информации:\n",
    "print('Общая информация о датасете:\\n')\n",
    "data.info()"
   ]
  },
  {
   "cell_type": "markdown",
   "metadata": {},
   "source": [
    "Пропусков нет. Столбец `datetime` не соответвует по типу данных. Изменим его на следующем этапе.\n",
    "\n",
    "Проверим наш датасет на наличие **явных** дубликатов."
   ]
  },
  {
   "cell_type": "code",
   "execution_count": 6,
   "metadata": {},
   "outputs": [
    {
     "name": "stdout",
     "output_type": "stream",
     "text": [
      "Кол-во явных дубликатов: 0\n"
     ]
    }
   ],
   "source": [
    "print(f'Кол-во явных дубликатов: {data.duplicated().sum()}')"
   ]
  },
  {
   "cell_type": "markdown",
   "metadata": {},
   "source": [
    "### Вывод\n",
    "\n",
    "На данном этапе:\n",
    "\n",
    "- датафрейм был прочитан и сохранён;\n",
    "- обнаружено несоответствие типа столбца с датой и временем;\n",
    "- явных дубликатов нет;\n",
    "\n",
    "Переходим к этапу подготовки данных."
   ]
  },
  {
   "cell_type": "markdown",
   "metadata": {},
   "source": [
    "## Подготовка\n",
    "\n",
    "Подготовим данные к анализу и последующей передаче моделям МО.\n",
    "\n",
    "Для начала изменим тип данных столбца `datetime`:"
   ]
  },
  {
   "cell_type": "code",
   "execution_count": 7,
   "metadata": {},
   "outputs": [
    {
     "name": "stdout",
     "output_type": "stream",
     "text": [
      "Тип данных столбца datetime: datetime64[ns]\n"
     ]
    }
   ],
   "source": [
    "# Меняем тип данных:\n",
    "data['datetime'] = data['datetime'].astype('datetime64')\n",
    "\n",
    "# Проверка:\n",
    "print(f'Тип данных столбца datetime: {data.datetime.dtype}')"
   ]
  },
  {
   "cell_type": "markdown",
   "metadata": {},
   "source": [
    "Установим этот столбец в качестве индекса нашего датасета:"
   ]
  },
  {
   "cell_type": "code",
   "execution_count": 8,
   "metadata": {},
   "outputs": [
    {
     "data": {
      "text/html": [
       "<div>\n",
       "<style scoped>\n",
       "    .dataframe tbody tr th:only-of-type {\n",
       "        vertical-align: middle;\n",
       "    }\n",
       "\n",
       "    .dataframe tbody tr th {\n",
       "        vertical-align: top;\n",
       "    }\n",
       "\n",
       "    .dataframe thead th {\n",
       "        text-align: right;\n",
       "    }\n",
       "</style>\n",
       "<table border=\"1\" class=\"dataframe\">\n",
       "  <thead>\n",
       "    <tr style=\"text-align: right;\">\n",
       "      <th></th>\n",
       "      <th>num_orders</th>\n",
       "    </tr>\n",
       "    <tr>\n",
       "      <th>datetime</th>\n",
       "      <th></th>\n",
       "    </tr>\n",
       "  </thead>\n",
       "  <tbody>\n",
       "    <tr>\n",
       "      <th>2018-03-01 00:00:00</th>\n",
       "      <td>9</td>\n",
       "    </tr>\n",
       "    <tr>\n",
       "      <th>2018-03-01 00:10:00</th>\n",
       "      <td>14</td>\n",
       "    </tr>\n",
       "    <tr>\n",
       "      <th>2018-03-01 00:20:00</th>\n",
       "      <td>28</td>\n",
       "    </tr>\n",
       "  </tbody>\n",
       "</table>\n",
       "</div>"
      ],
      "text/plain": [
       "                     num_orders\n",
       "datetime                       \n",
       "2018-03-01 00:00:00           9\n",
       "2018-03-01 00:10:00          14\n",
       "2018-03-01 00:20:00          28"
      ]
     },
     "execution_count": 8,
     "metadata": {},
     "output_type": "execute_result"
    }
   ],
   "source": [
    "# Делаем datetime индексом таблицы:\n",
    "data.set_index('datetime', inplace=True)\n",
    "\n",
    "# Проверка:\n",
    "data.head(3)"
   ]
  },
  {
   "cell_type": "markdown",
   "metadata": {},
   "source": [
    "Теперь необходимо проверить, соблюдён ли хронологический порядок даты и времени:"
   ]
  },
  {
   "cell_type": "code",
   "execution_count": 9,
   "metadata": {},
   "outputs": [
    {
     "name": "stdout",
     "output_type": "stream",
     "text": [
      "Хронологический порядок соблюдён.\n"
     ]
    }
   ],
   "source": [
    "# Проверка:\n",
    "if data.index.is_monotonic == True:\n",
    "    print('Хронологический порядок соблюдён.')\n",
    "else:\n",
    "    print('Хронологический порядок нарушен.')"
   ]
  },
  {
   "cell_type": "markdown",
   "metadata": {},
   "source": [
    "Дополнительно можно посмотреть, какой период нам доступен:"
   ]
  },
  {
   "cell_type": "code",
   "execution_count": 10,
   "metadata": {},
   "outputs": [
    {
     "name": "stdout",
     "output_type": "stream",
     "text": [
      "Доступный промежуток от 2018-03-01 00:00:00 до 2018-08-31 23:50:00\n"
     ]
    }
   ],
   "source": [
    "print(f'Доступный промежуток от {data.index.min()} до {data.index.max()}')"
   ]
  },
  {
   "cell_type": "markdown",
   "metadata": {},
   "source": [
    "_Заказчиком были переданы данные от первого марта до 31 августа 2018 года, а это полгода._\n",
    "\n",
    "Отлично, теперь проведём ресемплирование данных. На данный момент, похоже, что интервал равен 10 минутам. Убедимся в этом:"
   ]
  },
  {
   "cell_type": "code",
   "execution_count": 11,
   "metadata": {},
   "outputs": [
    {
     "name": "stdout",
     "output_type": "stream",
     "text": [
      "Значения минут в таблице: [ 0 10 20 30 40 50]\n"
     ]
    }
   ],
   "source": [
    "print(f'Значения минут в таблице: {data.index.minute.unique().values}')"
   ]
  },
  {
   "cell_type": "markdown",
   "metadata": {},
   "source": [
    "Это действительно так. Увеличим интервал до 1 часа, а заказы в этот промежуток суммируем."
   ]
  },
  {
   "cell_type": "code",
   "execution_count": 12,
   "metadata": {},
   "outputs": [
    {
     "data": {
      "text/html": [
       "<div>\n",
       "<style scoped>\n",
       "    .dataframe tbody tr th:only-of-type {\n",
       "        vertical-align: middle;\n",
       "    }\n",
       "\n",
       "    .dataframe tbody tr th {\n",
       "        vertical-align: top;\n",
       "    }\n",
       "\n",
       "    .dataframe thead th {\n",
       "        text-align: right;\n",
       "    }\n",
       "</style>\n",
       "<table border=\"1\" class=\"dataframe\">\n",
       "  <thead>\n",
       "    <tr style=\"text-align: right;\">\n",
       "      <th></th>\n",
       "      <th>num_orders</th>\n",
       "    </tr>\n",
       "    <tr>\n",
       "      <th>datetime</th>\n",
       "      <th></th>\n",
       "    </tr>\n",
       "  </thead>\n",
       "  <tbody>\n",
       "    <tr>\n",
       "      <th>2018-03-01 00:00:00</th>\n",
       "      <td>124</td>\n",
       "    </tr>\n",
       "    <tr>\n",
       "      <th>2018-03-01 01:00:00</th>\n",
       "      <td>85</td>\n",
       "    </tr>\n",
       "    <tr>\n",
       "      <th>2018-03-01 02:00:00</th>\n",
       "      <td>71</td>\n",
       "    </tr>\n",
       "    <tr>\n",
       "      <th>2018-03-01 03:00:00</th>\n",
       "      <td>66</td>\n",
       "    </tr>\n",
       "    <tr>\n",
       "      <th>2018-03-01 04:00:00</th>\n",
       "      <td>43</td>\n",
       "    </tr>\n",
       "  </tbody>\n",
       "</table>\n",
       "</div>"
      ],
      "text/plain": [
       "                     num_orders\n",
       "datetime                       \n",
       "2018-03-01 00:00:00         124\n",
       "2018-03-01 01:00:00          85\n",
       "2018-03-01 02:00:00          71\n",
       "2018-03-01 03:00:00          66\n",
       "2018-03-01 04:00:00          43"
      ]
     },
     "metadata": {},
     "output_type": "display_data"
    },
    {
     "name": "stdout",
     "output_type": "stream",
     "text": [
      "Теперь строк: 4416.\n"
     ]
    }
   ],
   "source": [
    "# Увеличение интервала:\n",
    "data = data.resample('1H').sum()\n",
    "\n",
    "# Проверка:\n",
    "display(data.head())\n",
    "print(f'Теперь строк: {data.shape[0]}.')"
   ]
  },
  {
   "cell_type": "markdown",
   "metadata": {},
   "source": [
    "### Вывод\n",
    "\n",
    "На данном этапе:\n",
    "\n",
    "- Изменили тип данных у столбца, который впоследствии слелали индексом для удобства в будущей работе;\n",
    "- Ресемплировали данные до 1 часа, суммируя все заказы за этот час.\n",
    "- Количество отметок после ресемплирования снизилось до 4416шт.\n",
    "\n",
    "Переходим к этапу анализа."
   ]
  },
  {
   "cell_type": "markdown",
   "metadata": {},
   "source": [
    "## Анализ\n",
    "\n",
    "Рассмотрим основные числовые характеристики заказов:"
   ]
  },
  {
   "cell_type": "code",
   "execution_count": 13,
   "metadata": {},
   "outputs": [
    {
     "data": {
      "text/html": [
       "<div>\n",
       "<style scoped>\n",
       "    .dataframe tbody tr th:only-of-type {\n",
       "        vertical-align: middle;\n",
       "    }\n",
       "\n",
       "    .dataframe tbody tr th {\n",
       "        vertical-align: top;\n",
       "    }\n",
       "\n",
       "    .dataframe thead th {\n",
       "        text-align: right;\n",
       "    }\n",
       "</style>\n",
       "<table border=\"1\" class=\"dataframe\">\n",
       "  <thead>\n",
       "    <tr style=\"text-align: right;\">\n",
       "      <th></th>\n",
       "      <th>count</th>\n",
       "      <th>mean</th>\n",
       "      <th>std</th>\n",
       "      <th>min</th>\n",
       "      <th>25%</th>\n",
       "      <th>50%</th>\n",
       "      <th>75%</th>\n",
       "      <th>max</th>\n",
       "    </tr>\n",
       "  </thead>\n",
       "  <tbody>\n",
       "    <tr>\n",
       "      <th>num_orders</th>\n",
       "      <td>4416.0</td>\n",
       "      <td>84.422781</td>\n",
       "      <td>45.023853</td>\n",
       "      <td>0.0</td>\n",
       "      <td>54.0</td>\n",
       "      <td>78.0</td>\n",
       "      <td>107.0</td>\n",
       "      <td>462.0</td>\n",
       "    </tr>\n",
       "  </tbody>\n",
       "</table>\n",
       "</div>"
      ],
      "text/plain": [
       "             count       mean        std  min   25%   50%    75%    max\n",
       "num_orders  4416.0  84.422781  45.023853  0.0  54.0  78.0  107.0  462.0"
      ]
     },
     "execution_count": 13,
     "metadata": {},
     "output_type": "execute_result"
    }
   ],
   "source": [
    "data.describe().T"
   ]
  },
  {
   "cell_type": "markdown",
   "metadata": {},
   "source": [
    "1. Медианное среднее количество заказов в час — 78, так как есть выбросы и по 462 заказа за час.\n",
    "2. Есть \"нулевые\" часы.\n",
    "\n",
    "Можно дополнительно рассмотреть часы-выбросы."
   ]
  },
  {
   "cell_type": "code",
   "execution_count": 14,
   "metadata": {},
   "outputs": [
    {
     "data": {
      "image/png": "[encoded data removed]",
      "text/plain": [
       "<Figure size 792x288 with 1 Axes>"
      ]
     },
     "metadata": {},
     "output_type": "display_data"
    }
   ],
   "source": [
    "# Построение диаграммы размаха:\n",
    "plt.figure(figsize=(11,4))\n",
    "plt.boxplot(data, vert=False)\n",
    "plt.title('Диаграмма размаха количества заказов в час')\n",
    "plt.xlabel('Количество заказов в час', fontsize=12)\n",
    "plt.ylabel('Значения')\n",
    "\n",
    "plt.show()"
   ]
  },
  {
   "cell_type": "markdown",
   "metadata": {},
   "source": [
    "Во временном ряде есть 3 отметки о свыше 400 заказов и 1 отметка о почти 350 заказов.\n",
    "\n",
    "Построим общий график нашего временного ряда:"
   ]
  },
  {
   "cell_type": "code",
   "execution_count": 15,
   "metadata": {},
   "outputs": [],
   "source": [
    "# Скопируем данные для удобства:\n",
    "analyse = data.copy()\n",
    "\n",
    "# Функция для построения графика:\n",
    "def show_plot(data, size=(16, 5), title='Динамика количества заказов по времени',\n",
    "              xlabel='Месяц', ylabel='Количество заказов', legend=[], xticks=None):\n",
    "    plt.figure(figsize=size)\n",
    "    plt.plot(data)\n",
    "    plt.title(title, fontsize=14)\n",
    "    plt.xlabel(xlabel, fontsize=12)\n",
    "    plt.ylabel(ylabel)\n",
    "    plt.legend(legend)\n",
    "    \n",
    "    if xticks == 'hours':\n",
    "        plt.xticks(range(24))\n",
    "\n",
    "    plt.show()"
   ]
  },
  {
   "cell_type": "code",
   "execution_count": 16,
   "metadata": {},
   "outputs": [
    {
     "data": {
      "image/png": "[encoded data removed]",
      "text/plain": [
       "<Figure size 1152x360 with 1 Axes>"
      ]
     },
     "metadata": {},
     "output_type": "display_data"
    }
   ],
   "source": [
    "# Построение графика:\n",
    "legend = ['Общая динамика заказов']\n",
    "show_plot(analyse, legend=legend)"
   ]
  },
  {
   "cell_type": "markdown",
   "metadata": {},
   "source": [
    "Похоже, с шестого месяца появляется тренд на увеличение среднего количества закзазов, график понемного идёт вверх. Проверим это с помощью скользящего среднего.\n",
    "\n",
    "Для начала добавим его в ряд, а затем визуализируем."
   ]
  },
  {
   "cell_type": "code",
   "execution_count": 17,
   "metadata": {},
   "outputs": [
    {
     "data": {
      "image/png": "[encoded data removed]",
      "text/plain": [
       "<Figure size 1152x360 with 1 Axes>"
      ]
     },
     "metadata": {},
     "output_type": "display_data"
    }
   ],
   "source": [
    "# Расчёт скользящего среднего:\n",
    "analyse['rolling_mean'] = analyse.rolling(46).mean()\n",
    "legend.append('Скользящее среднее')\n",
    "\n",
    "# Построение графика:\n",
    "show_plot(analyse, legend=legend)"
   ]
  },
  {
   "cell_type": "markdown",
   "metadata": {},
   "source": [
    "Действительно, есть тренд на увеличение скользящего среднего. Посмотрим на изменение стандартного отклонения."
   ]
  },
  {
   "cell_type": "code",
   "execution_count": 18,
   "metadata": {},
   "outputs": [
    {
     "data": {
      "image/png": "[encoded data removed]",
      "text/plain": [
       "<Figure size 1152x360 with 1 Axes>"
      ]
     },
     "metadata": {},
     "output_type": "display_data"
    }
   ],
   "source": [
    "# Расчёт стандартного отклонения:\n",
    "analyse['std'] = analyse['num_orders'].rolling(46).std()\n",
    "legend.append('Станд. отклонение')\n",
    "\n",
    "# Построение графика:\n",
    "show_plot(analyse, legend=legend)"
   ]
  },
  {
   "cell_type": "markdown",
   "metadata": {},
   "source": [
    "Стандартное отклонение так же немного начинает расти.<br>_Стоит также заметить, что в тестовую выборку попадут «нестабильные» данные, что усложнит проверку моделей._\n",
    "\n",
    "\n",
    "**Проведём небольшой декомпозиционный анализ**:<br>Для более детального рассмотрения декомпозируем временной ряд на отдельные составляющие."
   ]
  },
  {
   "cell_type": "code",
   "execution_count": 19,
   "metadata": {},
   "outputs": [],
   "source": [
    "# Декомпозиция на составляющие:\n",
    "decomposed = seasonal_decompose(data)"
   ]
  },
  {
   "cell_type": "markdown",
   "metadata": {},
   "source": [
    "Рассмотрим отдельно _тренд_ и _сезонность_."
   ]
  },
  {
   "cell_type": "code",
   "execution_count": 20,
   "metadata": {},
   "outputs": [
    {
     "data": {
      "image/png": "[encoded data removed]",
      "text/plain": [
       "<Figure size 1152x360 with 1 Axes>"
      ]
     },
     "metadata": {},
     "output_type": "display_data"
    }
   ],
   "source": [
    "# Построение графика тренда:\n",
    "show_plot(decomposed.trend, title='Динамика тренда по времени')"
   ]
  },
  {
   "cell_type": "markdown",
   "metadata": {},
   "source": [
    "Тренд действительно меняется в бóльшую сторону. Похоже, что мы имеем дело с _нестационарным_ временным рядом, но нужна дополнительная проверка."
   ]
  },
  {
   "cell_type": "code",
   "execution_count": 21,
   "metadata": {},
   "outputs": [
    {
     "data": {
      "image/png": "[encoded data removed]",
      "text/plain": [
       "<Figure size 1152x360 with 1 Axes>"
      ]
     },
     "metadata": {},
     "output_type": "display_data"
    }
   ],
   "source": [
    "# Построение графика сезонности:\n",
    "show_plot(decomposed.seasonal, title='Сезонность временного ряда')"
   ]
  },
  {
   "cell_type": "markdown",
   "metadata": {},
   "source": [
    "Увеличим масштаб колебаний:"
   ]
  },
  {
   "cell_type": "code",
   "execution_count": 22,
   "metadata": {},
   "outputs": [
    {
     "data": {
      "image/png": "[encoded data removed]",
      "text/plain": [
       "<Figure size 1152x360 with 1 Axes>"
      ]
     },
     "metadata": {},
     "output_type": "display_data"
    }
   ],
   "source": [
    "show_plot(\n",
    "    decomposed.seasonal['2018-03-01':'2018-03-07'],\n",
    "    title='Сезонность временного ряда',\n",
    "    xlabel='Дата'\n",
    ")"
   ]
  },
  {
   "cell_type": "markdown",
   "metadata": {},
   "source": [
    "Наблюдаются идентичные _суточные_ колебания количества заказов. Количество заказов варьируется в зависимости от времени суток.<br>Углубимся в день временного ряда, чтобы узнать, какие часы выделяются динамикой заказов."
   ]
  },
  {
   "cell_type": "code",
   "execution_count": 23,
   "metadata": {},
   "outputs": [
    {
     "data": {
      "image/png": "[encoded data removed]",
      "text/plain": [
       "<Figure size 1152x360 with 1 Axes>"
      ]
     },
     "metadata": {},
     "output_type": "display_data"
    }
   ],
   "source": [
    "# Построение графика:\n",
    "show_plot(\n",
    "    data.pivot_table(\n",
    "        index=data.index.hour.values,\n",
    "        values='num_orders',\n",
    "        aggfunc='mean'\n",
    "    ), \n",
    "    title='Ср. кол-во заказов по часам',\n",
    "    xlabel='Время суток',\n",
    "    xticks='hours'\n",
    ")"
   ]
  },
  {
   "cell_type": "markdown",
   "metadata": {},
   "source": [
    "1. Больше всего заказов наблюдается в районе **12 часов ночи**.\n",
    "2. Меньше всего — в районе **шести и семи утра**.\n",
    "3. Дальше в течение дня пик заказов находится в районе **16 часов дня**.\n",
    "\n",
    "Пик заказов в околоночное время можно объяснить прилётами в аэропорт в это время, что косвенно может быть связано с ценами на авиабилеты.\n",
    "\n",
    "Также можно рассмотреть и шумы декомпозиции (остатки):"
   ]
  },
  {
   "cell_type": "code",
   "execution_count": 24,
   "metadata": {},
   "outputs": [
    {
     "data": {
      "image/png": "[encoded data removed]",
      "text/plain": [
       "<Figure size 1152x360 with 1 Axes>"
      ]
     },
     "metadata": {},
     "output_type": "display_data"
    }
   ],
   "source": [
    "# Построение графика остатков:\n",
    "show_plot(decomposed.resid, title='Остатки')"
   ]
  },
  {
   "cell_type": "markdown",
   "metadata": {},
   "source": [
    "Эти значения случайны."
   ]
  },
  {
   "cell_type": "markdown",
   "metadata": {},
   "source": [
    "### Тест на стационарность\n",
    "\n",
    "Чтобы окончательно определиться с дальнейшими действиями, проведём формальный тест `Дики — Фуллера (ADF)` для определения стационарности нашего временного ряда.\n",
    "\n",
    "ADF-тест проверяет нулевую гипотезу (H0) о наличии нестационарности против альтернативной гипотезы (H1) о стационарности ряда."
   ]
  },
  {
   "cell_type": "code",
   "execution_count": 25,
   "metadata": {},
   "outputs": [],
   "source": [
    "# Функция на проведение ADF-теста:\n",
    "def adf_test(data, alpha):\n",
    "    result = adfuller(data)\n",
    "    p_value = result[1]\n",
    "    \n",
    "    print('p-value =', p_value.round(3), '=>')\n",
    "    \n",
    "    if result[1] <= alpha:\n",
    "        print('=> Отвергаем H0: ВР стационарен.')\n",
    "    else:\n",
    "        print('=> Не отвергаем H0: ВР нестационарен.')"
   ]
  },
  {
   "cell_type": "markdown",
   "metadata": {},
   "source": [
    "Установим уровень статистической значимости на `5%` (alpha) и проведём тест."
   ]
  },
  {
   "cell_type": "code",
   "execution_count": 26,
   "metadata": {},
   "outputs": [
    {
     "name": "stdout",
     "output_type": "stream",
     "text": [
      "p-value = 0.029 =>\n",
      "=> Отвергаем H0: ВР стационарен.\n"
     ]
    }
   ],
   "source": [
    "# Проведение ADF-теста:\n",
    "adf_test(data, alpha=.05)"
   ]
  },
  {
   "cell_type": "markdown",
   "metadata": {},
   "source": [
    "Интересно. Наблюдения на графике говорят об обратном. Для уверенности проведём еще один формальный тест — `Квятковского-Филлипса-Шмидта-Шина (KPSS)`. Его нулевая гипотеза (H0) наоборот строится о наличии стацинарности временного ряда, а альтернативная (Н1) уже о нестационарности."
   ]
  },
  {
   "cell_type": "code",
   "execution_count": 27,
   "metadata": {},
   "outputs": [],
   "source": [
    "# Функция на проведение KPSS-теста:\n",
    "def kpss_test(data, alpha):\n",
    "    result = kpss(data)\n",
    "    p_value = result[1]\n",
    "    \n",
    "    print('p-value =', p_value.round(3), '=>')\n",
    "    \n",
    "    if result[1] <= alpha:\n",
    "        print('=> Отвергаем H0: ВР нестационарен.')\n",
    "    else:\n",
    "        print('=> Не отвергаем H0: ВР стационарен.')"
   ]
  },
  {
   "cell_type": "markdown",
   "metadata": {},
   "source": [
    "Установим уровень статистической значимости на `5%` (alpha) и проведём тест."
   ]
  },
  {
   "cell_type": "code",
   "execution_count": 28,
   "metadata": {},
   "outputs": [
    {
     "name": "stdout",
     "output_type": "stream",
     "text": [
      "p-value = 0.01 =>\n",
      "=> Отвергаем H0: ВР нестационарен.\n"
     ]
    }
   ],
   "source": [
    "# Проведение KPSS-теста:\n",
    "kpss_test(data, alpha=.05)"
   ]
  },
  {
   "cell_type": "markdown",
   "metadata": {},
   "source": [
    "Скорее всего, мы имеем _нестационарный_ временной ряд. Фактическое наблюдение и KPSS-тест об этом говорят.<br> 2:1."
   ]
  },
  {
   "cell_type": "markdown",
   "metadata": {},
   "source": [
    "### Вывод\n",
    "\n",
    "На данном этапе мы выяснили:\n",
    "\n",
    "- Медианное среднее количество заказов в час — 78;\n",
    "- Есть часы, в которых заказов вообще не зафиксировано. Есть и выбросы с количеством заказов > 200;\n",
    "- Больше всего заказов наблюдается в районе 12 часов ночи.\n",
    "- Меньше всего — в районе шести и семи утра.\n",
    "- Дальше в течение дня пик заказов находится в районе 16 часов дня.\n",
    "- Декомпозировали временной ряд на составляющие. Увидели рост тренда и наличие суточного колебания кол-ва заказов.\n",
    "- Похоже, что мы имеем _нестационарный_ временной ряд. Тем более проверка моделей усложнится тем, что в тестовую выборку попадут «нестабильные данные»."
   ]
  },
  {
   "cell_type": "markdown",
   "metadata": {},
   "source": [
    "## Подготовка данных к обучению\n",
    "\n",
    "Перед тем, как передавать моделям выборки, создадим дополнительные признаки для обеспечения более качественного обучения.<br>Напишем для этого функцию:"
   ]
  },
  {
   "cell_type": "code",
   "execution_count": 29,
   "metadata": {},
   "outputs": [],
   "source": [
    "def make_features(data, max_lag, window_size):\n",
    "    # Создание календарных признаков:\n",
    "    # Год не будем добавлять, т.к. такой признак будет бесполезен\n",
    "    data['month'] = data.index.month\n",
    "    data['day'] = data.index.day\n",
    "    data['dayofweek'] = data.index.dayofweek\n",
    "    data['hour'] = data.index.hour\n",
    "    \n",
    "    # Создание отстающих значений:\n",
    "    for lag in range(1, max_lag + 1):\n",
    "        data['lag_{}'.format(lag)] = data['num_orders'].shift(lag)\n",
    "    \n",
    "    # Создание скользящего среднего:\n",
    "    data['rolling_mean'] = data['num_orders'].shift().rolling(window_size).mean()"
   ]
  },
  {
   "cell_type": "markdown",
   "metadata": {},
   "source": [
    "Теперь необходимо подготовить выборки:"
   ]
  },
  {
   "cell_type": "code",
   "execution_count": 30,
   "metadata": {},
   "outputs": [],
   "source": [
    "# Функция для разделения на выборки:\n",
    "def get_samples(time_series, target, test_size):\n",
    "    \n",
    "    # Тренировочная и валидационная:\n",
    "    train, valid = train_test_split(\n",
    "        time_series,\n",
    "        test_size=test_size,\n",
    "        shuffle=False\n",
    "    )\n",
    "    \n",
    "    # Отделение тестовой:\n",
    "    valid, test = train_test_split(\n",
    "        valid,\n",
    "        test_size=.5,\n",
    "        shuffle=False\n",
    "    )\n",
    "    \n",
    "    # Получение выборок:\n",
    "    X_train = train.drop(target, axis=1)\n",
    "    y_train = train[target]\n",
    "    \n",
    "    X_valid = valid.drop(target, axis=1)\n",
    "    y_valid = valid[target]\n",
    "    \n",
    "    X_test = test.drop(target, axis=1)\n",
    "    y_test = test[target]\n",
    "    \n",
    "    # Убираем пустые значения из обучающей выборки:\n",
    "    X_train.dropna(inplace=True)\n",
    "    \n",
    "    # Исправляем несоответствие размеров:\n",
    "    y_train = y_train[y_train.index.isin(X_train.index)]\n",
    "    \n",
    "    \n",
    "    # Проверка:\n",
    "    print('Размер тренировочной выборки: {:.0%}'.format(X_train.shape[0] / time_series.shape[0]))\n",
    "    print('Размер валидационной выборки: {:.0%}'.format(X_valid.shape[0] / time_series.shape[0]))\n",
    "    print('Размер тестовой выборки: {:.0%}'.format(X_test.shape[0] / time_series.shape[0]))\n",
    "    print(f'\\nКол-во пропусков в обучающих данных: {X_train.isna().sum().sum()}')\n",
    "        \n",
    "        \n",
    "    return X_train, X_valid, X_test, y_train, y_valid, y_test"
   ]
  },
  {
   "cell_type": "markdown",
   "metadata": {},
   "source": [
    "Создадим копию нашего временного ряда для удобства:"
   ]
  },
  {
   "cell_type": "code",
   "execution_count": 31,
   "metadata": {},
   "outputs": [],
   "source": [
    "# Копирование и сохранение:\n",
    "model_data = data.copy()"
   ]
  },
  {
   "cell_type": "markdown",
   "metadata": {},
   "source": [
    "Приступим к созданию признаков и формированию выборок:"
   ]
  },
  {
   "cell_type": "code",
   "execution_count": 32,
   "metadata": {},
   "outputs": [],
   "source": [
    "# Создание признаков:\n",
    "make_features(model_data, max_lag=30, window_size=80)"
   ]
  },
  {
   "cell_type": "code",
   "execution_count": 33,
   "metadata": {},
   "outputs": [
    {
     "name": "stdout",
     "output_type": "stream",
     "text": [
      "Размер тренировочной выборки: 78%\n",
      "Размер валидационной выборки: 10%\n",
      "Размер тестовой выборки: 10%\n",
      "\n",
      "Кол-во пропусков в обучающих данных: 0\n"
     ]
    }
   ],
   "source": [
    "# Получение выборок:\n",
    "X_train, X_valid, X_test, y_train, y_valid, y_test = get_samples(\n",
    "    model_data,\n",
    "    'num_orders',\n",
    "    test_size=0.2\n",
    ")"
   ]
  },
  {
   "cell_type": "markdown",
   "metadata": {},
   "source": [
    "Можно дополнительно проверить правильность разделения ряда на выборки:"
   ]
  },
  {
   "cell_type": "code",
   "execution_count": 34,
   "metadata": {},
   "outputs": [
    {
     "name": "stdout",
     "output_type": "stream",
     "text": [
      "X_train: от 2018-03-04 08:00:00 до 2018-07-26 03:00:00\n",
      "X_valid: от 2018-07-26 04:00:00 до 2018-08-13 13:00:00\n",
      "X_test: от 2018-08-13 14:00:00 до 2018-08-31 23:00:00\n"
     ]
    }
   ],
   "source": [
    "# Проверка хронологии выборок:\n",
    "print(f'X_train: от {X_train.index.min()} до {X_train.index.max()}')\n",
    "print(f'X_valid: от {X_valid.index.min()} до {X_valid.index.max()}')\n",
    "print(f'X_test: от {X_test.index.min()} до {X_test.index.max()}')"
   ]
  },
  {
   "cell_type": "markdown",
   "metadata": {},
   "source": [
    "### Вывод\n",
    "\n",
    "На данном этапе мы создали новые признаки для повышения качества обучения и сформировали выборки."
   ]
  },
  {
   "cell_type": "markdown",
   "metadata": {},
   "source": [
    "## Обучение моделей\n",
    "\n",
    "### LinearRegression\n",
    "\n",
    "В начале рассмотрим самую базовую лин. регрессию.<br>Данная модель без гиперпараметров, поэтому инициализируем её и проверим на кросс-валидации, чтобы оценка была более объективной."
   ]
  },
  {
   "cell_type": "code",
   "execution_count": 35,
   "metadata": {},
   "outputs": [],
   "source": [
    "# Инициализация инструмента кросс-валидации для временных рядов:\n",
    "tscv = TimeSeriesSplit(n_splits=20)"
   ]
  },
  {
   "cell_type": "code",
   "execution_count": 36,
   "metadata": {},
   "outputs": [
    {
     "name": "stdout",
     "output_type": "stream",
     "text": [
      "Метрика RMSE модели на кросс-валидации: 24.43\n"
     ]
    }
   ],
   "source": [
    "# Инициализация модели:\n",
    "model_lr = LinearRegression()\n",
    "\n",
    "# Запускаем кросс-валидацию и сохраняем результаты:\n",
    "lr_cv = cross_validate(\n",
    "    model_lr,\n",
    "    X_train,\n",
    "    y_train,\n",
    "    scoring='neg_root_mean_squared_error',\n",
    "    cv=tscv,\n",
    "    n_jobs=-1\n",
    ")\n",
    "\n",
    "print('Метрика RMSE модели на кросс-валидации:',\n",
    "      abs(lr_cv['test_score'].mean().round(2)))"
   ]
  },
  {
   "cell_type": "markdown",
   "metadata": {},
   "source": [
    "Неплохой результат на кросс-валидации, посмотрим, как модель справится с валидационной выборкой."
   ]
  },
  {
   "cell_type": "code",
   "execution_count": 37,
   "metadata": {},
   "outputs": [
    {
     "name": "stdout",
     "output_type": "stream",
     "text": [
      "Метрика RMSE линрег-модели на валидационной выборке: 33.94\n"
     ]
    }
   ],
   "source": [
    "# Обучение модели:\n",
    "model_lr.fit(X_train, y_train)\n",
    "\n",
    "# Получим значение её метрики на валидации:\n",
    "rmse_lr = round(rmse(y_valid, model_lr.predict(X_valid)), 2)\n",
    "\n",
    "# Вывод её метрики:\n",
    "print(f'Метрика RMSE линрег-модели на валидационной выборке: {rmse_lr}')"
   ]
  },
  {
   "cell_type": "markdown",
   "metadata": {},
   "source": [
    "Хм, значение метрики упало, но всё еще удовлетворяет требованию."
   ]
  },
  {
   "cell_type": "markdown",
   "metadata": {},
   "source": [
    "### LGBMRegressor\n",
    "\n",
    "Для начала выделим категориальные признаки, чтобы затем передать их модели для внутреннего кодировщика, предварительно изменив тип данных:"
   ]
  },
  {
   "cell_type": "code",
   "execution_count": 38,
   "metadata": {},
   "outputs": [],
   "source": [
    "# Выделяем категориальные признаки:\n",
    "cat_col = list(X_train.columns[0:4])"
   ]
  },
  {
   "cell_type": "markdown",
   "metadata": {},
   "source": [
    "Теперь можно изменить тип данных:"
   ]
  },
  {
   "cell_type": "code",
   "execution_count": 39,
   "metadata": {},
   "outputs": [
    {
     "name": "stdout",
     "output_type": "stream",
     "text": [
      "Новые типы данных у признаков:\n",
      "\n",
      "month        category\n",
      "day          category\n",
      "dayofweek    category\n",
      "hour         category\n",
      "dtype: object\n"
     ]
    }
   ],
   "source": [
    "# Изменим тип данных с помощью цикла:\n",
    "for column in cat_col:\n",
    "    model_data[column] = model_data[column].astype('category')\n",
    "    \n",
    "# Проверка:\n",
    "print('Новые типы данных у признаков:\\n')\n",
    "print(model_data[cat_col].dtypes)"
   ]
  },
  {
   "cell_type": "markdown",
   "metadata": {},
   "source": [
    "Сформируем для неё выборки ещё раз:"
   ]
  },
  {
   "cell_type": "code",
   "execution_count": 40,
   "metadata": {},
   "outputs": [
    {
     "name": "stdout",
     "output_type": "stream",
     "text": [
      "Размер тренировочной выборки: 78%\n",
      "Размер валидационной выборки: 10%\n",
      "Размер тестовой выборки: 10%\n",
      "\n",
      "Кол-во пропусков в обучающих данных: 0\n"
     ]
    }
   ],
   "source": [
    "# Получение выборок:\n",
    "X_train, X_valid, X_test, y_train, y_valid, y_test = get_samples(model_data, 'num_orders', test_size=0.2)"
   ]
  },
  {
   "cell_type": "markdown",
   "metadata": {},
   "source": [
    "Произведём инициализацию модели, зададим значения её гиперпараметров для перебора:"
   ]
  },
  {
   "cell_type": "code",
   "execution_count": 41,
   "metadata": {},
   "outputs": [],
   "source": [
    "# Изменим значение параметра разбивки на подвыборки:\n",
    "tscv = TimeSeriesSplit(n_splits=5)\n",
    "\n",
    "# Инициализация модели:\n",
    "lgb_model = lgb.LGBMRegressor(\n",
    "    n_estimators=120,\n",
    "    learning_rate=0.8,\n",
    "    random_state=42,\n",
    "    n_jobs=-1,\n",
    "    categorical_features=cat_col\n",
    ")\n",
    "\n",
    "# Задаём ГП для перебора:\n",
    "lgb_params = {\n",
    "    'max_depth': [5, 8, 10],\n",
    "    'reg_alpha': [0.1, 0.2]\n",
    "}"
   ]
  },
  {
   "cell_type": "markdown",
   "metadata": {},
   "source": [
    "Передадим инструменту `RandomizedSearchCV` нашу модель и диапазоны ГП:"
   ]
  },
  {
   "cell_type": "code",
   "execution_count": 42,
   "metadata": {},
   "outputs": [],
   "source": [
    "# Инициализация инструмента подбора:\n",
    "lgb_rs = RandomizedSearchCV(\n",
    "    lgb_model,\n",
    "    lgb_params,\n",
    "    scoring='neg_root_mean_squared_error',\n",
    "    n_jobs=-1,\n",
    "    cv=tscv,\n",
    "    n_iter=5,\n",
    "    random_state=42,\n",
    "    verbose=3\n",
    ")"
   ]
  },
  {
   "cell_type": "markdown",
   "metadata": {},
   "source": [
    "Запустим перебор гиперпараметров, там же будем проводить валидацию модели:"
   ]
  },
  {
   "cell_type": "code",
   "execution_count": 43,
   "metadata": {
    "scrolled": true
   },
   "outputs": [
    {
     "name": "stdout",
     "output_type": "stream",
     "text": [
      "Fitting 5 folds for each of 5 candidates, totalling 25 fits\n",
      "[CV 1/5] END ......max_depth=5, reg_alpha=0.1;, score=-26.780 total time=   1.3s\n",
      "[CV 2/5] END ......max_depth=5, reg_alpha=0.1;, score=-26.611 total time=   2.1s\n",
      "[CV 3/5] END ......max_depth=5, reg_alpha=0.1;, score=-27.774 total time=   1.0s\n",
      "[CV 4/5] END ......max_depth=5, reg_alpha=0.1;, score=-30.393 total time=   0.8s\n",
      "[CV 5/5] END ......max_depth=5, reg_alpha=0.1;, score=-31.476 total time=   1.1s\n",
      "[CV 1/5] END ......max_depth=5, reg_alpha=0.2;, score=-26.823 total time=   0.5s\n",
      "[CV 2/5] END ......max_depth=5, reg_alpha=0.2;, score=-26.265 total time=   1.6s\n",
      "[CV 3/5] END ......max_depth=5, reg_alpha=0.2;, score=-27.458 total time=   0.8s\n",
      "[CV 4/5] END ......max_depth=5, reg_alpha=0.2;, score=-29.700 total time=   0.9s\n",
      "[CV 5/5] END ......max_depth=5, reg_alpha=0.2;, score=-30.505 total time=   1.0s\n",
      "[CV 1/5] END .....max_depth=10, reg_alpha=0.2;, score=-24.813 total time=   0.5s\n",
      "[CV 2/5] END .....max_depth=10, reg_alpha=0.2;, score=-27.639 total time=   1.1s\n",
      "[CV 3/5] END .....max_depth=10, reg_alpha=0.2;, score=-29.526 total time=   1.4s\n",
      "[CV 4/5] END .....max_depth=10, reg_alpha=0.2;, score=-30.158 total time=   1.6s\n",
      "[CV 5/5] END .....max_depth=10, reg_alpha=0.2;, score=-32.225 total time=   2.2s\n",
      "[CV 1/5] END ......max_depth=8, reg_alpha=0.1;, score=-24.752 total time=   0.5s\n",
      "[CV 2/5] END ......max_depth=8, reg_alpha=0.1;, score=-27.864 total time=   1.0s\n",
      "[CV 3/5] END ......max_depth=8, reg_alpha=0.1;, score=-28.217 total time=   1.4s\n",
      "[CV 4/5] END ......max_depth=8, reg_alpha=0.1;, score=-29.928 total time=   1.5s\n",
      "[CV 5/5] END ......max_depth=8, reg_alpha=0.1;, score=-30.923 total time=   1.5s\n",
      "[CV 1/5] END .....max_depth=10, reg_alpha=0.1;, score=-24.756 total time=   0.6s\n",
      "[CV 2/5] END .....max_depth=10, reg_alpha=0.1;, score=-27.074 total time=   1.2s\n",
      "[CV 3/5] END .....max_depth=10, reg_alpha=0.1;, score=-28.460 total time=   1.7s\n",
      "[CV 4/5] END .....max_depth=10, reg_alpha=0.1;, score=-30.985 total time=   1.6s\n",
      "[CV 5/5] END .....max_depth=10, reg_alpha=0.1;, score=-31.702 total time=   1.7s\n",
      "\n",
      "\n",
      "Время на поиск и кросс-валидацию составило: 31.86 c.\n"
     ]
    }
   ],
   "source": [
    "# Интересно, сколько займёт подбор и валидация:\n",
    "start_lgb_rs = time.time()\n",
    "\n",
    "# Запускаем подбор ГП и валидацию:\n",
    "lgb_rs.fit(X_train, y_train, verbose=20)\n",
    "\n",
    "end_lgb_rs = time.time()\n",
    "time_spent = end_lgb_rs - start_lgb_rs\n",
    "\n",
    "print(f'\\n\\nВремя на поиск и кросс-валидацию составило: {round(time_spent, 2)} c.')"
   ]
  },
  {
   "cell_type": "markdown",
   "metadata": {},
   "source": [
    "Сохраним лучшую модель отдельно и посмотрим её метрику."
   ]
  },
  {
   "cell_type": "code",
   "execution_count": 44,
   "metadata": {},
   "outputs": [
    {
     "name": "stdout",
     "output_type": "stream",
     "text": [
      "Метрика RMSE лучшей LGB-модели на валидационной выборке: 37.54\n"
     ]
    }
   ],
   "source": [
    "# Сохранение лучшей модели:\n",
    "best_lgb = lgb_rs.best_estimator_\n",
    "\n",
    "# Получим значение её метрики на валидации:\n",
    "rmse_lgb = round(rmse(y_valid, best_lgb.predict(X_valid)), 2)\n",
    "\n",
    "# Вывод её метрики:\n",
    "print(f'Метрика RMSE лучшей LGB-модели на валидационной выборке: {rmse_lgb}')"
   ]
  },
  {
   "cell_type": "markdown",
   "metadata": {},
   "source": [
    "Интересно, что данная модель на валидации справилась чуть хуже, чем обычная лин. регрессия."
   ]
  },
  {
   "cell_type": "markdown",
   "metadata": {},
   "source": [
    "### CatBoostRegressor\n",
    "\n",
    "Для этой модели уже не требуется тип `category` для категориальных признаков. Сформируем выборки для неё:"
   ]
  },
  {
   "cell_type": "code",
   "execution_count": 45,
   "metadata": {},
   "outputs": [
    {
     "name": "stdout",
     "output_type": "stream",
     "text": [
      "Размер тренировочной выборки: 78%\n",
      "Размер валидационной выборки: 10%\n",
      "Размер тестовой выборки: 10%\n",
      "\n",
      "Кол-во пропусков в обучающих данных: 0\n"
     ]
    }
   ],
   "source": [
    "# Получение выборок:\n",
    "X_train, X_valid, X_test, y_train, y_valid, y_test = get_samples(model_data, 'num_orders', test_size=0.2)"
   ]
  },
  {
   "cell_type": "markdown",
   "metadata": {},
   "source": [
    "Проведём инициализацию и зададим гиперпараметры для поиска:"
   ]
  },
  {
   "cell_type": "code",
   "execution_count": 46,
   "metadata": {},
   "outputs": [],
   "source": [
    "# Инициализация модели:\n",
    "catboost_model = CatBoostRegressor(\n",
    "    max_leaves=40,\n",
    "    cat_features=cat_col,\n",
    "    random_state=42,\n",
    "    grow_policy='Lossguide'\n",
    ")\n",
    "\n",
    "cat_params = {\n",
    "    'learning_rate': [0.8, 0.9]\n",
    "}"
   ]
  },
  {
   "cell_type": "markdown",
   "metadata": {},
   "source": [
    "Изменим также количество разбиений на подвыборки в `TimeSeriesSplit`."
   ]
  },
  {
   "cell_type": "code",
   "execution_count": 47,
   "metadata": {},
   "outputs": [],
   "source": [
    "# Изменим значение параметра:\n",
    "tscv = TimeSeriesSplit(n_splits=3)\n",
    "\n",
    "# Инициализация инструмента подбора:\n",
    "catboost_rs = RandomizedSearchCV(\n",
    "    catboost_model,\n",
    "    cat_params,\n",
    "    scoring='neg_root_mean_squared_error',\n",
    "    n_jobs=-1,\n",
    "    cv=tscv,\n",
    "    n_iter=3,\n",
    "    random_state=42,\n",
    "    verbose=15\n",
    ")"
   ]
  },
  {
   "cell_type": "code",
   "execution_count": 48,
   "metadata": {
    "scrolled": true
   },
   "outputs": [
    {
     "name": "stdout",
     "output_type": "stream",
     "text": [
      "Fitting 3 folds for each of 2 candidates, totalling 6 fits\n",
      "[CV 1/3; 1/2] START learning_rate=0.8...........................................\n",
      "[CV 1/3; 1/2] END ..........learning_rate=0.8;, score=-26.201 total time=  13.4s\n",
      "[CV 2/3; 1/2] START learning_rate=0.8...........................................\n",
      "[CV 2/3; 1/2] END ..........learning_rate=0.8;, score=-27.681 total time=  16.7s\n",
      "[CV 3/3; 1/2] START learning_rate=0.8...........................................\n",
      "[CV 3/3; 1/2] END ..........learning_rate=0.8;, score=-31.266 total time=  19.8s\n",
      "[CV 1/3; 2/2] START learning_rate=0.9...........................................\n",
      "[CV 1/3; 2/2] END ..........learning_rate=0.9;, score=-26.835 total time=  12.1s\n",
      "[CV 2/3; 2/2] START learning_rate=0.9...........................................\n",
      "[CV 2/3; 2/2] END ..........learning_rate=0.9;, score=-28.677 total time=  17.1s\n",
      "[CV 3/3; 2/2] START learning_rate=0.9...........................................\n",
      "[CV 3/3; 2/2] END ..........learning_rate=0.9;, score=-32.795 total time=  19.6s\n",
      "\n",
      "\n",
      "Время на поиск и кросс-валидацию составило: 120.77 c.\n"
     ]
    }
   ],
   "source": [
    "# Запускаем подбор ГП и валидацию:\n",
    "start_cat_rs = time.time()\n",
    "\n",
    "catboost_rs.fit(X_train, y_train, verbose=False)\n",
    "\n",
    "end_cat_rs = time.time()\n",
    "time_spent = end_cat_rs - start_cat_rs\n",
    "\n",
    "print(f'\\n\\nВремя на поиск и кросс-валидацию составило: {round(time_spent, 2)} c.')"
   ]
  },
  {
   "cell_type": "markdown",
   "metadata": {},
   "source": [
    "Сохраним отдельно лучшую модель и опробуем её на валидационной выборке:"
   ]
  },
  {
   "cell_type": "code",
   "execution_count": 49,
   "metadata": {},
   "outputs": [
    {
     "name": "stdout",
     "output_type": "stream",
     "text": [
      "Метрика RMSE лучшей CatBoost-модели на валидационной выборке: 38.19\n"
     ]
    }
   ],
   "source": [
    "# Сохранение лучшей модели:\n",
    "best_cat = catboost_rs.best_estimator_\n",
    "\n",
    "# Получим значение её метрики на валидации:\n",
    "rmse_cat = round(rmse(y_valid, best_cat.predict(X_valid)), 2)\n",
    "\n",
    "# Вывод её метрики:\n",
    "print(f'Метрика RMSE лучшей CatBoost-модели на валидационной выборке: {rmse_cat}')"
   ]
  },
  {
   "cell_type": "markdown",
   "metadata": {},
   "source": [
    "Что ж, эта модель справилась ещё хуже, чем обе предыдущие.\n",
    "\n",
    "### Проверка на адекватность\n",
    "\n",
    "Проверим наши модели на адекватность предсказаниями `предыдущими значениями ряда`. Сделаем это для всех моделей с помощью функции:"
   ]
  },
  {
   "cell_type": "code",
   "execution_count": 50,
   "metadata": {},
   "outputs": [],
   "source": [
    "# Функция для проверки модели:\n",
    "def check_model(metric):\n",
    "\n",
    "    # Получение дамми-предсказаний:\n",
    "    dummy_pred = y_valid.shift(fill_value=y_train[-1])\n",
    "    \n",
    "    # Получение метрики:\n",
    "    rmse_dummy = rmse(y_valid, dummy_pred)\n",
    "    \n",
    "    # Презентация результатов:\n",
    "    print('Метрика RMSE дамми-модели на валидационной выборке:',\n",
    "      round(rmse_dummy, 2), '=>')\n",
    "    \n",
    "    if rmse_dummy > metric:\n",
    "        print('=> Модель прошла проверку на адекватность.')\n",
    "    else:\n",
    "        print('=> Модель НЕ прошла проверку на адекватность.')"
   ]
  },
  {
   "cell_type": "markdown",
   "metadata": {},
   "source": [
    "Проверяем:"
   ]
  },
  {
   "cell_type": "code",
   "execution_count": 51,
   "metadata": {},
   "outputs": [
    {
     "name": "stdout",
     "output_type": "stream",
     "text": [
      "Метрика RMSE дамми-модели на валидационной выборке: 47.25 =>\n",
      "=> Модель прошла проверку на адекватность.\n"
     ]
    }
   ],
   "source": [
    "# Проверка линейной регрессии:\n",
    "check_model(rmse_lr)"
   ]
  },
  {
   "cell_type": "code",
   "execution_count": 52,
   "metadata": {},
   "outputs": [
    {
     "name": "stdout",
     "output_type": "stream",
     "text": [
      "Метрика RMSE дамми-модели на валидационной выборке: 47.25 =>\n",
      "=> Модель прошла проверку на адекватность.\n"
     ]
    }
   ],
   "source": [
    "# Проверка LGB-модели:\n",
    "check_model(rmse_lgb)"
   ]
  },
  {
   "cell_type": "code",
   "execution_count": 53,
   "metadata": {},
   "outputs": [
    {
     "name": "stdout",
     "output_type": "stream",
     "text": [
      "Метрика RMSE дамми-модели на валидационной выборке: 47.25 =>\n",
      "=> Модель прошла проверку на адекватность.\n"
     ]
    }
   ],
   "source": [
    "# Проверка CatBoost-модели: \n",
    "check_model(rmse_cat)"
   ]
  },
  {
   "cell_type": "markdown",
   "metadata": {},
   "source": [
    "Таким образом, все модели прошли проверку на адекватность. Занятно, что дамми-предсказания уложились в диапазон метрики от заказчика.\n",
    "\n",
    "Лучшую модель выберем по значению метрики, т.к. от заказчика не поступало требований по каким-либо еще критериям."
   ]
  },
  {
   "cell_type": "code",
   "execution_count": 54,
   "metadata": {},
   "outputs": [
    {
     "data": {
      "text/html": [
       "<div>\n",
       "<style scoped>\n",
       "    .dataframe tbody tr th:only-of-type {\n",
       "        vertical-align: middle;\n",
       "    }\n",
       "\n",
       "    .dataframe tbody tr th {\n",
       "        vertical-align: top;\n",
       "    }\n",
       "\n",
       "    .dataframe thead th {\n",
       "        text-align: right;\n",
       "    }\n",
       "</style>\n",
       "<table border=\"1\" class=\"dataframe\">\n",
       "  <thead>\n",
       "    <tr style=\"text-align: right;\">\n",
       "      <th></th>\n",
       "      <th>RMSE</th>\n",
       "    </tr>\n",
       "  </thead>\n",
       "  <tbody>\n",
       "    <tr>\n",
       "      <th>LinearRegression</th>\n",
       "      <td>33.94</td>\n",
       "    </tr>\n",
       "    <tr>\n",
       "      <th>LGBMRegressor</th>\n",
       "      <td>37.54</td>\n",
       "    </tr>\n",
       "    <tr>\n",
       "      <th>CatBoostRegressor</th>\n",
       "      <td>38.19</td>\n",
       "    </tr>\n",
       "  </tbody>\n",
       "</table>\n",
       "</div>"
      ],
      "text/plain": [
       "                    RMSE\n",
       "LinearRegression   33.94\n",
       "LGBMRegressor      37.54\n",
       "CatBoostRegressor  38.19"
      ]
     },
     "execution_count": 54,
     "metadata": {},
     "output_type": "execute_result"
    }
   ],
   "source": [
    "# Формирование результата в табличном виде:\n",
    "results = {'RMSE': [rmse_lr, rmse_lgb, rmse_cat]}\n",
    "\n",
    "index = ['LinearRegression', 'LGBMRegressor', 'CatBoostRegressor']\n",
    "\n",
    "results = pd.DataFrame(data=results, index=index)\n",
    "\n",
    "# Вывод:\n",
    "results.sort_values(by='RMSE')"
   ]
  },
  {
   "cell_type": "markdown",
   "metadata": {},
   "source": [
    "Как ни странно, валидационные результаты `линейной регрессии` показали себя лучше других, хоть и несильно. Проверим её на тестовых данных в следующем этапе.\n",
    "\n",
    "### Вывод\n",
    "\n",
    "1. Мы подготовили выборки, обучили и проверили на валидации три модели МО: линейную регрессию, LGBM-регрессор и CatBoost-регрессор. Перед этим мы добавили новые признаки обучающую выборку.\n",
    "2. Все модели прошли проверку на адекватность.\n",
    "3. Лучшей при валидации показала себя модель `линейной регрессии`. Посмотрим, как она справится с проблемной тестовой выборкой на следующем этапе."
   ]
  },
  {
   "cell_type": "markdown",
   "metadata": {},
   "source": [
    "## Тестирование\n",
    "\n",
    "Время сынициировать вывод модели в прод. Передадим лучшей модели _тестовые_ данные для получения предсказаний."
   ]
  },
  {
   "cell_type": "code",
   "execution_count": 55,
   "metadata": {},
   "outputs": [
    {
     "name": "stdout",
     "output_type": "stream",
     "text": [
      "Метрика RMSE лучшей модели на тестовой выборке: 47.57\n"
     ]
    }
   ],
   "source": [
    "# Получение предсказаний:\n",
    "y_pred = model_lr.predict(X_test)\n",
    "\n",
    "# Получим значение метрики:\n",
    "best_lr_rmse = round(rmse(y_test, y_pred), 2)\n",
    "\n",
    "# Вывод результата:\n",
    "print(f'Метрика RMSE лучшей модели на тестовой выборке: {best_lr_rmse}')"
   ]
  },
  {
   "cell_type": "markdown",
   "metadata": {},
   "source": [
    "Модель справилась с нестабильной тестовой выборкой."
   ]
  },
  {
   "cell_type": "markdown",
   "metadata": {},
   "source": [
    "## Общий вывод\n",
    "\n",
    "В данной проектной работе перед нами стояла задача **построить модель МО**, которая сможет предсказывать количество заказов на следующий час для компании-заказчика «Чётенькое такси».\n",
    "\n",
    "_Для решения этой задачи были проделаны следующие этапы:_\n",
    "\n",
    "1. Исходные данные представляли собой датасет с двумя признаками для наблюдений. С ними **мы ознакомились**, подтвердили соответствие их описанию. Не обнаружили явных дубликатов, только подправили тип данных у временного признака.\n",
    "\n",
    "\n",
    "2. **Датасет был преобразован** для удобства в работе, временной признак стал индексом. Мы проверили его хронологическую последовательность и с этим всё в порядке.\n",
    "\n",
    "\n",
    "3. Далее **данные были ресемплированы** согласно требованиям задачи. После группировки по часам количество наблюдений **снизилось** до 4416шт.\n",
    "\n",
    "\n",
    "4. Вот некоторые результаты _исследовательского анализа_:\n",
    "    - Медианное среднее количество заказов в час — 78;\n",
    "    - Есть часы, в которых заказов вообще не зафиксировано. Есть и выбросы с количеством заказов > 200;\n",
    "    - Больше всего заказов наблюдается в районе 12 часов ночи.\n",
    "    - Меньше всего — в районе шести и семи утра.\n",
    "    - Дальше в течение дня пик заказов находится в районе 16 часов дня.\n",
    "\n",
    "\n",
    "5. Необходимо было **оценить стационарность** полученного временного ряда. Столкнулись с трудностями в определении стационарности, в связи с чем было проведено пару тестов вместе с визуальным. Похоже, временной ряд всё-таки нестационарный, либо имеет низкую стационарность.\n",
    "\n",
    "\n",
    "6. Для увеличения качетсва будущего обучения моделей **были добавлены новые признаки**: `календарные`, `отстающие значения` и `скользящие средние`.\n",
    "\n",
    "\n",
    "7. Мы **подготовили выборки** (_тестовая составляла 10%_ от всех данных), **обучили и проверили** на валидации три модели МО: `линейную регрессию`, `GBM-регрессор` и `CatBoost-регрессор`. Все модели прошли проверку на адекватность. Лучшей при валидации показала себя модель **`линейной регрессии`**.\n",
    "\n",
    "\n",
    "8. На этапе вывода в прод **модель** также **уложилась в необходимые требования** по метрике. Она показала значение RMSE =  **47.57**."
   ]
  }
 ],
 "metadata": {
  "ExecuteTimeLog": [
   {
    "duration": 425,
    "start_time": "2025-05-28T15:46:42.475Z"
   },
   {
    "duration": 77,
    "start_time": "2025-05-28T15:48:29.785Z"
   },
   {
    "duration": 7,
    "start_time": "2025-05-28T15:53:46.743Z"
   },
   {
    "duration": 33,
    "start_time": "2025-05-28T15:54:20.704Z"
   },
   {
    "duration": 33,
    "start_time": "2025-05-28T15:54:24.859Z"
   },
   {
    "duration": 63,
    "start_time": "2025-05-28T15:56:56.018Z"
   },
   {
    "duration": 10,
    "start_time": "2025-05-28T15:57:05.956Z"
   },
   {
    "duration": 20,
    "start_time": "2025-05-28T15:57:21.310Z"
   },
   {
    "duration": 12,
    "start_time": "2025-05-28T15:57:26.014Z"
   },
   {
    "duration": 10,
    "start_time": "2025-05-28T15:57:31.987Z"
   },
   {
    "duration": 13,
    "start_time": "2025-05-28T15:57:39.146Z"
   },
   {
    "duration": 73,
    "start_time": "2025-05-28T15:57:45.117Z"
   },
   {
    "duration": 10,
    "start_time": "2025-05-28T15:57:49.465Z"
   },
   {
    "duration": 14,
    "start_time": "2025-05-28T15:58:58.306Z"
   },
   {
    "duration": 111,
    "start_time": "2025-05-28T16:07:06.057Z"
   },
   {
    "duration": 12,
    "start_time": "2025-05-28T16:07:23.286Z"
   },
   {
    "duration": 10,
    "start_time": "2025-05-28T16:07:54.637Z"
   },
   {
    "duration": 11,
    "start_time": "2025-05-28T16:08:29.748Z"
   },
   {
    "duration": 4,
    "start_time": "2025-05-28T16:09:20.691Z"
   },
   {
    "duration": 4,
    "start_time": "2025-05-28T16:09:27.868Z"
   },
   {
    "duration": 4,
    "start_time": "2025-05-28T16:09:31.963Z"
   },
   {
    "duration": 8,
    "start_time": "2025-05-28T16:18:02.839Z"
   },
   {
    "duration": 7,
    "start_time": "2025-05-28T16:19:48.615Z"
   },
   {
    "duration": 67,
    "start_time": "2025-05-28T16:22:07.808Z"
   },
   {
    "duration": 7,
    "start_time": "2025-05-28T16:29:37.954Z"
   },
   {
    "duration": 4,
    "start_time": "2025-05-28T16:31:23.085Z"
   },
   {
    "duration": 4,
    "start_time": "2025-05-28T16:34:25.014Z"
   },
   {
    "duration": 6,
    "start_time": "2025-05-28T16:39:33.078Z"
   },
   {
    "duration": 6,
    "start_time": "2025-05-28T16:39:39.035Z"
   },
   {
    "duration": 62,
    "start_time": "2025-05-28T16:39:52.969Z"
   },
   {
    "duration": 5,
    "start_time": "2025-05-28T16:39:57.550Z"
   },
   {
    "duration": 13,
    "start_time": "2025-05-28T16:42:39.996Z"
   },
   {
    "duration": 3,
    "start_time": "2025-05-28T16:45:08.597Z"
   },
   {
    "duration": 3,
    "start_time": "2025-05-28T16:45:17.859Z"
   },
   {
    "duration": 3,
    "start_time": "2025-05-28T16:47:23.864Z"
   },
   {
    "duration": 9,
    "start_time": "2025-05-28T16:49:22.491Z"
   },
   {
    "duration": 622,
    "start_time": "2025-05-28T16:51:47.056Z"
   },
   {
    "duration": 476,
    "start_time": "2025-05-28T17:02:12.868Z"
   },
   {
    "duration": 3,
    "start_time": "2025-05-28T17:02:45.235Z"
   },
   {
    "duration": 63,
    "start_time": "2025-05-28T17:03:36.023Z"
   },
   {
    "duration": 363,
    "start_time": "2025-05-28T17:03:51.739Z"
   },
   {
    "duration": 22,
    "start_time": "2025-05-28T17:04:19.994Z"
   },
   {
    "duration": 74,
    "start_time": "2025-05-28T17:04:40.560Z"
   },
   {
    "duration": 3315,
    "start_time": "2025-05-28T17:04:46.309Z"
   },
   {
    "duration": 5,
    "start_time": "2025-05-28T17:04:53.400Z"
   },
   {
    "duration": 12,
    "start_time": "2025-05-28T17:05:05.076Z"
   },
   {
    "duration": 7,
    "start_time": "2025-05-28T17:05:18.114Z"
   },
   {
    "duration": 10,
    "start_time": "2025-05-28T17:05:21.629Z"
   },
   {
    "duration": 11,
    "start_time": "2025-05-28T17:06:22.998Z"
   },
   {
    "duration": 12,
    "start_time": "2025-05-28T17:06:32.226Z"
   },
   {
    "duration": 532,
    "start_time": "2025-05-28T17:42:12.627Z"
   },
   {
    "duration": 522,
    "start_time": "2025-05-28T17:44:20.258Z"
   },
   {
    "duration": 297,
    "start_time": "2025-05-28T17:47:18.974Z"
   },
   {
    "duration": 316,
    "start_time": "2025-05-28T17:47:41.074Z"
   },
   {
    "duration": 18,
    "start_time": "2025-05-28T17:50:49.846Z"
   },
   {
    "duration": 9,
    "start_time": "2025-05-28T17:51:42.443Z"
   },
   {
    "duration": 10,
    "start_time": "2025-05-28T17:51:53.431Z"
   },
   {
    "duration": 84,
    "start_time": "2025-05-28T17:51:58.688Z"
   },
   {
    "duration": 86,
    "start_time": "2025-05-28T17:52:07.698Z"
   },
   {
    "duration": 440,
    "start_time": "2025-05-28T17:57:07.951Z"
   },
   {
    "duration": 323,
    "start_time": "2025-05-28T18:01:00.462Z"
   },
   {
    "duration": 11,
    "start_time": "2025-05-28T18:01:49.786Z"
   },
   {
    "duration": 1428,
    "start_time": "2025-05-29T10:51:27.609Z"
   },
   {
    "duration": 4,
    "start_time": "2025-05-29T10:51:29.039Z"
   },
   {
    "duration": 57,
    "start_time": "2025-05-29T10:51:29.045Z"
   },
   {
    "duration": 13,
    "start_time": "2025-05-29T10:51:29.104Z"
   },
   {
    "duration": 13,
    "start_time": "2025-05-29T10:51:29.119Z"
   },
   {
    "duration": 10,
    "start_time": "2025-05-29T10:51:29.134Z"
   },
   {
    "duration": 9,
    "start_time": "2025-05-29T10:51:29.170Z"
   },
   {
    "duration": 19,
    "start_time": "2025-05-29T10:51:29.182Z"
   },
   {
    "duration": 4,
    "start_time": "2025-05-29T10:51:29.203Z"
   },
   {
    "duration": 7,
    "start_time": "2025-05-29T10:51:29.209Z"
   },
   {
    "duration": 14,
    "start_time": "2025-05-29T10:51:29.217Z"
   },
   {
    "duration": 39,
    "start_time": "2025-05-29T10:51:29.233Z"
   },
   {
    "duration": 401,
    "start_time": "2025-05-29T10:51:29.273Z"
   },
   {
    "duration": 106,
    "start_time": "2025-05-29T10:51:29.675Z"
   },
   {
    "duration": 102,
    "start_time": "2025-05-29T10:52:44.389Z"
   },
   {
    "duration": 29,
    "start_time": "2025-05-29T10:52:52.506Z"
   },
   {
    "duration": 24,
    "start_time": "2025-05-29T10:59:16.053Z"
   },
   {
    "duration": 1270,
    "start_time": "2025-05-29T10:59:27.143Z"
   },
   {
    "duration": 3,
    "start_time": "2025-05-29T10:59:28.415Z"
   },
   {
    "duration": 41,
    "start_time": "2025-05-29T10:59:28.422Z"
   },
   {
    "duration": 19,
    "start_time": "2025-05-29T10:59:28.465Z"
   },
   {
    "duration": 27,
    "start_time": "2025-05-29T10:59:28.486Z"
   },
   {
    "duration": 11,
    "start_time": "2025-05-29T10:59:28.514Z"
   },
   {
    "duration": 20,
    "start_time": "2025-05-29T10:59:28.527Z"
   },
   {
    "duration": 8,
    "start_time": "2025-05-29T10:59:28.549Z"
   },
   {
    "duration": 12,
    "start_time": "2025-05-29T10:59:28.559Z"
   },
   {
    "duration": 27,
    "start_time": "2025-05-29T10:59:28.573Z"
   },
   {
    "duration": 18,
    "start_time": "2025-05-29T10:59:28.602Z"
   },
   {
    "duration": 21,
    "start_time": "2025-05-29T10:59:28.622Z"
   },
   {
    "duration": 107,
    "start_time": "2025-05-29T11:09:21.229Z"
   },
   {
    "duration": 119,
    "start_time": "2025-05-29T11:09:27.734Z"
   },
   {
    "duration": 14,
    "start_time": "2025-05-29T11:09:44.966Z"
   },
   {
    "duration": 13,
    "start_time": "2025-05-29T11:10:50.398Z"
   },
   {
    "duration": 8,
    "start_time": "2025-05-29T11:11:46.642Z"
   },
   {
    "duration": 4,
    "start_time": "2025-05-29T11:11:53.455Z"
   },
   {
    "duration": 9,
    "start_time": "2025-05-29T11:12:05.823Z"
   },
   {
    "duration": 131,
    "start_time": "2025-05-29T11:18:58.030Z"
   },
   {
    "duration": 127,
    "start_time": "2025-05-29T11:19:11.584Z"
   },
   {
    "duration": 123,
    "start_time": "2025-05-29T11:19:26.132Z"
   },
   {
    "duration": 142,
    "start_time": "2025-05-29T11:20:18.121Z"
   },
   {
    "duration": 125,
    "start_time": "2025-05-29T11:21:13.998Z"
   },
   {
    "duration": 220,
    "start_time": "2025-05-29T11:22:18.787Z"
   },
   {
    "duration": 149,
    "start_time": "2025-05-29T11:22:30.876Z"
   },
   {
    "duration": 136,
    "start_time": "2025-05-29T11:22:38.154Z"
   },
   {
    "duration": 4,
    "start_time": "2025-05-29T11:26:08.605Z"
   },
   {
    "duration": 165,
    "start_time": "2025-05-29T11:26:30.648Z"
   },
   {
    "duration": 154,
    "start_time": "2025-05-29T11:26:33.864Z"
   },
   {
    "duration": 150,
    "start_time": "2025-05-29T11:26:42.615Z"
   },
   {
    "duration": 153,
    "start_time": "2025-05-29T11:26:52.531Z"
   },
   {
    "duration": 150,
    "start_time": "2025-05-29T11:26:55.685Z"
   },
   {
    "duration": 137,
    "start_time": "2025-05-29T11:27:04.422Z"
   },
   {
    "duration": 138,
    "start_time": "2025-05-29T11:27:13.934Z"
   },
   {
    "duration": 151,
    "start_time": "2025-05-29T11:27:18.622Z"
   },
   {
    "duration": 143,
    "start_time": "2025-05-29T11:27:32.362Z"
   },
   {
    "duration": 140,
    "start_time": "2025-05-29T11:27:36.288Z"
   },
   {
    "duration": 249,
    "start_time": "2025-05-29T11:27:41.345Z"
   },
   {
    "duration": 164,
    "start_time": "2025-05-29T11:27:49.984Z"
   },
   {
    "duration": 138,
    "start_time": "2025-05-29T11:27:54.758Z"
   },
   {
    "duration": 139,
    "start_time": "2025-05-29T11:27:59.582Z"
   },
   {
    "duration": 341,
    "start_time": "2025-05-29T11:40:03.754Z"
   },
   {
    "duration": 302,
    "start_time": "2025-05-29T11:40:15.254Z"
   },
   {
    "duration": 278,
    "start_time": "2025-05-29T11:41:42.701Z"
   },
   {
    "duration": 6,
    "start_time": "2025-05-29T11:50:54.524Z"
   },
   {
    "duration": 303,
    "start_time": "2025-05-29T11:51:01.921Z"
   },
   {
    "duration": 304,
    "start_time": "2025-05-29T11:51:21.167Z"
   },
   {
    "duration": 294,
    "start_time": "2025-05-29T11:51:54.488Z"
   },
   {
    "duration": 302,
    "start_time": "2025-05-29T11:52:38.962Z"
   },
   {
    "duration": 308,
    "start_time": "2025-05-29T11:52:59.563Z"
   },
   {
    "duration": 415,
    "start_time": "2025-05-29T11:53:06.029Z"
   },
   {
    "duration": 327,
    "start_time": "2025-05-29T11:53:29.883Z"
   },
   {
    "duration": 292,
    "start_time": "2025-05-29T11:54:16.228Z"
   },
   {
    "duration": 292,
    "start_time": "2025-05-29T11:54:23.975Z"
   },
   {
    "duration": 1317,
    "start_time": "2025-05-29T11:54:46.126Z"
   },
   {
    "duration": 3,
    "start_time": "2025-05-29T11:54:47.446Z"
   },
   {
    "duration": 63,
    "start_time": "2025-05-29T11:54:47.451Z"
   },
   {
    "duration": 14,
    "start_time": "2025-05-29T11:54:47.516Z"
   },
   {
    "duration": 24,
    "start_time": "2025-05-29T11:54:47.533Z"
   },
   {
    "duration": 15,
    "start_time": "2025-05-29T11:54:47.559Z"
   },
   {
    "duration": 18,
    "start_time": "2025-05-29T11:54:47.576Z"
   },
   {
    "duration": 5,
    "start_time": "2025-05-29T11:54:47.596Z"
   },
   {
    "duration": 31,
    "start_time": "2025-05-29T11:54:47.602Z"
   },
   {
    "duration": 10,
    "start_time": "2025-05-29T11:54:47.635Z"
   },
   {
    "duration": 20,
    "start_time": "2025-05-29T11:54:47.647Z"
   },
   {
    "duration": 24,
    "start_time": "2025-05-29T11:54:47.668Z"
   },
   {
    "duration": 164,
    "start_time": "2025-05-29T11:54:47.693Z"
   },
   {
    "duration": 408,
    "start_time": "2025-05-29T11:54:47.860Z"
   },
   {
    "duration": 329,
    "start_time": "2025-05-29T11:54:48.270Z"
   },
   {
    "duration": 118,
    "start_time": "2025-05-29T11:54:48.601Z"
   },
   {
    "duration": 410,
    "start_time": "2025-05-29T11:55:06.015Z"
   },
   {
    "duration": 295,
    "start_time": "2025-05-29T11:55:15.065Z"
   },
   {
    "duration": 4,
    "start_time": "2025-05-29T11:58:31.602Z"
   },
   {
    "duration": 4,
    "start_time": "2025-05-29T11:58:53.155Z"
   },
   {
    "duration": 287,
    "start_time": "2025-05-29T11:59:05.784Z"
   },
   {
    "duration": 319,
    "start_time": "2025-05-29T11:59:51.180Z"
   },
   {
    "duration": 396,
    "start_time": "2025-05-29T12:03:50.121Z"
   },
   {
    "duration": 320,
    "start_time": "2025-05-29T12:04:15.358Z"
   },
   {
    "duration": 325,
    "start_time": "2025-05-29T12:04:21.858Z"
   },
   {
    "duration": 1399,
    "start_time": "2025-05-29T12:04:58.363Z"
   },
   {
    "duration": 12,
    "start_time": "2025-05-29T12:05:43.414Z"
   },
   {
    "duration": 297,
    "start_time": "2025-05-29T12:06:03.750Z"
   },
   {
    "duration": 4,
    "start_time": "2025-05-29T12:06:20.696Z"
   },
   {
    "duration": 1307,
    "start_time": "2025-05-29T12:06:40.240Z"
   },
   {
    "duration": 3,
    "start_time": "2025-05-29T12:06:41.549Z"
   },
   {
    "duration": 60,
    "start_time": "2025-05-29T12:06:41.554Z"
   },
   {
    "duration": 15,
    "start_time": "2025-05-29T12:06:41.616Z"
   },
   {
    "duration": 30,
    "start_time": "2025-05-29T12:06:41.633Z"
   },
   {
    "duration": 29,
    "start_time": "2025-05-29T12:06:41.665Z"
   },
   {
    "duration": 44,
    "start_time": "2025-05-29T12:06:41.696Z"
   },
   {
    "duration": 40,
    "start_time": "2025-05-29T12:06:41.742Z"
   },
   {
    "duration": 14,
    "start_time": "2025-05-29T12:06:41.784Z"
   },
   {
    "duration": 14,
    "start_time": "2025-05-29T12:06:41.800Z"
   },
   {
    "duration": 30,
    "start_time": "2025-05-29T12:06:41.816Z"
   },
   {
    "duration": 44,
    "start_time": "2025-05-29T12:06:41.848Z"
   },
   {
    "duration": 170,
    "start_time": "2025-05-29T12:06:41.894Z"
   },
   {
    "duration": 6,
    "start_time": "2025-05-29T12:06:42.065Z"
   },
   {
    "duration": 435,
    "start_time": "2025-05-29T12:06:42.073Z"
   },
   {
    "duration": 316,
    "start_time": "2025-05-29T12:06:42.510Z"
   },
   {
    "duration": 2603,
    "start_time": "2025-05-29T12:06:42.828Z"
   },
   {
    "duration": 0,
    "start_time": "2025-05-29T12:06:45.433Z"
   },
   {
    "duration": 4,
    "start_time": "2025-05-29T12:06:59.849Z"
   },
   {
    "duration": 1868,
    "start_time": "2025-05-29T12:07:23.174Z"
   },
   {
    "duration": 2799,
    "start_time": "2025-05-29T12:07:33.247Z"
   },
   {
    "duration": 13,
    "start_time": "2025-05-29T12:08:29.634Z"
   },
   {
    "duration": 340,
    "start_time": "2025-05-29T12:09:26.849Z"
   },
   {
    "duration": 244,
    "start_time": "2025-05-29T12:12:11.752Z"
   },
   {
    "duration": 109,
    "start_time": "2025-05-29T12:12:33.367Z"
   },
   {
    "duration": 237,
    "start_time": "2025-05-29T12:12:37.358Z"
   },
   {
    "duration": 176,
    "start_time": "2025-05-29T12:12:39.921Z"
   },
   {
    "duration": 249,
    "start_time": "2025-05-29T12:12:50.691Z"
   },
   {
    "duration": 248,
    "start_time": "2025-05-29T12:15:10.423Z"
   },
   {
    "duration": 244,
    "start_time": "2025-05-29T12:15:14.893Z"
   },
   {
    "duration": 1291,
    "start_time": "2025-05-29T12:17:38.597Z"
   },
   {
    "duration": 2,
    "start_time": "2025-05-29T12:17:39.891Z"
   },
   {
    "duration": 129,
    "start_time": "2025-05-29T12:17:39.895Z"
   },
   {
    "duration": 15,
    "start_time": "2025-05-29T12:17:40.026Z"
   },
   {
    "duration": 53,
    "start_time": "2025-05-29T12:17:40.043Z"
   },
   {
    "duration": 71,
    "start_time": "2025-05-29T12:17:40.098Z"
   },
   {
    "duration": 15,
    "start_time": "2025-05-29T12:17:40.171Z"
   },
   {
    "duration": 6,
    "start_time": "2025-05-29T12:17:40.188Z"
   },
   {
    "duration": 7,
    "start_time": "2025-05-29T12:17:40.195Z"
   },
   {
    "duration": 7,
    "start_time": "2025-05-29T12:17:40.204Z"
   },
   {
    "duration": 14,
    "start_time": "2025-05-29T12:17:40.212Z"
   },
   {
    "duration": 16,
    "start_time": "2025-05-29T12:17:40.228Z"
   },
   {
    "duration": 183,
    "start_time": "2025-05-29T12:17:40.246Z"
   },
   {
    "duration": 4,
    "start_time": "2025-05-29T12:17:40.432Z"
   },
   {
    "duration": 451,
    "start_time": "2025-05-29T12:17:40.437Z"
   },
   {
    "duration": 365,
    "start_time": "2025-05-29T12:17:40.890Z"
   },
   {
    "duration": 406,
    "start_time": "2025-05-29T12:17:41.257Z"
   },
   {
    "duration": 112,
    "start_time": "2025-05-29T12:24:15.721Z"
   },
   {
    "duration": 53,
    "start_time": "2025-05-29T12:24:35.375Z"
   },
   {
    "duration": 1221,
    "start_time": "2025-05-29T12:26:34.311Z"
   },
   {
    "duration": 3,
    "start_time": "2025-05-29T12:26:35.533Z"
   },
   {
    "duration": 71,
    "start_time": "2025-05-29T12:26:35.538Z"
   },
   {
    "duration": 14,
    "start_time": "2025-05-29T12:26:35.612Z"
   },
   {
    "duration": 17,
    "start_time": "2025-05-29T12:26:35.627Z"
   },
   {
    "duration": 15,
    "start_time": "2025-05-29T12:26:35.646Z"
   },
   {
    "duration": 22,
    "start_time": "2025-05-29T12:26:35.663Z"
   },
   {
    "duration": 4,
    "start_time": "2025-05-29T12:26:35.686Z"
   },
   {
    "duration": 16,
    "start_time": "2025-05-29T12:26:35.691Z"
   },
   {
    "duration": 17,
    "start_time": "2025-05-29T12:26:35.710Z"
   },
   {
    "duration": 20,
    "start_time": "2025-05-29T12:26:35.729Z"
   },
   {
    "duration": 15,
    "start_time": "2025-05-29T12:26:35.751Z"
   },
   {
    "duration": 155,
    "start_time": "2025-05-29T12:26:35.768Z"
   },
   {
    "duration": 4,
    "start_time": "2025-05-29T12:26:35.925Z"
   },
   {
    "duration": 484,
    "start_time": "2025-05-29T12:26:35.932Z"
   },
   {
    "duration": 324,
    "start_time": "2025-05-29T12:26:36.418Z"
   },
   {
    "duration": 343,
    "start_time": "2025-05-29T12:26:36.744Z"
   },
   {
    "duration": 8,
    "start_time": "2025-05-29T12:26:37.089Z"
   },
   {
    "duration": 7,
    "start_time": "2025-05-29T12:26:43.112Z"
   },
   {
    "duration": 8,
    "start_time": "2025-05-29T12:28:58.576Z"
   },
   {
    "duration": 294,
    "start_time": "2025-05-29T12:29:30.644Z"
   },
   {
    "duration": 274,
    "start_time": "2025-05-29T12:32:59.060Z"
   },
   {
    "duration": 285,
    "start_time": "2025-05-29T12:33:12.695Z"
   },
   {
    "duration": 376,
    "start_time": "2025-05-29T12:41:33.569Z"
   },
   {
    "duration": 5,
    "start_time": "2025-05-29T12:41:53.325Z"
   },
   {
    "duration": 287,
    "start_time": "2025-05-29T12:41:57.103Z"
   },
   {
    "duration": 271,
    "start_time": "2025-05-29T12:45:29.647Z"
   },
   {
    "duration": 315,
    "start_time": "2025-05-29T12:45:37.083Z"
   },
   {
    "duration": 7,
    "start_time": "2025-05-29T13:08:25.382Z"
   },
   {
    "duration": 7,
    "start_time": "2025-05-29T13:08:34.091Z"
   },
   {
    "duration": 8,
    "start_time": "2025-05-29T13:08:38.366Z"
   },
   {
    "duration": 10,
    "start_time": "2025-05-29T13:09:04.806Z"
   },
   {
    "duration": 335,
    "start_time": "2025-05-29T13:09:21.882Z"
   },
   {
    "duration": 5,
    "start_time": "2025-05-29T13:09:47.937Z"
   },
   {
    "duration": 5,
    "start_time": "2025-05-29T13:09:53.522Z"
   },
   {
    "duration": 111,
    "start_time": "2025-05-29T13:10:18.266Z"
   },
   {
    "duration": 8,
    "start_time": "2025-05-29T13:10:36.380Z"
   },
   {
    "duration": 7,
    "start_time": "2025-05-29T13:10:46.367Z"
   },
   {
    "duration": 8,
    "start_time": "2025-05-29T13:10:50.618Z"
   },
   {
    "duration": 305,
    "start_time": "2025-05-29T13:11:16.820Z"
   },
   {
    "duration": 268,
    "start_time": "2025-05-29T14:01:30.488Z"
   },
   {
    "duration": 271,
    "start_time": "2025-05-29T14:02:48.635Z"
   },
   {
    "duration": 273,
    "start_time": "2025-05-29T14:06:32.374Z"
   },
   {
    "duration": 300,
    "start_time": "2025-05-29T14:07:26.228Z"
   },
   {
    "duration": 49,
    "start_time": "2025-05-29T14:20:47.137Z"
   },
   {
    "duration": 14,
    "start_time": "2025-05-29T14:20:53.398Z"
   },
   {
    "duration": 6,
    "start_time": "2025-05-29T14:21:05.964Z"
   },
   {
    "duration": 3,
    "start_time": "2025-05-29T14:21:21.272Z"
   },
   {
    "duration": 9,
    "start_time": "2025-05-29T14:21:25.696Z"
   },
   {
    "duration": 27,
    "start_time": "2025-05-29T14:23:28.702Z"
   },
   {
    "duration": 1912,
    "start_time": "2025-05-29T14:26:01.668Z"
   },
   {
    "duration": 4,
    "start_time": "2025-05-29T14:26:10.570Z"
   },
   {
    "duration": 5,
    "start_time": "2025-05-29T14:26:16.439Z"
   },
   {
    "duration": 4,
    "start_time": "2025-05-29T14:26:18.906Z"
   },
   {
    "duration": 13,
    "start_time": "2025-05-29T14:26:34.779Z"
   },
   {
    "duration": 4,
    "start_time": "2025-05-29T14:26:41.394Z"
   },
   {
    "duration": 4,
    "start_time": "2025-05-29T14:26:44.004Z"
   },
   {
    "duration": 3,
    "start_time": "2025-05-29T14:26:45.936Z"
   },
   {
    "duration": 4,
    "start_time": "2025-05-29T14:26:47.700Z"
   },
   {
    "duration": 10,
    "start_time": "2025-05-29T14:26:54.931Z"
   },
   {
    "duration": 5,
    "start_time": "2025-05-29T14:27:01.521Z"
   },
   {
    "duration": 4,
    "start_time": "2025-05-29T14:28:23.579Z"
   },
   {
    "duration": 1871,
    "start_time": "2025-05-29T14:28:31.004Z"
   },
   {
    "duration": 5,
    "start_time": "2025-05-29T14:28:35.620Z"
   },
   {
    "duration": 4,
    "start_time": "2025-05-29T14:28:39.352Z"
   },
   {
    "duration": 2198,
    "start_time": "2025-05-29T14:31:04.682Z"
   },
   {
    "duration": 4,
    "start_time": "2025-05-29T14:31:08.745Z"
   },
   {
    "duration": 4,
    "start_time": "2025-05-29T14:31:39.588Z"
   },
   {
    "duration": 1980,
    "start_time": "2025-05-29T14:31:43.492Z"
   },
   {
    "duration": 4,
    "start_time": "2025-05-29T14:31:46.411Z"
   },
   {
    "duration": 10,
    "start_time": "2025-05-29T14:36:19.017Z"
   },
   {
    "duration": 431,
    "start_time": "2025-05-29T14:36:28.061Z"
   },
   {
    "duration": 278,
    "start_time": "2025-05-29T14:36:58.850Z"
   },
   {
    "duration": 14,
    "start_time": "2025-05-29T14:40:00.440Z"
   },
   {
    "duration": 5,
    "start_time": "2025-05-29T14:40:20.021Z"
   },
   {
    "duration": 10,
    "start_time": "2025-05-29T14:40:42.997Z"
   },
   {
    "duration": 10,
    "start_time": "2025-05-29T14:40:50.264Z"
   },
   {
    "duration": 1920,
    "start_time": "2025-05-29T14:40:58.457Z"
   },
   {
    "duration": 2196,
    "start_time": "2025-05-29T14:41:13.979Z"
   },
   {
    "duration": 4,
    "start_time": "2025-05-29T14:47:09.456Z"
   },
   {
    "duration": 11,
    "start_time": "2025-05-29T14:47:13.662Z"
   },
   {
    "duration": 4,
    "start_time": "2025-05-29T14:47:18.455Z"
   },
   {
    "duration": 4,
    "start_time": "2025-05-29T14:47:34.233Z"
   },
   {
    "duration": 4,
    "start_time": "2025-05-29T14:47:39.655Z"
   },
   {
    "duration": 5,
    "start_time": "2025-05-29T14:47:43.469Z"
   },
   {
    "duration": 287,
    "start_time": "2025-05-29T14:55:18.565Z"
   },
   {
    "duration": 408,
    "start_time": "2025-05-29T14:56:23.842Z"
   },
   {
    "duration": 408,
    "start_time": "2025-05-29T14:56:35.087Z"
   },
   {
    "duration": 272,
    "start_time": "2025-05-29T14:56:39.776Z"
   },
   {
    "duration": 1818,
    "start_time": "2025-05-29T14:59:50.153Z"
   },
   {
    "duration": 5,
    "start_time": "2025-05-29T15:09:56.059Z"
   },
   {
    "duration": 5,
    "start_time": "2025-05-29T15:10:07.779Z"
   },
   {
    "duration": 189,
    "start_time": "2025-05-29T15:10:44.860Z"
   },
   {
    "duration": 193,
    "start_time": "2025-05-29T15:18:52.342Z"
   },
   {
    "duration": 13,
    "start_time": "2025-05-29T15:19:56.920Z"
   },
   {
    "duration": 5,
    "start_time": "2025-05-29T15:21:34.160Z"
   },
   {
    "duration": 281,
    "start_time": "2025-05-29T15:21:57.511Z"
   },
   {
    "duration": 270,
    "start_time": "2025-05-29T15:22:04.936Z"
   },
   {
    "duration": 4,
    "start_time": "2025-05-29T15:42:40.541Z"
   },
   {
    "duration": 4,
    "start_time": "2025-05-29T15:50:49.451Z"
   },
   {
    "duration": 4,
    "start_time": "2025-05-29T15:54:58.913Z"
   },
   {
    "duration": 10,
    "start_time": "2025-05-29T15:55:07.766Z"
   },
   {
    "duration": 16,
    "start_time": "2025-05-29T15:55:11.975Z"
   },
   {
    "duration": 11,
    "start_time": "2025-05-29T15:55:20.766Z"
   },
   {
    "duration": 10,
    "start_time": "2025-05-29T15:55:34.022Z"
   },
   {
    "duration": 4,
    "start_time": "2025-05-29T15:55:41.163Z"
   },
   {
    "duration": 11,
    "start_time": "2025-05-29T15:55:43.428Z"
   },
   {
    "duration": 4,
    "start_time": "2025-05-29T15:56:12.105Z"
   },
   {
    "duration": 2052,
    "start_time": "2025-05-29T15:56:13.722Z"
   },
   {
    "duration": 4,
    "start_time": "2025-05-29T15:57:08.152Z"
   },
   {
    "duration": 2236,
    "start_time": "2025-05-29T15:57:09.738Z"
   },
   {
    "duration": 4,
    "start_time": "2025-05-29T15:57:32.316Z"
   },
   {
    "duration": 1859,
    "start_time": "2025-05-29T15:57:35.317Z"
   },
   {
    "duration": 4,
    "start_time": "2025-05-29T15:59:14.697Z"
   },
   {
    "duration": 2052,
    "start_time": "2025-05-29T15:59:16.520Z"
   },
   {
    "duration": 5,
    "start_time": "2025-05-29T16:00:36.191Z"
   },
   {
    "duration": 5,
    "start_time": "2025-05-29T16:00:52.123Z"
   },
   {
    "duration": 6,
    "start_time": "2025-05-29T16:03:11.645Z"
   },
   {
    "duration": 1971,
    "start_time": "2025-05-29T16:03:29.905Z"
   },
   {
    "duration": 1958,
    "start_time": "2025-05-29T16:17:33.223Z"
   },
   {
    "duration": 1997,
    "start_time": "2025-05-29T16:17:45.778Z"
   },
   {
    "duration": 4,
    "start_time": "2025-05-29T16:17:58.440Z"
   },
   {
    "duration": 5,
    "start_time": "2025-05-29T17:32:21.895Z"
   },
   {
    "duration": 6,
    "start_time": "2025-05-29T17:32:23.437Z"
   },
   {
    "duration": 5,
    "start_time": "2025-05-29T17:32:31.997Z"
   },
   {
    "duration": 5,
    "start_time": "2025-05-29T17:32:33.669Z"
   },
   {
    "duration": 12,
    "start_time": "2025-05-29T17:33:41.258Z"
   },
   {
    "duration": 6,
    "start_time": "2025-05-29T17:33:53.256Z"
   },
   {
    "duration": 7,
    "start_time": "2025-05-29T17:34:18.248Z"
   },
   {
    "duration": 6,
    "start_time": "2025-05-29T17:34:25.706Z"
   },
   {
    "duration": 5,
    "start_time": "2025-05-29T17:34:28.795Z"
   },
   {
    "duration": 12,
    "start_time": "2025-05-29T17:34:37.258Z"
   },
   {
    "duration": 12,
    "start_time": "2025-05-29T17:34:40.987Z"
   },
   {
    "duration": 7,
    "start_time": "2025-05-29T17:34:43.756Z"
   },
   {
    "duration": 12,
    "start_time": "2025-05-29T17:34:57.025Z"
   },
   {
    "duration": 13,
    "start_time": "2025-05-29T17:35:01.047Z"
   },
   {
    "duration": 245,
    "start_time": "2025-05-29T17:35:10.929Z"
   },
   {
    "duration": 11,
    "start_time": "2025-05-29T17:35:15.383Z"
   },
   {
    "duration": 11,
    "start_time": "2025-05-29T17:35:21.150Z"
   },
   {
    "duration": 141,
    "start_time": "2025-05-29T17:35:36.655Z"
   },
   {
    "duration": 12,
    "start_time": "2025-05-29T17:35:40.696Z"
   },
   {
    "duration": 11,
    "start_time": "2025-05-29T17:35:46.131Z"
   },
   {
    "duration": 15,
    "start_time": "2025-05-29T17:35:51.622Z"
   },
   {
    "duration": 11,
    "start_time": "2025-05-29T17:35:55.366Z"
   },
   {
    "duration": 8,
    "start_time": "2025-05-29T17:36:11.923Z"
   },
   {
    "duration": 8,
    "start_time": "2025-05-29T17:36:16.441Z"
   },
   {
    "duration": 8,
    "start_time": "2025-05-29T17:36:21.816Z"
   },
   {
    "duration": 9,
    "start_time": "2025-05-29T17:36:25.077Z"
   },
   {
    "duration": 10,
    "start_time": "2025-05-29T17:36:34.498Z"
   },
   {
    "duration": 4,
    "start_time": "2025-05-29T17:36:40.472Z"
   },
   {
    "duration": 15,
    "start_time": "2025-05-29T17:37:18.602Z"
   },
   {
    "duration": 12,
    "start_time": "2025-05-29T17:37:32.092Z"
   },
   {
    "duration": 5,
    "start_time": "2025-05-29T17:37:49.008Z"
   },
   {
    "duration": 3,
    "start_time": "2025-05-29T17:38:00.633Z"
   },
   {
    "duration": 4,
    "start_time": "2025-05-29T17:38:14.248Z"
   },
   {
    "duration": 5,
    "start_time": "2025-05-29T17:38:25.195Z"
   },
   {
    "duration": 5,
    "start_time": "2025-05-29T17:38:29.911Z"
   },
   {
    "duration": 8,
    "start_time": "2025-05-29T17:38:49.242Z"
   },
   {
    "duration": 11,
    "start_time": "2025-05-29T17:39:01.457Z"
   },
   {
    "duration": 10,
    "start_time": "2025-05-29T17:39:05.448Z"
   },
   {
    "duration": 1364,
    "start_time": "2025-05-29T17:39:09.795Z"
   },
   {
    "duration": 4,
    "start_time": "2025-05-29T17:39:31.708Z"
   },
   {
    "duration": 4,
    "start_time": "2025-05-29T17:39:40.022Z"
   },
   {
    "duration": 5,
    "start_time": "2025-05-29T17:39:48.850Z"
   },
   {
    "duration": 1853,
    "start_time": "2025-05-29T17:40:18.628Z"
   },
   {
    "duration": 1738,
    "start_time": "2025-05-29T17:42:32.240Z"
   },
   {
    "duration": 3,
    "start_time": "2025-05-29T17:45:54.230Z"
   },
   {
    "duration": 5,
    "start_time": "2025-05-29T17:46:37.468Z"
   },
   {
    "duration": 6,
    "start_time": "2025-05-29T17:46:40.437Z"
   },
   {
    "duration": 6,
    "start_time": "2025-05-29T17:46:51.398Z"
   },
   {
    "duration": 4,
    "start_time": "2025-05-29T17:50:03.082Z"
   },
   {
    "duration": 5,
    "start_time": "2025-05-29T17:50:18.068Z"
   },
   {
    "duration": 3,
    "start_time": "2025-05-29T17:53:11.514Z"
   },
   {
    "duration": 4,
    "start_time": "2025-05-29T17:53:13.049Z"
   },
   {
    "duration": 5,
    "start_time": "2025-05-29T17:53:16.842Z"
   },
   {
    "duration": 340,
    "start_time": "2025-05-29T17:56:42.213Z"
   },
   {
    "duration": 361,
    "start_time": "2025-05-29T17:57:22.079Z"
   },
   {
    "duration": 293,
    "start_time": "2025-05-29T17:57:31.372Z"
   },
   {
    "duration": 12,
    "start_time": "2025-05-29T18:02:17.073Z"
   },
   {
    "duration": 12,
    "start_time": "2025-05-29T18:02:32.259Z"
   },
   {
    "duration": 1328,
    "start_time": "2025-05-29T18:02:51.343Z"
   },
   {
    "duration": 4,
    "start_time": "2025-05-29T18:02:52.673Z"
   },
   {
    "duration": 62,
    "start_time": "2025-05-29T18:02:52.678Z"
   },
   {
    "duration": 13,
    "start_time": "2025-05-29T18:02:52.742Z"
   },
   {
    "duration": 30,
    "start_time": "2025-05-29T18:02:52.756Z"
   },
   {
    "duration": 11,
    "start_time": "2025-05-29T18:02:52.788Z"
   },
   {
    "duration": 31,
    "start_time": "2025-05-29T18:02:52.800Z"
   },
   {
    "duration": 22,
    "start_time": "2025-05-29T18:02:52.833Z"
   },
   {
    "duration": 7,
    "start_time": "2025-05-29T18:02:52.856Z"
   },
   {
    "duration": 16,
    "start_time": "2025-05-29T18:02:52.866Z"
   },
   {
    "duration": 22,
    "start_time": "2025-05-29T18:02:52.885Z"
   },
   {
    "duration": 20,
    "start_time": "2025-05-29T18:02:52.909Z"
   },
   {
    "duration": 156,
    "start_time": "2025-05-29T18:02:52.930Z"
   },
   {
    "duration": 5,
    "start_time": "2025-05-29T18:02:53.088Z"
   },
   {
    "duration": 393,
    "start_time": "2025-05-29T18:02:53.094Z"
   },
   {
    "duration": 326,
    "start_time": "2025-05-29T18:02:53.489Z"
   },
   {
    "duration": 344,
    "start_time": "2025-05-29T18:02:53.817Z"
   },
   {
    "duration": 8,
    "start_time": "2025-05-29T18:02:54.170Z"
   },
   {
    "duration": 307,
    "start_time": "2025-05-29T18:02:54.179Z"
   },
   {
    "duration": 327,
    "start_time": "2025-05-29T18:02:54.488Z"
   },
   {
    "duration": 371,
    "start_time": "2025-05-29T18:02:54.817Z"
   },
   {
    "duration": 312,
    "start_time": "2025-05-29T18:02:55.190Z"
   },
   {
    "duration": 294,
    "start_time": "2025-05-29T18:02:55.504Z"
   },
   {
    "duration": 4,
    "start_time": "2025-05-29T18:02:55.800Z"
   },
   {
    "duration": 1964,
    "start_time": "2025-05-29T18:02:55.806Z"
   },
   {
    "duration": 5,
    "start_time": "2025-05-29T18:02:57.773Z"
   },
   {
    "duration": 117,
    "start_time": "2025-05-29T18:02:57.780Z"
   },
   {
    "duration": 443,
    "start_time": "2025-05-29T18:31:27.500Z"
   },
   {
    "duration": 18,
    "start_time": "2025-05-29T18:31:57.503Z"
   },
   {
    "duration": 10054,
    "start_time": "2025-05-29T18:32:59.731Z"
   },
   {
    "duration": 17,
    "start_time": "2025-05-29T18:33:11.292Z"
   },
   {
    "duration": 11,
    "start_time": "2025-05-29T18:33:47.150Z"
   },
   {
    "duration": 5715,
    "start_time": "2025-05-29T18:33:52.745Z"
   },
   {
    "duration": 20,
    "start_time": "2025-05-29T18:34:08.244Z"
   },
   {
    "duration": 4,
    "start_time": "2025-05-29T18:34:33.457Z"
   },
   {
    "duration": 5765,
    "start_time": "2025-05-29T18:34:45.797Z"
   },
   {
    "duration": 5,
    "start_time": "2025-05-29T18:34:54.010Z"
   },
   {
    "duration": 3,
    "start_time": "2025-05-29T18:34:59.748Z"
   },
   {
    "duration": 4,
    "start_time": "2025-05-29T18:35:02.153Z"
   },
   {
    "duration": 8899,
    "start_time": "2025-05-29T18:35:14.995Z"
   },
   {
    "duration": 5,
    "start_time": "2025-05-29T18:35:25.441Z"
   },
   {
    "duration": 4,
    "start_time": "2025-05-29T18:35:26.688Z"
   },
   {
    "duration": 18,
    "start_time": "2025-05-29T18:35:30.689Z"
   },
   {
    "duration": 4,
    "start_time": "2025-05-29T18:35:35.774Z"
   },
   {
    "duration": 4,
    "start_time": "2025-05-29T18:36:46.374Z"
   },
   {
    "duration": 5853,
    "start_time": "2025-05-29T18:36:58.967Z"
   },
   {
    "duration": 1306,
    "start_time": "2025-05-29T18:37:04.823Z"
   },
   {
    "duration": 7,
    "start_time": "2025-05-29T18:37:06.131Z"
   },
   {
    "duration": 22,
    "start_time": "2025-05-29T18:37:06.140Z"
   },
   {
    "duration": 49,
    "start_time": "2025-05-29T18:37:06.164Z"
   },
   {
    "duration": 13,
    "start_time": "2025-05-29T18:37:06.215Z"
   },
   {
    "duration": 27,
    "start_time": "2025-05-29T18:37:06.229Z"
   },
   {
    "duration": 10,
    "start_time": "2025-05-29T18:37:06.258Z"
   },
   {
    "duration": 31,
    "start_time": "2025-05-29T18:37:06.271Z"
   },
   {
    "duration": 5,
    "start_time": "2025-05-29T18:37:06.306Z"
   },
   {
    "duration": 18,
    "start_time": "2025-05-29T18:37:06.313Z"
   },
   {
    "duration": 28,
    "start_time": "2025-05-29T18:37:06.333Z"
   },
   {
    "duration": 14,
    "start_time": "2025-05-29T18:37:06.363Z"
   },
   {
    "duration": 19,
    "start_time": "2025-05-29T18:37:06.380Z"
   },
   {
    "duration": 172,
    "start_time": "2025-05-29T18:37:06.401Z"
   },
   {
    "duration": 5,
    "start_time": "2025-05-29T18:37:06.576Z"
   },
   {
    "duration": 392,
    "start_time": "2025-05-29T18:37:06.583Z"
   },
   {
    "duration": 324,
    "start_time": "2025-05-29T18:37:06.977Z"
   },
   {
    "duration": 342,
    "start_time": "2025-05-29T18:37:07.302Z"
   },
   {
    "duration": 7,
    "start_time": "2025-05-29T18:37:07.645Z"
   },
   {
    "duration": 370,
    "start_time": "2025-05-29T18:37:07.654Z"
   },
   {
    "duration": 319,
    "start_time": "2025-05-29T18:37:08.026Z"
   },
   {
    "duration": 285,
    "start_time": "2025-05-29T18:37:08.347Z"
   },
   {
    "duration": 302,
    "start_time": "2025-05-29T18:37:08.634Z"
   },
   {
    "duration": 312,
    "start_time": "2025-05-29T18:37:08.938Z"
   },
   {
    "duration": 3,
    "start_time": "2025-05-29T18:37:09.252Z"
   },
   {
    "duration": 2716,
    "start_time": "2025-05-29T18:37:09.257Z"
   },
   {
    "duration": 91,
    "start_time": "2025-05-29T18:37:11.981Z"
   },
   {
    "duration": 20,
    "start_time": "2025-05-29T18:37:12.074Z"
   },
   {
    "duration": 8362,
    "start_time": "2025-05-29T18:37:27.760Z"
   },
   {
    "duration": 5,
    "start_time": "2025-05-29T18:37:38.575Z"
   },
   {
    "duration": 6603,
    "start_time": "2025-05-29T18:37:46.001Z"
   },
   {
    "duration": 1353,
    "start_time": "2025-05-29T18:37:52.607Z"
   },
   {
    "duration": 7,
    "start_time": "2025-05-29T18:37:53.964Z"
   },
   {
    "duration": 53,
    "start_time": "2025-05-29T18:37:53.973Z"
   },
   {
    "duration": 13,
    "start_time": "2025-05-29T18:37:54.028Z"
   },
   {
    "duration": 17,
    "start_time": "2025-05-29T18:37:54.042Z"
   },
   {
    "duration": 15,
    "start_time": "2025-05-29T18:37:54.061Z"
   },
   {
    "duration": 14,
    "start_time": "2025-05-29T18:37:54.077Z"
   },
   {
    "duration": 4,
    "start_time": "2025-05-29T18:37:54.093Z"
   },
   {
    "duration": 7,
    "start_time": "2025-05-29T18:37:54.098Z"
   },
   {
    "duration": 14,
    "start_time": "2025-05-29T18:37:54.106Z"
   },
   {
    "duration": 26,
    "start_time": "2025-05-29T18:37:54.121Z"
   },
   {
    "duration": 29,
    "start_time": "2025-05-29T18:37:54.150Z"
   },
   {
    "duration": 183,
    "start_time": "2025-05-29T18:37:54.180Z"
   },
   {
    "duration": 5,
    "start_time": "2025-05-29T18:37:54.365Z"
   },
   {
    "duration": 379,
    "start_time": "2025-05-29T18:37:54.371Z"
   },
   {
    "duration": 352,
    "start_time": "2025-05-29T18:37:54.752Z"
   },
   {
    "duration": 349,
    "start_time": "2025-05-29T18:37:55.105Z"
   },
   {
    "duration": 16,
    "start_time": "2025-05-29T18:37:55.456Z"
   },
   {
    "duration": 384,
    "start_time": "2025-05-29T18:37:55.473Z"
   },
   {
    "duration": 332,
    "start_time": "2025-05-29T18:37:55.858Z"
   },
   {
    "duration": 270,
    "start_time": "2025-05-29T18:37:56.192Z"
   },
   {
    "duration": 299,
    "start_time": "2025-05-29T18:37:56.463Z"
   },
   {
    "duration": 311,
    "start_time": "2025-05-29T18:37:56.764Z"
   },
   {
    "duration": 4,
    "start_time": "2025-05-29T18:37:57.077Z"
   },
   {
    "duration": 2288,
    "start_time": "2025-05-29T18:37:57.083Z"
   },
   {
    "duration": 8,
    "start_time": "2025-05-29T18:37:59.374Z"
   },
   {
    "duration": 7,
    "start_time": "2025-05-29T18:37:59.471Z"
   },
   {
    "duration": 5,
    "start_time": "2025-05-29T18:40:44.220Z"
   },
   {
    "duration": 119,
    "start_time": "2025-05-29T18:41:00.286Z"
   },
   {
    "duration": 10,
    "start_time": "2025-05-29T18:41:02.781Z"
   },
   {
    "duration": 5,
    "start_time": "2025-05-29T18:41:04.268Z"
   },
   {
    "duration": 4,
    "start_time": "2025-05-29T18:41:13.723Z"
   },
   {
    "duration": 4,
    "start_time": "2025-05-29T18:47:58.563Z"
   },
   {
    "duration": 5,
    "start_time": "2025-05-29T18:50:37.990Z"
   },
   {
    "duration": 5,
    "start_time": "2025-05-29T18:50:49.328Z"
   },
   {
    "duration": 4,
    "start_time": "2025-05-29T18:51:41.469Z"
   },
   {
    "duration": 9,
    "start_time": "2025-05-29T18:56:41.841Z"
   },
   {
    "duration": 5,
    "start_time": "2025-05-29T18:56:46.018Z"
   },
   {
    "duration": 5,
    "start_time": "2025-05-29T18:57:59.301Z"
   },
   {
    "duration": 5,
    "start_time": "2025-05-29T19:02:50.671Z"
   },
   {
    "duration": 6,
    "start_time": "2025-05-29T19:21:23.792Z"
   },
   {
    "duration": 3,
    "start_time": "2025-05-29T19:21:38.034Z"
   },
   {
    "duration": 13,
    "start_time": "2025-05-29T19:21:45.470Z"
   },
   {
    "duration": 4,
    "start_time": "2025-05-29T19:21:47.561Z"
   },
   {
    "duration": 9,
    "start_time": "2025-05-29T19:21:50.426Z"
   },
   {
    "duration": 10,
    "start_time": "2025-05-29T19:22:01.761Z"
   },
   {
    "duration": 19,
    "start_time": "2025-05-29T19:22:23.787Z"
   },
   {
    "duration": 6,
    "start_time": "2025-05-29T19:22:42.655Z"
   },
   {
    "duration": 4,
    "start_time": "2025-05-29T19:22:58.402Z"
   },
   {
    "duration": 12,
    "start_time": "2025-05-29T19:23:01.715Z"
   },
   {
    "duration": 24,
    "start_time": "2025-05-29T19:23:09.511Z"
   },
   {
    "duration": 10,
    "start_time": "2025-05-29T19:23:50.055Z"
   },
   {
    "duration": 10,
    "start_time": "2025-05-29T19:24:06.510Z"
   },
   {
    "duration": 5,
    "start_time": "2025-05-29T19:24:24.742Z"
   },
   {
    "duration": 11,
    "start_time": "2025-05-29T19:24:30.403Z"
   },
   {
    "duration": 6,
    "start_time": "2025-05-29T19:24:58.022Z"
   },
   {
    "duration": 6,
    "start_time": "2025-05-29T19:25:25.231Z"
   },
   {
    "duration": 12,
    "start_time": "2025-05-29T19:25:29.316Z"
   },
   {
    "duration": 22,
    "start_time": "2025-05-29T19:25:36.308Z"
   },
   {
    "duration": 4,
    "start_time": "2025-05-29T19:25:42.074Z"
   },
   {
    "duration": 6,
    "start_time": "2025-05-29T19:25:48.381Z"
   },
   {
    "duration": 6,
    "start_time": "2025-05-29T19:25:54.519Z"
   },
   {
    "duration": 6,
    "start_time": "2025-05-29T19:35:41.556Z"
   },
   {
    "duration": 6,
    "start_time": "2025-05-29T19:41:36.800Z"
   },
   {
    "duration": 14,
    "start_time": "2025-05-29T19:41:39.408Z"
   },
   {
    "duration": 5661,
    "start_time": "2025-05-29T19:57:15.401Z"
   },
   {
    "duration": 984,
    "start_time": "2025-05-29T19:57:21.064Z"
   },
   {
    "duration": 0,
    "start_time": "2025-05-29T19:57:22.051Z"
   },
   {
    "duration": 0,
    "start_time": "2025-05-29T19:57:22.052Z"
   },
   {
    "duration": 0,
    "start_time": "2025-05-29T19:57:22.053Z"
   },
   {
    "duration": 0,
    "start_time": "2025-05-29T19:57:22.054Z"
   },
   {
    "duration": 0,
    "start_time": "2025-05-29T19:57:22.056Z"
   },
   {
    "duration": 0,
    "start_time": "2025-05-29T19:57:22.057Z"
   },
   {
    "duration": 0,
    "start_time": "2025-05-29T19:57:22.058Z"
   },
   {
    "duration": 0,
    "start_time": "2025-05-29T19:57:22.059Z"
   },
   {
    "duration": 0,
    "start_time": "2025-05-29T19:57:22.060Z"
   },
   {
    "duration": 0,
    "start_time": "2025-05-29T19:57:22.062Z"
   },
   {
    "duration": 0,
    "start_time": "2025-05-29T19:57:22.063Z"
   },
   {
    "duration": 0,
    "start_time": "2025-05-29T19:57:22.064Z"
   },
   {
    "duration": 0,
    "start_time": "2025-05-29T19:57:22.065Z"
   },
   {
    "duration": 0,
    "start_time": "2025-05-29T19:57:22.066Z"
   },
   {
    "duration": 0,
    "start_time": "2025-05-29T19:57:22.067Z"
   },
   {
    "duration": 0,
    "start_time": "2025-05-29T19:57:22.068Z"
   },
   {
    "duration": 0,
    "start_time": "2025-05-29T19:57:22.069Z"
   },
   {
    "duration": 0,
    "start_time": "2025-05-29T19:57:22.070Z"
   },
   {
    "duration": 0,
    "start_time": "2025-05-29T19:57:22.071Z"
   },
   {
    "duration": 0,
    "start_time": "2025-05-29T19:57:22.073Z"
   },
   {
    "duration": 0,
    "start_time": "2025-05-29T19:57:22.074Z"
   },
   {
    "duration": 0,
    "start_time": "2025-05-29T19:57:22.075Z"
   },
   {
    "duration": 0,
    "start_time": "2025-05-29T19:57:22.076Z"
   },
   {
    "duration": 0,
    "start_time": "2025-05-29T19:57:22.077Z"
   },
   {
    "duration": 0,
    "start_time": "2025-05-29T19:57:22.078Z"
   },
   {
    "duration": 0,
    "start_time": "2025-05-29T19:57:22.079Z"
   },
   {
    "duration": 0,
    "start_time": "2025-05-29T19:57:22.081Z"
   },
   {
    "duration": 0,
    "start_time": "2025-05-29T19:57:22.082Z"
   },
   {
    "duration": 0,
    "start_time": "2025-05-29T19:57:22.083Z"
   },
   {
    "duration": 0,
    "start_time": "2025-05-29T19:57:22.084Z"
   },
   {
    "duration": 0,
    "start_time": "2025-05-29T19:57:22.085Z"
   },
   {
    "duration": 7,
    "start_time": "2025-05-29T19:58:02.306Z"
   },
   {
    "duration": 5954,
    "start_time": "2025-05-29T19:58:09.189Z"
   },
   {
    "duration": 1396,
    "start_time": "2025-05-29T19:58:15.146Z"
   },
   {
    "duration": 3,
    "start_time": "2025-05-29T19:58:16.544Z"
   },
   {
    "duration": 52,
    "start_time": "2025-05-29T19:58:16.549Z"
   },
   {
    "duration": 13,
    "start_time": "2025-05-29T19:58:16.604Z"
   },
   {
    "duration": 13,
    "start_time": "2025-05-29T19:58:16.619Z"
   },
   {
    "duration": 12,
    "start_time": "2025-05-29T19:58:16.633Z"
   },
   {
    "duration": 8,
    "start_time": "2025-05-29T19:58:16.671Z"
   },
   {
    "duration": 5,
    "start_time": "2025-05-29T19:58:16.681Z"
   },
   {
    "duration": 5,
    "start_time": "2025-05-29T19:58:16.687Z"
   },
   {
    "duration": 6,
    "start_time": "2025-05-29T19:58:16.694Z"
   },
   {
    "duration": 16,
    "start_time": "2025-05-29T19:58:16.702Z"
   },
   {
    "duration": 17,
    "start_time": "2025-05-29T19:58:16.719Z"
   },
   {
    "duration": 176,
    "start_time": "2025-05-29T19:58:16.775Z"
   },
   {
    "duration": 5,
    "start_time": "2025-05-29T19:58:16.953Z"
   },
   {
    "duration": 401,
    "start_time": "2025-05-29T19:58:16.971Z"
   },
   {
    "duration": 341,
    "start_time": "2025-05-29T19:58:17.375Z"
   },
   {
    "duration": 357,
    "start_time": "2025-05-29T19:58:17.719Z"
   },
   {
    "duration": 9,
    "start_time": "2025-05-29T19:58:18.078Z"
   },
   {
    "duration": 382,
    "start_time": "2025-05-29T19:58:18.089Z"
   },
   {
    "duration": 336,
    "start_time": "2025-05-29T19:58:18.473Z"
   },
   {
    "duration": 293,
    "start_time": "2025-05-29T19:58:18.810Z"
   },
   {
    "duration": 315,
    "start_time": "2025-05-29T19:58:19.104Z"
   },
   {
    "duration": 321,
    "start_time": "2025-05-29T19:58:19.421Z"
   },
   {
    "duration": 4,
    "start_time": "2025-05-29T19:58:19.743Z"
   },
   {
    "duration": 2225,
    "start_time": "2025-05-29T19:58:19.749Z"
   },
   {
    "duration": 94,
    "start_time": "2025-05-29T19:58:21.976Z"
   },
   {
    "duration": 34,
    "start_time": "2025-05-29T19:58:22.072Z"
   },
   {
    "duration": 28,
    "start_time": "2025-05-29T19:58:22.108Z"
   },
   {
    "duration": 20,
    "start_time": "2025-05-29T19:58:22.137Z"
   },
   {
    "duration": 7,
    "start_time": "2025-05-29T19:58:22.158Z"
   },
   {
    "duration": 15,
    "start_time": "2025-05-29T19:58:22.167Z"
   },
   {
    "duration": 164,
    "start_time": "2025-05-29T19:58:22.184Z"
   },
   {
    "duration": 6,
    "start_time": "2025-05-29T19:59:03.202Z"
   },
   {
    "duration": 18,
    "start_time": "2025-05-29T19:59:05.667Z"
   },
   {
    "duration": 5,
    "start_time": "2025-05-29T20:02:26.588Z"
   },
   {
    "duration": 23,
    "start_time": "2025-05-29T20:03:33.252Z"
   },
   {
    "duration": 44,
    "start_time": "2025-05-29T20:10:53.531Z"
   },
   {
    "duration": 4,
    "start_time": "2025-05-29T20:13:56.288Z"
   },
   {
    "duration": 14,
    "start_time": "2025-05-29T20:32:03.548Z"
   },
   {
    "duration": 36,
    "start_time": "2025-05-29T20:32:38.158Z"
   },
   {
    "duration": 3,
    "start_time": "2025-05-29T20:32:41.187Z"
   },
   {
    "duration": 6,
    "start_time": "2025-05-29T20:33:20.893Z"
   },
   {
    "duration": 15,
    "start_time": "2025-05-29T20:33:47.447Z"
   },
   {
    "duration": 12,
    "start_time": "2025-05-29T20:33:52.606Z"
   },
   {
    "duration": 3,
    "start_time": "2025-05-29T20:34:31.600Z"
   },
   {
    "duration": 2,
    "start_time": "2025-05-29T20:36:37.665Z"
   },
   {
    "duration": 15,
    "start_time": "2025-05-29T20:36:50.024Z"
   },
   {
    "duration": 4,
    "start_time": "2025-05-29T20:37:09.345Z"
   },
   {
    "duration": 4,
    "start_time": "2025-05-29T20:37:17.919Z"
   },
   {
    "duration": 6,
    "start_time": "2025-05-29T20:37:25.496Z"
   },
   {
    "duration": 11,
    "start_time": "2025-05-29T20:38:11.146Z"
   },
   {
    "duration": 11,
    "start_time": "2025-05-29T20:38:25.085Z"
   },
   {
    "duration": 15,
    "start_time": "2025-05-29T20:38:46.051Z"
   },
   {
    "duration": 7,
    "start_time": "2025-05-29T20:39:06.273Z"
   },
   {
    "duration": 5,
    "start_time": "2025-05-29T20:39:12.967Z"
   },
   {
    "duration": 7,
    "start_time": "2025-05-29T20:40:26.157Z"
   },
   {
    "duration": 14,
    "start_time": "2025-05-29T20:40:29.603Z"
   },
   {
    "duration": 27,
    "start_time": "2025-05-29T20:40:36.190Z"
   },
   {
    "duration": 21,
    "start_time": "2025-05-29T20:40:57.664Z"
   },
   {
    "duration": 3,
    "start_time": "2025-05-29T20:41:08.042Z"
   },
   {
    "duration": 22,
    "start_time": "2025-05-29T20:41:09.577Z"
   },
   {
    "duration": 2,
    "start_time": "2025-05-29T20:41:14.115Z"
   },
   {
    "duration": 22,
    "start_time": "2025-05-29T20:41:17.960Z"
   },
   {
    "duration": 3,
    "start_time": "2025-05-29T20:41:28.295Z"
   },
   {
    "duration": 40,
    "start_time": "2025-05-29T20:41:30.206Z"
   },
   {
    "duration": 40,
    "start_time": "2025-05-29T20:41:47.542Z"
   },
   {
    "duration": 13,
    "start_time": "2025-05-29T20:42:11.805Z"
   },
   {
    "duration": 39,
    "start_time": "2025-05-29T20:42:15.056Z"
   },
   {
    "duration": 3,
    "start_time": "2025-05-29T20:43:05.778Z"
   },
   {
    "duration": 66,
    "start_time": "2025-05-29T20:43:07.632Z"
   },
   {
    "duration": 10,
    "start_time": "2025-05-29T20:43:23.862Z"
   },
   {
    "duration": 5,
    "start_time": "2025-05-29T20:43:27.765Z"
   },
   {
    "duration": 3,
    "start_time": "2025-05-29T20:43:57.172Z"
   },
   {
    "duration": 11,
    "start_time": "2025-05-29T20:46:18.998Z"
   },
   {
    "duration": 10,
    "start_time": "2025-05-29T20:46:22.475Z"
   },
   {
    "duration": 5,
    "start_time": "2025-05-29T20:46:31.302Z"
   },
   {
    "duration": 4,
    "start_time": "2025-05-29T20:46:39.157Z"
   },
   {
    "duration": 5,
    "start_time": "2025-05-29T20:46:48.624Z"
   },
   {
    "duration": 4,
    "start_time": "2025-05-29T20:46:51.556Z"
   },
   {
    "duration": 158,
    "start_time": "2025-05-29T20:47:19.918Z"
   },
   {
    "duration": 130,
    "start_time": "2025-05-29T20:47:24.867Z"
   },
   {
    "duration": 5700,
    "start_time": "2025-05-29T20:47:56.274Z"
   },
   {
    "duration": 1417,
    "start_time": "2025-05-29T20:48:01.977Z"
   },
   {
    "duration": 4,
    "start_time": "2025-05-29T20:48:03.396Z"
   },
   {
    "duration": 60,
    "start_time": "2025-05-29T20:48:03.402Z"
   },
   {
    "duration": 13,
    "start_time": "2025-05-29T20:48:03.464Z"
   },
   {
    "duration": 12,
    "start_time": "2025-05-29T20:48:03.480Z"
   },
   {
    "duration": 10,
    "start_time": "2025-05-29T20:48:03.494Z"
   },
   {
    "duration": 15,
    "start_time": "2025-05-29T20:48:03.506Z"
   },
   {
    "duration": 4,
    "start_time": "2025-05-29T20:48:03.522Z"
   },
   {
    "duration": 12,
    "start_time": "2025-05-29T20:48:03.529Z"
   },
   {
    "duration": 33,
    "start_time": "2025-05-29T20:48:03.542Z"
   },
   {
    "duration": 14,
    "start_time": "2025-05-29T20:48:03.577Z"
   },
   {
    "duration": 17,
    "start_time": "2025-05-29T20:48:03.593Z"
   },
   {
    "duration": 174,
    "start_time": "2025-05-29T20:48:03.612Z"
   },
   {
    "duration": 5,
    "start_time": "2025-05-29T20:48:03.788Z"
   },
   {
    "duration": 385,
    "start_time": "2025-05-29T20:48:03.794Z"
   },
   {
    "duration": 414,
    "start_time": "2025-05-29T20:48:04.181Z"
   },
   {
    "duration": 338,
    "start_time": "2025-05-29T20:48:04.597Z"
   },
   {
    "duration": 7,
    "start_time": "2025-05-29T20:48:04.937Z"
   },
   {
    "duration": 310,
    "start_time": "2025-05-29T20:48:04.945Z"
   },
   {
    "duration": 332,
    "start_time": "2025-05-29T20:48:05.257Z"
   },
   {
    "duration": 303,
    "start_time": "2025-05-29T20:48:05.591Z"
   },
   {
    "duration": 313,
    "start_time": "2025-05-29T20:48:05.896Z"
   },
   {
    "duration": 304,
    "start_time": "2025-05-29T20:48:06.212Z"
   },
   {
    "duration": 4,
    "start_time": "2025-05-29T20:48:06.518Z"
   },
   {
    "duration": 2354,
    "start_time": "2025-05-29T20:48:06.523Z"
   },
   {
    "duration": 95,
    "start_time": "2025-05-29T20:48:08.879Z"
   },
   {
    "duration": 94,
    "start_time": "2025-05-29T20:48:08.979Z"
   },
   {
    "duration": 4,
    "start_time": "2025-05-29T20:48:09.075Z"
   },
   {
    "duration": 7,
    "start_time": "2025-05-29T20:48:09.081Z"
   },
   {
    "duration": 11,
    "start_time": "2025-05-29T20:48:09.089Z"
   },
   {
    "duration": 14,
    "start_time": "2025-05-29T20:48:09.102Z"
   },
   {
    "duration": 12,
    "start_time": "2025-05-29T20:48:09.118Z"
   },
   {
    "duration": 11,
    "start_time": "2025-05-29T20:48:09.132Z"
   },
   {
    "duration": 2,
    "start_time": "2025-05-29T20:48:09.172Z"
   },
   {
    "duration": 135,
    "start_time": "2025-05-29T20:48:09.176Z"
   },
   {
    "duration": 173,
    "start_time": "2025-05-29T20:48:39.203Z"
   },
   {
    "duration": 5,
    "start_time": "2025-05-29T20:50:47.167Z"
   },
   {
    "duration": 15,
    "start_time": "2025-05-29T20:52:13.330Z"
   },
   {
    "duration": 12,
    "start_time": "2025-05-29T20:53:04.534Z"
   },
   {
    "duration": 7,
    "start_time": "2025-05-29T20:53:44.923Z"
   },
   {
    "duration": 2,
    "start_time": "2025-05-29T20:55:27.467Z"
   },
   {
    "duration": 330,
    "start_time": "2025-05-29T20:55:27.472Z"
   },
   {
    "duration": 9,
    "start_time": "2025-05-29T20:55:27.872Z"
   },
   {
    "duration": 6,
    "start_time": "2025-05-29T20:55:27.883Z"
   },
   {
    "duration": 13,
    "start_time": "2025-05-29T20:55:44.385Z"
   },
   {
    "duration": 13,
    "start_time": "2025-05-29T20:55:58.288Z"
   },
   {
    "duration": 8351,
    "start_time": "2025-05-29T21:00:58.588Z"
   },
   {
    "duration": 5,
    "start_time": "2025-05-29T21:01:13.329Z"
   },
   {
    "duration": 6,
    "start_time": "2025-05-29T21:02:25.494Z"
   },
   {
    "duration": 8,
    "start_time": "2025-05-29T21:02:47.146Z"
   },
   {
    "duration": 5,
    "start_time": "2025-05-29T21:02:52.882Z"
   },
   {
    "duration": 5,
    "start_time": "2025-05-29T21:03:41.281Z"
   },
   {
    "duration": 5,
    "start_time": "2025-05-29T21:04:10.580Z"
   },
   {
    "duration": 8226,
    "start_time": "2025-05-29T21:04:26.984Z"
   },
   {
    "duration": 1409,
    "start_time": "2025-05-29T21:04:35.212Z"
   },
   {
    "duration": 4,
    "start_time": "2025-05-29T21:04:36.623Z"
   },
   {
    "duration": 94,
    "start_time": "2025-05-29T21:04:36.629Z"
   },
   {
    "duration": 15,
    "start_time": "2025-05-29T21:04:36.725Z"
   },
   {
    "duration": 22,
    "start_time": "2025-05-29T21:04:36.742Z"
   },
   {
    "duration": 10,
    "start_time": "2025-05-29T21:04:36.766Z"
   },
   {
    "duration": 8,
    "start_time": "2025-05-29T21:04:36.778Z"
   },
   {
    "duration": 5,
    "start_time": "2025-05-29T21:04:36.787Z"
   },
   {
    "duration": 4,
    "start_time": "2025-05-29T21:04:36.795Z"
   },
   {
    "duration": 8,
    "start_time": "2025-05-29T21:04:36.800Z"
   },
   {
    "duration": 23,
    "start_time": "2025-05-29T21:04:36.809Z"
   },
   {
    "duration": 45,
    "start_time": "2025-05-29T21:04:36.834Z"
   },
   {
    "duration": 165,
    "start_time": "2025-05-29T21:04:36.880Z"
   },
   {
    "duration": 4,
    "start_time": "2025-05-29T21:04:37.047Z"
   },
   {
    "duration": 395,
    "start_time": "2025-05-29T21:04:37.053Z"
   },
   {
    "duration": 410,
    "start_time": "2025-05-29T21:04:37.450Z"
   },
   {
    "duration": 353,
    "start_time": "2025-05-29T21:04:37.862Z"
   },
   {
    "duration": 10,
    "start_time": "2025-05-29T21:04:38.217Z"
   },
   {
    "duration": 301,
    "start_time": "2025-05-29T21:04:38.229Z"
   },
   {
    "duration": 326,
    "start_time": "2025-05-29T21:04:38.532Z"
   },
   {
    "duration": 277,
    "start_time": "2025-05-29T21:04:38.860Z"
   },
   {
    "duration": 317,
    "start_time": "2025-05-29T21:04:39.139Z"
   },
   {
    "duration": 293,
    "start_time": "2025-05-29T21:04:39.458Z"
   },
   {
    "duration": 5,
    "start_time": "2025-05-29T21:04:39.753Z"
   },
   {
    "duration": 2208,
    "start_time": "2025-05-29T21:04:39.772Z"
   },
   {
    "duration": 6,
    "start_time": "2025-05-29T21:04:42.073Z"
   },
   {
    "duration": 95,
    "start_time": "2025-05-29T21:04:42.084Z"
   },
   {
    "duration": 28,
    "start_time": "2025-05-29T21:04:42.181Z"
   },
   {
    "duration": 9,
    "start_time": "2025-05-29T21:04:42.212Z"
   },
   {
    "duration": 7,
    "start_time": "2025-05-29T21:04:42.224Z"
   },
   {
    "duration": 21,
    "start_time": "2025-05-29T21:04:42.234Z"
   },
   {
    "duration": 19,
    "start_time": "2025-05-29T21:04:42.257Z"
   },
   {
    "duration": 5,
    "start_time": "2025-05-29T21:04:42.278Z"
   },
   {
    "duration": 51,
    "start_time": "2025-05-29T21:04:42.285Z"
   },
   {
    "duration": 339,
    "start_time": "2025-05-29T21:04:42.338Z"
   },
   {
    "duration": 10,
    "start_time": "2025-05-29T21:04:42.679Z"
   },
   {
    "duration": 3,
    "start_time": "2025-05-29T21:04:42.691Z"
   },
   {
    "duration": 262,
    "start_time": "2025-05-29T21:04:42.695Z"
   },
   {
    "duration": 4,
    "start_time": "2025-05-29T21:04:51.626Z"
   },
   {
    "duration": 4,
    "start_time": "2025-05-29T21:06:10.453Z"
   },
   {
    "duration": 4,
    "start_time": "2025-05-29T21:06:14.548Z"
   },
   {
    "duration": 5,
    "start_time": "2025-05-29T21:06:16.953Z"
   },
   {
    "duration": 3,
    "start_time": "2025-05-29T21:06:28.172Z"
   },
   {
    "duration": 4,
    "start_time": "2025-05-29T21:06:30.737Z"
   },
   {
    "duration": 4,
    "start_time": "2025-05-29T21:06:36.289Z"
   },
   {
    "duration": 4,
    "start_time": "2025-05-29T21:06:45.933Z"
   },
   {
    "duration": 3,
    "start_time": "2025-05-29T21:06:59.711Z"
   },
   {
    "duration": 4,
    "start_time": "2025-05-29T21:07:01.006Z"
   },
   {
    "duration": 4,
    "start_time": "2025-05-29T21:07:04.083Z"
   },
   {
    "duration": 9,
    "start_time": "2025-05-29T21:09:27.099Z"
   },
   {
    "duration": 7,
    "start_time": "2025-05-29T21:09:44.455Z"
   },
   {
    "duration": 7,
    "start_time": "2025-05-29T21:10:10.844Z"
   },
   {
    "duration": 14,
    "start_time": "2025-05-29T21:11:21.247Z"
   },
   {
    "duration": 4,
    "start_time": "2025-05-29T21:21:21.238Z"
   },
   {
    "duration": 5,
    "start_time": "2025-05-29T21:21:26.304Z"
   },
   {
    "duration": 11,
    "start_time": "2025-05-29T21:22:37.363Z"
   },
   {
    "duration": 4,
    "start_time": "2025-05-29T21:23:04.713Z"
   },
   {
    "duration": 3,
    "start_time": "2025-05-29T21:23:08.562Z"
   },
   {
    "duration": 4,
    "start_time": "2025-05-29T21:23:38.402Z"
   },
   {
    "duration": 4,
    "start_time": "2025-05-29T21:25:07.642Z"
   },
   {
    "duration": 3,
    "start_time": "2025-05-29T21:25:14.722Z"
   },
   {
    "duration": 3,
    "start_time": "2025-05-29T21:25:24.658Z"
   },
   {
    "duration": 68007,
    "start_time": "2025-05-29T21:26:10.496Z"
   },
   {
    "duration": 26130,
    "start_time": "2025-05-29T21:27:20.441Z"
   },
   {
    "duration": 95396,
    "start_time": "2025-05-29T21:27:51.588Z"
   },
   {
    "duration": 4,
    "start_time": "2025-05-29T21:30:04.262Z"
   },
   {
    "duration": 3,
    "start_time": "2025-05-29T21:31:01.929Z"
   },
   {
    "duration": 6,
    "start_time": "2025-05-29T21:31:05.666Z"
   },
   {
    "duration": 13,
    "start_time": "2025-05-29T21:31:47.939Z"
   },
   {
    "duration": 18,
    "start_time": "2025-05-29T21:32:52.336Z"
   },
   {
    "duration": 6,
    "start_time": "2025-05-29T21:33:20.348Z"
   },
   {
    "duration": 15,
    "start_time": "2025-05-29T21:33:24.591Z"
   },
   {
    "duration": 4,
    "start_time": "2025-05-29T21:33:37.910Z"
   },
   {
    "duration": 102,
    "start_time": "2025-05-29T21:33:54.473Z"
   },
   {
    "duration": 19,
    "start_time": "2025-05-29T21:34:03.164Z"
   },
   {
    "duration": 473,
    "start_time": "2025-05-29T21:34:34.278Z"
   },
   {
    "duration": 95973,
    "start_time": "2025-05-29T21:35:41.309Z"
   },
   {
    "duration": 3,
    "start_time": "2025-05-29T21:37:38.888Z"
   },
   {
    "duration": 23580,
    "start_time": "2025-05-29T21:38:13.310Z"
   },
   {
    "duration": 0,
    "start_time": "2025-05-29T21:38:36.891Z"
   },
   {
    "duration": 3,
    "start_time": "2025-05-29T21:38:38.276Z"
   },
   {
    "duration": 41428,
    "start_time": "2025-05-29T21:38:40.362Z"
   },
   {
    "duration": 3,
    "start_time": "2025-05-29T21:39:23.474Z"
   },
   {
    "duration": 94999,
    "start_time": "2025-05-29T21:39:25.081Z"
   },
   {
    "duration": 4,
    "start_time": "2025-05-29T21:41:39.557Z"
   },
   {
    "duration": 88533,
    "start_time": "2025-05-29T21:43:59.347Z"
   },
   {
    "duration": 10,
    "start_time": "2025-05-29T21:45:27.883Z"
   },
   {
    "duration": 90720,
    "start_time": "2025-05-29T21:45:38.153Z"
   },
   {
    "duration": 6,
    "start_time": "2025-05-29T21:47:30.294Z"
   },
   {
    "duration": 17,
    "start_time": "2025-05-29T21:47:50.559Z"
   },
   {
    "duration": 19,
    "start_time": "2025-05-29T21:48:14.784Z"
   },
   {
    "duration": 12,
    "start_time": "2025-05-29T21:49:21.966Z"
   },
   {
    "duration": 10,
    "start_time": "2025-05-29T21:49:27.295Z"
   },
   {
    "duration": 30,
    "start_time": "2025-05-29T21:49:38.940Z"
   },
   {
    "duration": 20,
    "start_time": "2025-05-29T21:51:04.334Z"
   },
   {
    "duration": 14,
    "start_time": "2025-05-29T22:01:02.981Z"
   },
   {
    "duration": 11353,
    "start_time": "2025-05-30T07:53:01.515Z"
   },
   {
    "duration": 1469,
    "start_time": "2025-05-30T07:53:12.870Z"
   },
   {
    "duration": 3,
    "start_time": "2025-05-30T07:53:14.342Z"
   },
   {
    "duration": 65,
    "start_time": "2025-05-30T07:53:14.347Z"
   },
   {
    "duration": 12,
    "start_time": "2025-05-30T07:53:14.414Z"
   },
   {
    "duration": 75,
    "start_time": "2025-05-30T07:53:14.427Z"
   },
   {
    "duration": 9,
    "start_time": "2025-05-30T07:53:14.503Z"
   },
   {
    "duration": 11,
    "start_time": "2025-05-30T07:53:14.514Z"
   },
   {
    "duration": 3,
    "start_time": "2025-05-30T07:53:14.527Z"
   },
   {
    "duration": 32,
    "start_time": "2025-05-30T07:53:14.531Z"
   },
   {
    "duration": 8,
    "start_time": "2025-05-30T07:53:14.565Z"
   },
   {
    "duration": 18,
    "start_time": "2025-05-30T07:53:14.575Z"
   },
   {
    "duration": 37,
    "start_time": "2025-05-30T07:53:14.597Z"
   },
   {
    "duration": 144,
    "start_time": "2025-05-30T07:53:14.637Z"
   },
   {
    "duration": 6,
    "start_time": "2025-05-30T07:53:14.783Z"
   },
   {
    "duration": 365,
    "start_time": "2025-05-30T07:53:14.791Z"
   },
   {
    "duration": 354,
    "start_time": "2025-05-30T07:53:15.158Z"
   },
   {
    "duration": 323,
    "start_time": "2025-05-30T07:53:15.514Z"
   },
   {
    "duration": 9,
    "start_time": "2025-05-30T07:53:15.840Z"
   },
   {
    "duration": 273,
    "start_time": "2025-05-30T07:53:15.851Z"
   },
   {
    "duration": 290,
    "start_time": "2025-05-30T07:53:16.126Z"
   },
   {
    "duration": 264,
    "start_time": "2025-05-30T07:53:16.418Z"
   },
   {
    "duration": 261,
    "start_time": "2025-05-30T07:53:16.684Z"
   },
   {
    "duration": 285,
    "start_time": "2025-05-30T07:53:16.947Z"
   },
   {
    "duration": 4,
    "start_time": "2025-05-30T07:53:17.234Z"
   },
   {
    "duration": 2005,
    "start_time": "2025-05-30T07:53:17.240Z"
   },
   {
    "duration": 4,
    "start_time": "2025-05-30T07:53:19.337Z"
   },
   {
    "duration": 98,
    "start_time": "2025-05-30T07:53:19.344Z"
   },
   {
    "duration": 5,
    "start_time": "2025-05-30T07:53:19.443Z"
   },
   {
    "duration": 6,
    "start_time": "2025-05-30T07:53:19.449Z"
   },
   {
    "duration": 5,
    "start_time": "2025-05-30T07:53:19.456Z"
   },
   {
    "duration": 11,
    "start_time": "2025-05-30T07:53:19.464Z"
   },
   {
    "duration": 12,
    "start_time": "2025-05-30T07:53:19.477Z"
   },
   {
    "duration": 4,
    "start_time": "2025-05-30T07:53:19.491Z"
   },
   {
    "duration": 5,
    "start_time": "2025-05-30T07:53:19.497Z"
   },
   {
    "duration": 316,
    "start_time": "2025-05-30T07:53:19.536Z"
   },
   {
    "duration": 83,
    "start_time": "2025-05-30T07:53:19.854Z"
   },
   {
    "duration": 2,
    "start_time": "2025-05-30T07:53:19.939Z"
   },
   {
    "duration": 16,
    "start_time": "2025-05-30T07:53:19.943Z"
   },
   {
    "duration": 83,
    "start_time": "2025-05-30T07:53:19.963Z"
   },
   {
    "duration": 3,
    "start_time": "2025-05-30T07:53:20.048Z"
   },
   {
    "duration": 6,
    "start_time": "2025-05-30T07:53:20.052Z"
   },
   {
    "duration": 7663,
    "start_time": "2025-05-30T10:14:49.613Z"
   },
   {
    "duration": 1239,
    "start_time": "2025-05-30T10:14:57.279Z"
   },
   {
    "duration": 3,
    "start_time": "2025-05-30T10:14:58.519Z"
   },
   {
    "duration": 55,
    "start_time": "2025-05-30T10:14:58.523Z"
   },
   {
    "duration": 12,
    "start_time": "2025-05-30T10:14:58.580Z"
   },
   {
    "duration": 12,
    "start_time": "2025-05-30T10:14:58.594Z"
   },
   {
    "duration": 39,
    "start_time": "2025-05-30T10:14:58.607Z"
   },
   {
    "duration": 89,
    "start_time": "2025-05-30T10:14:58.648Z"
   },
   {
    "duration": 8,
    "start_time": "2025-05-30T10:14:58.739Z"
   },
   {
    "duration": 4,
    "start_time": "2025-05-30T10:14:58.748Z"
   },
   {
    "duration": 7,
    "start_time": "2025-05-30T10:14:58.754Z"
   },
   {
    "duration": 14,
    "start_time": "2025-05-30T10:14:58.762Z"
   },
   {
    "duration": 14,
    "start_time": "2025-05-30T10:14:58.777Z"
   },
   {
    "duration": 167,
    "start_time": "2025-05-30T10:14:58.794Z"
   },
   {
    "duration": 6,
    "start_time": "2025-05-30T10:14:58.963Z"
   },
   {
    "duration": 381,
    "start_time": "2025-05-30T10:14:58.971Z"
   },
   {
    "duration": 382,
    "start_time": "2025-05-30T10:14:59.353Z"
   },
   {
    "duration": 314,
    "start_time": "2025-05-30T10:14:59.737Z"
   },
   {
    "duration": 8,
    "start_time": "2025-05-30T10:15:00.053Z"
   },
   {
    "duration": 327,
    "start_time": "2025-05-30T10:15:00.062Z"
   },
   {
    "duration": 311,
    "start_time": "2025-05-30T10:15:00.390Z"
   },
   {
    "duration": 267,
    "start_time": "2025-05-30T10:15:00.702Z"
   },
   {
    "duration": 288,
    "start_time": "2025-05-30T10:15:00.971Z"
   },
   {
    "duration": 279,
    "start_time": "2025-05-30T10:15:01.261Z"
   },
   {
    "duration": 4,
    "start_time": "2025-05-30T10:15:01.541Z"
   },
   {
    "duration": 1995,
    "start_time": "2025-05-30T10:15:01.546Z"
   },
   {
    "duration": 95,
    "start_time": "2025-05-30T10:15:03.543Z"
   },
   {
    "duration": 110,
    "start_time": "2025-05-30T10:15:03.641Z"
   },
   {
    "duration": 4,
    "start_time": "2025-05-30T10:15:03.752Z"
   },
   {
    "duration": 8,
    "start_time": "2025-05-30T10:15:03.758Z"
   },
   {
    "duration": 25,
    "start_time": "2025-05-30T10:15:03.768Z"
   },
   {
    "duration": 46,
    "start_time": "2025-05-30T10:15:03.795Z"
   },
   {
    "duration": 13,
    "start_time": "2025-05-30T10:15:03.843Z"
   },
   {
    "duration": 4,
    "start_time": "2025-05-30T10:15:03.858Z"
   },
   {
    "duration": 13,
    "start_time": "2025-05-30T10:15:03.864Z"
   },
   {
    "duration": 362,
    "start_time": "2025-05-30T10:15:03.879Z"
   },
   {
    "duration": 9,
    "start_time": "2025-05-30T10:15:04.244Z"
   },
   {
    "duration": 10,
    "start_time": "2025-05-30T10:15:04.255Z"
   },
   {
    "duration": 13,
    "start_time": "2025-05-30T10:15:04.335Z"
   },
   {
    "duration": 86,
    "start_time": "2025-05-30T10:15:04.350Z"
   },
   {
    "duration": 3,
    "start_time": "2025-05-30T10:15:04.440Z"
   },
   {
    "duration": 25,
    "start_time": "2025-05-30T10:15:04.445Z"
   },
   {
    "duration": 139175,
    "start_time": "2025-05-30T10:15:04.471Z"
   },
   {
    "duration": 16,
    "start_time": "2025-05-30T10:17:23.647Z"
   },
   {
    "duration": 82,
    "start_time": "2025-05-30T10:17:23.665Z"
   },
   {
    "duration": 4,
    "start_time": "2025-05-30T10:28:33.869Z"
   },
   {
    "duration": 4,
    "start_time": "2025-05-30T10:29:26.814Z"
   },
   {
    "duration": 4,
    "start_time": "2025-05-30T10:33:00.372Z"
   },
   {
    "duration": 3,
    "start_time": "2025-05-30T10:33:56.409Z"
   },
   {
    "duration": 365102,
    "start_time": "2025-05-30T10:34:39.704Z"
   },
   {
    "duration": 3,
    "start_time": "2025-05-30T10:40:50.315Z"
   },
   {
    "duration": 3,
    "start_time": "2025-05-30T10:41:04.216Z"
   },
   {
    "duration": 254107,
    "start_time": "2025-05-30T10:41:09.354Z"
   },
   {
    "duration": 3,
    "start_time": "2025-05-30T10:45:29.476Z"
   },
   {
    "duration": 3,
    "start_time": "2025-05-30T10:45:32.035Z"
   },
   {
    "duration": 363807,
    "start_time": "2025-05-30T10:45:42.805Z"
   },
   {
    "duration": 4,
    "start_time": "2025-05-30T10:54:18.994Z"
   },
   {
    "duration": 4,
    "start_time": "2025-05-30T10:54:27.351Z"
   },
   {
    "duration": 4,
    "start_time": "2025-05-30T10:54:40.921Z"
   },
   {
    "duration": 7,
    "start_time": "2025-05-30T10:57:10.498Z"
   },
   {
    "duration": 12,
    "start_time": "2025-05-30T10:57:18.264Z"
   },
   {
    "duration": 4,
    "start_time": "2025-05-30T11:05:26.062Z"
   },
   {
    "duration": 3,
    "start_time": "2025-05-30T11:09:25.601Z"
   },
   {
    "duration": 3,
    "start_time": "2025-05-30T11:09:27.044Z"
   },
   {
    "duration": 201642,
    "start_time": "2025-05-30T11:09:30.125Z"
   },
   {
    "duration": 4,
    "start_time": "2025-05-30T11:14:34.541Z"
   },
   {
    "duration": 18903,
    "start_time": "2025-05-30T11:14:36.523Z"
   },
   {
    "duration": 222013,
    "start_time": "2025-05-30T11:14:57.509Z"
   },
   {
    "duration": 4,
    "start_time": "2025-05-30T11:18:45.537Z"
   },
   {
    "duration": 3,
    "start_time": "2025-05-30T11:18:53.478Z"
   },
   {
    "duration": 181752,
    "start_time": "2025-05-30T11:18:55.591Z"
   },
   {
    "duration": 3,
    "start_time": "2025-05-30T11:22:03.798Z"
   },
   {
    "duration": 103525,
    "start_time": "2025-05-30T11:22:05.379Z"
   },
   {
    "duration": 3,
    "start_time": "2025-05-30T11:23:50.734Z"
   },
   {
    "duration": 3,
    "start_time": "2025-05-30T11:23:53.603Z"
   },
   {
    "duration": 153009,
    "start_time": "2025-05-30T11:23:56.317Z"
   },
   {
    "duration": 3,
    "start_time": "2025-05-30T11:29:57.289Z"
   },
   {
    "duration": 65518,
    "start_time": "2025-05-30T11:29:59.541Z"
   },
   {
    "duration": 0,
    "start_time": "2025-05-30T11:31:05.061Z"
   },
   {
    "duration": 3,
    "start_time": "2025-05-30T11:31:07.460Z"
   },
   {
    "duration": 55949,
    "start_time": "2025-05-30T11:31:12.120Z"
   },
   {
    "duration": 3,
    "start_time": "2025-05-30T11:32:09.951Z"
   },
   {
    "duration": 20759,
    "start_time": "2025-05-30T11:32:12.052Z"
   },
   {
    "duration": 4,
    "start_time": "2025-05-30T11:32:34.238Z"
   },
   {
    "duration": 105774,
    "start_time": "2025-05-30T11:32:36.483Z"
   },
   {
    "duration": 106081,
    "start_time": "2025-05-30T11:35:34.546Z"
   },
   {
    "duration": 112862,
    "start_time": "2025-05-30T11:37:57.957Z"
   },
   {
    "duration": 3,
    "start_time": "2025-05-30T11:43:37.947Z"
   },
   {
    "duration": 7,
    "start_time": "2025-05-30T11:44:54.968Z"
   },
   {
    "duration": 8,
    "start_time": "2025-05-30T11:56:25.378Z"
   },
   {
    "duration": 3,
    "start_time": "2025-05-30T11:56:52.108Z"
   },
   {
    "duration": 11,
    "start_time": "2025-05-30T11:58:09.728Z"
   },
   {
    "duration": 6,
    "start_time": "2025-05-30T11:58:25.932Z"
   },
   {
    "duration": 4,
    "start_time": "2025-05-30T12:06:45.656Z"
   },
   {
    "duration": 1256,
    "start_time": "2025-05-30T12:06:56.772Z"
   },
   {
    "duration": 4,
    "start_time": "2025-05-30T12:07:36.819Z"
   },
   {
    "duration": 5,
    "start_time": "2025-05-30T12:07:45.825Z"
   },
   {
    "duration": 4,
    "start_time": "2025-05-30T12:07:53.215Z"
   },
   {
    "duration": 13,
    "start_time": "2025-05-30T12:07:54.835Z"
   },
   {
    "duration": 4,
    "start_time": "2025-05-30T12:08:05.485Z"
   },
   {
    "duration": 4,
    "start_time": "2025-05-30T12:08:07.601Z"
   },
   {
    "duration": 4,
    "start_time": "2025-05-30T12:08:19.682Z"
   },
   {
    "duration": 19,
    "start_time": "2025-05-30T12:12:10.155Z"
   },
   {
    "duration": 20,
    "start_time": "2025-05-30T12:12:16.710Z"
   },
   {
    "duration": 14,
    "start_time": "2025-05-30T12:14:03.909Z"
   },
   {
    "duration": 18,
    "start_time": "2025-05-30T12:14:46.266Z"
   },
   {
    "duration": 6,
    "start_time": "2025-05-30T12:15:14.526Z"
   },
   {
    "duration": 4,
    "start_time": "2025-05-30T12:16:56.323Z"
   },
   {
    "duration": 3,
    "start_time": "2025-05-30T12:17:00.999Z"
   },
   {
    "duration": 9,
    "start_time": "2025-05-30T12:17:01.004Z"
   },
   {
    "duration": 6,
    "start_time": "2025-05-30T12:17:01.014Z"
   },
   {
    "duration": 12,
    "start_time": "2025-05-30T12:17:01.022Z"
   },
   {
    "duration": 7,
    "start_time": "2025-05-30T12:24:50.180Z"
   },
   {
    "duration": 10,
    "start_time": "2025-05-30T12:25:03.950Z"
   },
   {
    "duration": 8,
    "start_time": "2025-05-30T12:25:13.699Z"
   },
   {
    "duration": 5,
    "start_time": "2025-05-30T12:32:03.749Z"
   },
   {
    "duration": 12,
    "start_time": "2025-05-30T12:33:05.449Z"
   },
   {
    "duration": 5,
    "start_time": "2025-05-30T12:33:13.856Z"
   },
   {
    "duration": 68,
    "start_time": "2025-05-30T12:36:27.221Z"
   },
   {
    "duration": 4,
    "start_time": "2025-05-30T12:36:31.919Z"
   },
   {
    "duration": 3,
    "start_time": "2025-05-30T12:36:45.539Z"
   },
   {
    "duration": 635223,
    "start_time": "2025-05-30T12:36:50.434Z"
   },
   {
    "duration": 3,
    "start_time": "2025-05-30T12:47:47.050Z"
   },
   {
    "duration": 3,
    "start_time": "2025-05-30T12:48:25.177Z"
   },
   {
    "duration": 5,
    "start_time": "2025-05-30T12:48:34.012Z"
   },
   {
    "duration": 4,
    "start_time": "2025-05-30T12:48:37.667Z"
   },
   {
    "duration": 5,
    "start_time": "2025-05-30T12:48:54.142Z"
   },
   {
    "duration": 494004,
    "start_time": "2025-05-30T12:48:57.324Z"
   },
   {
    "duration": 112,
    "start_time": "2025-05-30T12:57:32.637Z"
   },
   {
    "duration": 4,
    "start_time": "2025-05-30T12:57:55.511Z"
   },
   {
    "duration": 105,
    "start_time": "2025-05-30T12:57:59.436Z"
   },
   {
    "duration": 3,
    "start_time": "2025-05-30T12:58:09.117Z"
   },
   {
    "duration": 106,
    "start_time": "2025-05-30T12:58:11.379Z"
   },
   {
    "duration": 5,
    "start_time": "2025-05-30T12:58:34.146Z"
   },
   {
    "duration": 3,
    "start_time": "2025-05-30T12:58:35.993Z"
   },
   {
    "duration": 502962,
    "start_time": "2025-05-30T12:58:39.037Z"
   },
   {
    "duration": 3,
    "start_time": "2025-05-30T13:07:58.213Z"
   },
   {
    "duration": 4,
    "start_time": "2025-05-30T13:08:00.158Z"
   },
   {
    "duration": 33377,
    "start_time": "2025-05-30T13:08:04.209Z"
   },
   {
    "duration": 7,
    "start_time": "2025-05-30T13:09:11.067Z"
   },
   {
    "duration": 6,
    "start_time": "2025-05-30T13:09:31.954Z"
   },
   {
    "duration": 4,
    "start_time": "2025-05-30T13:11:59.574Z"
   },
   {
    "duration": 4,
    "start_time": "2025-05-30T13:12:16.872Z"
   },
   {
    "duration": 3,
    "start_time": "2025-05-30T13:12:18.856Z"
   },
   {
    "duration": 3,
    "start_time": "2025-05-30T13:12:25.681Z"
   },
   {
    "duration": 177104,
    "start_time": "2025-05-30T13:12:27.701Z"
   },
   {
    "duration": 4,
    "start_time": "2025-05-30T13:16:02.549Z"
   },
   {
    "duration": 10,
    "start_time": "2025-05-30T13:16:05.612Z"
   },
   {
    "duration": 8,
    "start_time": "2025-05-30T13:16:13.131Z"
   },
   {
    "duration": 4,
    "start_time": "2025-05-30T13:17:28.929Z"
   },
   {
    "duration": 3,
    "start_time": "2025-05-30T13:17:30.902Z"
   },
   {
    "duration": 91312,
    "start_time": "2025-05-30T13:17:33.370Z"
   },
   {
    "duration": 6,
    "start_time": "2025-05-30T13:19:16.517Z"
   },
   {
    "duration": 9,
    "start_time": "2025-05-30T13:19:19.420Z"
   },
   {
    "duration": 7,
    "start_time": "2025-05-30T13:19:27.298Z"
   },
   {
    "duration": 3,
    "start_time": "2025-05-30T13:26:23.220Z"
   },
   {
    "duration": 3,
    "start_time": "2025-05-30T13:26:25.829Z"
   },
   {
    "duration": 88589,
    "start_time": "2025-05-30T13:26:29.767Z"
   },
   {
    "duration": 4,
    "start_time": "2025-05-30T13:28:43.850Z"
   },
   {
    "duration": 8,
    "start_time": "2025-05-30T13:28:46.487Z"
   },
   {
    "duration": 3,
    "start_time": "2025-05-30T13:28:54.753Z"
   },
   {
    "duration": 4,
    "start_time": "2025-05-30T13:28:56.767Z"
   },
   {
    "duration": 88914,
    "start_time": "2025-05-30T13:28:58.479Z"
   },
   {
    "duration": 4,
    "start_time": "2025-05-30T13:31:00.583Z"
   },
   {
    "duration": 4,
    "start_time": "2025-05-30T13:31:02.513Z"
   },
   {
    "duration": 7,
    "start_time": "2025-05-30T13:31:08.170Z"
   },
   {
    "duration": 6,
    "start_time": "2025-05-30T13:31:16.980Z"
   },
   {
    "duration": 3,
    "start_time": "2025-05-30T13:31:31.793Z"
   },
   {
    "duration": 3,
    "start_time": "2025-05-30T13:31:33.492Z"
   },
   {
    "duration": 90292,
    "start_time": "2025-05-30T13:31:35.546Z"
   },
   {
    "duration": 4,
    "start_time": "2025-05-30T13:33:16.333Z"
   },
   {
    "duration": 9,
    "start_time": "2025-05-30T13:33:19.065Z"
   },
   {
    "duration": 8,
    "start_time": "2025-05-30T13:33:28.552Z"
   },
   {
    "duration": 4,
    "start_time": "2025-05-30T13:34:27.937Z"
   },
   {
    "duration": 3,
    "start_time": "2025-05-30T13:34:29.915Z"
   },
   {
    "duration": 173715,
    "start_time": "2025-05-30T13:34:33.245Z"
   },
   {
    "duration": 4,
    "start_time": "2025-05-30T13:37:37.106Z"
   },
   {
    "duration": 12,
    "start_time": "2025-05-30T13:37:39.790Z"
   },
   {
    "duration": 11,
    "start_time": "2025-05-30T13:37:44.073Z"
   },
   {
    "duration": 21,
    "start_time": "2025-05-30T13:38:40.643Z"
   },
   {
    "duration": 10,
    "start_time": "2025-05-30T13:39:15.584Z"
   },
   {
    "duration": 4,
    "start_time": "2025-05-30T13:40:12.067Z"
   },
   {
    "duration": 3,
    "start_time": "2025-05-30T13:41:52.924Z"
   },
   {
    "duration": 3,
    "start_time": "2025-05-30T13:41:54.466Z"
   },
   {
    "duration": 176969,
    "start_time": "2025-05-30T13:41:59.087Z"
   },
   {
    "duration": 4,
    "start_time": "2025-05-30T13:45:01.116Z"
   },
   {
    "duration": 13,
    "start_time": "2025-05-30T13:45:17.950Z"
   },
   {
    "duration": 12,
    "start_time": "2025-05-30T13:45:26.137Z"
   },
   {
    "duration": 4,
    "start_time": "2025-05-30T13:46:03.979Z"
   },
   {
    "duration": 3,
    "start_time": "2025-05-30T13:47:16.972Z"
   },
   {
    "duration": 4,
    "start_time": "2025-05-30T13:47:20.236Z"
   },
   {
    "duration": 186020,
    "start_time": "2025-05-30T13:47:24.484Z"
   },
   {
    "duration": 4,
    "start_time": "2025-05-30T13:50:34.570Z"
   },
   {
    "duration": 11,
    "start_time": "2025-05-30T13:50:46.782Z"
   },
   {
    "duration": 15,
    "start_time": "2025-05-30T13:50:57.353Z"
   },
   {
    "duration": 4,
    "start_time": "2025-05-30T13:53:35.499Z"
   },
   {
    "duration": 7710,
    "start_time": "2025-05-30T13:54:17.711Z"
   },
   {
    "duration": 1427,
    "start_time": "2025-05-30T13:54:25.424Z"
   },
   {
    "duration": 3,
    "start_time": "2025-05-30T13:54:26.852Z"
   },
   {
    "duration": 62,
    "start_time": "2025-05-30T13:54:26.857Z"
   },
   {
    "duration": 11,
    "start_time": "2025-05-30T13:54:26.921Z"
   },
   {
    "duration": 18,
    "start_time": "2025-05-30T13:54:26.934Z"
   },
   {
    "duration": 9,
    "start_time": "2025-05-30T13:54:26.954Z"
   },
   {
    "duration": 32,
    "start_time": "2025-05-30T13:54:26.964Z"
   },
   {
    "duration": 7,
    "start_time": "2025-05-30T13:54:26.997Z"
   },
   {
    "duration": 4,
    "start_time": "2025-05-30T13:54:27.006Z"
   },
   {
    "duration": 8,
    "start_time": "2025-05-30T13:54:27.012Z"
   },
   {
    "duration": 18,
    "start_time": "2025-05-30T13:54:27.022Z"
   },
   {
    "duration": 16,
    "start_time": "2025-05-30T13:54:27.042Z"
   },
   {
    "duration": 170,
    "start_time": "2025-05-30T13:54:27.062Z"
   },
   {
    "duration": 4,
    "start_time": "2025-05-30T13:54:27.235Z"
   },
   {
    "duration": 354,
    "start_time": "2025-05-30T13:54:27.240Z"
   },
   {
    "duration": 374,
    "start_time": "2025-05-30T13:54:27.596Z"
   },
   {
    "duration": 317,
    "start_time": "2025-05-30T13:54:27.971Z"
   },
   {
    "duration": 9,
    "start_time": "2025-05-30T13:54:28.289Z"
   },
   {
    "duration": 277,
    "start_time": "2025-05-30T13:54:28.299Z"
   },
   {
    "duration": 298,
    "start_time": "2025-05-30T13:54:28.578Z"
   },
   {
    "duration": 274,
    "start_time": "2025-05-30T13:54:28.878Z"
   },
   {
    "duration": 296,
    "start_time": "2025-05-30T13:54:29.154Z"
   },
   {
    "duration": 283,
    "start_time": "2025-05-30T13:54:29.452Z"
   },
   {
    "duration": 4,
    "start_time": "2025-05-30T13:54:29.736Z"
   },
   {
    "duration": 1894,
    "start_time": "2025-05-30T13:54:29.742Z"
   },
   {
    "duration": 5,
    "start_time": "2025-05-30T13:54:31.639Z"
   },
   {
    "duration": 7,
    "start_time": "2025-05-30T13:54:31.734Z"
   },
   {
    "duration": 6,
    "start_time": "2025-05-30T13:54:31.743Z"
   },
   {
    "duration": 12,
    "start_time": "2025-05-30T13:54:31.751Z"
   },
   {
    "duration": 33,
    "start_time": "2025-05-30T13:54:31.765Z"
   },
   {
    "duration": 24,
    "start_time": "2025-05-30T13:54:31.799Z"
   },
   {
    "duration": 15,
    "start_time": "2025-05-30T13:54:31.824Z"
   },
   {
    "duration": 9,
    "start_time": "2025-05-30T13:54:31.841Z"
   },
   {
    "duration": 17,
    "start_time": "2025-05-30T13:54:31.851Z"
   },
   {
    "duration": 1871,
    "start_time": "2025-05-30T13:54:31.870Z"
   },
   {
    "duration": 200,
    "start_time": "2025-05-30T13:54:33.743Z"
   },
   {
    "duration": 98,
    "start_time": "2025-05-30T13:54:33.946Z"
   },
   {
    "duration": 95,
    "start_time": "2025-05-30T13:54:34.047Z"
   },
   {
    "duration": 16,
    "start_time": "2025-05-30T13:54:34.144Z"
   },
   {
    "duration": 17,
    "start_time": "2025-05-30T13:54:34.165Z"
   },
   {
    "duration": 10,
    "start_time": "2025-05-30T13:54:34.183Z"
   },
   {
    "duration": 105546,
    "start_time": "2025-05-30T13:54:34.195Z"
   },
   {
    "duration": 0,
    "start_time": "2025-05-30T13:56:19.743Z"
   },
   {
    "duration": 0,
    "start_time": "2025-05-30T13:56:19.744Z"
   },
   {
    "duration": 0,
    "start_time": "2025-05-30T13:56:19.745Z"
   },
   {
    "duration": 0,
    "start_time": "2025-05-30T13:56:19.746Z"
   },
   {
    "duration": 0,
    "start_time": "2025-05-30T13:56:19.747Z"
   },
   {
    "duration": 0,
    "start_time": "2025-05-30T13:56:19.749Z"
   },
   {
    "duration": 0,
    "start_time": "2025-05-30T13:56:19.750Z"
   },
   {
    "duration": 0,
    "start_time": "2025-05-30T13:56:19.751Z"
   },
   {
    "duration": 0,
    "start_time": "2025-05-30T13:56:19.752Z"
   },
   {
    "duration": 0,
    "start_time": "2025-05-30T13:56:19.754Z"
   },
   {
    "duration": 0,
    "start_time": "2025-05-30T13:56:19.755Z"
   },
   {
    "duration": 0,
    "start_time": "2025-05-30T13:56:19.756Z"
   },
   {
    "duration": 0,
    "start_time": "2025-05-30T13:56:19.757Z"
   },
   {
    "duration": 0,
    "start_time": "2025-05-30T13:56:19.758Z"
   },
   {
    "duration": 0,
    "start_time": "2025-05-30T13:56:19.759Z"
   },
   {
    "duration": 81,
    "start_time": "2025-05-30T13:57:45.640Z"
   },
   {
    "duration": 4,
    "start_time": "2025-05-30T13:57:49.254Z"
   },
   {
    "duration": 4,
    "start_time": "2025-05-30T13:57:54.768Z"
   },
   {
    "duration": 4,
    "start_time": "2025-05-30T13:58:34.053Z"
   },
   {
    "duration": 3,
    "start_time": "2025-05-30T13:58:39.813Z"
   },
   {
    "duration": 557137,
    "start_time": "2025-05-30T13:59:01.522Z"
   },
   {
    "duration": 4,
    "start_time": "2025-05-30T14:08:58.737Z"
   },
   {
    "duration": 3,
    "start_time": "2025-05-30T14:09:01.124Z"
   },
   {
    "duration": 70765,
    "start_time": "2025-05-30T14:09:10.289Z"
   },
   {
    "duration": 3,
    "start_time": "2025-05-30T14:10:23.150Z"
   },
   {
    "duration": 4,
    "start_time": "2025-05-30T14:10:24.697Z"
   },
   {
    "duration": 4,
    "start_time": "2025-05-30T14:10:26.933Z"
   },
   {
    "duration": 3,
    "start_time": "2025-05-30T14:10:28.410Z"
   },
   {
    "duration": 75465,
    "start_time": "2025-05-30T14:10:32.789Z"
   },
   {
    "duration": 4,
    "start_time": "2025-05-30T14:12:22.723Z"
   },
   {
    "duration": 3,
    "start_time": "2025-05-30T14:12:27.622Z"
   },
   {
    "duration": 109691,
    "start_time": "2025-05-30T14:12:48.466Z"
   },
   {
    "duration": 4,
    "start_time": "2025-05-30T14:14:41.576Z"
   },
   {
    "duration": 3,
    "start_time": "2025-05-30T14:14:43.555Z"
   },
   {
    "duration": 29343,
    "start_time": "2025-05-30T14:14:45.011Z"
   },
   {
    "duration": 3,
    "start_time": "2025-05-30T14:15:14.556Z"
   },
   {
    "duration": 26399,
    "start_time": "2025-05-30T14:15:16.157Z"
   },
   {
    "duration": 20189,
    "start_time": "2025-05-30T14:15:46.866Z"
   },
   {
    "duration": 4,
    "start_time": "2025-05-30T14:16:10.576Z"
   },
   {
    "duration": 3,
    "start_time": "2025-05-30T14:16:12.175Z"
   },
   {
    "duration": 271602,
    "start_time": "2025-05-30T14:16:13.942Z"
   },
   {
    "duration": 4,
    "start_time": "2025-05-30T14:24:50.963Z"
   },
   {
    "duration": 23,
    "start_time": "2025-05-30T14:24:54.560Z"
   },
   {
    "duration": 21,
    "start_time": "2025-05-30T14:25:15.686Z"
   },
   {
    "duration": 20,
    "start_time": "2025-05-30T14:50:11.232Z"
   },
   {
    "duration": 5,
    "start_time": "2025-05-30T14:50:25.072Z"
   },
   {
    "duration": 26,
    "start_time": "2025-05-30T14:50:27.394Z"
   },
   {
    "duration": 18,
    "start_time": "2025-05-30T14:51:48.804Z"
   },
   {
    "duration": 9,
    "start_time": "2025-05-30T14:59:55.750Z"
   },
   {
    "duration": 14,
    "start_time": "2025-05-30T15:00:04.990Z"
   },
   {
    "duration": 7771,
    "start_time": "2025-05-30T15:00:41.718Z"
   },
   {
    "duration": 1287,
    "start_time": "2025-05-30T15:00:49.491Z"
   },
   {
    "duration": 3,
    "start_time": "2025-05-30T15:00:50.779Z"
   },
   {
    "duration": 55,
    "start_time": "2025-05-30T15:00:50.784Z"
   },
   {
    "duration": 11,
    "start_time": "2025-05-30T15:00:50.840Z"
   },
   {
    "duration": 20,
    "start_time": "2025-05-30T15:00:50.853Z"
   },
   {
    "duration": 9,
    "start_time": "2025-05-30T15:00:50.874Z"
   },
   {
    "duration": 25,
    "start_time": "2025-05-30T15:00:50.884Z"
   },
   {
    "duration": 11,
    "start_time": "2025-05-30T15:00:50.911Z"
   },
   {
    "duration": 14,
    "start_time": "2025-05-30T15:00:50.925Z"
   },
   {
    "duration": 65,
    "start_time": "2025-05-30T15:00:50.940Z"
   },
   {
    "duration": 78,
    "start_time": "2025-05-30T15:00:51.006Z"
   },
   {
    "duration": 16,
    "start_time": "2025-05-30T15:00:51.086Z"
   },
   {
    "duration": 137,
    "start_time": "2025-05-30T15:00:51.104Z"
   },
   {
    "duration": 5,
    "start_time": "2025-05-30T15:00:51.242Z"
   },
   {
    "duration": 352,
    "start_time": "2025-05-30T15:00:51.248Z"
   },
   {
    "duration": 378,
    "start_time": "2025-05-30T15:00:51.602Z"
   },
   {
    "duration": 326,
    "start_time": "2025-05-30T15:00:51.982Z"
   },
   {
    "duration": 8,
    "start_time": "2025-05-30T15:00:52.309Z"
   },
   {
    "duration": 269,
    "start_time": "2025-05-30T15:00:52.318Z"
   },
   {
    "duration": 309,
    "start_time": "2025-05-30T15:00:52.589Z"
   },
   {
    "duration": 261,
    "start_time": "2025-05-30T15:00:52.900Z"
   },
   {
    "duration": 276,
    "start_time": "2025-05-30T15:00:53.162Z"
   },
   {
    "duration": 264,
    "start_time": "2025-05-30T15:00:53.440Z"
   },
   {
    "duration": 3,
    "start_time": "2025-05-30T15:00:53.706Z"
   },
   {
    "duration": 2225,
    "start_time": "2025-05-30T15:00:53.711Z"
   },
   {
    "duration": 5,
    "start_time": "2025-05-30T15:00:55.939Z"
   },
   {
    "duration": 7,
    "start_time": "2025-05-30T15:00:56.037Z"
   },
   {
    "duration": 8,
    "start_time": "2025-05-30T15:00:56.046Z"
   },
   {
    "duration": 6,
    "start_time": "2025-05-30T15:00:56.055Z"
   },
   {
    "duration": 31,
    "start_time": "2025-05-30T15:00:56.062Z"
   },
   {
    "duration": 91,
    "start_time": "2025-05-30T15:00:56.095Z"
   },
   {
    "duration": 12,
    "start_time": "2025-05-30T15:00:56.187Z"
   },
   {
    "duration": 102,
    "start_time": "2025-05-30T15:00:56.201Z"
   },
   {
    "duration": 12,
    "start_time": "2025-05-30T15:00:56.305Z"
   },
   {
    "duration": 717,
    "start_time": "2025-05-30T15:00:56.319Z"
   },
   {
    "duration": 100,
    "start_time": "2025-05-30T15:00:57.039Z"
   },
   {
    "duration": 4,
    "start_time": "2025-05-30T15:00:57.142Z"
   },
   {
    "duration": 105,
    "start_time": "2025-05-30T15:00:57.148Z"
   },
   {
    "duration": 28,
    "start_time": "2025-05-30T15:00:57.255Z"
   },
   {
    "duration": 4,
    "start_time": "2025-05-30T15:00:57.284Z"
   },
   {
    "duration": 4,
    "start_time": "2025-05-30T15:00:57.290Z"
   },
   {
    "duration": 6352,
    "start_time": "2025-05-30T15:00:57.295Z"
   },
   {
    "duration": 4,
    "start_time": "2025-05-30T15:01:03.648Z"
   },
   {
    "duration": 197,
    "start_time": "2025-05-30T15:01:03.654Z"
   },
   {
    "duration": 36,
    "start_time": "2025-05-30T15:01:03.853Z"
   },
   {
    "duration": 11,
    "start_time": "2025-05-30T15:01:03.890Z"
   },
   {
    "duration": 14,
    "start_time": "2025-05-30T15:01:03.903Z"
   },
   {
    "duration": 228046,
    "start_time": "2025-05-30T15:01:03.918Z"
   },
   {
    "duration": 4,
    "start_time": "2025-05-30T15:04:51.965Z"
   },
   {
    "duration": 19,
    "start_time": "2025-05-30T15:04:51.971Z"
   },
   {
    "duration": 6,
    "start_time": "2025-05-30T15:04:51.992Z"
   },
   {
    "duration": 6,
    "start_time": "2025-05-30T15:04:51.999Z"
   },
   {
    "duration": 15,
    "start_time": "2025-05-30T15:04:52.007Z"
   },
   {
    "duration": 8,
    "start_time": "2025-05-30T15:04:52.024Z"
   },
   {
    "duration": 34,
    "start_time": "2025-05-30T15:04:52.034Z"
   },
   {
    "duration": 25,
    "start_time": "2025-05-30T15:04:52.070Z"
   },
   {
    "duration": 85,
    "start_time": "2025-05-30T15:04:52.097Z"
   },
   {
    "duration": 8,
    "start_time": "2025-05-30T15:04:52.183Z"
   },
   {
    "duration": 4,
    "start_time": "2025-05-30T15:06:28.895Z"
   },
   {
    "duration": 94,
    "start_time": "2025-05-30T15:06:53.756Z"
   },
   {
    "duration": 3,
    "start_time": "2025-05-30T15:06:56.817Z"
   },
   {
    "duration": 4,
    "start_time": "2025-05-30T15:06:58.430Z"
   },
   {
    "duration": 260203,
    "start_time": "2025-05-30T15:07:02.010Z"
   },
   {
    "duration": 3,
    "start_time": "2025-05-30T15:11:24.291Z"
   },
   {
    "duration": 3,
    "start_time": "2025-05-30T15:11:26.926Z"
   },
   {
    "duration": 139642,
    "start_time": "2025-05-30T15:11:28.642Z"
   },
   {
    "duration": 3,
    "start_time": "2025-05-30T15:14:15.458Z"
   },
   {
    "duration": 10,
    "start_time": "2025-05-30T15:14:18.706Z"
   },
   {
    "duration": 8,
    "start_time": "2025-05-30T15:14:27.064Z"
   },
   {
    "duration": 4,
    "start_time": "2025-05-30T15:15:15.138Z"
   },
   {
    "duration": 3,
    "start_time": "2025-05-30T15:15:29.528Z"
   },
   {
    "duration": 3,
    "start_time": "2025-05-30T15:15:31.186Z"
   },
   {
    "duration": 114674,
    "start_time": "2025-05-30T15:15:33.600Z"
   },
   {
    "duration": 4,
    "start_time": "2025-05-30T15:17:35.002Z"
   },
   {
    "duration": 11,
    "start_time": "2025-05-30T15:17:38.806Z"
   },
   {
    "duration": 9,
    "start_time": "2025-05-30T15:17:55.183Z"
   },
   {
    "duration": 16,
    "start_time": "2025-05-30T15:18:07.657Z"
   },
   {
    "duration": 7597,
    "start_time": "2025-05-30T15:18:12.028Z"
   },
   {
    "duration": 1346,
    "start_time": "2025-05-30T15:18:19.628Z"
   },
   {
    "duration": 4,
    "start_time": "2025-05-30T15:18:20.975Z"
   },
   {
    "duration": 55,
    "start_time": "2025-05-30T15:18:20.980Z"
   },
   {
    "duration": 12,
    "start_time": "2025-05-30T15:18:21.038Z"
   },
   {
    "duration": 80,
    "start_time": "2025-05-30T15:18:21.051Z"
   },
   {
    "duration": 20,
    "start_time": "2025-05-30T15:18:21.133Z"
   },
   {
    "duration": 10,
    "start_time": "2025-05-30T15:18:21.155Z"
   },
   {
    "duration": 17,
    "start_time": "2025-05-30T15:18:21.167Z"
   },
   {
    "duration": 6,
    "start_time": "2025-05-30T15:18:21.186Z"
   },
   {
    "duration": 7,
    "start_time": "2025-05-30T15:18:21.194Z"
   },
   {
    "duration": 29,
    "start_time": "2025-05-30T15:18:21.202Z"
   },
   {
    "duration": 15,
    "start_time": "2025-05-30T15:18:21.233Z"
   },
   {
    "duration": 145,
    "start_time": "2025-05-30T15:18:21.251Z"
   },
   {
    "duration": 4,
    "start_time": "2025-05-30T15:18:21.398Z"
   },
   {
    "duration": 409,
    "start_time": "2025-05-30T15:18:21.403Z"
   },
   {
    "duration": 378,
    "start_time": "2025-05-30T15:18:21.813Z"
   },
   {
    "duration": 314,
    "start_time": "2025-05-30T15:18:22.192Z"
   },
   {
    "duration": 7,
    "start_time": "2025-05-30T15:18:22.507Z"
   },
   {
    "duration": 277,
    "start_time": "2025-05-30T15:18:22.515Z"
   },
   {
    "duration": 285,
    "start_time": "2025-05-30T15:18:22.794Z"
   },
   {
    "duration": 254,
    "start_time": "2025-05-30T15:18:23.081Z"
   },
   {
    "duration": 268,
    "start_time": "2025-05-30T15:18:23.337Z"
   },
   {
    "duration": 269,
    "start_time": "2025-05-30T15:18:23.607Z"
   },
   {
    "duration": 3,
    "start_time": "2025-05-30T15:18:23.878Z"
   },
   {
    "duration": 2052,
    "start_time": "2025-05-30T15:18:23.882Z"
   },
   {
    "duration": 6,
    "start_time": "2025-05-30T15:18:25.937Z"
   },
   {
    "duration": 95,
    "start_time": "2025-05-30T15:18:25.946Z"
   },
   {
    "duration": 4,
    "start_time": "2025-05-30T15:18:26.043Z"
   },
   {
    "duration": 6,
    "start_time": "2025-05-30T15:18:26.049Z"
   },
   {
    "duration": 5,
    "start_time": "2025-05-30T15:18:26.057Z"
   },
   {
    "duration": 33,
    "start_time": "2025-05-30T15:18:26.064Z"
   },
   {
    "duration": 16,
    "start_time": "2025-05-30T15:18:26.098Z"
   },
   {
    "duration": 4,
    "start_time": "2025-05-30T15:18:26.136Z"
   },
   {
    "duration": 66,
    "start_time": "2025-05-30T15:18:26.142Z"
   },
   {
    "duration": 1538,
    "start_time": "2025-05-30T15:18:26.210Z"
   },
   {
    "duration": 289,
    "start_time": "2025-05-30T15:18:27.750Z"
   },
   {
    "duration": 2,
    "start_time": "2025-05-30T15:18:28.041Z"
   },
   {
    "duration": 8,
    "start_time": "2025-05-30T15:18:28.046Z"
   },
   {
    "duration": 91,
    "start_time": "2025-05-30T15:18:28.055Z"
   },
   {
    "duration": 4,
    "start_time": "2025-05-30T15:18:28.150Z"
   },
   {
    "duration": 52,
    "start_time": "2025-05-30T15:18:28.155Z"
   },
   {
    "duration": 7141,
    "start_time": "2025-05-30T15:18:28.208Z"
   },
   {
    "duration": 4,
    "start_time": "2025-05-30T15:18:35.351Z"
   },
   {
    "duration": 80,
    "start_time": "2025-05-30T15:18:35.356Z"
   },
   {
    "duration": 14,
    "start_time": "2025-05-30T15:18:35.438Z"
   },
   {
    "duration": 58,
    "start_time": "2025-05-30T15:18:35.454Z"
   },
   {
    "duration": 18,
    "start_time": "2025-05-30T15:18:35.514Z"
   },
   {
    "duration": 160943,
    "start_time": "2025-05-30T15:18:35.534Z"
   },
   {
    "duration": 4,
    "start_time": "2025-05-30T15:21:16.479Z"
   },
   {
    "duration": 18,
    "start_time": "2025-05-30T15:21:16.485Z"
   },
   {
    "duration": 5,
    "start_time": "2025-05-30T15:21:16.505Z"
   },
   {
    "duration": 8,
    "start_time": "2025-05-30T15:21:16.512Z"
   },
   {
    "duration": 14,
    "start_time": "2025-05-30T15:21:16.522Z"
   },
   {
    "duration": 7,
    "start_time": "2025-05-30T15:21:16.539Z"
   },
   {
    "duration": 11,
    "start_time": "2025-05-30T15:21:16.548Z"
   },
   {
    "duration": 74,
    "start_time": "2025-05-30T15:21:16.562Z"
   },
   {
    "duration": 8,
    "start_time": "2025-05-30T15:21:16.638Z"
   },
   {
    "duration": 88,
    "start_time": "2025-05-30T15:21:16.648Z"
   },
   {
    "duration": 14,
    "start_time": "2025-05-30T15:22:38.573Z"
   },
   {
    "duration": 7508,
    "start_time": "2025-05-30T15:22:47.413Z"
   },
   {
    "duration": 1383,
    "start_time": "2025-05-30T15:22:54.923Z"
   },
   {
    "duration": 3,
    "start_time": "2025-05-30T15:22:56.308Z"
   },
   {
    "duration": 99,
    "start_time": "2025-05-30T15:22:56.312Z"
   },
   {
    "duration": 11,
    "start_time": "2025-05-30T15:22:56.413Z"
   },
   {
    "duration": 12,
    "start_time": "2025-05-30T15:22:56.426Z"
   },
   {
    "duration": 9,
    "start_time": "2025-05-30T15:22:56.439Z"
   },
   {
    "duration": 8,
    "start_time": "2025-05-30T15:22:56.450Z"
   },
   {
    "duration": 4,
    "start_time": "2025-05-30T15:22:56.459Z"
   },
   {
    "duration": 14,
    "start_time": "2025-05-30T15:22:56.465Z"
   },
   {
    "duration": 19,
    "start_time": "2025-05-30T15:22:56.480Z"
   },
   {
    "duration": 20,
    "start_time": "2025-05-30T15:22:56.501Z"
   },
   {
    "duration": 23,
    "start_time": "2025-05-30T15:22:56.534Z"
   },
   {
    "duration": 162,
    "start_time": "2025-05-30T15:22:56.559Z"
   },
   {
    "duration": 4,
    "start_time": "2025-05-30T15:22:56.723Z"
   },
   {
    "duration": 366,
    "start_time": "2025-05-30T15:22:56.734Z"
   },
   {
    "duration": 384,
    "start_time": "2025-05-30T15:22:57.102Z"
   },
   {
    "duration": 316,
    "start_time": "2025-05-30T15:22:57.487Z"
   },
   {
    "duration": 7,
    "start_time": "2025-05-30T15:22:57.805Z"
   },
   {
    "duration": 354,
    "start_time": "2025-05-30T15:22:57.813Z"
   },
   {
    "duration": 293,
    "start_time": "2025-05-30T15:22:58.169Z"
   },
   {
    "duration": 257,
    "start_time": "2025-05-30T15:22:58.464Z"
   },
   {
    "duration": 284,
    "start_time": "2025-05-30T15:22:58.722Z"
   },
   {
    "duration": 283,
    "start_time": "2025-05-30T15:22:59.007Z"
   },
   {
    "duration": 4,
    "start_time": "2025-05-30T15:22:59.292Z"
   },
   {
    "duration": 1939,
    "start_time": "2025-05-30T15:22:59.297Z"
   },
   {
    "duration": 5,
    "start_time": "2025-05-30T15:23:01.238Z"
   },
   {
    "duration": 13,
    "start_time": "2025-05-30T15:23:01.337Z"
   },
   {
    "duration": 5,
    "start_time": "2025-05-30T15:23:01.351Z"
   },
   {
    "duration": 7,
    "start_time": "2025-05-30T15:23:01.357Z"
   },
   {
    "duration": 27,
    "start_time": "2025-05-30T15:23:01.366Z"
   },
   {
    "duration": 41,
    "start_time": "2025-05-30T15:23:01.394Z"
   },
   {
    "duration": 100,
    "start_time": "2025-05-30T15:23:01.436Z"
   },
   {
    "duration": 4,
    "start_time": "2025-05-30T15:23:01.537Z"
   },
   {
    "duration": 20,
    "start_time": "2025-05-30T15:23:01.542Z"
   },
   {
    "duration": 1973,
    "start_time": "2025-05-30T15:23:01.564Z"
   },
   {
    "duration": 203,
    "start_time": "2025-05-30T15:23:03.539Z"
   },
   {
    "duration": 162,
    "start_time": "2025-05-30T15:23:03.744Z"
   },
   {
    "duration": 47,
    "start_time": "2025-05-30T15:23:03.907Z"
   },
   {
    "duration": 14,
    "start_time": "2025-05-30T15:23:03.956Z"
   },
   {
    "duration": 4,
    "start_time": "2025-05-30T15:23:03.972Z"
   },
   {
    "duration": 16,
    "start_time": "2025-05-30T15:23:03.977Z"
   },
   {
    "duration": 7542,
    "start_time": "2025-05-30T15:23:03.995Z"
   },
   {
    "duration": 4,
    "start_time": "2025-05-30T15:23:11.538Z"
   },
   {
    "duration": 16,
    "start_time": "2025-05-30T15:23:11.543Z"
   },
   {
    "duration": 83,
    "start_time": "2025-05-30T15:23:11.561Z"
   },
   {
    "duration": 3,
    "start_time": "2025-05-30T15:23:11.646Z"
   },
   {
    "duration": 4,
    "start_time": "2025-05-30T15:23:11.650Z"
   },
   {
    "duration": 178676,
    "start_time": "2025-05-30T15:23:11.655Z"
   },
   {
    "duration": 4,
    "start_time": "2025-05-30T15:26:10.332Z"
   },
   {
    "duration": 54,
    "start_time": "2025-05-30T15:26:10.338Z"
   },
   {
    "duration": 21,
    "start_time": "2025-05-30T15:26:10.393Z"
   },
   {
    "duration": 23,
    "start_time": "2025-05-30T15:26:10.416Z"
   },
   {
    "duration": 5,
    "start_time": "2025-05-30T15:26:10.440Z"
   },
   {
    "duration": 6,
    "start_time": "2025-05-30T15:26:10.447Z"
   },
   {
    "duration": 15,
    "start_time": "2025-05-30T15:26:10.454Z"
   },
   {
    "duration": 14,
    "start_time": "2025-05-30T15:26:10.471Z"
   },
   {
    "duration": 17,
    "start_time": "2025-05-30T15:26:10.487Z"
   },
   {
    "duration": 37,
    "start_time": "2025-05-30T15:26:10.505Z"
   },
   {
    "duration": 4,
    "start_time": "2025-05-30T15:27:44.089Z"
   },
   {
    "duration": 15,
    "start_time": "2025-05-30T15:28:15.442Z"
   },
   {
    "duration": 7834,
    "start_time": "2025-05-30T15:28:31.425Z"
   },
   {
    "duration": 1259,
    "start_time": "2025-05-30T15:28:39.261Z"
   },
   {
    "duration": 4,
    "start_time": "2025-05-30T15:28:40.521Z"
   },
   {
    "duration": 51,
    "start_time": "2025-05-30T15:28:40.527Z"
   },
   {
    "duration": 13,
    "start_time": "2025-05-30T15:28:40.581Z"
   },
   {
    "duration": 12,
    "start_time": "2025-05-30T15:28:40.595Z"
   },
   {
    "duration": 9,
    "start_time": "2025-05-30T15:28:40.609Z"
   },
   {
    "duration": 7,
    "start_time": "2025-05-30T15:28:40.636Z"
   },
   {
    "duration": 4,
    "start_time": "2025-05-30T15:28:40.645Z"
   },
   {
    "duration": 4,
    "start_time": "2025-05-30T15:28:40.651Z"
   },
   {
    "duration": 8,
    "start_time": "2025-05-30T15:28:40.657Z"
   },
   {
    "duration": 15,
    "start_time": "2025-05-30T15:28:40.667Z"
   },
   {
    "duration": 61,
    "start_time": "2025-05-30T15:28:40.683Z"
   },
   {
    "duration": 155,
    "start_time": "2025-05-30T15:28:40.748Z"
   },
   {
    "duration": 5,
    "start_time": "2025-05-30T15:28:40.905Z"
   },
   {
    "duration": 360,
    "start_time": "2025-05-30T15:28:40.911Z"
   },
   {
    "duration": 383,
    "start_time": "2025-05-30T15:28:41.273Z"
   },
   {
    "duration": 318,
    "start_time": "2025-05-30T15:28:41.658Z"
   },
   {
    "duration": 6,
    "start_time": "2025-05-30T15:28:41.978Z"
   },
   {
    "duration": 273,
    "start_time": "2025-05-30T15:28:41.986Z"
   },
   {
    "duration": 300,
    "start_time": "2025-05-30T15:28:42.260Z"
   },
   {
    "duration": 256,
    "start_time": "2025-05-30T15:28:42.562Z"
   },
   {
    "duration": 275,
    "start_time": "2025-05-30T15:28:42.820Z"
   },
   {
    "duration": 271,
    "start_time": "2025-05-30T15:28:43.097Z"
   },
   {
    "duration": 3,
    "start_time": "2025-05-30T15:28:43.370Z"
   },
   {
    "duration": 2166,
    "start_time": "2025-05-30T15:28:43.374Z"
   },
   {
    "duration": 95,
    "start_time": "2025-05-30T15:28:45.542Z"
   },
   {
    "duration": 98,
    "start_time": "2025-05-30T15:28:45.639Z"
   },
   {
    "duration": 75,
    "start_time": "2025-05-30T15:28:45.738Z"
   },
   {
    "duration": 115,
    "start_time": "2025-05-30T15:28:45.815Z"
   },
   {
    "duration": 22,
    "start_time": "2025-05-30T15:28:45.932Z"
   },
   {
    "duration": 27,
    "start_time": "2025-05-30T15:28:45.956Z"
   },
   {
    "duration": 16,
    "start_time": "2025-05-30T15:28:45.984Z"
   },
   {
    "duration": 3,
    "start_time": "2025-05-30T15:28:46.002Z"
   },
   {
    "duration": 6,
    "start_time": "2025-05-30T15:28:46.007Z"
   },
   {
    "duration": 2019,
    "start_time": "2025-05-30T15:28:46.015Z"
   },
   {
    "duration": 107,
    "start_time": "2025-05-30T15:28:48.037Z"
   },
   {
    "duration": 4,
    "start_time": "2025-05-30T15:28:48.237Z"
   },
   {
    "duration": 99,
    "start_time": "2025-05-30T15:28:48.243Z"
   },
   {
    "duration": 83,
    "start_time": "2025-05-30T15:28:48.344Z"
   },
   {
    "duration": 3,
    "start_time": "2025-05-30T15:28:48.431Z"
   },
   {
    "duration": 6,
    "start_time": "2025-05-30T15:28:48.435Z"
   },
   {
    "duration": 7506,
    "start_time": "2025-05-30T15:28:48.442Z"
   },
   {
    "duration": 4,
    "start_time": "2025-05-30T15:28:55.950Z"
   },
   {
    "duration": 81,
    "start_time": "2025-05-30T15:28:55.955Z"
   },
   {
    "duration": 15,
    "start_time": "2025-05-30T15:28:56.038Z"
   },
   {
    "duration": 3,
    "start_time": "2025-05-30T15:28:56.054Z"
   },
   {
    "duration": 10,
    "start_time": "2025-05-30T15:28:56.059Z"
   },
   {
    "duration": 92074,
    "start_time": "2025-05-30T15:28:56.070Z"
   },
   {
    "duration": 4,
    "start_time": "2025-05-30T15:30:28.145Z"
   },
   {
    "duration": 9,
    "start_time": "2025-05-30T15:30:28.150Z"
   },
   {
    "duration": 78,
    "start_time": "2025-05-30T15:30:28.161Z"
   },
   {
    "duration": 8,
    "start_time": "2025-05-30T15:30:28.240Z"
   },
   {
    "duration": 5,
    "start_time": "2025-05-30T15:30:28.250Z"
   },
   {
    "duration": 5,
    "start_time": "2025-05-30T15:30:28.257Z"
   },
   {
    "duration": 10,
    "start_time": "2025-05-30T15:30:28.264Z"
   },
   {
    "duration": 16,
    "start_time": "2025-05-30T15:30:28.275Z"
   },
   {
    "duration": 45,
    "start_time": "2025-05-30T15:30:28.293Z"
   },
   {
    "duration": 13,
    "start_time": "2025-05-30T15:30:28.340Z"
   },
   {
    "duration": 4,
    "start_time": "2025-05-30T15:31:46.738Z"
   },
   {
    "duration": 3,
    "start_time": "2025-05-30T15:32:09.732Z"
   },
   {
    "duration": 2457,
    "start_time": "2025-05-30T15:32:11.677Z"
   },
   {
    "duration": 3,
    "start_time": "2025-05-30T15:32:19.887Z"
   },
   {
    "duration": 1839,
    "start_time": "2025-05-30T15:32:21.498Z"
   },
   {
    "duration": 28,
    "start_time": "2025-05-30T15:32:25.316Z"
   },
   {
    "duration": 7807,
    "start_time": "2025-05-30T15:32:59.147Z"
   },
   {
    "duration": 1367,
    "start_time": "2025-05-30T15:33:06.957Z"
   },
   {
    "duration": 3,
    "start_time": "2025-05-30T15:33:08.326Z"
   },
   {
    "duration": 86,
    "start_time": "2025-05-30T15:33:08.330Z"
   },
   {
    "duration": 11,
    "start_time": "2025-05-30T15:33:08.418Z"
   },
   {
    "duration": 11,
    "start_time": "2025-05-30T15:33:08.431Z"
   },
   {
    "duration": 8,
    "start_time": "2025-05-30T15:33:08.444Z"
   },
   {
    "duration": 7,
    "start_time": "2025-05-30T15:33:08.454Z"
   },
   {
    "duration": 4,
    "start_time": "2025-05-30T15:33:08.462Z"
   },
   {
    "duration": 4,
    "start_time": "2025-05-30T15:33:08.468Z"
   },
   {
    "duration": 8,
    "start_time": "2025-05-30T15:33:08.473Z"
   },
   {
    "duration": 13,
    "start_time": "2025-05-30T15:33:08.482Z"
   },
   {
    "duration": 47,
    "start_time": "2025-05-30T15:33:08.497Z"
   },
   {
    "duration": 143,
    "start_time": "2025-05-30T15:33:08.546Z"
   },
   {
    "duration": 4,
    "start_time": "2025-05-30T15:33:08.691Z"
   },
   {
    "duration": 357,
    "start_time": "2025-05-30T15:33:08.697Z"
   },
   {
    "duration": 391,
    "start_time": "2025-05-30T15:33:09.056Z"
   },
   {
    "duration": 309,
    "start_time": "2025-05-30T15:33:09.449Z"
   },
   {
    "duration": 7,
    "start_time": "2025-05-30T15:33:09.759Z"
   },
   {
    "duration": 414,
    "start_time": "2025-05-30T15:33:09.767Z"
   },
   {
    "duration": 295,
    "start_time": "2025-05-30T15:33:10.182Z"
   },
   {
    "duration": 262,
    "start_time": "2025-05-30T15:33:10.479Z"
   },
   {
    "duration": 273,
    "start_time": "2025-05-30T15:33:10.742Z"
   },
   {
    "duration": 270,
    "start_time": "2025-05-30T15:33:11.017Z"
   },
   {
    "duration": 3,
    "start_time": "2025-05-30T15:33:11.289Z"
   },
   {
    "duration": 1851,
    "start_time": "2025-05-30T15:33:11.293Z"
   },
   {
    "duration": 6,
    "start_time": "2025-05-30T15:33:13.237Z"
   },
   {
    "duration": 5,
    "start_time": "2025-05-30T15:33:13.338Z"
   },
   {
    "duration": 4,
    "start_time": "2025-05-30T15:33:13.345Z"
   },
   {
    "duration": 8,
    "start_time": "2025-05-30T15:33:13.350Z"
   },
   {
    "duration": 5,
    "start_time": "2025-05-30T15:33:13.359Z"
   },
   {
    "duration": 22,
    "start_time": "2025-05-30T15:33:13.366Z"
   },
   {
    "duration": 46,
    "start_time": "2025-05-30T15:33:13.390Z"
   },
   {
    "duration": 4,
    "start_time": "2025-05-30T15:33:13.438Z"
   },
   {
    "duration": 76,
    "start_time": "2025-05-30T15:33:13.443Z"
   },
   {
    "duration": 1724,
    "start_time": "2025-05-30T15:33:13.520Z"
   },
   {
    "duration": 204,
    "start_time": "2025-05-30T15:33:15.339Z"
   },
   {
    "duration": 3,
    "start_time": "2025-05-30T15:33:15.635Z"
   },
   {
    "duration": 99,
    "start_time": "2025-05-30T15:33:15.640Z"
   },
   {
    "duration": 14,
    "start_time": "2025-05-30T15:33:15.741Z"
   },
   {
    "duration": 176,
    "start_time": "2025-05-30T15:33:15.757Z"
   },
   {
    "duration": 17,
    "start_time": "2025-05-30T15:33:15.935Z"
   },
   {
    "duration": 6987,
    "start_time": "2025-05-30T15:33:15.953Z"
   },
   {
    "duration": 4,
    "start_time": "2025-05-30T15:33:22.942Z"
   },
   {
    "duration": 15,
    "start_time": "2025-05-30T15:33:22.947Z"
   },
   {
    "duration": 13,
    "start_time": "2025-05-30T15:33:22.963Z"
   },
   {
    "duration": 4,
    "start_time": "2025-05-30T15:33:22.977Z"
   },
   {
    "duration": 4,
    "start_time": "2025-05-30T15:33:22.982Z"
   },
   {
    "duration": 79047,
    "start_time": "2025-05-30T15:33:22.987Z"
   },
   {
    "duration": 3,
    "start_time": "2025-05-30T15:34:42.036Z"
   },
   {
    "duration": 9,
    "start_time": "2025-05-30T15:34:42.041Z"
   },
   {
    "duration": 4,
    "start_time": "2025-05-30T15:34:42.051Z"
   },
   {
    "duration": 7,
    "start_time": "2025-05-30T15:34:42.057Z"
   },
   {
    "duration": 5,
    "start_time": "2025-05-30T15:34:42.066Z"
   },
   {
    "duration": 5,
    "start_time": "2025-05-30T15:34:42.072Z"
   },
   {
    "duration": 9,
    "start_time": "2025-05-30T15:34:42.078Z"
   },
   {
    "duration": 50,
    "start_time": "2025-05-30T15:34:42.088Z"
   },
   {
    "duration": 8,
    "start_time": "2025-05-30T15:34:42.140Z"
   },
   {
    "duration": 93,
    "start_time": "2025-05-30T15:34:42.150Z"
   },
   {
    "duration": 7693,
    "start_time": "2025-05-30T15:36:31.706Z"
   },
   {
    "duration": 1317,
    "start_time": "2025-05-30T15:36:39.402Z"
   },
   {
    "duration": 3,
    "start_time": "2025-05-30T15:36:40.723Z"
   },
   {
    "duration": 72,
    "start_time": "2025-05-30T15:36:40.734Z"
   },
   {
    "duration": 11,
    "start_time": "2025-05-30T15:36:40.808Z"
   },
   {
    "duration": 16,
    "start_time": "2025-05-30T15:36:40.821Z"
   },
   {
    "duration": 9,
    "start_time": "2025-05-30T15:36:40.838Z"
   },
   {
    "duration": 23,
    "start_time": "2025-05-30T15:36:40.849Z"
   },
   {
    "duration": 4,
    "start_time": "2025-05-30T15:36:40.874Z"
   },
   {
    "duration": 5,
    "start_time": "2025-05-30T15:36:40.879Z"
   },
   {
    "duration": 22,
    "start_time": "2025-05-30T15:36:40.885Z"
   },
   {
    "duration": 26,
    "start_time": "2025-05-30T15:36:40.908Z"
   },
   {
    "duration": 14,
    "start_time": "2025-05-30T15:36:40.938Z"
   },
   {
    "duration": 154,
    "start_time": "2025-05-30T15:36:40.954Z"
   },
   {
    "duration": 5,
    "start_time": "2025-05-30T15:36:41.110Z"
   },
   {
    "duration": 419,
    "start_time": "2025-05-30T15:36:41.117Z"
   },
   {
    "duration": 373,
    "start_time": "2025-05-30T15:36:41.537Z"
   },
   {
    "duration": 315,
    "start_time": "2025-05-30T15:36:41.912Z"
   },
   {
    "duration": 7,
    "start_time": "2025-05-30T15:36:42.234Z"
   },
   {
    "duration": 265,
    "start_time": "2025-05-30T15:36:42.242Z"
   },
   {
    "duration": 299,
    "start_time": "2025-05-30T15:36:42.508Z"
   },
   {
    "duration": 265,
    "start_time": "2025-05-30T15:36:42.809Z"
   },
   {
    "duration": 292,
    "start_time": "2025-05-30T15:36:43.076Z"
   },
   {
    "duration": 269,
    "start_time": "2025-05-30T15:36:43.370Z"
   },
   {
    "duration": 4,
    "start_time": "2025-05-30T15:36:43.640Z"
   },
   {
    "duration": 1900,
    "start_time": "2025-05-30T15:36:43.645Z"
   },
   {
    "duration": 5,
    "start_time": "2025-05-30T15:36:45.637Z"
   },
   {
    "duration": 96,
    "start_time": "2025-05-30T15:36:45.645Z"
   },
   {
    "duration": 17,
    "start_time": "2025-05-30T15:36:45.742Z"
   },
   {
    "duration": 198,
    "start_time": "2025-05-30T15:36:45.761Z"
   },
   {
    "duration": 17,
    "start_time": "2025-05-30T15:36:45.961Z"
   },
   {
    "duration": 26,
    "start_time": "2025-05-30T15:36:45.979Z"
   },
   {
    "duration": 14,
    "start_time": "2025-05-30T15:36:46.006Z"
   },
   {
    "duration": 5,
    "start_time": "2025-05-30T15:36:46.022Z"
   },
   {
    "duration": 6,
    "start_time": "2025-05-30T15:36:46.028Z"
   },
   {
    "duration": 1707,
    "start_time": "2025-05-30T15:36:46.036Z"
   },
   {
    "duration": 208,
    "start_time": "2025-05-30T15:36:47.836Z"
   },
   {
    "duration": 3,
    "start_time": "2025-05-30T15:36:48.136Z"
   },
   {
    "duration": 15,
    "start_time": "2025-05-30T15:36:48.141Z"
   },
   {
    "duration": 79,
    "start_time": "2025-05-30T15:36:48.159Z"
   },
   {
    "duration": 22,
    "start_time": "2025-05-30T15:36:48.239Z"
   },
   {
    "duration": 23,
    "start_time": "2025-05-30T15:36:48.263Z"
   },
   {
    "duration": 6948,
    "start_time": "2025-05-30T15:36:48.288Z"
   },
   {
    "duration": 4,
    "start_time": "2025-05-30T15:36:55.237Z"
   },
   {
    "duration": 13,
    "start_time": "2025-05-30T15:36:55.243Z"
   },
   {
    "duration": 13,
    "start_time": "2025-05-30T15:36:55.258Z"
   },
   {
    "duration": 3,
    "start_time": "2025-05-30T15:36:55.335Z"
   },
   {
    "duration": 3,
    "start_time": "2025-05-30T15:36:55.340Z"
   },
   {
    "duration": 86513,
    "start_time": "2025-05-30T15:36:55.345Z"
   },
   {
    "duration": 4,
    "start_time": "2025-05-30T15:38:21.860Z"
   },
   {
    "duration": 88,
    "start_time": "2025-05-30T15:38:21.866Z"
   },
   {
    "duration": 4,
    "start_time": "2025-05-30T15:38:21.955Z"
   },
   {
    "duration": 5,
    "start_time": "2025-05-30T15:38:21.961Z"
   },
   {
    "duration": 5,
    "start_time": "2025-05-30T15:38:21.968Z"
   },
   {
    "duration": 5,
    "start_time": "2025-05-30T15:38:21.974Z"
   },
   {
    "duration": 9,
    "start_time": "2025-05-30T15:38:21.981Z"
   },
   {
    "duration": 45,
    "start_time": "2025-05-30T15:38:21.991Z"
   },
   {
    "duration": 8,
    "start_time": "2025-05-30T15:38:22.038Z"
   },
   {
    "duration": 10,
    "start_time": "2025-05-30T15:38:22.047Z"
   },
   {
    "duration": 7592,
    "start_time": "2025-05-30T15:41:23.985Z"
   },
   {
    "duration": 1287,
    "start_time": "2025-05-30T15:41:31.580Z"
   },
   {
    "duration": 3,
    "start_time": "2025-05-30T15:41:32.868Z"
   },
   {
    "duration": 68,
    "start_time": "2025-05-30T15:41:32.873Z"
   },
   {
    "duration": 13,
    "start_time": "2025-05-30T15:41:32.943Z"
   },
   {
    "duration": 14,
    "start_time": "2025-05-30T15:41:32.957Z"
   },
   {
    "duration": 11,
    "start_time": "2025-05-30T15:41:32.972Z"
   },
   {
    "duration": 35,
    "start_time": "2025-05-30T15:41:32.984Z"
   },
   {
    "duration": 5,
    "start_time": "2025-05-30T15:41:33.021Z"
   },
   {
    "duration": 7,
    "start_time": "2025-05-30T15:41:33.028Z"
   },
   {
    "duration": 5,
    "start_time": "2025-05-30T15:41:33.036Z"
   },
   {
    "duration": 14,
    "start_time": "2025-05-30T15:41:33.043Z"
   },
   {
    "duration": 17,
    "start_time": "2025-05-30T15:41:33.058Z"
   },
   {
    "duration": 161,
    "start_time": "2025-05-30T15:41:33.076Z"
   },
   {
    "duration": 4,
    "start_time": "2025-05-30T15:41:33.238Z"
   },
   {
    "duration": 357,
    "start_time": "2025-05-30T15:41:33.244Z"
   },
   {
    "duration": 389,
    "start_time": "2025-05-30T15:41:33.602Z"
   },
   {
    "duration": 336,
    "start_time": "2025-05-30T15:41:33.993Z"
   },
   {
    "duration": 7,
    "start_time": "2025-05-30T15:41:34.334Z"
   },
   {
    "duration": 352,
    "start_time": "2025-05-30T15:41:34.342Z"
   },
   {
    "duration": 295,
    "start_time": "2025-05-30T15:41:34.696Z"
   },
   {
    "duration": 258,
    "start_time": "2025-05-30T15:41:34.993Z"
   },
   {
    "duration": 282,
    "start_time": "2025-05-30T15:41:35.253Z"
   },
   {
    "duration": 268,
    "start_time": "2025-05-30T15:41:35.537Z"
   },
   {
    "duration": 4,
    "start_time": "2025-05-30T15:41:35.807Z"
   },
   {
    "duration": 2133,
    "start_time": "2025-05-30T15:41:35.812Z"
   },
   {
    "duration": 4,
    "start_time": "2025-05-30T15:41:38.037Z"
   },
   {
    "duration": 97,
    "start_time": "2025-05-30T15:41:38.048Z"
   },
   {
    "duration": 7,
    "start_time": "2025-05-30T15:41:38.146Z"
   },
   {
    "duration": 12,
    "start_time": "2025-05-30T15:41:38.154Z"
   },
   {
    "duration": 5,
    "start_time": "2025-05-30T15:41:38.168Z"
   },
   {
    "duration": 20,
    "start_time": "2025-05-30T15:41:38.174Z"
   },
   {
    "duration": 52,
    "start_time": "2025-05-30T15:41:38.196Z"
   },
   {
    "duration": 18,
    "start_time": "2025-05-30T15:41:38.250Z"
   },
   {
    "duration": 16,
    "start_time": "2025-05-30T15:41:38.269Z"
   },
   {
    "duration": 959,
    "start_time": "2025-05-30T15:41:38.287Z"
   },
   {
    "duration": 192,
    "start_time": "2025-05-30T15:41:39.249Z"
   },
   {
    "duration": 94,
    "start_time": "2025-05-30T15:41:39.443Z"
   },
   {
    "duration": 17,
    "start_time": "2025-05-30T15:41:39.538Z"
   },
   {
    "duration": 14,
    "start_time": "2025-05-30T15:41:39.557Z"
   },
   {
    "duration": 4,
    "start_time": "2025-05-30T15:41:39.573Z"
   },
   {
    "duration": 13,
    "start_time": "2025-05-30T15:41:39.578Z"
   },
   {
    "duration": 8252,
    "start_time": "2025-05-30T15:41:39.593Z"
   },
   {
    "duration": 4,
    "start_time": "2025-05-30T15:41:47.847Z"
   },
   {
    "duration": 84,
    "start_time": "2025-05-30T15:41:47.852Z"
   },
   {
    "duration": 47,
    "start_time": "2025-05-30T15:41:47.937Z"
   },
   {
    "duration": 3,
    "start_time": "2025-05-30T15:41:47.986Z"
   },
   {
    "duration": 3,
    "start_time": "2025-05-30T15:41:47.991Z"
   },
   {
    "duration": 70402,
    "start_time": "2025-05-30T15:41:47.995Z"
   },
   {
    "duration": 4,
    "start_time": "2025-05-30T15:42:58.399Z"
   },
   {
    "duration": 26,
    "start_time": "2025-05-30T15:42:58.404Z"
   },
   {
    "duration": 4,
    "start_time": "2025-05-30T15:42:58.431Z"
   },
   {
    "duration": 5,
    "start_time": "2025-05-30T15:42:58.436Z"
   },
   {
    "duration": 5,
    "start_time": "2025-05-30T15:42:58.443Z"
   },
   {
    "duration": 5,
    "start_time": "2025-05-30T15:42:58.450Z"
   },
   {
    "duration": 11,
    "start_time": "2025-05-30T15:42:58.457Z"
   },
   {
    "duration": 70,
    "start_time": "2025-05-30T15:42:58.470Z"
   },
   {
    "duration": 9,
    "start_time": "2025-05-30T15:42:58.542Z"
   },
   {
    "duration": 83,
    "start_time": "2025-05-30T15:42:58.554Z"
   },
   {
    "duration": 12,
    "start_time": "2025-05-30T15:43:46.698Z"
   },
   {
    "duration": 11,
    "start_time": "2025-05-30T15:43:52.159Z"
   },
   {
    "duration": 15,
    "start_time": "2025-05-30T15:43:52.172Z"
   },
   {
    "duration": 5,
    "start_time": "2025-05-30T15:43:52.189Z"
   },
   {
    "duration": 66,
    "start_time": "2025-05-30T15:43:52.195Z"
   },
   {
    "duration": 983,
    "start_time": "2025-05-30T15:43:52.263Z"
   },
   {
    "duration": 188,
    "start_time": "2025-05-30T15:43:53.249Z"
   },
   {
    "duration": 7,
    "start_time": "2025-05-30T15:43:53.440Z"
   },
   {
    "duration": 27,
    "start_time": "2025-05-30T15:43:53.536Z"
   },
   {
    "duration": 14,
    "start_time": "2025-05-30T15:43:53.565Z"
   },
   {
    "duration": 3,
    "start_time": "2025-05-30T15:43:53.581Z"
   },
   {
    "duration": 5,
    "start_time": "2025-05-30T15:43:53.585Z"
   },
   {
    "duration": 8259,
    "start_time": "2025-05-30T15:43:53.591Z"
   },
   {
    "duration": 5,
    "start_time": "2025-05-30T15:44:01.851Z"
   },
   {
    "duration": 19,
    "start_time": "2025-05-30T15:44:01.936Z"
   },
   {
    "duration": 71,
    "start_time": "2025-05-30T15:44:01.957Z"
   },
   {
    "duration": 41,
    "start_time": "2025-05-30T15:44:02.029Z"
   },
   {
    "duration": 34,
    "start_time": "2025-05-30T15:44:02.073Z"
   },
   {
    "duration": 78043,
    "start_time": "2025-05-30T15:44:02.109Z"
   },
   {
    "duration": 3,
    "start_time": "2025-05-30T15:45:20.154Z"
   },
   {
    "duration": 11,
    "start_time": "2025-05-30T15:45:20.159Z"
   },
   {
    "duration": 3,
    "start_time": "2025-05-30T15:45:20.171Z"
   },
   {
    "duration": 10,
    "start_time": "2025-05-30T15:45:20.176Z"
   },
   {
    "duration": 59,
    "start_time": "2025-05-30T15:45:20.187Z"
   },
   {
    "duration": 23,
    "start_time": "2025-05-30T15:45:20.247Z"
   },
   {
    "duration": 9,
    "start_time": "2025-05-30T15:45:20.272Z"
   },
   {
    "duration": 19,
    "start_time": "2025-05-30T15:45:20.282Z"
   },
   {
    "duration": 14,
    "start_time": "2025-05-30T15:45:20.302Z"
   },
   {
    "duration": 25,
    "start_time": "2025-05-30T15:45:20.317Z"
   },
   {
    "duration": 20,
    "start_time": "2025-05-30T15:46:01.395Z"
   },
   {
    "duration": 36,
    "start_time": "2025-05-30T15:46:01.417Z"
   },
   {
    "duration": 24,
    "start_time": "2025-05-30T15:46:01.454Z"
   },
   {
    "duration": 56,
    "start_time": "2025-05-30T15:46:01.480Z"
   },
   {
    "duration": 1899,
    "start_time": "2025-05-30T15:46:01.538Z"
   },
   {
    "duration": 298,
    "start_time": "2025-05-30T15:46:03.439Z"
   },
   {
    "duration": 4,
    "start_time": "2025-05-30T15:46:03.739Z"
   },
   {
    "duration": 96,
    "start_time": "2025-05-30T15:46:03.745Z"
   },
   {
    "duration": 24,
    "start_time": "2025-05-30T15:46:03.844Z"
   },
   {
    "duration": 38,
    "start_time": "2025-05-30T15:46:03.870Z"
   },
   {
    "duration": 85,
    "start_time": "2025-05-30T15:46:03.910Z"
   },
   {
    "duration": 2436,
    "start_time": "2025-05-30T15:46:03.997Z"
   },
   {
    "duration": 0,
    "start_time": "2025-05-30T15:46:06.435Z"
   },
   {
    "duration": 0,
    "start_time": "2025-05-30T15:46:06.437Z"
   },
   {
    "duration": 0,
    "start_time": "2025-05-30T15:46:06.438Z"
   },
   {
    "duration": 0,
    "start_time": "2025-05-30T15:46:06.439Z"
   },
   {
    "duration": 0,
    "start_time": "2025-05-30T15:46:06.440Z"
   },
   {
    "duration": 0,
    "start_time": "2025-05-30T15:46:06.441Z"
   },
   {
    "duration": 0,
    "start_time": "2025-05-30T15:46:06.442Z"
   },
   {
    "duration": 0,
    "start_time": "2025-05-30T15:46:06.443Z"
   },
   {
    "duration": 0,
    "start_time": "2025-05-30T15:46:06.444Z"
   },
   {
    "duration": 0,
    "start_time": "2025-05-30T15:46:06.445Z"
   },
   {
    "duration": 0,
    "start_time": "2025-05-30T15:46:06.446Z"
   },
   {
    "duration": 0,
    "start_time": "2025-05-30T15:46:06.447Z"
   },
   {
    "duration": 0,
    "start_time": "2025-05-30T15:46:06.448Z"
   },
   {
    "duration": 0,
    "start_time": "2025-05-30T15:46:06.450Z"
   },
   {
    "duration": 0,
    "start_time": "2025-05-30T15:46:06.451Z"
   },
   {
    "duration": 0,
    "start_time": "2025-05-30T15:46:06.452Z"
   },
   {
    "duration": 7605,
    "start_time": "2025-05-30T15:46:10.061Z"
   },
   {
    "duration": 1315,
    "start_time": "2025-05-30T15:46:17.668Z"
   },
   {
    "duration": 3,
    "start_time": "2025-05-30T15:46:18.984Z"
   },
   {
    "duration": 44,
    "start_time": "2025-05-30T15:46:18.988Z"
   },
   {
    "duration": 12,
    "start_time": "2025-05-30T15:46:19.034Z"
   },
   {
    "duration": 12,
    "start_time": "2025-05-30T15:46:19.048Z"
   },
   {
    "duration": 9,
    "start_time": "2025-05-30T15:46:19.062Z"
   },
   {
    "duration": 8,
    "start_time": "2025-05-30T15:46:19.073Z"
   },
   {
    "duration": 4,
    "start_time": "2025-05-30T15:46:19.082Z"
   },
   {
    "duration": 6,
    "start_time": "2025-05-30T15:46:19.088Z"
   },
   {
    "duration": 44,
    "start_time": "2025-05-30T15:46:19.096Z"
   },
   {
    "duration": 74,
    "start_time": "2025-05-30T15:46:19.142Z"
   },
   {
    "duration": 17,
    "start_time": "2025-05-30T15:46:19.217Z"
   },
   {
    "duration": 135,
    "start_time": "2025-05-30T15:46:19.238Z"
   },
   {
    "duration": 4,
    "start_time": "2025-05-30T15:46:19.375Z"
   },
   {
    "duration": 343,
    "start_time": "2025-05-30T15:46:19.381Z"
   },
   {
    "duration": 380,
    "start_time": "2025-05-30T15:46:19.726Z"
   },
   {
    "duration": 315,
    "start_time": "2025-05-30T15:46:20.108Z"
   },
   {
    "duration": 11,
    "start_time": "2025-05-30T15:46:20.425Z"
   },
   {
    "duration": 282,
    "start_time": "2025-05-30T15:46:20.437Z"
   },
   {
    "duration": 280,
    "start_time": "2025-05-30T15:46:20.721Z"
   },
   {
    "duration": 258,
    "start_time": "2025-05-30T15:46:21.003Z"
   },
   {
    "duration": 261,
    "start_time": "2025-05-30T15:46:21.263Z"
   },
   {
    "duration": 287,
    "start_time": "2025-05-30T15:46:21.526Z"
   },
   {
    "duration": 4,
    "start_time": "2025-05-30T15:46:21.815Z"
   },
   {
    "duration": 2024,
    "start_time": "2025-05-30T15:46:21.821Z"
   },
   {
    "duration": 94,
    "start_time": "2025-05-30T15:46:23.943Z"
   },
   {
    "duration": 12,
    "start_time": "2025-05-30T15:46:24.038Z"
   },
   {
    "duration": 4,
    "start_time": "2025-05-30T15:46:24.052Z"
   },
   {
    "duration": 6,
    "start_time": "2025-05-30T15:46:24.058Z"
   },
   {
    "duration": 5,
    "start_time": "2025-05-30T15:46:24.065Z"
   },
   {
    "duration": 34,
    "start_time": "2025-05-30T15:46:24.072Z"
   },
   {
    "duration": 30,
    "start_time": "2025-05-30T15:46:24.109Z"
   },
   {
    "duration": 5,
    "start_time": "2025-05-30T15:46:24.141Z"
   },
   {
    "duration": 11,
    "start_time": "2025-05-30T15:46:24.149Z"
   },
   {
    "duration": 1783,
    "start_time": "2025-05-30T15:46:24.162Z"
   },
   {
    "duration": 204,
    "start_time": "2025-05-30T15:46:26.037Z"
   },
   {
    "duration": 93,
    "start_time": "2025-05-30T15:46:26.243Z"
   },
   {
    "duration": 10,
    "start_time": "2025-05-30T15:46:26.338Z"
   },
   {
    "duration": 87,
    "start_time": "2025-05-30T15:46:26.350Z"
   },
   {
    "duration": 4,
    "start_time": "2025-05-30T15:46:26.441Z"
   },
   {
    "duration": 22,
    "start_time": "2025-05-30T15:46:26.446Z"
   },
   {
    "duration": 16674,
    "start_time": "2025-05-30T15:46:26.469Z"
   },
   {
    "duration": 3,
    "start_time": "2025-05-30T15:46:43.145Z"
   },
   {
    "duration": 73,
    "start_time": "2025-05-30T15:46:43.149Z"
   },
   {
    "duration": 15,
    "start_time": "2025-05-30T15:46:43.223Z"
   },
   {
    "duration": 3,
    "start_time": "2025-05-30T15:46:43.240Z"
   },
   {
    "duration": 9,
    "start_time": "2025-05-30T15:46:43.244Z"
   },
   {
    "duration": 85134,
    "start_time": "2025-05-30T15:46:43.254Z"
   },
   {
    "duration": 4,
    "start_time": "2025-05-30T15:48:08.389Z"
   },
   {
    "duration": 42,
    "start_time": "2025-05-30T15:48:08.394Z"
   },
   {
    "duration": 4,
    "start_time": "2025-05-30T15:48:08.438Z"
   },
   {
    "duration": 27,
    "start_time": "2025-05-30T15:48:08.443Z"
   },
   {
    "duration": 4,
    "start_time": "2025-05-30T15:48:08.472Z"
   },
   {
    "duration": 9,
    "start_time": "2025-05-30T15:48:08.477Z"
   },
   {
    "duration": 34,
    "start_time": "2025-05-30T15:48:08.487Z"
   },
   {
    "duration": 22,
    "start_time": "2025-05-30T15:48:08.522Z"
   },
   {
    "duration": 9,
    "start_time": "2025-05-30T15:48:08.545Z"
   },
   {
    "duration": 80,
    "start_time": "2025-05-30T15:48:08.555Z"
   },
   {
    "duration": 7524,
    "start_time": "2025-05-30T15:48:36.366Z"
   },
   {
    "duration": 1609,
    "start_time": "2025-05-30T15:48:43.892Z"
   },
   {
    "duration": 3,
    "start_time": "2025-05-30T15:48:45.502Z"
   },
   {
    "duration": 104,
    "start_time": "2025-05-30T15:48:45.506Z"
   },
   {
    "duration": 13,
    "start_time": "2025-05-30T15:48:45.613Z"
   },
   {
    "duration": 13,
    "start_time": "2025-05-30T15:48:45.628Z"
   },
   {
    "duration": 17,
    "start_time": "2025-05-30T15:48:45.643Z"
   },
   {
    "duration": 22,
    "start_time": "2025-05-30T15:48:45.661Z"
   },
   {
    "duration": 4,
    "start_time": "2025-05-30T15:48:45.684Z"
   },
   {
    "duration": 11,
    "start_time": "2025-05-30T15:48:45.690Z"
   },
   {
    "duration": 15,
    "start_time": "2025-05-30T15:48:45.703Z"
   },
   {
    "duration": 23,
    "start_time": "2025-05-30T15:48:45.720Z"
   },
   {
    "duration": 16,
    "start_time": "2025-05-30T15:48:45.745Z"
   },
   {
    "duration": 164,
    "start_time": "2025-05-30T15:48:45.764Z"
   },
   {
    "duration": 5,
    "start_time": "2025-05-30T15:48:45.934Z"
   },
   {
    "duration": 417,
    "start_time": "2025-05-30T15:48:45.941Z"
   },
   {
    "duration": 401,
    "start_time": "2025-05-30T15:48:46.360Z"
   },
   {
    "duration": 306,
    "start_time": "2025-05-30T15:48:46.763Z"
   },
   {
    "duration": 9,
    "start_time": "2025-05-30T15:48:47.071Z"
   },
   {
    "duration": 275,
    "start_time": "2025-05-30T15:48:47.081Z"
   },
   {
    "duration": 283,
    "start_time": "2025-05-30T15:48:47.358Z"
   },
   {
    "duration": 249,
    "start_time": "2025-05-30T15:48:47.644Z"
   },
   {
    "duration": 277,
    "start_time": "2025-05-30T15:48:47.895Z"
   },
   {
    "duration": 271,
    "start_time": "2025-05-30T15:48:48.174Z"
   },
   {
    "duration": 3,
    "start_time": "2025-05-30T15:48:48.447Z"
   },
   {
    "duration": 1985,
    "start_time": "2025-05-30T15:48:48.451Z"
   },
   {
    "duration": 5,
    "start_time": "2025-05-30T15:48:50.438Z"
   },
   {
    "duration": 108,
    "start_time": "2025-05-30T15:48:50.445Z"
   },
   {
    "duration": 23,
    "start_time": "2025-05-30T15:48:50.554Z"
   },
   {
    "duration": 7,
    "start_time": "2025-05-30T15:48:50.579Z"
   },
   {
    "duration": 7,
    "start_time": "2025-05-30T15:48:50.587Z"
   },
   {
    "duration": 22,
    "start_time": "2025-05-30T15:48:50.595Z"
   },
   {
    "duration": 14,
    "start_time": "2025-05-30T15:48:50.619Z"
   },
   {
    "duration": 4,
    "start_time": "2025-05-30T15:48:50.635Z"
   },
   {
    "duration": 5,
    "start_time": "2025-05-30T15:48:50.640Z"
   },
   {
    "duration": 1797,
    "start_time": "2025-05-30T15:48:50.647Z"
   },
   {
    "duration": 196,
    "start_time": "2025-05-30T15:48:52.543Z"
   },
   {
    "duration": 92,
    "start_time": "2025-05-30T15:48:52.745Z"
   },
   {
    "duration": 30,
    "start_time": "2025-05-30T15:48:52.838Z"
   },
   {
    "duration": 15,
    "start_time": "2025-05-30T15:48:52.870Z"
   },
   {
    "duration": 3,
    "start_time": "2025-05-30T15:48:52.889Z"
   },
   {
    "duration": 25,
    "start_time": "2025-05-30T15:48:52.894Z"
   },
   {
    "duration": 8420,
    "start_time": "2025-05-30T15:48:52.920Z"
   },
   {
    "duration": 3,
    "start_time": "2025-05-30T15:49:01.342Z"
   },
   {
    "duration": 50,
    "start_time": "2025-05-30T15:49:01.347Z"
   },
   {
    "duration": 16,
    "start_time": "2025-05-30T15:49:01.399Z"
   },
   {
    "duration": 18,
    "start_time": "2025-05-30T15:49:01.416Z"
   },
   {
    "duration": 25,
    "start_time": "2025-05-30T15:49:01.435Z"
   },
   {
    "duration": 88935,
    "start_time": "2025-05-30T15:49:01.461Z"
   },
   {
    "duration": 3,
    "start_time": "2025-05-30T15:50:30.398Z"
   },
   {
    "duration": 66,
    "start_time": "2025-05-30T15:50:30.402Z"
   },
   {
    "duration": 23,
    "start_time": "2025-05-30T15:50:30.470Z"
   },
   {
    "duration": 14,
    "start_time": "2025-05-30T15:50:30.495Z"
   },
   {
    "duration": 7,
    "start_time": "2025-05-30T15:50:30.510Z"
   },
   {
    "duration": 25,
    "start_time": "2025-05-30T15:50:30.518Z"
   },
   {
    "duration": 23,
    "start_time": "2025-05-30T15:50:30.545Z"
   },
   {
    "duration": 22,
    "start_time": "2025-05-30T15:50:30.569Z"
   },
   {
    "duration": 19,
    "start_time": "2025-05-30T15:50:30.593Z"
   },
   {
    "duration": 25,
    "start_time": "2025-05-30T15:50:30.614Z"
   },
   {
    "duration": 3,
    "start_time": "2025-05-30T15:51:41.172Z"
   },
   {
    "duration": 21,
    "start_time": "2025-05-30T15:51:43.470Z"
   },
   {
    "duration": 13,
    "start_time": "2025-05-30T15:51:47.070Z"
   },
   {
    "duration": 15,
    "start_time": "2025-05-30T15:51:47.085Z"
   },
   {
    "duration": 4,
    "start_time": "2025-05-30T15:51:47.102Z"
   },
   {
    "duration": 5,
    "start_time": "2025-05-30T15:51:47.108Z"
   },
   {
    "duration": 1723,
    "start_time": "2025-05-30T15:51:47.114Z"
   },
   {
    "duration": 201,
    "start_time": "2025-05-30T15:51:48.839Z"
   },
   {
    "duration": 93,
    "start_time": "2025-05-30T15:51:49.043Z"
   },
   {
    "duration": 64,
    "start_time": "2025-05-30T15:51:49.138Z"
   },
   {
    "duration": 36,
    "start_time": "2025-05-30T15:51:49.203Z"
   },
   {
    "duration": 4,
    "start_time": "2025-05-30T15:51:49.240Z"
   },
   {
    "duration": 8,
    "start_time": "2025-05-30T15:51:49.245Z"
   },
   {
    "duration": 8788,
    "start_time": "2025-05-30T15:51:49.255Z"
   },
   {
    "duration": 5,
    "start_time": "2025-05-30T15:51:58.044Z"
   },
   {
    "duration": 21,
    "start_time": "2025-05-30T15:51:58.053Z"
   },
   {
    "duration": 70,
    "start_time": "2025-05-30T15:51:58.076Z"
   },
   {
    "duration": 3,
    "start_time": "2025-05-30T15:51:58.148Z"
   },
   {
    "duration": 10,
    "start_time": "2025-05-30T15:51:58.153Z"
   },
   {
    "duration": 87333,
    "start_time": "2025-05-30T15:51:58.165Z"
   },
   {
    "duration": 4,
    "start_time": "2025-05-30T15:53:25.499Z"
   },
   {
    "duration": 36,
    "start_time": "2025-05-30T15:53:25.504Z"
   },
   {
    "duration": 7,
    "start_time": "2025-05-30T15:53:25.541Z"
   },
   {
    "duration": 6,
    "start_time": "2025-05-30T15:53:25.549Z"
   },
   {
    "duration": 15,
    "start_time": "2025-05-30T15:53:25.556Z"
   },
   {
    "duration": 6,
    "start_time": "2025-05-30T15:53:25.572Z"
   },
   {
    "duration": 12,
    "start_time": "2025-05-30T15:53:25.580Z"
   },
   {
    "duration": 14,
    "start_time": "2025-05-30T15:53:25.593Z"
   },
   {
    "duration": 38,
    "start_time": "2025-05-30T15:53:25.609Z"
   },
   {
    "duration": 12,
    "start_time": "2025-05-30T15:53:25.649Z"
   },
   {
    "duration": 12,
    "start_time": "2025-05-30T15:53:55.250Z"
   },
   {
    "duration": 3,
    "start_time": "2025-05-30T15:53:57.188Z"
   },
   {
    "duration": 21,
    "start_time": "2025-05-30T15:53:58.686Z"
   },
   {
    "duration": 16,
    "start_time": "2025-05-30T15:54:15.396Z"
   },
   {
    "duration": 16,
    "start_time": "2025-05-30T15:54:15.414Z"
   },
   {
    "duration": 5,
    "start_time": "2025-05-30T15:54:15.432Z"
   },
   {
    "duration": 22,
    "start_time": "2025-05-30T15:54:15.439Z"
   },
   {
    "duration": 1680,
    "start_time": "2025-05-30T15:54:15.464Z"
   },
   {
    "duration": 204,
    "start_time": "2025-05-30T15:54:17.235Z"
   },
   {
    "duration": 95,
    "start_time": "2025-05-30T15:54:17.441Z"
   },
   {
    "duration": 34,
    "start_time": "2025-05-30T15:54:17.538Z"
   },
   {
    "duration": 63,
    "start_time": "2025-05-30T15:54:17.574Z"
   },
   {
    "duration": 3,
    "start_time": "2025-05-30T15:54:17.638Z"
   },
   {
    "duration": 8,
    "start_time": "2025-05-30T15:54:17.643Z"
   },
   {
    "duration": 9089,
    "start_time": "2025-05-30T15:54:17.652Z"
   },
   {
    "duration": 4,
    "start_time": "2025-05-30T15:54:26.743Z"
   },
   {
    "duration": 21,
    "start_time": "2025-05-30T15:54:26.749Z"
   },
   {
    "duration": 13,
    "start_time": "2025-05-30T15:54:26.771Z"
   },
   {
    "duration": 3,
    "start_time": "2025-05-30T15:54:26.785Z"
   },
   {
    "duration": 46,
    "start_time": "2025-05-30T15:54:26.790Z"
   },
   {
    "duration": 81783,
    "start_time": "2025-05-30T15:54:26.838Z"
   },
   {
    "duration": 3,
    "start_time": "2025-05-30T15:55:48.623Z"
   },
   {
    "duration": 10,
    "start_time": "2025-05-30T15:55:48.628Z"
   },
   {
    "duration": 7,
    "start_time": "2025-05-30T15:55:48.639Z"
   },
   {
    "duration": 7,
    "start_time": "2025-05-30T15:55:48.647Z"
   },
   {
    "duration": 12,
    "start_time": "2025-05-30T15:55:48.656Z"
   },
   {
    "duration": 20,
    "start_time": "2025-05-30T15:55:48.669Z"
   },
   {
    "duration": 11,
    "start_time": "2025-05-30T15:55:48.691Z"
   },
   {
    "duration": 35,
    "start_time": "2025-05-30T15:55:48.703Z"
   },
   {
    "duration": 11,
    "start_time": "2025-05-30T15:55:48.740Z"
   },
   {
    "duration": 82,
    "start_time": "2025-05-30T15:55:48.753Z"
   },
   {
    "duration": 8756,
    "start_time": "2025-05-30T16:00:22.789Z"
   },
   {
    "duration": 3,
    "start_time": "2025-05-30T16:00:52.196Z"
   },
   {
    "duration": 6133,
    "start_time": "2025-05-30T16:00:53.604Z"
   },
   {
    "duration": 3,
    "start_time": "2025-05-30T16:01:01.924Z"
   },
   {
    "duration": 5971,
    "start_time": "2025-05-30T16:01:03.965Z"
   },
   {
    "duration": 3,
    "start_time": "2025-05-30T16:01:18.118Z"
   },
   {
    "duration": 125,
    "start_time": "2025-05-30T16:01:19.753Z"
   },
   {
    "duration": 3,
    "start_time": "2025-05-30T16:01:23.263Z"
   },
   {
    "duration": 6134,
    "start_time": "2025-05-30T16:01:24.904Z"
   },
   {
    "duration": 4,
    "start_time": "2025-05-30T16:01:37.417Z"
   },
   {
    "duration": 6376,
    "start_time": "2025-05-30T16:01:39.167Z"
   },
   {
    "duration": 4,
    "start_time": "2025-05-30T16:01:49.713Z"
   },
   {
    "duration": 3,
    "start_time": "2025-05-30T16:01:55.350Z"
   },
   {
    "duration": 3,
    "start_time": "2025-05-30T16:01:59.250Z"
   },
   {
    "duration": 16155,
    "start_time": "2025-05-30T16:02:01.588Z"
   },
   {
    "duration": 19,
    "start_time": "2025-05-30T16:02:21.677Z"
   },
   {
    "duration": 7,
    "start_time": "2025-05-30T16:02:49.184Z"
   },
   {
    "duration": 9,
    "start_time": "2025-05-30T16:02:56.853Z"
   },
   {
    "duration": 8,
    "start_time": "2025-05-30T16:03:41.798Z"
   },
   {
    "duration": 4,
    "start_time": "2025-05-30T16:05:09.478Z"
   },
   {
    "duration": 3,
    "start_time": "2025-05-30T16:05:11.100Z"
   },
   {
    "duration": 13649,
    "start_time": "2025-05-30T16:05:13.195Z"
   },
   {
    "duration": 4,
    "start_time": "2025-05-30T16:05:31.322Z"
   },
   {
    "duration": 15,
    "start_time": "2025-05-30T16:05:34.517Z"
   },
   {
    "duration": 3,
    "start_time": "2025-05-30T16:06:07.673Z"
   },
   {
    "duration": 3,
    "start_time": "2025-05-30T16:06:09.541Z"
   },
   {
    "duration": 79007,
    "start_time": "2025-05-30T16:06:11.454Z"
   },
   {
    "duration": 9,
    "start_time": "2025-05-30T16:07:36.623Z"
   },
   {
    "duration": 9,
    "start_time": "2025-05-30T16:07:42.991Z"
   },
   {
    "duration": 3,
    "start_time": "2025-05-30T16:07:54.463Z"
   },
   {
    "duration": 4,
    "start_time": "2025-05-30T16:07:56.104Z"
   },
   {
    "duration": 78547,
    "start_time": "2025-05-30T16:07:59.470Z"
   },
   {
    "duration": 8,
    "start_time": "2025-05-30T16:09:23.579Z"
   },
   {
    "duration": 3,
    "start_time": "2025-05-30T16:09:59.902Z"
   },
   {
    "duration": 4,
    "start_time": "2025-05-30T16:10:01.331Z"
   },
   {
    "duration": 80934,
    "start_time": "2025-05-30T16:10:02.787Z"
   },
   {
    "duration": 8,
    "start_time": "2025-05-30T16:11:27.494Z"
   },
   {
    "duration": 7,
    "start_time": "2025-05-30T16:11:35.298Z"
   },
   {
    "duration": 70,
    "start_time": "2025-05-30T16:12:41.161Z"
   },
   {
    "duration": 4,
    "start_time": "2025-05-30T16:12:43.325Z"
   },
   {
    "duration": 3,
    "start_time": "2025-05-30T16:12:49.383Z"
   },
   {
    "duration": 213655,
    "start_time": "2025-05-30T16:12:51.361Z"
   },
   {
    "duration": 11,
    "start_time": "2025-05-30T16:16:29.402Z"
   },
   {
    "duration": 8,
    "start_time": "2025-05-30T16:16:34.236Z"
   },
   {
    "duration": 4,
    "start_time": "2025-05-30T16:16:42.269Z"
   },
   {
    "duration": 3,
    "start_time": "2025-05-30T16:17:01.613Z"
   },
   {
    "duration": 4,
    "start_time": "2025-05-30T16:17:11.906Z"
   },
   {
    "duration": 3,
    "start_time": "2025-05-30T16:17:13.325Z"
   },
   {
    "duration": 286700,
    "start_time": "2025-05-30T16:17:15.198Z"
   },
   {
    "duration": 4,
    "start_time": "2025-05-30T16:22:36.016Z"
   },
   {
    "duration": 9,
    "start_time": "2025-05-30T16:22:39.547Z"
   },
   {
    "duration": 8,
    "start_time": "2025-05-30T16:22:51.026Z"
   },
   {
    "duration": 4,
    "start_time": "2025-05-30T16:23:03.336Z"
   },
   {
    "duration": 3,
    "start_time": "2025-05-30T16:23:08.580Z"
   },
   {
    "duration": 3,
    "start_time": "2025-05-30T16:23:09.935Z"
   },
   {
    "duration": 161241,
    "start_time": "2025-05-30T16:23:11.264Z"
   },
   {
    "duration": 5,
    "start_time": "2025-05-30T16:26:15.053Z"
   },
   {
    "duration": 9,
    "start_time": "2025-05-30T16:26:17.149Z"
   },
   {
    "duration": 3,
    "start_time": "2025-05-30T16:26:33.681Z"
   },
   {
    "duration": 4,
    "start_time": "2025-05-30T16:26:35.232Z"
   },
   {
    "duration": 94483,
    "start_time": "2025-05-30T16:26:37.037Z"
   },
   {
    "duration": 4,
    "start_time": "2025-05-30T16:28:33.547Z"
   },
   {
    "duration": 8,
    "start_time": "2025-05-30T16:28:35.444Z"
   },
   {
    "duration": 6,
    "start_time": "2025-05-30T16:28:40.804Z"
   },
   {
    "duration": 3,
    "start_time": "2025-05-30T16:29:01.592Z"
   },
   {
    "duration": 5332,
    "start_time": "2025-05-30T16:29:03.643Z"
   },
   {
    "duration": 4,
    "start_time": "2025-05-30T16:29:10.284Z"
   },
   {
    "duration": 3,
    "start_time": "2025-05-30T16:29:11.729Z"
   },
   {
    "duration": 14395,
    "start_time": "2025-05-30T16:29:13.741Z"
   },
   {
    "duration": 7,
    "start_time": "2025-05-30T16:29:44.150Z"
   },
   {
    "duration": 6,
    "start_time": "2025-05-30T16:29:48.751Z"
   },
   {
    "duration": 3,
    "start_time": "2025-05-30T16:31:55.016Z"
   },
   {
    "duration": 4,
    "start_time": "2025-05-30T16:32:03.934Z"
   },
   {
    "duration": 3,
    "start_time": "2025-05-30T16:32:04.754Z"
   },
   {
    "duration": 658,
    "start_time": "2025-05-30T16:32:06.275Z"
   },
   {
    "duration": 3,
    "start_time": "2025-05-30T16:37:35.313Z"
   },
   {
    "duration": 3,
    "start_time": "2025-05-30T16:37:37.299Z"
   },
   {
    "duration": 147488,
    "start_time": "2025-05-30T16:37:39.774Z"
   },
   {
    "duration": 15,
    "start_time": "2025-05-30T16:40:10.783Z"
   },
   {
    "duration": 15,
    "start_time": "2025-05-30T16:40:15.008Z"
   },
   {
    "duration": 4,
    "start_time": "2025-05-30T16:40:31.734Z"
   },
   {
    "duration": 3,
    "start_time": "2025-05-30T16:40:51.848Z"
   },
   {
    "duration": 3,
    "start_time": "2025-05-30T16:40:59.772Z"
   },
   {
    "duration": 112224,
    "start_time": "2025-05-30T16:41:02.103Z"
   },
   {
    "duration": 4,
    "start_time": "2025-05-30T16:43:57.028Z"
   },
   {
    "duration": 16,
    "start_time": "2025-05-30T16:43:59.763Z"
   },
   {
    "duration": 17,
    "start_time": "2025-05-30T16:44:04.035Z"
   },
   {
    "duration": 3,
    "start_time": "2025-05-30T16:44:20.374Z"
   },
   {
    "duration": 112527,
    "start_time": "2025-05-30T16:44:24.018Z"
   },
   {
    "duration": 4,
    "start_time": "2025-05-30T16:46:30.595Z"
   },
   {
    "duration": 16,
    "start_time": "2025-05-30T16:46:35.926Z"
   },
   {
    "duration": 16,
    "start_time": "2025-05-30T16:46:40.668Z"
   },
   {
    "duration": 4,
    "start_time": "2025-05-30T16:47:04.682Z"
   },
   {
    "duration": 4,
    "start_time": "2025-05-30T16:47:07.096Z"
   },
   {
    "duration": 156971,
    "start_time": "2025-05-30T16:47:08.637Z"
   },
   {
    "duration": 4,
    "start_time": "2025-05-30T16:50:51.085Z"
   },
   {
    "duration": 17,
    "start_time": "2025-05-30T16:50:56.632Z"
   },
   {
    "duration": 16,
    "start_time": "2025-05-30T16:51:01.179Z"
   },
   {
    "duration": 64,
    "start_time": "2025-05-30T16:51:36.207Z"
   },
   {
    "duration": 3,
    "start_time": "2025-05-30T16:51:39.305Z"
   },
   {
    "duration": 5,
    "start_time": "2025-05-30T16:51:41.030Z"
   },
   {
    "duration": 189064,
    "start_time": "2025-05-30T16:51:42.914Z"
   },
   {
    "duration": 18,
    "start_time": "2025-05-30T16:55:48.407Z"
   },
   {
    "duration": 18,
    "start_time": "2025-05-30T16:55:53.477Z"
   },
   {
    "duration": 7668,
    "start_time": "2025-05-30T16:56:30.771Z"
   },
   {
    "duration": 1373,
    "start_time": "2025-05-30T16:56:38.443Z"
   },
   {
    "duration": 4,
    "start_time": "2025-05-30T16:56:39.818Z"
   },
   {
    "duration": 67,
    "start_time": "2025-05-30T16:56:39.823Z"
   },
   {
    "duration": 13,
    "start_time": "2025-05-30T16:56:39.892Z"
   },
   {
    "duration": 12,
    "start_time": "2025-05-30T16:56:39.906Z"
   },
   {
    "duration": 9,
    "start_time": "2025-05-30T16:56:39.919Z"
   },
   {
    "duration": 9,
    "start_time": "2025-05-30T16:56:39.929Z"
   },
   {
    "duration": 4,
    "start_time": "2025-05-30T16:56:39.939Z"
   },
   {
    "duration": 4,
    "start_time": "2025-05-30T16:56:39.944Z"
   },
   {
    "duration": 8,
    "start_time": "2025-05-30T16:56:39.949Z"
   },
   {
    "duration": 15,
    "start_time": "2025-05-30T16:56:39.959Z"
   },
   {
    "duration": 16,
    "start_time": "2025-05-30T16:56:39.975Z"
   },
   {
    "duration": 175,
    "start_time": "2025-05-30T16:56:39.994Z"
   },
   {
    "duration": 4,
    "start_time": "2025-05-30T16:56:40.171Z"
   },
   {
    "duration": 466,
    "start_time": "2025-05-30T16:56:40.176Z"
   },
   {
    "duration": 365,
    "start_time": "2025-05-30T16:56:40.644Z"
   },
   {
    "duration": 318,
    "start_time": "2025-05-30T16:56:41.011Z"
   },
   {
    "duration": 6,
    "start_time": "2025-05-30T16:56:41.335Z"
   },
   {
    "duration": 256,
    "start_time": "2025-05-30T16:56:41.343Z"
   },
   {
    "duration": 290,
    "start_time": "2025-05-30T16:56:41.601Z"
   },
   {
    "duration": 260,
    "start_time": "2025-05-30T16:56:41.893Z"
   },
   {
    "duration": 284,
    "start_time": "2025-05-30T16:56:42.154Z"
   },
   {
    "duration": 263,
    "start_time": "2025-05-30T16:56:42.439Z"
   },
   {
    "duration": 3,
    "start_time": "2025-05-30T16:56:42.704Z"
   },
   {
    "duration": 1837,
    "start_time": "2025-05-30T16:56:42.708Z"
   },
   {
    "duration": 5,
    "start_time": "2025-05-30T16:56:44.637Z"
   },
   {
    "duration": 113,
    "start_time": "2025-05-30T16:56:44.644Z"
   },
   {
    "duration": 43,
    "start_time": "2025-05-30T16:56:44.758Z"
   },
   {
    "duration": 20,
    "start_time": "2025-05-30T16:56:44.803Z"
   },
   {
    "duration": 21,
    "start_time": "2025-05-30T16:56:44.825Z"
   },
   {
    "duration": 22,
    "start_time": "2025-05-30T16:56:44.847Z"
   },
   {
    "duration": 12,
    "start_time": "2025-05-30T16:56:44.871Z"
   },
   {
    "duration": 4,
    "start_time": "2025-05-30T16:56:44.884Z"
   },
   {
    "duration": 6,
    "start_time": "2025-05-30T16:56:44.890Z"
   },
   {
    "duration": 260,
    "start_time": "2025-05-30T16:56:44.897Z"
   },
   {
    "duration": 83,
    "start_time": "2025-05-30T16:56:45.159Z"
   },
   {
    "duration": 3,
    "start_time": "2025-05-30T16:56:45.244Z"
   },
   {
    "duration": 94,
    "start_time": "2025-05-30T16:56:45.249Z"
   },
   {
    "duration": 17,
    "start_time": "2025-05-30T16:56:45.345Z"
   },
   {
    "duration": 3,
    "start_time": "2025-05-30T16:56:45.435Z"
   },
   {
    "duration": 55,
    "start_time": "2025-05-30T16:56:45.440Z"
   },
   {
    "duration": 10445,
    "start_time": "2025-05-30T16:56:45.497Z"
   },
   {
    "duration": 3,
    "start_time": "2025-05-30T16:56:55.944Z"
   },
   {
    "duration": 87,
    "start_time": "2025-05-30T16:56:55.949Z"
   },
   {
    "duration": 13,
    "start_time": "2025-05-30T16:56:56.038Z"
   },
   {
    "duration": 66,
    "start_time": "2025-05-30T16:56:56.053Z"
   },
   {
    "duration": 70,
    "start_time": "2025-05-30T16:56:56.121Z"
   },
   {
    "duration": 48561,
    "start_time": "2025-05-30T16:56:56.192Z"
   },
   {
    "duration": 4,
    "start_time": "2025-05-30T16:57:44.755Z"
   },
   {
    "duration": 16,
    "start_time": "2025-05-30T16:57:44.761Z"
   },
   {
    "duration": 4,
    "start_time": "2025-05-30T16:57:44.779Z"
   },
   {
    "duration": 8,
    "start_time": "2025-05-30T16:57:44.785Z"
   },
   {
    "duration": 29,
    "start_time": "2025-05-30T16:57:44.795Z"
   },
   {
    "duration": 10,
    "start_time": "2025-05-30T16:57:44.826Z"
   },
   {
    "duration": 9,
    "start_time": "2025-05-30T16:57:44.837Z"
   },
   {
    "duration": 20,
    "start_time": "2025-05-30T16:57:44.848Z"
   },
   {
    "duration": 8,
    "start_time": "2025-05-30T16:57:44.869Z"
   },
   {
    "duration": 7633,
    "start_time": "2025-05-30T16:59:08.315Z"
   },
   {
    "duration": 1390,
    "start_time": "2025-05-30T16:59:15.951Z"
   },
   {
    "duration": 3,
    "start_time": "2025-05-30T16:59:17.343Z"
   },
   {
    "duration": 56,
    "start_time": "2025-05-30T16:59:17.348Z"
   },
   {
    "duration": 12,
    "start_time": "2025-05-30T16:59:17.405Z"
   },
   {
    "duration": 102,
    "start_time": "2025-05-30T16:59:17.418Z"
   },
   {
    "duration": 13,
    "start_time": "2025-05-30T16:59:17.522Z"
   },
   {
    "duration": 7,
    "start_time": "2025-05-30T16:59:17.537Z"
   },
   {
    "duration": 8,
    "start_time": "2025-05-30T16:59:17.546Z"
   },
   {
    "duration": 9,
    "start_time": "2025-05-30T16:59:17.557Z"
   },
   {
    "duration": 33,
    "start_time": "2025-05-30T16:59:17.568Z"
   },
   {
    "duration": 16,
    "start_time": "2025-05-30T16:59:17.602Z"
   },
   {
    "duration": 18,
    "start_time": "2025-05-30T16:59:17.620Z"
   },
   {
    "duration": 139,
    "start_time": "2025-05-30T16:59:17.640Z"
   },
   {
    "duration": 4,
    "start_time": "2025-05-30T16:59:17.781Z"
   },
   {
    "duration": 355,
    "start_time": "2025-05-30T16:59:17.787Z"
   },
   {
    "duration": 368,
    "start_time": "2025-05-30T16:59:18.144Z"
   },
   {
    "duration": 316,
    "start_time": "2025-05-30T16:59:18.514Z"
   },
   {
    "duration": 7,
    "start_time": "2025-05-30T16:59:18.834Z"
   },
   {
    "duration": 266,
    "start_time": "2025-05-30T16:59:18.842Z"
   },
   {
    "duration": 291,
    "start_time": "2025-05-30T16:59:19.109Z"
   },
   {
    "duration": 245,
    "start_time": "2025-05-30T16:59:19.402Z"
   },
   {
    "duration": 289,
    "start_time": "2025-05-30T16:59:19.649Z"
   },
   {
    "duration": 273,
    "start_time": "2025-05-30T16:59:19.939Z"
   },
   {
    "duration": 4,
    "start_time": "2025-05-30T16:59:20.214Z"
   },
   {
    "duration": 2119,
    "start_time": "2025-05-30T16:59:20.219Z"
   },
   {
    "duration": 3,
    "start_time": "2025-05-30T16:59:22.435Z"
   },
   {
    "duration": 5,
    "start_time": "2025-05-30T16:59:22.442Z"
   },
   {
    "duration": 5,
    "start_time": "2025-05-30T16:59:22.448Z"
   },
   {
    "duration": 9,
    "start_time": "2025-05-30T16:59:22.455Z"
   },
   {
    "duration": 10,
    "start_time": "2025-05-30T16:59:22.465Z"
   },
   {
    "duration": 23,
    "start_time": "2025-05-30T16:59:22.477Z"
   },
   {
    "duration": 40,
    "start_time": "2025-05-30T16:59:22.502Z"
   },
   {
    "duration": 4,
    "start_time": "2025-05-30T16:59:22.544Z"
   },
   {
    "duration": 6,
    "start_time": "2025-05-30T16:59:22.549Z"
   },
   {
    "duration": 1879,
    "start_time": "2025-05-30T16:59:22.557Z"
   },
   {
    "duration": 199,
    "start_time": "2025-05-30T16:59:24.444Z"
   },
   {
    "duration": 4,
    "start_time": "2025-05-30T16:59:24.736Z"
   },
   {
    "duration": 21,
    "start_time": "2025-05-30T16:59:24.741Z"
   },
   {
    "duration": 15,
    "start_time": "2025-05-30T16:59:24.836Z"
   },
   {
    "duration": 4,
    "start_time": "2025-05-30T16:59:24.852Z"
   },
   {
    "duration": 4,
    "start_time": "2025-05-30T16:59:24.858Z"
   },
   {
    "duration": 13582,
    "start_time": "2025-05-30T16:59:24.864Z"
   },
   {
    "duration": 5,
    "start_time": "2025-05-30T16:59:38.536Z"
   },
   {
    "duration": 34,
    "start_time": "2025-05-30T16:59:38.542Z"
   },
   {
    "duration": 15,
    "start_time": "2025-05-30T16:59:38.578Z"
   },
   {
    "duration": 3,
    "start_time": "2025-05-30T16:59:38.594Z"
   },
   {
    "duration": 38,
    "start_time": "2025-05-30T16:59:38.599Z"
   },
   {
    "duration": 106772,
    "start_time": "2025-05-30T16:59:38.638Z"
   },
   {
    "duration": 3,
    "start_time": "2025-05-30T17:01:25.412Z"
   },
   {
    "duration": 54,
    "start_time": "2025-05-30T17:01:25.416Z"
   },
   {
    "duration": 3,
    "start_time": "2025-05-30T17:01:25.472Z"
   },
   {
    "duration": 13,
    "start_time": "2025-05-30T17:01:25.477Z"
   },
   {
    "duration": 29,
    "start_time": "2025-05-30T17:01:25.491Z"
   },
   {
    "duration": 15,
    "start_time": "2025-05-30T17:01:25.522Z"
   },
   {
    "duration": 20,
    "start_time": "2025-05-30T17:01:25.538Z"
   },
   {
    "duration": 18,
    "start_time": "2025-05-30T17:01:25.559Z"
   },
   {
    "duration": 9,
    "start_time": "2025-05-30T17:01:25.578Z"
   },
   {
    "duration": 12,
    "start_time": "2025-05-30T17:02:25.780Z"
   },
   {
    "duration": 7755,
    "start_time": "2025-05-30T17:02:32.574Z"
   },
   {
    "duration": 1288,
    "start_time": "2025-05-30T17:02:40.331Z"
   },
   {
    "duration": 3,
    "start_time": "2025-05-30T17:02:41.622Z"
   },
   {
    "duration": 47,
    "start_time": "2025-05-30T17:02:41.634Z"
   },
   {
    "duration": 12,
    "start_time": "2025-05-30T17:02:41.682Z"
   },
   {
    "duration": 45,
    "start_time": "2025-05-30T17:02:41.696Z"
   },
   {
    "duration": 13,
    "start_time": "2025-05-30T17:02:41.742Z"
   },
   {
    "duration": 7,
    "start_time": "2025-05-30T17:02:41.756Z"
   },
   {
    "duration": 4,
    "start_time": "2025-05-30T17:02:41.765Z"
   },
   {
    "duration": 4,
    "start_time": "2025-05-30T17:02:41.771Z"
   },
   {
    "duration": 9,
    "start_time": "2025-05-30T17:02:41.776Z"
   },
   {
    "duration": 13,
    "start_time": "2025-05-30T17:02:41.787Z"
   },
   {
    "duration": 16,
    "start_time": "2025-05-30T17:02:41.838Z"
   },
   {
    "duration": 164,
    "start_time": "2025-05-30T17:02:41.856Z"
   },
   {
    "duration": 4,
    "start_time": "2025-05-30T17:02:42.022Z"
   },
   {
    "duration": 351,
    "start_time": "2025-05-30T17:02:42.035Z"
   },
   {
    "duration": 379,
    "start_time": "2025-05-30T17:02:42.388Z"
   },
   {
    "duration": 325,
    "start_time": "2025-05-30T17:02:42.769Z"
   },
   {
    "duration": 7,
    "start_time": "2025-05-30T17:02:43.095Z"
   },
   {
    "duration": 271,
    "start_time": "2025-05-30T17:02:43.104Z"
   },
   {
    "duration": 322,
    "start_time": "2025-05-30T17:02:43.376Z"
   },
   {
    "duration": 251,
    "start_time": "2025-05-30T17:02:43.699Z"
   },
   {
    "duration": 294,
    "start_time": "2025-05-30T17:02:43.951Z"
   },
   {
    "duration": 264,
    "start_time": "2025-05-30T17:02:44.246Z"
   },
   {
    "duration": 4,
    "start_time": "2025-05-30T17:02:44.511Z"
   },
   {
    "duration": 1829,
    "start_time": "2025-05-30T17:02:44.516Z"
   },
   {
    "duration": 4,
    "start_time": "2025-05-30T17:02:46.437Z"
   },
   {
    "duration": 99,
    "start_time": "2025-05-30T17:02:46.445Z"
   },
   {
    "duration": 4,
    "start_time": "2025-05-30T17:02:46.545Z"
   },
   {
    "duration": 6,
    "start_time": "2025-05-30T17:02:46.551Z"
   },
   {
    "duration": 5,
    "start_time": "2025-05-30T17:02:46.559Z"
   },
   {
    "duration": 42,
    "start_time": "2025-05-30T17:02:46.566Z"
   },
   {
    "duration": 32,
    "start_time": "2025-05-30T17:02:46.611Z"
   },
   {
    "duration": 5,
    "start_time": "2025-05-30T17:02:46.644Z"
   },
   {
    "duration": 107,
    "start_time": "2025-05-30T17:02:46.650Z"
   },
   {
    "duration": 1585,
    "start_time": "2025-05-30T17:02:46.759Z"
   },
   {
    "duration": 108,
    "start_time": "2025-05-30T17:02:48.436Z"
   },
   {
    "duration": 8,
    "start_time": "2025-05-30T17:02:48.637Z"
   },
   {
    "duration": 8,
    "start_time": "2025-05-30T17:02:48.736Z"
   },
   {
    "duration": 19,
    "start_time": "2025-05-30T17:02:48.748Z"
   },
   {
    "duration": 4,
    "start_time": "2025-05-30T17:02:48.768Z"
   },
   {
    "duration": 7,
    "start_time": "2025-05-30T17:02:48.773Z"
   },
   {
    "duration": 14064,
    "start_time": "2025-05-30T17:02:48.782Z"
   },
   {
    "duration": 90,
    "start_time": "2025-05-30T17:03:02.847Z"
   },
   {
    "duration": 19,
    "start_time": "2025-05-30T17:03:02.939Z"
   },
   {
    "duration": 76,
    "start_time": "2025-05-30T17:03:02.960Z"
   },
   {
    "duration": 4,
    "start_time": "2025-05-30T17:03:03.037Z"
   },
   {
    "duration": 17,
    "start_time": "2025-05-30T17:03:03.043Z"
   },
   {
    "duration": 107821,
    "start_time": "2025-05-30T17:03:03.062Z"
   },
   {
    "duration": 4,
    "start_time": "2025-05-30T17:04:50.885Z"
   },
   {
    "duration": 70,
    "start_time": "2025-05-30T17:04:50.890Z"
   },
   {
    "duration": 4,
    "start_time": "2025-05-30T17:04:50.962Z"
   },
   {
    "duration": 14,
    "start_time": "2025-05-30T17:04:50.967Z"
   },
   {
    "duration": 38,
    "start_time": "2025-05-30T17:04:50.982Z"
   },
   {
    "duration": 15,
    "start_time": "2025-05-30T17:04:51.022Z"
   },
   {
    "duration": 59,
    "start_time": "2025-05-30T17:04:51.038Z"
   },
   {
    "duration": 24,
    "start_time": "2025-05-30T17:04:51.098Z"
   },
   {
    "duration": 10,
    "start_time": "2025-05-30T17:04:51.124Z"
   },
   {
    "duration": 4,
    "start_time": "2025-05-30T17:05:27.110Z"
   },
   {
    "duration": 7597,
    "start_time": "2025-05-30T17:05:54.814Z"
   },
   {
    "duration": 1445,
    "start_time": "2025-05-30T17:06:02.413Z"
   },
   {
    "duration": 3,
    "start_time": "2025-05-30T17:06:03.860Z"
   },
   {
    "duration": 72,
    "start_time": "2025-05-30T17:06:03.865Z"
   },
   {
    "duration": 13,
    "start_time": "2025-05-30T17:06:03.939Z"
   },
   {
    "duration": 39,
    "start_time": "2025-05-30T17:06:03.953Z"
   },
   {
    "duration": 22,
    "start_time": "2025-05-30T17:06:03.994Z"
   },
   {
    "duration": 20,
    "start_time": "2025-05-30T17:06:04.017Z"
   },
   {
    "duration": 17,
    "start_time": "2025-05-30T17:06:04.039Z"
   },
   {
    "duration": 5,
    "start_time": "2025-05-30T17:06:04.058Z"
   },
   {
    "duration": 53,
    "start_time": "2025-05-30T17:06:04.065Z"
   },
   {
    "duration": 59,
    "start_time": "2025-05-30T17:06:04.120Z"
   },
   {
    "duration": 68,
    "start_time": "2025-05-30T17:06:04.181Z"
   },
   {
    "duration": 245,
    "start_time": "2025-05-30T17:06:04.252Z"
   },
   {
    "duration": 5,
    "start_time": "2025-05-30T17:06:04.498Z"
   },
   {
    "duration": 353,
    "start_time": "2025-05-30T17:06:04.504Z"
   },
   {
    "duration": 380,
    "start_time": "2025-05-30T17:06:04.858Z"
   },
   {
    "duration": 312,
    "start_time": "2025-05-30T17:06:05.240Z"
   },
   {
    "duration": 7,
    "start_time": "2025-05-30T17:06:05.554Z"
   },
   {
    "duration": 302,
    "start_time": "2025-05-30T17:06:05.562Z"
   },
   {
    "duration": 304,
    "start_time": "2025-05-30T17:06:05.866Z"
   },
   {
    "duration": 270,
    "start_time": "2025-05-30T17:06:06.172Z"
   },
   {
    "duration": 324,
    "start_time": "2025-05-30T17:06:06.444Z"
   },
   {
    "duration": 273,
    "start_time": "2025-05-30T17:06:06.769Z"
   },
   {
    "duration": 4,
    "start_time": "2025-05-30T17:06:07.044Z"
   },
   {
    "duration": 2188,
    "start_time": "2025-05-30T17:06:07.049Z"
   },
   {
    "duration": 5,
    "start_time": "2025-05-30T17:06:09.239Z"
   },
   {
    "duration": 5,
    "start_time": "2025-05-30T17:06:09.336Z"
   },
   {
    "duration": 23,
    "start_time": "2025-05-30T17:06:09.342Z"
   },
   {
    "duration": 19,
    "start_time": "2025-05-30T17:06:09.366Z"
   },
   {
    "duration": 17,
    "start_time": "2025-05-30T17:06:09.387Z"
   },
   {
    "duration": 24,
    "start_time": "2025-05-30T17:06:09.406Z"
   },
   {
    "duration": 14,
    "start_time": "2025-05-30T17:06:09.431Z"
   },
   {
    "duration": 83,
    "start_time": "2025-05-30T17:06:09.446Z"
   },
   {
    "duration": 44,
    "start_time": "2025-05-30T17:06:09.530Z"
   },
   {
    "duration": 1468,
    "start_time": "2025-05-30T17:06:09.576Z"
   },
   {
    "duration": 199,
    "start_time": "2025-05-30T17:06:11.045Z"
   },
   {
    "duration": 4,
    "start_time": "2025-05-30T17:06:11.337Z"
   },
   {
    "duration": 102,
    "start_time": "2025-05-30T17:06:11.344Z"
   },
   {
    "duration": 97,
    "start_time": "2025-05-30T17:06:11.447Z"
   },
   {
    "duration": 4,
    "start_time": "2025-05-30T17:06:11.548Z"
   },
   {
    "duration": 19,
    "start_time": "2025-05-30T17:06:11.553Z"
   },
   {
    "duration": 49965,
    "start_time": "2025-05-30T17:06:11.574Z"
   },
   {
    "duration": 5,
    "start_time": "2025-05-30T17:07:01.542Z"
   },
   {
    "duration": 27,
    "start_time": "2025-05-30T17:07:01.548Z"
   },
   {
    "duration": 72,
    "start_time": "2025-05-30T17:07:01.576Z"
   },
   {
    "duration": 106,
    "start_time": "2025-05-30T17:07:01.650Z"
   },
   {
    "duration": 52,
    "start_time": "2025-05-30T17:07:01.757Z"
   },
   {
    "duration": 102951,
    "start_time": "2025-05-30T17:07:01.811Z"
   },
   {
    "duration": 4,
    "start_time": "2025-05-30T17:08:44.764Z"
   },
   {
    "duration": 24,
    "start_time": "2025-05-30T17:08:44.769Z"
   },
   {
    "duration": 3,
    "start_time": "2025-05-30T17:08:44.795Z"
   },
   {
    "duration": 10,
    "start_time": "2025-05-30T17:08:44.800Z"
   },
   {
    "duration": 7,
    "start_time": "2025-05-30T17:08:44.812Z"
   },
   {
    "duration": 5,
    "start_time": "2025-05-30T17:08:44.821Z"
   },
   {
    "duration": 13,
    "start_time": "2025-05-30T17:08:44.828Z"
   },
   {
    "duration": 16,
    "start_time": "2025-05-30T17:08:44.842Z"
   },
   {
    "duration": 79,
    "start_time": "2025-05-30T17:08:44.859Z"
   },
   {
    "duration": 13,
    "start_time": "2025-05-30T17:10:17.946Z"
   },
   {
    "duration": 7781,
    "start_time": "2025-05-30T17:10:22.724Z"
   },
   {
    "duration": 1342,
    "start_time": "2025-05-30T17:10:30.507Z"
   },
   {
    "duration": 3,
    "start_time": "2025-05-30T17:10:31.850Z"
   },
   {
    "duration": 53,
    "start_time": "2025-05-30T17:10:31.855Z"
   },
   {
    "duration": 11,
    "start_time": "2025-05-30T17:10:31.910Z"
   },
   {
    "duration": 19,
    "start_time": "2025-05-30T17:10:31.923Z"
   },
   {
    "duration": 9,
    "start_time": "2025-05-30T17:10:31.943Z"
   },
   {
    "duration": 13,
    "start_time": "2025-05-30T17:10:31.954Z"
   },
   {
    "duration": 23,
    "start_time": "2025-05-30T17:10:31.969Z"
   },
   {
    "duration": 15,
    "start_time": "2025-05-30T17:10:31.994Z"
   },
   {
    "duration": 19,
    "start_time": "2025-05-30T17:10:32.011Z"
   },
   {
    "duration": 15,
    "start_time": "2025-05-30T17:10:32.032Z"
   },
   {
    "duration": 16,
    "start_time": "2025-05-30T17:10:32.049Z"
   },
   {
    "duration": 168,
    "start_time": "2025-05-30T17:10:32.070Z"
   },
   {
    "duration": 5,
    "start_time": "2025-05-30T17:10:32.241Z"
   },
   {
    "duration": 465,
    "start_time": "2025-05-30T17:10:32.248Z"
   },
   {
    "duration": 403,
    "start_time": "2025-05-30T17:10:32.715Z"
   },
   {
    "duration": 321,
    "start_time": "2025-05-30T17:10:33.120Z"
   },
   {
    "duration": 7,
    "start_time": "2025-05-30T17:10:33.443Z"
   },
   {
    "duration": 285,
    "start_time": "2025-05-30T17:10:33.452Z"
   },
   {
    "duration": 308,
    "start_time": "2025-05-30T17:10:33.738Z"
   },
   {
    "duration": 285,
    "start_time": "2025-05-30T17:10:34.048Z"
   },
   {
    "duration": 279,
    "start_time": "2025-05-30T17:10:34.335Z"
   },
   {
    "duration": 278,
    "start_time": "2025-05-30T17:10:34.615Z"
   },
   {
    "duration": 3,
    "start_time": "2025-05-30T17:10:34.895Z"
   },
   {
    "duration": 1940,
    "start_time": "2025-05-30T17:10:34.900Z"
   },
   {
    "duration": 94,
    "start_time": "2025-05-30T17:10:36.843Z"
   },
   {
    "duration": 93,
    "start_time": "2025-05-30T17:10:36.942Z"
   },
   {
    "duration": 5,
    "start_time": "2025-05-30T17:10:37.036Z"
   },
   {
    "duration": 6,
    "start_time": "2025-05-30T17:10:37.042Z"
   },
   {
    "duration": 5,
    "start_time": "2025-05-30T17:10:37.049Z"
   },
   {
    "duration": 33,
    "start_time": "2025-05-30T17:10:37.055Z"
   },
   {
    "duration": 14,
    "start_time": "2025-05-30T17:10:37.090Z"
   },
   {
    "duration": 4,
    "start_time": "2025-05-30T17:10:37.106Z"
   },
   {
    "duration": 3,
    "start_time": "2025-05-30T17:10:37.136Z"
   },
   {
    "duration": 1603,
    "start_time": "2025-05-30T17:10:37.141Z"
   },
   {
    "duration": 290,
    "start_time": "2025-05-30T17:10:38.746Z"
   },
   {
    "duration": 3,
    "start_time": "2025-05-30T17:10:39.038Z"
   },
   {
    "duration": 10,
    "start_time": "2025-05-30T17:10:39.043Z"
   },
   {
    "duration": 15,
    "start_time": "2025-05-30T17:10:39.055Z"
   },
   {
    "duration": 3,
    "start_time": "2025-05-30T17:10:39.075Z"
   },
   {
    "duration": 34,
    "start_time": "2025-05-30T17:10:39.080Z"
   },
   {
    "duration": 27621,
    "start_time": "2025-05-30T17:10:39.115Z"
   },
   {
    "duration": 4,
    "start_time": "2025-05-30T17:11:06.738Z"
   },
   {
    "duration": 43,
    "start_time": "2025-05-30T17:11:06.743Z"
   },
   {
    "duration": 24,
    "start_time": "2025-05-30T17:11:06.788Z"
   },
   {
    "duration": 24,
    "start_time": "2025-05-30T17:11:06.814Z"
   },
   {
    "duration": 5,
    "start_time": "2025-05-30T17:11:06.840Z"
   },
   {
    "duration": 102902,
    "start_time": "2025-05-30T17:11:06.847Z"
   },
   {
    "duration": 4,
    "start_time": "2025-05-30T17:12:49.752Z"
   },
   {
    "duration": 18,
    "start_time": "2025-05-30T17:12:49.758Z"
   },
   {
    "duration": 4,
    "start_time": "2025-05-30T17:12:49.778Z"
   },
   {
    "duration": 7,
    "start_time": "2025-05-30T17:12:49.784Z"
   },
   {
    "duration": 6,
    "start_time": "2025-05-30T17:12:49.793Z"
   },
   {
    "duration": 4,
    "start_time": "2025-05-30T17:12:49.801Z"
   },
   {
    "duration": 15,
    "start_time": "2025-05-30T17:12:49.836Z"
   },
   {
    "duration": 27,
    "start_time": "2025-05-30T17:12:49.853Z"
   },
   {
    "duration": 56,
    "start_time": "2025-05-30T17:12:49.882Z"
   },
   {
    "duration": 7724,
    "start_time": "2025-05-30T17:15:30.231Z"
   },
   {
    "duration": 1307,
    "start_time": "2025-05-30T17:15:37.957Z"
   },
   {
    "duration": 4,
    "start_time": "2025-05-30T17:15:39.265Z"
   },
   {
    "duration": 42,
    "start_time": "2025-05-30T17:15:39.270Z"
   },
   {
    "duration": 12,
    "start_time": "2025-05-30T17:15:39.315Z"
   },
   {
    "duration": 16,
    "start_time": "2025-05-30T17:15:39.328Z"
   },
   {
    "duration": 13,
    "start_time": "2025-05-30T17:15:39.346Z"
   },
   {
    "duration": 9,
    "start_time": "2025-05-30T17:15:39.361Z"
   },
   {
    "duration": 5,
    "start_time": "2025-05-30T17:15:39.371Z"
   },
   {
    "duration": 4,
    "start_time": "2025-05-30T17:15:39.377Z"
   },
   {
    "duration": 9,
    "start_time": "2025-05-30T17:15:39.382Z"
   },
   {
    "duration": 45,
    "start_time": "2025-05-30T17:15:39.392Z"
   },
   {
    "duration": 15,
    "start_time": "2025-05-30T17:15:39.439Z"
   },
   {
    "duration": 148,
    "start_time": "2025-05-30T17:15:39.457Z"
   },
   {
    "duration": 4,
    "start_time": "2025-05-30T17:15:39.607Z"
   },
   {
    "duration": 361,
    "start_time": "2025-05-30T17:15:39.612Z"
   },
   {
    "duration": 391,
    "start_time": "2025-05-30T17:15:39.974Z"
   },
   {
    "duration": 316,
    "start_time": "2025-05-30T17:15:40.366Z"
   },
   {
    "duration": 7,
    "start_time": "2025-05-30T17:15:40.684Z"
   },
   {
    "duration": 265,
    "start_time": "2025-05-30T17:15:40.692Z"
   },
   {
    "duration": 282,
    "start_time": "2025-05-30T17:15:40.959Z"
   },
   {
    "duration": 249,
    "start_time": "2025-05-30T17:15:41.243Z"
   },
   {
    "duration": 276,
    "start_time": "2025-05-30T17:15:41.494Z"
   },
   {
    "duration": 276,
    "start_time": "2025-05-30T17:15:41.772Z"
   },
   {
    "duration": 4,
    "start_time": "2025-05-30T17:15:42.050Z"
   },
   {
    "duration": 1881,
    "start_time": "2025-05-30T17:15:42.055Z"
   },
   {
    "duration": 92,
    "start_time": "2025-05-30T17:15:43.944Z"
   },
   {
    "duration": 6,
    "start_time": "2025-05-30T17:15:44.038Z"
   },
   {
    "duration": 5,
    "start_time": "2025-05-30T17:15:44.046Z"
   },
   {
    "duration": 6,
    "start_time": "2025-05-30T17:15:44.053Z"
   },
   {
    "duration": 5,
    "start_time": "2025-05-30T17:15:44.060Z"
   },
   {
    "duration": 44,
    "start_time": "2025-05-30T17:15:44.066Z"
   },
   {
    "duration": 31,
    "start_time": "2025-05-30T17:15:44.111Z"
   },
   {
    "duration": 45,
    "start_time": "2025-05-30T17:15:44.144Z"
   },
   {
    "duration": 4,
    "start_time": "2025-05-30T17:15:44.191Z"
   },
   {
    "duration": 1749,
    "start_time": "2025-05-30T17:15:44.196Z"
   },
   {
    "duration": 297,
    "start_time": "2025-05-30T17:15:46.037Z"
   },
   {
    "duration": 53,
    "start_time": "2025-05-30T17:15:46.336Z"
   },
   {
    "duration": 86,
    "start_time": "2025-05-30T17:15:46.391Z"
   },
   {
    "duration": 18,
    "start_time": "2025-05-30T17:15:46.479Z"
   },
   {
    "duration": 5,
    "start_time": "2025-05-30T17:15:46.503Z"
   },
   {
    "duration": 19,
    "start_time": "2025-05-30T17:15:46.510Z"
   },
   {
    "duration": 56010,
    "start_time": "2025-05-30T17:15:46.531Z"
   },
   {
    "duration": 4,
    "start_time": "2025-05-30T17:16:42.543Z"
   },
   {
    "duration": 87,
    "start_time": "2025-05-30T17:16:42.548Z"
   },
   {
    "duration": 16,
    "start_time": "2025-05-30T17:16:42.637Z"
   },
   {
    "duration": 4,
    "start_time": "2025-05-30T17:16:42.655Z"
   },
   {
    "duration": 5,
    "start_time": "2025-05-30T17:16:42.660Z"
   },
   {
    "duration": 121044,
    "start_time": "2025-05-30T17:16:42.666Z"
   },
   {
    "duration": 4,
    "start_time": "2025-05-30T17:18:43.712Z"
   },
   {
    "duration": 71,
    "start_time": "2025-05-30T17:18:43.717Z"
   },
   {
    "duration": 4,
    "start_time": "2025-05-30T17:18:43.790Z"
   },
   {
    "duration": 5,
    "start_time": "2025-05-30T17:18:43.796Z"
   },
   {
    "duration": 5,
    "start_time": "2025-05-30T17:18:43.802Z"
   },
   {
    "duration": 5,
    "start_time": "2025-05-30T17:18:43.809Z"
   },
   {
    "duration": 9,
    "start_time": "2025-05-30T17:18:43.816Z"
   },
   {
    "duration": 17,
    "start_time": "2025-05-30T17:18:43.826Z"
   },
   {
    "duration": 11,
    "start_time": "2025-05-30T17:18:43.844Z"
   },
   {
    "duration": 7644,
    "start_time": "2025-05-30T17:19:07.364Z"
   },
   {
    "duration": 1410,
    "start_time": "2025-05-30T17:19:15.011Z"
   },
   {
    "duration": 3,
    "start_time": "2025-05-30T17:19:16.423Z"
   },
   {
    "duration": 114,
    "start_time": "2025-05-30T17:19:16.427Z"
   },
   {
    "duration": 14,
    "start_time": "2025-05-30T17:19:16.544Z"
   },
   {
    "duration": 23,
    "start_time": "2025-05-30T17:19:16.560Z"
   },
   {
    "duration": 9,
    "start_time": "2025-05-30T17:19:16.584Z"
   },
   {
    "duration": 55,
    "start_time": "2025-05-30T17:19:16.595Z"
   },
   {
    "duration": 5,
    "start_time": "2025-05-30T17:19:16.652Z"
   },
   {
    "duration": 6,
    "start_time": "2025-05-30T17:19:16.658Z"
   },
   {
    "duration": 8,
    "start_time": "2025-05-30T17:19:16.665Z"
   },
   {
    "duration": 13,
    "start_time": "2025-05-30T17:19:16.675Z"
   },
   {
    "duration": 14,
    "start_time": "2025-05-30T17:19:16.690Z"
   },
   {
    "duration": 155,
    "start_time": "2025-05-30T17:19:16.706Z"
   },
   {
    "duration": 4,
    "start_time": "2025-05-30T17:19:16.863Z"
   },
   {
    "duration": 372,
    "start_time": "2025-05-30T17:19:16.868Z"
   },
   {
    "duration": 368,
    "start_time": "2025-05-30T17:19:17.241Z"
   },
   {
    "duration": 316,
    "start_time": "2025-05-30T17:19:17.611Z"
   },
   {
    "duration": 11,
    "start_time": "2025-05-30T17:19:17.928Z"
   },
   {
    "duration": 263,
    "start_time": "2025-05-30T17:19:17.941Z"
   },
   {
    "duration": 293,
    "start_time": "2025-05-30T17:19:18.206Z"
   },
   {
    "duration": 261,
    "start_time": "2025-05-30T17:19:18.501Z"
   },
   {
    "duration": 274,
    "start_time": "2025-05-30T17:19:18.764Z"
   },
   {
    "duration": 270,
    "start_time": "2025-05-30T17:19:19.039Z"
   },
   {
    "duration": 3,
    "start_time": "2025-05-30T17:19:19.310Z"
   },
   {
    "duration": 1830,
    "start_time": "2025-05-30T17:19:19.315Z"
   },
   {
    "duration": 5,
    "start_time": "2025-05-30T17:19:21.237Z"
   },
   {
    "duration": 129,
    "start_time": "2025-05-30T17:19:21.244Z"
   },
   {
    "duration": 3,
    "start_time": "2025-05-30T17:19:21.375Z"
   },
   {
    "duration": 19,
    "start_time": "2025-05-30T17:19:21.380Z"
   },
   {
    "duration": 16,
    "start_time": "2025-05-30T17:19:21.400Z"
   },
   {
    "duration": 27,
    "start_time": "2025-05-30T17:19:21.417Z"
   },
   {
    "duration": 15,
    "start_time": "2025-05-30T17:19:21.445Z"
   },
   {
    "duration": 4,
    "start_time": "2025-05-30T17:19:21.461Z"
   },
   {
    "duration": 14,
    "start_time": "2025-05-30T17:19:21.466Z"
   },
   {
    "duration": 1763,
    "start_time": "2025-05-30T17:19:21.481Z"
   },
   {
    "duration": 206,
    "start_time": "2025-05-30T17:19:23.337Z"
   },
   {
    "duration": 7,
    "start_time": "2025-05-30T17:19:23.636Z"
   },
   {
    "duration": 95,
    "start_time": "2025-05-30T17:19:23.647Z"
   },
   {
    "duration": 46,
    "start_time": "2025-05-30T17:19:23.744Z"
   },
   {
    "duration": 3,
    "start_time": "2025-05-30T17:19:23.796Z"
   },
   {
    "duration": 26,
    "start_time": "2025-05-30T17:19:23.801Z"
   },
   {
    "duration": 29017,
    "start_time": "2025-05-30T17:19:23.829Z"
   },
   {
    "duration": 89,
    "start_time": "2025-05-30T17:19:52.848Z"
   },
   {
    "duration": 20,
    "start_time": "2025-05-30T17:19:52.938Z"
   },
   {
    "duration": 15,
    "start_time": "2025-05-30T17:19:52.960Z"
   },
   {
    "duration": 4,
    "start_time": "2025-05-30T17:19:52.976Z"
   },
   {
    "duration": 54,
    "start_time": "2025-05-30T17:19:52.982Z"
   },
   {
    "duration": 125498,
    "start_time": "2025-05-30T17:19:53.037Z"
   },
   {
    "duration": 4,
    "start_time": "2025-05-30T17:21:58.537Z"
   },
   {
    "duration": 16,
    "start_time": "2025-05-30T17:21:58.543Z"
   },
   {
    "duration": 3,
    "start_time": "2025-05-30T17:21:58.561Z"
   },
   {
    "duration": 16,
    "start_time": "2025-05-30T17:21:58.566Z"
   },
   {
    "duration": 5,
    "start_time": "2025-05-30T17:21:58.584Z"
   },
   {
    "duration": 4,
    "start_time": "2025-05-30T17:21:58.591Z"
   },
   {
    "duration": 19,
    "start_time": "2025-05-30T17:21:58.597Z"
   },
   {
    "duration": 16,
    "start_time": "2025-05-30T17:21:58.634Z"
   },
   {
    "duration": 11,
    "start_time": "2025-05-30T17:21:58.651Z"
   },
   {
    "duration": 3,
    "start_time": "2025-05-30T17:23:11.313Z"
   },
   {
    "duration": 3,
    "start_time": "2025-05-30T17:23:35.609Z"
   },
   {
    "duration": 4,
    "start_time": "2025-05-30T17:23:37.660Z"
   },
   {
    "duration": 108898,
    "start_time": "2025-05-30T17:23:39.612Z"
   },
   {
    "duration": 14,
    "start_time": "2025-05-30T17:25:43.215Z"
   },
   {
    "duration": 3,
    "start_time": "2025-05-30T17:26:48.406Z"
   },
   {
    "duration": 4,
    "start_time": "2025-05-30T17:26:50.480Z"
   },
   {
    "duration": 109005,
    "start_time": "2025-05-30T17:26:56.356Z"
   },
   {
    "duration": 3,
    "start_time": "2025-05-30T17:28:51.398Z"
   },
   {
    "duration": 15,
    "start_time": "2025-05-30T17:29:00.768Z"
   },
   {
    "duration": 9,
    "start_time": "2025-05-30T17:32:11.478Z"
   },
   {
    "duration": 13,
    "start_time": "2025-05-30T17:33:11.653Z"
   },
   {
    "duration": 116,
    "start_time": "2025-05-30T17:36:03.095Z"
   },
   {
    "duration": 359,
    "start_time": "2025-05-30T17:37:35.127Z"
   },
   {
    "duration": 14,
    "start_time": "2025-05-30T17:37:57.529Z"
   },
   {
    "duration": 13,
    "start_time": "2025-05-30T17:38:19.625Z"
   },
   {
    "duration": 6,
    "start_time": "2025-05-30T17:38:53.718Z"
   },
   {
    "duration": 6,
    "start_time": "2025-05-30T17:39:01.801Z"
   },
   {
    "duration": 7681,
    "start_time": "2025-05-30T17:39:15.761Z"
   },
   {
    "duration": 1287,
    "start_time": "2025-05-30T17:39:23.444Z"
   },
   {
    "duration": 4,
    "start_time": "2025-05-30T17:39:24.732Z"
   },
   {
    "duration": 47,
    "start_time": "2025-05-30T17:39:24.737Z"
   },
   {
    "duration": 12,
    "start_time": "2025-05-30T17:39:24.786Z"
   },
   {
    "duration": 63,
    "start_time": "2025-05-30T17:39:24.799Z"
   },
   {
    "duration": 9,
    "start_time": "2025-05-30T17:39:24.863Z"
   },
   {
    "duration": 7,
    "start_time": "2025-05-30T17:39:24.874Z"
   },
   {
    "duration": 5,
    "start_time": "2025-05-30T17:39:24.882Z"
   },
   {
    "duration": 4,
    "start_time": "2025-05-30T17:39:24.888Z"
   },
   {
    "duration": 15,
    "start_time": "2025-05-30T17:39:24.893Z"
   },
   {
    "duration": 13,
    "start_time": "2025-05-30T17:39:24.910Z"
   },
   {
    "duration": 23,
    "start_time": "2025-05-30T17:39:24.924Z"
   },
   {
    "duration": 148,
    "start_time": "2025-05-30T17:39:24.949Z"
   },
   {
    "duration": 4,
    "start_time": "2025-05-30T17:39:25.099Z"
   },
   {
    "duration": 354,
    "start_time": "2025-05-30T17:39:25.105Z"
   },
   {
    "duration": 387,
    "start_time": "2025-05-30T17:39:25.461Z"
   },
   {
    "duration": 310,
    "start_time": "2025-05-30T17:39:25.850Z"
   },
   {
    "duration": 7,
    "start_time": "2025-05-30T17:39:26.162Z"
   },
   {
    "duration": 296,
    "start_time": "2025-05-30T17:39:26.170Z"
   },
   {
    "duration": 309,
    "start_time": "2025-05-30T17:39:26.468Z"
   },
   {
    "duration": 256,
    "start_time": "2025-05-30T17:39:26.779Z"
   },
   {
    "duration": 301,
    "start_time": "2025-05-30T17:39:27.037Z"
   },
   {
    "duration": 264,
    "start_time": "2025-05-30T17:39:27.339Z"
   },
   {
    "duration": 4,
    "start_time": "2025-05-30T17:39:27.604Z"
   },
   {
    "duration": 1731,
    "start_time": "2025-05-30T17:39:27.609Z"
   },
   {
    "duration": 99,
    "start_time": "2025-05-30T17:39:29.342Z"
   },
   {
    "duration": 92,
    "start_time": "2025-05-30T17:39:29.445Z"
   },
   {
    "duration": 4,
    "start_time": "2025-05-30T17:39:29.539Z"
   },
   {
    "duration": 7,
    "start_time": "2025-05-30T17:39:29.544Z"
   },
   {
    "duration": 5,
    "start_time": "2025-05-30T17:39:29.553Z"
   },
   {
    "duration": 29,
    "start_time": "2025-05-30T17:39:29.560Z"
   },
   {
    "duration": 44,
    "start_time": "2025-05-30T17:39:29.591Z"
   },
   {
    "duration": 40,
    "start_time": "2025-05-30T17:39:29.637Z"
   },
   {
    "duration": 10,
    "start_time": "2025-05-30T17:39:29.679Z"
   },
   {
    "duration": 1754,
    "start_time": "2025-05-30T17:39:29.690Z"
   },
   {
    "duration": 298,
    "start_time": "2025-05-30T17:39:31.537Z"
   },
   {
    "duration": 2,
    "start_time": "2025-05-30T17:39:31.837Z"
   },
   {
    "duration": 100,
    "start_time": "2025-05-30T17:39:31.841Z"
   },
   {
    "duration": 15,
    "start_time": "2025-05-30T17:39:31.943Z"
   },
   {
    "duration": 7,
    "start_time": "2025-05-30T17:39:31.963Z"
   },
   {
    "duration": 19,
    "start_time": "2025-05-30T17:39:31.971Z"
   },
   {
    "duration": 41951,
    "start_time": "2025-05-30T17:39:31.992Z"
   },
   {
    "duration": 90,
    "start_time": "2025-05-30T17:40:13.945Z"
   },
   {
    "duration": 14,
    "start_time": "2025-05-30T17:40:14.037Z"
   },
   {
    "duration": 3,
    "start_time": "2025-05-30T17:40:14.053Z"
   },
   {
    "duration": 15,
    "start_time": "2025-05-30T17:40:14.057Z"
   },
   {
    "duration": 108044,
    "start_time": "2025-05-30T17:40:14.073Z"
   },
   {
    "duration": 15,
    "start_time": "2025-05-30T17:42:02.119Z"
   },
   {
    "duration": 19,
    "start_time": "2025-05-30T17:42:02.136Z"
   },
   {
    "duration": 97,
    "start_time": "2025-05-30T17:42:02.157Z"
   },
   {
    "duration": 27,
    "start_time": "2025-05-30T17:42:02.256Z"
   },
   {
    "duration": 20,
    "start_time": "2025-05-30T17:42:02.284Z"
   },
   {
    "duration": 158,
    "start_time": "2025-05-30T17:42:02.306Z"
   },
   {
    "duration": 88,
    "start_time": "2025-05-30T17:42:02.466Z"
   },
   {
    "duration": 86,
    "start_time": "2025-05-30T17:42:02.556Z"
   },
   {
    "duration": 6,
    "start_time": "2025-05-30T17:42:53.202Z"
   },
   {
    "duration": 11,
    "start_time": "2025-05-30T17:43:11.424Z"
   },
   {
    "duration": 7752,
    "start_time": "2025-05-30T17:57:13.474Z"
   },
   {
    "duration": 1297,
    "start_time": "2025-05-30T17:57:21.229Z"
   },
   {
    "duration": 3,
    "start_time": "2025-05-30T17:57:22.527Z"
   },
   {
    "duration": 84,
    "start_time": "2025-05-30T17:57:22.535Z"
   },
   {
    "duration": 11,
    "start_time": "2025-05-30T17:57:22.621Z"
   },
   {
    "duration": 15,
    "start_time": "2025-05-30T17:57:22.633Z"
   },
   {
    "duration": 9,
    "start_time": "2025-05-30T17:57:22.649Z"
   },
   {
    "duration": 10,
    "start_time": "2025-05-30T17:57:22.659Z"
   },
   {
    "duration": 5,
    "start_time": "2025-05-30T17:57:22.670Z"
   },
   {
    "duration": 22,
    "start_time": "2025-05-30T17:57:22.678Z"
   },
   {
    "duration": 40,
    "start_time": "2025-05-30T17:57:22.702Z"
   },
   {
    "duration": 15,
    "start_time": "2025-05-30T17:57:22.744Z"
   },
   {
    "duration": 17,
    "start_time": "2025-05-30T17:57:22.761Z"
   },
   {
    "duration": 169,
    "start_time": "2025-05-30T17:57:22.780Z"
   },
   {
    "duration": 5,
    "start_time": "2025-05-30T17:57:22.951Z"
   },
   {
    "duration": 368,
    "start_time": "2025-05-30T17:57:22.958Z"
   },
   {
    "duration": 376,
    "start_time": "2025-05-30T17:57:23.335Z"
   },
   {
    "duration": 331,
    "start_time": "2025-05-30T17:57:23.713Z"
   },
   {
    "duration": 7,
    "start_time": "2025-05-30T17:57:24.046Z"
   },
   {
    "duration": 293,
    "start_time": "2025-05-30T17:57:24.054Z"
   },
   {
    "duration": 302,
    "start_time": "2025-05-30T17:57:24.349Z"
   },
   {
    "duration": 263,
    "start_time": "2025-05-30T17:57:24.653Z"
   },
   {
    "duration": 291,
    "start_time": "2025-05-30T17:57:24.918Z"
   },
   {
    "duration": 316,
    "start_time": "2025-05-30T17:57:25.211Z"
   },
   {
    "duration": 7,
    "start_time": "2025-05-30T17:57:25.529Z"
   },
   {
    "duration": 1805,
    "start_time": "2025-05-30T17:57:25.538Z"
   },
   {
    "duration": 92,
    "start_time": "2025-05-30T17:57:27.345Z"
   },
   {
    "duration": 94,
    "start_time": "2025-05-30T17:57:27.442Z"
   },
   {
    "duration": 4,
    "start_time": "2025-05-30T17:57:27.538Z"
   },
   {
    "duration": 13,
    "start_time": "2025-05-30T17:57:27.544Z"
   },
   {
    "duration": 6,
    "start_time": "2025-05-30T17:57:27.558Z"
   },
   {
    "duration": 27,
    "start_time": "2025-05-30T17:57:27.565Z"
   },
   {
    "duration": 17,
    "start_time": "2025-05-30T17:57:27.594Z"
   },
   {
    "duration": 25,
    "start_time": "2025-05-30T17:57:27.613Z"
   },
   {
    "duration": 101,
    "start_time": "2025-05-30T17:57:27.639Z"
   },
   {
    "duration": 1796,
    "start_time": "2025-05-30T17:57:27.741Z"
   },
   {
    "duration": 300,
    "start_time": "2025-05-30T17:57:29.539Z"
   },
   {
    "duration": 7,
    "start_time": "2025-05-30T17:57:29.841Z"
   },
   {
    "duration": 96,
    "start_time": "2025-05-30T17:57:29.850Z"
   },
   {
    "duration": 14,
    "start_time": "2025-05-30T17:57:29.948Z"
   },
   {
    "duration": 4,
    "start_time": "2025-05-30T17:57:29.963Z"
   },
   {
    "duration": 7,
    "start_time": "2025-05-30T17:57:29.968Z"
   },
   {
    "duration": 31869,
    "start_time": "2025-05-30T17:57:29.976Z"
   },
   {
    "duration": 101,
    "start_time": "2025-05-30T17:58:01.846Z"
   },
   {
    "duration": 19,
    "start_time": "2025-05-30T17:58:01.949Z"
   },
   {
    "duration": 3,
    "start_time": "2025-05-30T17:58:01.970Z"
   },
   {
    "duration": 19,
    "start_time": "2025-05-30T17:58:01.975Z"
   },
   {
    "duration": 120780,
    "start_time": "2025-05-30T17:58:02.034Z"
   },
   {
    "duration": 15,
    "start_time": "2025-05-30T18:00:02.816Z"
   },
   {
    "duration": 158,
    "start_time": "2025-05-30T18:00:02.833Z"
   },
   {
    "duration": 78,
    "start_time": "2025-05-30T18:00:02.993Z"
   },
   {
    "duration": 48,
    "start_time": "2025-05-30T18:00:03.073Z"
   },
   {
    "duration": 28,
    "start_time": "2025-05-30T18:00:03.123Z"
   },
   {
    "duration": 41,
    "start_time": "2025-05-30T18:00:03.152Z"
   },
   {
    "duration": 76,
    "start_time": "2025-05-30T18:00:03.194Z"
   }
  ],
  "kernelspec": {
   "display_name": "Python 3 (ipykernel)",
   "language": "python",
   "name": "python3"
  },
  "language_info": {
   "codemirror_mode": {
    "name": "ipython",
    "version": 3
   },
   "file_extension": ".py",
   "mimetype": "text/x-python",
   "name": "python",
   "nbconvert_exporter": "python",
   "pygments_lexer": "ipython3",
   "version": "3.9.5"
  },
  "toc": {
   "base_numbering": 1,
   "nav_menu": {},
   "number_sections": true,
   "sideBar": true,
   "skip_h1_title": true,
   "title_cell": "Содержание",
   "title_sidebar": "Contents",
   "toc_cell": true,
   "toc_position": {
    "height": "calc(100% - 180px)",
    "left": "10px",
    "top": "150px",
    "width": "489.594px"
   },
   "toc_section_display": true,
   "toc_window_display": true
  }
 },
 "nbformat": 4,
 "nbformat_minor": 2
}
